{
 "cells": [
  {
   "cell_type": "code",
   "execution_count": 27,
   "id": "2a648bfa-0881-4a4d-96d1-70c6271ace1b",
   "metadata": {},
   "outputs": [
    {
     "name": "stdin",
     "output_type": "stream",
     "text": [
      " 123402\n"
     ]
    }
   ],
   "source": [
    "array = list(map(int, input()))"
   ]
  },
  {
   "cell_type": "code",
   "execution_count": 28,
   "id": "bf0a31a6-08cd-41df-9b29-03591a92db32",
   "metadata": {},
   "outputs": [],
   "source": [
    "length = len(array)"
   ]
  },
  {
   "cell_type": "code",
   "execution_count": 29,
   "id": "12ee76e2-8631-402d-abb8-71cde23ec8be",
   "metadata": {},
   "outputs": [],
   "source": [
    "left = 0\n",
    "for i in range(length//2):\n",
    "    left += array[i]"
   ]
  },
  {
   "cell_type": "code",
   "execution_count": 30,
   "id": "0819b615-93e9-48e9-a3aa-1027f73644c4",
   "metadata": {},
   "outputs": [],
   "source": [
    "right = sum(array) - left"
   ]
  },
  {
   "cell_type": "code",
   "execution_count": 31,
   "id": "83fdd680-4c88-4e05-b2c3-e15ddd2fd66a",
   "metadata": {},
   "outputs": [
    {
     "name": "stdout",
     "output_type": "stream",
     "text": [
      "LUCKY\n"
     ]
    }
   ],
   "source": [
    "if left==right:\n",
    "    print('LUCKY')\n",
    "else:\n",
    "    print('READY')"
   ]
  },
  {
   "cell_type": "code",
   "execution_count": null,
   "id": "12ee0438-a42b-4ffa-bd31-c8a7920ff835",
   "metadata": {},
   "outputs": [],
   "source": []
  }
 ],
 "metadata": {
  "kernelspec": {
   "display_name": "Python 3 (ipykernel)",
   "language": "python",
   "name": "python3"
  },
  "language_info": {
   "codemirror_mode": {
    "name": "ipython",
    "version": 3
   },
   "file_extension": ".py",
   "mimetype": "text/x-python",
   "name": "python",
   "nbconvert_exporter": "python",
   "pygments_lexer": "ipython3",
   "version": "3.8.11"
  }
 },
 "nbformat": 4,
 "nbformat_minor": 5
}
