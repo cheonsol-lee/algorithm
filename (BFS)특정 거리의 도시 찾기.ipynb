{
 "cells": [
  {
   "cell_type": "code",
   "execution_count": 1,
   "id": "b8648445-e434-4779-a069-4cdf5f4e69bb",
   "metadata": {},
   "outputs": [
    {
     "data": {
      "text/plain": [
       "'\\n4 4 2 1\\n1 2\\n1 3\\n2 3\\n2 4\\n'"
      ]
     },
     "execution_count": 1,
     "metadata": {},
     "output_type": "execute_result"
    }
   ],
   "source": [
    "'''\n",
    "4 4 2 1\n",
    "1 2\n",
    "1 3\n",
    "2 3\n",
    "2 4\n",
    "'''"
   ]
  },
  {
   "cell_type": "code",
   "execution_count": 32,
   "id": "239653fa-41ec-4325-a5ce-55a5569d911e",
   "metadata": {},
   "outputs": [
    {
     "name": "stdin",
     "output_type": "stream",
     "text": [
      " 5 5 2 1\n"
     ]
    }
   ],
   "source": [
    "N, M, K, X = map(int, input().split())"
   ]
  },
  {
   "cell_type": "code",
   "execution_count": 38,
   "id": "958f2619-ce1f-4fc0-aace-6c99b23a690a",
   "metadata": {},
   "outputs": [],
   "source": [
    "# 노드의 인덱스와 연결된 다른 노드 리스트\n",
    "graph = [[] for _ in range(N+1)]"
   ]
  },
  {
   "cell_type": "code",
   "execution_count": 39,
   "id": "d12ae9f8-8caa-4f37-8712-6ff9ee539f4a",
   "metadata": {},
   "outputs": [
    {
     "data": {
      "text/plain": [
       "[[], [], [], [], [], []]"
      ]
     },
     "execution_count": 39,
     "metadata": {},
     "output_type": "execute_result"
    }
   ],
   "source": [
    "graph"
   ]
  },
  {
   "cell_type": "code",
   "execution_count": 40,
   "id": "7baf08d6-9a47-4699-b15e-d56d41e10168",
   "metadata": {},
   "outputs": [
    {
     "name": "stdin",
     "output_type": "stream",
     "text": [
      " 1 2\n",
      " 1 3\n",
      " 2 3\n",
      " 2 4\n",
      " 2 5\n"
     ]
    }
   ],
   "source": [
    "# 도로 정보 입력\n",
    "for _ in range(M):\n",
    "    start, end = map(int, input().split())\n",
    "    graph[start].append(end)"
   ]
  },
  {
   "cell_type": "code",
   "execution_count": 41,
   "id": "fabd98ab-90e6-47ff-a4d5-3c35165e2684",
   "metadata": {},
   "outputs": [
    {
     "data": {
      "text/plain": [
       "[[], [2, 3], [3, 4, 5], [], [], []]"
      ]
     },
     "execution_count": 41,
     "metadata": {},
     "output_type": "execute_result"
    }
   ],
   "source": [
    "graph"
   ]
  },
  {
   "cell_type": "code",
   "execution_count": 42,
   "id": "b14bc335-92bb-474e-b615-7055505d511b",
   "metadata": {},
   "outputs": [],
   "source": [
    "# 모든 모시에 대한 최단 거리 초기화\n",
    "distance = [-1] * (N+1)\n",
    "distance[X] = 0 # 출발도시까지의 거리는 0"
   ]
  },
  {
   "cell_type": "code",
   "execution_count": 43,
   "id": "6ef9531b-ebf7-4b1e-8232-f626d2324454",
   "metadata": {},
   "outputs": [],
   "source": [
    "from collections import deque\n",
    "\n",
    "queue = deque([X])\n",
    "while queue:\n",
    "    now = queue.popleft()\n",
    "\n",
    "    # 현재 도시에서 이동할 수 있는 모든 도시를 확인\n",
    "    for next_node in graph[now]:\n",
    "        # 아직 방문하지 않은 도시라면\n",
    "        if distance[next_node] == -1:\n",
    "            # 최단거리 갱신\n",
    "            distance[next_node] = distance[now] + 1\n",
    "            queue.append(next_node)            "
   ]
  },
  {
   "cell_type": "code",
   "execution_count": 44,
   "id": "5fbeb92d-1081-4cf6-8f0e-dcc25baa3ae0",
   "metadata": {},
   "outputs": [
    {
     "data": {
      "text/plain": [
       "[-1, 0, 1, 1, 2, 2]"
      ]
     },
     "execution_count": 44,
     "metadata": {},
     "output_type": "execute_result"
    }
   ],
   "source": [
    "distance"
   ]
  },
  {
   "cell_type": "code",
   "execution_count": 45,
   "id": "f47142fe-bcaa-4667-b5ab-d162b87549e4",
   "metadata": {},
   "outputs": [
    {
     "name": "stdout",
     "output_type": "stream",
     "text": [
      "4\n",
      "5\n"
     ]
    }
   ],
   "source": [
    "# 최단 거리가 K인 모든 도시의 번호를 오름차순으로 출력\n",
    "city = list()\n",
    "for i in range(1, N+1):\n",
    "    if distance[i] == K:\n",
    "        print(i)\n",
    "        city.append(i)"
   ]
  },
  {
   "cell_type": "code",
   "execution_count": 46,
   "id": "210fb9f2-2141-47cc-b2f0-ff6fea490d0e",
   "metadata": {},
   "outputs": [],
   "source": [
    "city.sort()"
   ]
  },
  {
   "cell_type": "code",
   "execution_count": 47,
   "id": "1b208c18-76f1-4022-9fe4-1d7331777d7f",
   "metadata": {},
   "outputs": [
    {
     "name": "stdout",
     "output_type": "stream",
     "text": [
      "4\n",
      "5\n"
     ]
    }
   ],
   "source": [
    "if len(city) != 0:\n",
    "    for i in city:\n",
    "        print(i)\n",
    "else:\n",
    "    print(-1)"
   ]
  },
  {
   "cell_type": "code",
   "execution_count": 48,
   "id": "15293370-4331-4bd7-93a6-c7bff49eecd4",
   "metadata": {},
   "outputs": [
    {
     "data": {
      "text/plain": [
       "[4, 5]"
      ]
     },
     "execution_count": 48,
     "metadata": {},
     "output_type": "execute_result"
    }
   ],
   "source": [
    "city"
   ]
  },
  {
   "cell_type": "code",
   "execution_count": null,
   "id": "2ee14529-360d-4040-832e-53bb9b74478e",
   "metadata": {},
   "outputs": [],
   "source": []
  }
 ],
 "metadata": {
  "kernelspec": {
   "display_name": "Python 3 (ipykernel)",
   "language": "python",
   "name": "python3"
  },
  "language_info": {
   "codemirror_mode": {
    "name": "ipython",
    "version": 3
   },
   "file_extension": ".py",
   "mimetype": "text/x-python",
   "name": "python",
   "nbconvert_exporter": "python",
   "pygments_lexer": "ipython3",
   "version": "3.8.11"
  }
 },
 "nbformat": 4,
 "nbformat_minor": 5
}
