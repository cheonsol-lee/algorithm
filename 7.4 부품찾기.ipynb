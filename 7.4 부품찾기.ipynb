{
 "cells": [
  {
   "cell_type": "code",
   "execution_count": 9,
   "id": "a32673b3-635f-4bfa-b139-42f1da091d22",
   "metadata": {},
   "outputs": [
    {
     "data": {
      "text/plain": [
       "'\\n5\\n8 3 7 9 2\\n3\\n5 7 9\\n'"
      ]
     },
     "execution_count": 9,
     "metadata": {},
     "output_type": "execute_result"
    }
   ],
   "source": [
    "'''\n",
    "5\n",
    "8 3 7 9 2\n",
    "3\n",
    "5 7 9\n",
    "'''"
   ]
  },
  {
   "cell_type": "markdown",
   "id": "1f054cef-f2de-41ae-9f96-a2f481d981d6",
   "metadata": {},
   "source": [
    "# 1. 이진탐색"
   ]
  },
  {
   "cell_type": "code",
   "execution_count": 32,
   "id": "b42f416e-e7d6-4561-adf7-8c7fe6106e35",
   "metadata": {},
   "outputs": [],
   "source": [
    "def binary_search(array, target, start, end):\n",
    "    if start > end:\n",
    "        return None\n",
    "    mid = (start + end) // 2\n",
    "    \n",
    "    if array[mid] == target:\n",
    "        return mid\n",
    "    elif array[mid] > target:\n",
    "        return binary_search(array, target, start, mid-1)\n",
    "    else:\n",
    "        return binary_search(array, target, mid+1, end)"
   ]
  },
  {
   "cell_type": "code",
   "execution_count": 33,
   "id": "5029fb5b-ab50-4657-9a85-5c5b34cd31be",
   "metadata": {},
   "outputs": [
    {
     "name": "stdin",
     "output_type": "stream",
     "text": [
      " 5\n"
     ]
    }
   ],
   "source": [
    "N = int(input())"
   ]
  },
  {
   "cell_type": "code",
   "execution_count": 34,
   "id": "f9c7df35-ce67-4544-ba95-56d7cca0a331",
   "metadata": {},
   "outputs": [
    {
     "name": "stdin",
     "output_type": "stream",
     "text": [
      " 8 3 7 9 2\n"
     ]
    }
   ],
   "source": [
    "array_shop = list(map(int, input().split()))"
   ]
  },
  {
   "cell_type": "code",
   "execution_count": 35,
   "id": "cd4b1aca-e2e9-4da3-bb3a-d279701d329b",
   "metadata": {},
   "outputs": [
    {
     "name": "stdin",
     "output_type": "stream",
     "text": [
      " 3\n"
     ]
    }
   ],
   "source": [
    "M = int(input())"
   ]
  },
  {
   "cell_type": "code",
   "execution_count": 36,
   "id": "03fd7567-c741-4ab0-8349-38218a1fa59a",
   "metadata": {},
   "outputs": [
    {
     "name": "stdin",
     "output_type": "stream",
     "text": [
      " 5 7 9\n"
     ]
    }
   ],
   "source": [
    "array_find = list(map(int, input().split()))"
   ]
  },
  {
   "cell_type": "code",
   "execution_count": 37,
   "id": "ad25c305-2a78-40b3-9d87-8fdd2db5f004",
   "metadata": {},
   "outputs": [],
   "source": [
    "array_shop.sort()"
   ]
  },
  {
   "cell_type": "code",
   "execution_count": 38,
   "id": "150dec0d-b519-4af0-85d2-3d6b4f487a28",
   "metadata": {},
   "outputs": [
    {
     "data": {
      "text/plain": [
       "[2, 3, 7, 8, 9]"
      ]
     },
     "execution_count": 38,
     "metadata": {},
     "output_type": "execute_result"
    }
   ],
   "source": [
    "array_shop"
   ]
  },
  {
   "cell_type": "code",
   "execution_count": 39,
   "id": "bbaa0404-28ee-40b7-b832-bc2b81980fdf",
   "metadata": {},
   "outputs": [
    {
     "name": "stdout",
     "output_type": "stream",
     "text": [
      "no yes yes "
     ]
    }
   ],
   "source": [
    "for item in array_find:\n",
    "    val = binary_search(array_shop, item, 0, N-1)\n",
    "    if val == None:\n",
    "        print('no', end=' ')\n",
    "    else:\n",
    "        print('yes', end=' ')"
   ]
  },
  {
   "cell_type": "markdown",
   "id": "8b577cf8-5192-4d44-a5c3-583c2b96587f",
   "metadata": {},
   "source": [
    "# 2. 계수정렬"
   ]
  },
  {
   "cell_type": "code",
   "execution_count": 20,
   "id": "a140c922-291c-4a47-9596-318a74949b89",
   "metadata": {},
   "outputs": [
    {
     "name": "stdin",
     "output_type": "stream",
     "text": [
      " 5\n"
     ]
    }
   ],
   "source": [
    "N = int(input())"
   ]
  },
  {
   "cell_type": "code",
   "execution_count": 21,
   "id": "9724cae5-c9a8-4b40-aaf2-1d210c02e489",
   "metadata": {},
   "outputs": [],
   "source": [
    "array_shop = [0]*1000001"
   ]
  },
  {
   "cell_type": "code",
   "execution_count": 24,
   "id": "97a5130e-f4b3-47a2-bab1-98dc06587ea1",
   "metadata": {},
   "outputs": [
    {
     "name": "stdin",
     "output_type": "stream",
     "text": [
      " 8 3 7 9 2\n"
     ]
    }
   ],
   "source": [
    "# 가게에 있는 전체 부품 번호를 입력 받아서 기록\n",
    "for i in input().split():\n",
    "    array_shop[int(i)] = 1"
   ]
  },
  {
   "cell_type": "code",
   "execution_count": 26,
   "id": "230aa3ee-e5fa-4640-9065-6ea8c6c42692",
   "metadata": {},
   "outputs": [
    {
     "name": "stdin",
     "output_type": "stream",
     "text": [
      " 3\n"
     ]
    }
   ],
   "source": [
    "M = int(input())"
   ]
  },
  {
   "cell_type": "code",
   "execution_count": 27,
   "id": "3e34aff8-1e17-4aee-9458-329cd9b03f73",
   "metadata": {},
   "outputs": [
    {
     "name": "stdin",
     "output_type": "stream",
     "text": [
      " 5 7 9\n"
     ]
    }
   ],
   "source": [
    "array_find = list(map(int, input().split()))"
   ]
  },
  {
   "cell_type": "code",
   "execution_count": 31,
   "id": "80ce9fe7-cc96-49cf-80cb-77b276942917",
   "metadata": {},
   "outputs": [
    {
     "name": "stdout",
     "output_type": "stream",
     "text": [
      "no yes yes "
     ]
    }
   ],
   "source": [
    "for item in array_find:\n",
    "    if array_shop[item] == 1:\n",
    "        print('yes', end=' ')\n",
    "    else:\n",
    "        print('no', end=' ')"
   ]
  },
  {
   "cell_type": "code",
   "execution_count": null,
   "id": "6615fda9-b3ab-465f-91cf-d10e94913c13",
   "metadata": {},
   "outputs": [],
   "source": []
  }
 ],
 "metadata": {
  "kernelspec": {
   "display_name": "Python 3 (ipykernel)",
   "language": "python",
   "name": "python3"
  },
  "language_info": {
   "codemirror_mode": {
    "name": "ipython",
    "version": 3
   },
   "file_extension": ".py",
   "mimetype": "text/x-python",
   "name": "python",
   "nbconvert_exporter": "python",
   "pygments_lexer": "ipython3",
   "version": "3.8.11"
  }
 },
 "nbformat": 4,
 "nbformat_minor": 5
}
