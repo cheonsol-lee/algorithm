{
 "cells": [
  {
   "cell_type": "code",
   "execution_count": 1,
   "id": "5d5154b5-636d-419c-9f05-8f466ef34cac",
   "metadata": {},
   "outputs": [
    {
     "name": "stdin",
     "output_type": "stream",
     "text": [
      " 3\n"
     ]
    }
   ],
   "source": [
    "N = int(input())"
   ]
  },
  {
   "cell_type": "code",
   "execution_count": 2,
   "id": "6bee40e0-59df-423c-b9e5-a84d7147a6f1",
   "metadata": {},
   "outputs": [
    {
     "name": "stdin",
     "output_type": "stream",
     "text": [
      " 15\n",
      " 27\n",
      " 12\n"
     ]
    }
   ],
   "source": [
    "array = list()\n",
    "for i in range(N):\n",
    "    array.append(int(input()))"
   ]
  },
  {
   "cell_type": "code",
   "execution_count": 4,
   "id": "f5cd0f4e-72b2-4012-9dda-e70a6c60c8a0",
   "metadata": {},
   "outputs": [],
   "source": [
    "array.sort()\n",
    "array.reverse()"
   ]
  },
  {
   "cell_type": "code",
   "execution_count": 7,
   "id": "4f994f86-aafd-4aac-9904-9ac57b7a9c29",
   "metadata": {},
   "outputs": [],
   "source": [
    "# array = sorted(array, reverse=True)"
   ]
  },
  {
   "cell_type": "code",
   "execution_count": 8,
   "id": "30866170-de57-4944-99aa-f3688c4407de",
   "metadata": {},
   "outputs": [
    {
     "data": {
      "text/plain": [
       "[27, 15, 12]"
      ]
     },
     "execution_count": 8,
     "metadata": {},
     "output_type": "execute_result"
    }
   ],
   "source": [
    "array"
   ]
  },
  {
   "cell_type": "code",
   "execution_count": 9,
   "id": "c64691b5-12c0-4445-b7f7-8572d581eb79",
   "metadata": {},
   "outputs": [
    {
     "name": "stdout",
     "output_type": "stream",
     "text": [
      "27 15 12 "
     ]
    }
   ],
   "source": [
    "for val in array:\n",
    "    print(val, end=' ')"
   ]
  },
  {
   "cell_type": "code",
   "execution_count": null,
   "id": "4fb7e902-2ebe-4e11-ac65-3a701e3241e9",
   "metadata": {},
   "outputs": [],
   "source": []
  }
 ],
 "metadata": {
  "kernelspec": {
   "display_name": "Python 3 (ipykernel)",
   "language": "python",
   "name": "python3"
  },
  "language_info": {
   "codemirror_mode": {
    "name": "ipython",
    "version": 3
   },
   "file_extension": ".py",
   "mimetype": "text/x-python",
   "name": "python",
   "nbconvert_exporter": "python",
   "pygments_lexer": "ipython3",
   "version": "3.8.11"
  }
 },
 "nbformat": 4,
 "nbformat_minor": 5
}
