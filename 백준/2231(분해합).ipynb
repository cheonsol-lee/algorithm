{
 "cells": [
  {
   "cell_type": "code",
   "execution_count": 16,
   "id": "3d6d9bc9-866b-4cd8-9ded-7b3c23f1d688",
   "metadata": {},
   "outputs": [],
   "source": [
    "num = int(input())\n",
    "\n",
    "min_num = 1000001\n",
    "for n in range(1000001):\n",
    "    total_sum = 0\n",
    "    for i in str(n):\n",
    "        total_sum  += int(i)\n",
    "    total_sum += n\n",
    "    \n",
    "    if total_sum == num:\n",
    "        min_num = min(min_num, n)\n",
    "\n",
    "if min_num == 1000001:\n",
    "    print(0)\n",
    "else:\n",
    "    print(min_num)"
   ]
  },
  {
   "cell_type": "code",
   "execution_count": 17,
   "id": "7a92fa15-3c04-45bc-afe1-10f8fa5acc49",
   "metadata": {},
   "outputs": [
    {
     "data": {
      "text/plain": [
       "198"
      ]
     },
     "execution_count": 17,
     "metadata": {},
     "output_type": "execute_result"
    }
   ],
   "source": [
    "min_num"
   ]
  },
  {
   "cell_type": "code",
   "execution_count": null,
   "id": "27a70128-afd5-436a-957b-72b552823f62",
   "metadata": {},
   "outputs": [],
   "source": []
  }
 ],
 "metadata": {
  "kernelspec": {
   "display_name": "Python 3",
   "language": "python",
   "name": "python3"
  },
  "language_info": {
   "codemirror_mode": {
    "name": "ipython",
    "version": 3
   },
   "file_extension": ".py",
   "mimetype": "text/x-python",
   "name": "python",
   "nbconvert_exporter": "python",
   "pygments_lexer": "ipython3",
   "version": "3.7.0"
  }
 },
 "nbformat": 4,
 "nbformat_minor": 5
}
