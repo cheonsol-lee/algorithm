{
 "cells": [
  {
   "cell_type": "code",
   "execution_count": 21,
   "id": "237b8e0f-3409-454b-91f1-d1e43be5d50b",
   "metadata": {},
   "outputs": [],
   "source": [
    "K = int(input())\n",
    "memo = [0] * 46\n",
    "\n",
    "def fibo(n):\n",
    "    if memo[n] != 0:\n",
    "        return memo[n]\n",
    "    if n == 0:\n",
    "        return 0\n",
    "    elif n <= 2:\n",
    "        return 1\n",
    "    \n",
    "    memo[n] = fibo(n-1) + fibo(n-2)\n",
    "    return memo[n]\n",
    "\n",
    "print(fibo(K-1), fibo(K))"
   ]
  },
  {
   "cell_type": "code",
   "execution_count": null,
   "id": "065c5691-3488-482a-9624-778f14f607a1",
   "metadata": {},
   "outputs": [],
   "source": []
  }
 ],
 "metadata": {
  "kernelspec": {
   "display_name": "Python 3",
   "language": "python",
   "name": "python3"
  },
  "language_info": {
   "codemirror_mode": {
    "name": "ipython",
    "version": 3
   },
   "file_extension": ".py",
   "mimetype": "text/x-python",
   "name": "python",
   "nbconvert_exporter": "python",
   "pygments_lexer": "ipython3",
   "version": "3.7.0"
  }
 },
 "nbformat": 4,
 "nbformat_minor": 5
}
