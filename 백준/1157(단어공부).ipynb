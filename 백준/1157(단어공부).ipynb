{
 "cells": [
  {
   "cell_type": "code",
   "execution_count": null,
   "id": "189ab1d2-8c18-493a-a16d-9b6c1f4c2fd3",
   "metadata": {},
   "outputs": [],
   "source": [
    "# 22분"
   ]
  },
  {
   "cell_type": "markdown",
   "id": "186f8c0d-462a-42cd-bb8d-72adec36ba9c",
   "metadata": {},
   "source": [
    "MISSISSIPI\n",
    "zZa\n",
    "z\n",
    "baaa"
   ]
  },
  {
   "cell_type": "code",
   "execution_count": null,
   "id": "bb1e9350-474d-456e-a83d-56c63decf83b",
   "metadata": {},
   "outputs": [],
   "source": [
    "char_li = input()\n",
    "char_li = char_li.upper()\n",
    "\n",
    "num = ord('Z') - ord('A') + 1 # 알파벳 총 개수\n",
    "alpha_cnt = [0 for i in range(num)]\n",
    "\n",
    "for char in char_li:\n",
    "    index = ord(char) - ord('A')\n",
    "    alpha_cnt[index] += 1\n",
    "\n",
    "max_val = max(alpha_cnt)\n",
    "\n",
    "max_index_li = [i for i,val in enumerate(alpha_cnt) if val==max_val]\n",
    "\n",
    "if len(max_index_li) != 1:\n",
    "    print('?')\n",
    "else:\n",
    "    print(chr(max_index_li[0] + ord('A')))"
   ]
  }
 ],
 "metadata": {
  "kernelspec": {
   "display_name": "Python 3 (ipykernel)",
   "language": "python",
   "name": "python3"
  },
  "language_info": {
   "codemirror_mode": {
    "name": "ipython",
    "version": 3
   },
   "file_extension": ".py",
   "mimetype": "text/x-python",
   "name": "python",
   "nbconvert_exporter": "python",
   "pygments_lexer": "ipython3",
   "version": "3.11.7"
  }
 },
 "nbformat": 4,
 "nbformat_minor": 5
}
