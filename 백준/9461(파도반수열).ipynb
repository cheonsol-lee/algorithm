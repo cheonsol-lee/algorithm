{
 "cells": [
  {
   "cell_type": "code",
   "execution_count": 1,
   "id": "efb4d870-df8c-459b-b222-d25e1e89b79b",
   "metadata": {},
   "outputs": [],
   "source": [
    "T = int(input())\n",
    "\n",
    "p = [0] * 101\n",
    "\n",
    "p[1] = 1\n",
    "p[2] = 1\n",
    "p[3] = 1\n",
    "p[4] = 2\n",
    "p[5] = 2\n",
    "\n",
    "for i in range(T):\n",
    "    num = int(input())\n",
    "    \n",
    "    if num >= 6:\n",
    "        for j in range(6, num+1):\n",
    "            p[j] = p[j-1] + p[j-5]\n",
    "\n",
    "    print(p[num])"
   ]
  },
  {
   "cell_type": "code",
   "execution_count": null,
   "id": "77f2be59-950a-46be-8f68-a12153b1cfeb",
   "metadata": {},
   "outputs": [],
   "source": []
  }
 ],
 "metadata": {
  "kernelspec": {
   "display_name": "Python 3",
   "language": "python",
   "name": "python3"
  },
  "language_info": {
   "codemirror_mode": {
    "name": "ipython",
    "version": 3
   },
   "file_extension": ".py",
   "mimetype": "text/x-python",
   "name": "python",
   "nbconvert_exporter": "python",
   "pygments_lexer": "ipython3",
   "version": "3.7.0"
  }
 },
 "nbformat": 4,
 "nbformat_minor": 5
}
