{
 "cells": [
  {
   "cell_type": "code",
   "execution_count": 14,
   "id": "454a07f7-0dac-464d-8b3d-3634e9418223",
   "metadata": {},
   "outputs": [
    {
     "name": "stdin",
     "output_type": "stream",
     "text": [
      " 4\n"
     ]
    },
    {
     "name": "stdout",
     "output_type": "stream",
     "text": [
      "5\n"
     ]
    }
   ],
   "source": [
    "import sys\n",
    "# N = int(sys.stdin.readline())\n",
    "N = int(input())\n",
    "\n",
    "arrs = [0]*(N+2)\n",
    "arrs[1] = 1\n",
    "arrs[2] = 2\n",
    "\n",
    "for i in range(1, N-1): \n",
    "    arrs[i+2] = (arrs[i] + arrs[i+1]) % 15746\n",
    "    \n",
    "print(arrs[N] % 15746)"
   ]
  },
  {
   "cell_type": "code",
   "execution_count": 15,
   "id": "fa6cb5dd-b5a0-475f-ace8-ba435905078d",
   "metadata": {},
   "outputs": [
    {
     "data": {
      "text/plain": [
       "[0, 1, 2, 3, 5, 0]"
      ]
     },
     "execution_count": 15,
     "metadata": {},
     "output_type": "execute_result"
    }
   ],
   "source": [
    "arrs"
   ]
  },
  {
   "cell_type": "code",
   "execution_count": 16,
   "id": "c1e44522-a9ea-4f6d-8cfd-f1380ec649be",
   "metadata": {},
   "outputs": [
    {
     "data": {
      "text/plain": [
       "2"
      ]
     },
     "execution_count": 16,
     "metadata": {},
     "output_type": "execute_result"
    }
   ],
   "source": [
    "i"
   ]
  },
  {
   "cell_type": "code",
   "execution_count": null,
   "id": "710ad976-d042-4516-8733-040c9263bab2",
   "metadata": {},
   "outputs": [],
   "source": []
  }
 ],
 "metadata": {
  "kernelspec": {
   "display_name": "Python 3 (ipykernel)",
   "language": "python",
   "name": "python3"
  },
  "language_info": {
   "codemirror_mode": {
    "name": "ipython",
    "version": 3
   },
   "file_extension": ".py",
   "mimetype": "text/x-python",
   "name": "python",
   "nbconvert_exporter": "python",
   "pygments_lexer": "ipython3",
   "version": "3.8.11"
  }
 },
 "nbformat": 4,
 "nbformat_minor": 5
}
