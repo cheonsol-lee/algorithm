{
 "cells": [
  {
   "cell_type": "code",
   "execution_count": 73,
   "id": "8492243d-032c-4e5e-a524-3b704ba9d350",
   "metadata": {},
   "outputs": [],
   "source": [
    "N, K = map(int, input().split())\n",
    "stuff = [[0,0]]\n",
    "knapsack = [[0 for _ in range(K + 1)] for _ in range(N + 1)]\n",
    "\n",
    "for _ in range(N):\n",
    "    stuff.append(list(map(int, input().split())))\n",
    "\n",
    "#냅색 문제 풀이\n",
    "for i in range(1, N + 1):\n",
    "    for j in range(1, K + 1):\n",
    "        weight = stuff[i][0] \n",
    "        value = stuff[i][1]\n",
    "       \n",
    "        if j < weight:\n",
    "            knapsack[i][j] = knapsack[i - 1][j] #weight보다 작으면 위의 값을 그대로 가져온다\n",
    "        else:\n",
    "            knapsack[i][j] = max(value + knapsack[i - 1][j - weight], knapsack[i - 1][j])\n",
    "\n",
    "print(knapsack[N][K])"
   ]
  },
  {
   "cell_type": "code",
   "execution_count": null,
   "id": "33974552-4742-443d-9870-502c9ac59e87",
   "metadata": {},
   "outputs": [],
   "source": []
  }
 ],
 "metadata": {
  "kernelspec": {
   "display_name": "Python 3",
   "language": "python",
   "name": "python3"
  },
  "language_info": {
   "codemirror_mode": {
    "name": "ipython",
    "version": 3
   },
   "file_extension": ".py",
   "mimetype": "text/x-python",
   "name": "python",
   "nbconvert_exporter": "python",
   "pygments_lexer": "ipython3",
   "version": "3.7.0"
  }
 },
 "nbformat": 4,
 "nbformat_minor": 5
}
