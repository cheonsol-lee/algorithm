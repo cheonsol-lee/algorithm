{
 "cells": [
  {
   "cell_type": "code",
   "execution_count": null,
   "id": "78c521e0-befa-4009-9e6e-0ec7434413c4",
   "metadata": {},
   "outputs": [],
   "source": [
    "import math\n",
    "\n",
    "def is_prime_num(n):\n",
    "    arr = [True] * (n+1)\n",
    "    arr[0] = False\n",
    "    arr[1] = False\n",
    "    \n",
    "    for i in range(2, int(math.sqrt(n)+1)):\n",
    "        if arr[i] == True:\n",
    "            j = 2\n",
    "            \n",
    "            while (i*j) <= n:\n",
    "                arr[i*j] = False\n",
    "                j += 1\n",
    "    return arr\n",
    "\n",
    "import sys\n",
    "T = int(input())\n",
    "\n",
    "problem_list = []\n",
    "for i in range(T):\n",
    "    problem_list.append(int(input())) # 주피터용\n",
    "#     problem_list.append(int(sys.stdin.readline())) # 파이썬용\n",
    "\n",
    "max_num = max(problem_list)\n",
    "prime_arr = is_prime_num(max_num)\n",
    "\n",
    "# 실제 입력된 범위에서 소수를 구하는 코드\n",
    "max_idx = 0\n",
    "for num in problem_list:\n",
    "    mid = num // 2\n",
    "    idx = mid\n",
    "    while True:\n",
    "        if prime_arr[num - idx]==True and prime_arr[idx]==True:\n",
    "            print(idx, num - idx, sep=\" \")\n",
    "            break\n",
    "        else:\n",
    "            idx -= 1"
   ]
  }
 ],
 "metadata": {
  "kernelspec": {
   "display_name": "Python 3",
   "language": "python",
   "name": "python3"
  },
  "language_info": {
   "codemirror_mode": {
    "name": "ipython",
    "version": 3
   },
   "file_extension": ".py",
   "mimetype": "text/x-python",
   "name": "python",
   "nbconvert_exporter": "python",
   "pygments_lexer": "ipython3",
   "version": "3.7.0"
  }
 },
 "nbformat": 4,
 "nbformat_minor": 5
}
