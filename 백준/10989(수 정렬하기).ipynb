{
 "cells": [
  {
   "cell_type": "code",
   "execution_count": 1,
   "id": "cdb26b4f-9577-45fd-ad76-4b829d0509e1",
   "metadata": {},
   "outputs": [
    {
     "name": "stdin",
     "output_type": "stream",
     "text": [
      " 10\n",
      " 5\n",
      " 2\n",
      " 3\n",
      " 1\n",
      " 4\n",
      " 2\n",
      " 3\n",
      " 5\n",
      " 1\n",
      " 7\n"
     ]
    },
    {
     "name": "stdout",
     "output_type": "stream",
     "text": [
      "1\n",
      "1\n",
      "2\n",
      "2\n",
      "3\n",
      "3\n",
      "4\n",
      "5\n",
      "5\n",
      "7\n"
     ]
    }
   ],
   "source": [
    "import sys\n",
    "N = int(sys.stdin.readline())\n",
    "arr = [0] * 10001\n",
    "\n",
    "for _ in range(N):\n",
    "    arr[int(sys.stdin.readline())] += 1\n",
    "\n",
    "for i in range(10001):\n",
    "    for _ in range(arr[i]):\n",
    "        print(i)"
   ]
  },
  {
   "cell_type": "code",
   "execution_count": null,
   "id": "c830c0c3-7da0-4fad-b6b7-839caa9c4c42",
   "metadata": {},
   "outputs": [],
   "source": []
  }
 ],
 "metadata": {
  "kernelspec": {
   "display_name": "Python 3",
   "language": "python",
   "name": "python3"
  },
  "language_info": {
   "codemirror_mode": {
    "name": "ipython",
    "version": 3
   },
   "file_extension": ".py",
   "mimetype": "text/x-python",
   "name": "python",
   "nbconvert_exporter": "python",
   "pygments_lexer": "ipython3",
   "version": "3.7.0"
  }
 },
 "nbformat": 4,
 "nbformat_minor": 5
}
