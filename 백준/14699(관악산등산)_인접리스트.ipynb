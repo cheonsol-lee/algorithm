{
 "cells": [
  {
   "cell_type": "markdown",
   "id": "465394b1-5279-4734-ac46-dcc679cd093a",
   "metadata": {},
   "source": [
    "5 5\n",
    "3 1 6 4 7\n",
    "1 4\n",
    "2 1\n",
    "3 4\n",
    "4 2\n",
    "5 1"
   ]
  },
  {
   "cell_type": "code",
   "execution_count": 23,
   "id": "77371119-c38a-4dbd-b16d-c05683461bd2",
   "metadata": {},
   "outputs": [
    {
     "name": "stdin",
     "output_type": "stream",
     "text": [
      " 5 5\n",
      " 3 1 6 4 7\n"
     ]
    }
   ],
   "source": [
    "N, E = map(int, input().split())\n",
    "\n",
    "height_list = list(map(int, input().split()))"
   ]
  },
  {
   "cell_type": "code",
   "execution_count": 24,
   "id": "174bf711-630f-44ce-a35f-d09d9e33058d",
   "metadata": {},
   "outputs": [
    {
     "data": {
      "text/plain": [
       "[3, 1, 6, 4, 7]"
      ]
     },
     "execution_count": 24,
     "metadata": {},
     "output_type": "execute_result"
    }
   ],
   "source": [
    "height_list"
   ]
  },
  {
   "cell_type": "code",
   "execution_count": 25,
   "id": "2e1b3543-ce66-40e9-97d5-d63bb74944a9",
   "metadata": {},
   "outputs": [],
   "source": [
    "height_list.insert(0, 0) # 0번은 사용 안함"
   ]
  },
  {
   "cell_type": "code",
   "execution_count": 26,
   "id": "3075027e-f8f9-468e-aee1-50e1f6c5691f",
   "metadata": {},
   "outputs": [
    {
     "data": {
      "text/plain": [
       "[0, 3, 1, 6, 4, 7]"
      ]
     },
     "execution_count": 26,
     "metadata": {},
     "output_type": "execute_result"
    }
   ],
   "source": [
    "height_list"
   ]
  },
  {
   "cell_type": "code",
   "execution_count": 27,
   "id": "60daba02-e03c-462e-bff8-5a73d22ed80e",
   "metadata": {},
   "outputs": [],
   "source": [
    "graph = [[] for i in range(N + 1)]"
   ]
  },
  {
   "cell_type": "code",
   "execution_count": 28,
   "id": "1782e91c-97e4-4375-be0b-5e0bf372d125",
   "metadata": {},
   "outputs": [],
   "source": [
    "# 방향성있는 인접행렬\n",
    "adj_matrix = [[0 for i in range(N+1)] for j in range(N+1)]"
   ]
  },
  {
   "cell_type": "code",
   "execution_count": 29,
   "id": "1d705f02-ccc5-4a58-8761-9d3a3f5c5bd6",
   "metadata": {},
   "outputs": [
    {
     "data": {
      "text/plain": [
       "[[0, 0, 0, 0, 0, 0],\n",
       " [0, 0, 0, 0, 0, 0],\n",
       " [0, 0, 0, 0, 0, 0],\n",
       " [0, 0, 0, 0, 0, 0],\n",
       " [0, 0, 0, 0, 0, 0],\n",
       " [0, 0, 0, 0, 0, 0]]"
      ]
     },
     "execution_count": 29,
     "metadata": {},
     "output_type": "execute_result"
    }
   ],
   "source": [
    "adj_matrix"
   ]
  },
  {
   "cell_type": "code",
   "execution_count": 30,
   "id": "1fa3016b-f641-47fb-81ae-99d25f463f72",
   "metadata": {},
   "outputs": [
    {
     "name": "stdin",
     "output_type": "stream",
     "text": [
      " 1 4\n",
      " 2 1\n",
      " 3 4\n",
      " 4 2\n",
      " 5 1\n"
     ]
    }
   ],
   "source": [
    "for i in range(E):\n",
    "    n1, n2 = map(int, input().split())\n",
    "    \n",
    "    # n1의 높이 < n2의 높이\n",
    "    if height_list[n1] < height_list[n2]:\n",
    "        graph[n1].append(n2)\n",
    "        adj_matrix[n1][n2] = 1\n",
    "    # n1의 높이 > n2의 높이\n",
    "    else:\n",
    "        graph[n2].append(n1)\n",
    "        adj_matrix[n2][n1] = 1"
   ]
  },
  {
   "cell_type": "code",
   "execution_count": 31,
   "id": "7afdd04c-7c4c-46cb-a0c8-cf0ed9c963cb",
   "metadata": {},
   "outputs": [
    {
     "data": {
      "text/plain": [
       "[[0, 0, 0, 0, 0, 0],\n",
       " [0, 0, 0, 0, 1, 1],\n",
       " [0, 1, 0, 0, 1, 0],\n",
       " [0, 0, 0, 0, 0, 0],\n",
       " [0, 0, 0, 1, 0, 0],\n",
       " [0, 0, 0, 0, 0, 0]]"
      ]
     },
     "execution_count": 31,
     "metadata": {},
     "output_type": "execute_result"
    }
   ],
   "source": [
    "adj_matrix"
   ]
  },
  {
   "cell_type": "code",
   "execution_count": 32,
   "id": "420213da-2d7d-4111-a4a7-005945e0733b",
   "metadata": {},
   "outputs": [
    {
     "data": {
      "text/plain": [
       "[[], [4, 5], [1, 4], [], [3], []]"
      ]
     },
     "execution_count": 32,
     "metadata": {},
     "output_type": "execute_result"
    }
   ],
   "source": [
    "graph"
   ]
  },
  {
   "cell_type": "code",
   "execution_count": 33,
   "id": "4479f37a-a3c8-4e03-8436-bfc0b40cff87",
   "metadata": {},
   "outputs": [],
   "source": [
    "# 메모이제이션\n",
    "memo = [0 for i in range(N+1)]"
   ]
  },
  {
   "cell_type": "code",
   "execution_count": 48,
   "id": "900c167e-12cd-4b9a-b226-7da93f8ef8c6",
   "metadata": {},
   "outputs": [],
   "source": [
    "visited = [False] * (N+1)"
   ]
  },
  {
   "cell_type": "code",
   "execution_count": 49,
   "id": "30dafe67-906a-49c7-9aac-35d874534cdb",
   "metadata": {},
   "outputs": [
    {
     "data": {
      "text/plain": [
       "[False, False, False, False, False, False]"
      ]
     },
     "execution_count": 49,
     "metadata": {},
     "output_type": "execute_result"
    }
   ],
   "source": [
    "visited"
   ]
  },
  {
   "cell_type": "code",
   "execution_count": 50,
   "id": "7b6f788e-0572-4368-9cc1-1f5c76028748",
   "metadata": {},
   "outputs": [],
   "source": [
    "def dfs(graph, v, visited):\n",
    "    global memo\n",
    "    visited[v] = True\n",
    "    print(v, end=' ')\n",
    "    \n",
    "    if memo[v] != 0:\n",
    "        return memo[v]\n",
    "    \n",
    "    if graph[v]==0:\n",
    "        memo[v] = 1\n",
    "        return memo[v]\n",
    "    \n",
    "    for i in graph[v]:\n",
    "        if not visited[i]:\n",
    "            dfs(graph, i, visited)\n",
    "            \n",
    "        cur_count = visit(next_node) + 1\n",
    "        max_count = max(cur_count, max_count)"
   ]
  },
  {
   "cell_type": "code",
   "execution_count": 51,
   "id": "42a6265f-baed-4dbd-9856-ba210bbb3c24",
   "metadata": {},
   "outputs": [
    {
     "name": "stdout",
     "output_type": "stream",
     "text": [
      "2 1 4 3 5 "
     ]
    }
   ],
   "source": [
    "dfs(graph, 2, visited)"
   ]
  },
  {
   "cell_type": "code",
   "execution_count": 52,
   "id": "8e0432c9-1381-433a-9dab-d48972488e05",
   "metadata": {},
   "outputs": [
    {
     "data": {
      "text/plain": [
       "[False, True, True, True, True, True]"
      ]
     },
     "execution_count": 52,
     "metadata": {},
     "output_type": "execute_result"
    }
   ],
   "source": [
    "visited"
   ]
  },
  {
   "cell_type": "code",
   "execution_count": 119,
   "id": "8d8c901b-cae7-48b8-82c8-b1e317591b61",
   "metadata": {},
   "outputs": [],
   "source": [
    "# 메모이제이션\n",
    "memo = [0 for i in range(N+1)]"
   ]
  },
  {
   "cell_type": "code",
   "execution_count": 120,
   "id": "891eadea-6997-45a2-bb73-3355e97cf03a",
   "metadata": {},
   "outputs": [
    {
     "data": {
      "text/plain": [
       "[0, 0, 0, 0, 0, 0]"
      ]
     },
     "execution_count": 120,
     "metadata": {},
     "output_type": "execute_result"
    }
   ],
   "source": [
    "memo"
   ]
  },
  {
   "cell_type": "code",
   "execution_count": 130,
   "id": "c3443ec3-a125-4ac4-b4c8-79ed63396bfa",
   "metadata": {},
   "outputs": [],
   "source": [
    "def dfs(v):\n",
    "    global memo\n",
    "    max_count = 0\n",
    "    \n",
    "    if memo[v] != 0:\n",
    "        return memo[v]\n",
    " \n",
    "    for i in range(len(graph[v])):\n",
    "        memo[v] = max(memo[v], dfs(graph[v][i]))\n",
    "    \n",
    "    memo[v] += 1\n",
    "    return memo[v]"
   ]
  },
  {
   "cell_type": "code",
   "execution_count": 136,
   "id": "46a289e5-025a-454b-b94b-ce5bc32d5b7c",
   "metadata": {},
   "outputs": [],
   "source": [
    "for v in range(1, N+1):\n",
    "    dfs(v)"
   ]
  },
  {
   "cell_type": "code",
   "execution_count": 137,
   "id": "71513ec1-e9bb-4880-bd4a-9bdc6c2ba09e",
   "metadata": {},
   "outputs": [
    {
     "data": {
      "text/plain": [
       "[0, 3, 4, 1, 2, 1]"
      ]
     },
     "execution_count": 137,
     "metadata": {},
     "output_type": "execute_result"
    }
   ],
   "source": [
    "memo"
   ]
  },
  {
   "cell_type": "code",
   "execution_count": 138,
   "id": "60701ba6-1bf9-48fc-8cae-bf84a86b9f7f",
   "metadata": {},
   "outputs": [
    {
     "name": "stdout",
     "output_type": "stream",
     "text": [
      "3\n",
      "4\n",
      "1\n",
      "2\n",
      "1\n"
     ]
    }
   ],
   "source": [
    "for i in range(1, N+1):\n",
    "    print(memo[i])"
   ]
  },
  {
   "cell_type": "code",
   "execution_count": null,
   "id": "a7f2d4d9-093c-49c0-b51b-e424e9f3f18d",
   "metadata": {},
   "outputs": [],
   "source": []
  }
 ],
 "metadata": {
  "kernelspec": {
   "display_name": "Python 3 (ipykernel)",
   "language": "python",
   "name": "python3"
  },
  "language_info": {
   "codemirror_mode": {
    "name": "ipython",
    "version": 3
   },
   "file_extension": ".py",
   "mimetype": "text/x-python",
   "name": "python",
   "nbconvert_exporter": "python",
   "pygments_lexer": "ipython3",
   "version": "3.8.11"
  }
 },
 "nbformat": 4,
 "nbformat_minor": 5
}
