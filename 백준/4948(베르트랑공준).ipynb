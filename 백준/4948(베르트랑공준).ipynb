{
 "cells": [
  {
   "cell_type": "code",
   "execution_count": null,
   "id": "0e74f29c-66d5-4b0e-b15d-b9ee4b205c0b",
   "metadata": {},
   "outputs": [],
   "source": [
    "import math\n",
    "\n",
    "def is_prime_num(n):\n",
    "    arr = [True] * (n+1)\n",
    "    arr[0] = False\n",
    "    arr[1] = False\n",
    "    \n",
    "    for i in range(2, int(math.sqrt(n)+1)):\n",
    "        if arr[i] == True:\n",
    "            j = 2\n",
    "            \n",
    "            while (i*j) <= n:\n",
    "                arr[i*j] = False\n",
    "                j += 1\n",
    "    return arr\n",
    "\n",
    "while True:\n",
    "    N = int(input())\n",
    "    if N == 0:\n",
    "        break\n",
    "    arr = is_prime_num(2*N)\n",
    "    \n",
    "    count = 0\n",
    "    for i in range(N+1, 2*N + 1):\n",
    "        if arr[i] == True:\n",
    "            count += 1\n",
    "    print(count)"
   ]
  }
 ],
 "metadata": {
  "kernelspec": {
   "display_name": "Python 3",
   "language": "python",
   "name": "python3"
  },
  "language_info": {
   "codemirror_mode": {
    "name": "ipython",
    "version": 3
   },
   "file_extension": ".py",
   "mimetype": "text/x-python",
   "name": "python",
   "nbconvert_exporter": "python",
   "pygments_lexer": "ipython3",
   "version": "3.7.0"
  }
 },
 "nbformat": 4,
 "nbformat_minor": 5
}
