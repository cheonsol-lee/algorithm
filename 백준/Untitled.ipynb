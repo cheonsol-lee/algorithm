{
 "cells": [
  {
   "cell_type": "code",
   "execution_count": 28,
   "id": "2e7441ba-c3e4-4401-ae71-9da20c25ee67",
   "metadata": {},
   "outputs": [],
   "source": [
    "import sys\n",
    "from collections import defaultdict\n",
    "# input = sys.stdin.readline\n",
    "dx = [0, 0, -1, 1]\n",
    "dy = [-1, 1, 0, 0]"
   ]
  },
  {
   "cell_type": "code",
   "execution_count": 29,
   "id": "5c7c3ace-e350-4840-8120-590dd3188c49",
   "metadata": {},
   "outputs": [
    {
     "name": "stdin",
     "output_type": "stream",
     "text": [
      " 3\n"
     ]
    }
   ],
   "source": [
    "N = int(input())"
   ]
  },
  {
   "cell_type": "code",
   "execution_count": 34,
   "id": "48369c51-e678-458c-8f8e-f6fc5e6fba55",
   "metadata": {},
   "outputs": [],
   "source": [
    "arr = [[0]*N for _ in range(N)]\n",
    "likedict = defaultdict(list)\n",
    "result = 0"
   ]
  },
  {
   "cell_type": "code",
   "execution_count": 35,
   "id": "27280746-e189-42e4-973c-c891f185f03f",
   "metadata": {},
   "outputs": [
    {
     "name": "stdin",
     "output_type": "stream",
     "text": [
      " 7 9 3 8 2\n"
     ]
    },
    {
     "name": "stdout",
     "output_type": "stream",
     "text": [
      "i:0,j:0,max_like:0,max_empty:2\n",
      "i:0,j:1,max_like:0,max_empty:3\n",
      "i:1,j:1,max_like:0,max_empty:4\n"
     ]
    },
    {
     "name": "stdin",
     "output_type": "stream",
     "text": [
      " 5 7 3 8 6\n"
     ]
    },
    {
     "name": "stdout",
     "output_type": "stream",
     "text": [
      "i:0,j:0,max_like:0,max_empty:2\n",
      "i:0,j:1,max_like:1,max_empty:2\n"
     ]
    },
    {
     "name": "stdin",
     "output_type": "stream",
     "text": [
      " 3 5 2 4 9\n"
     ]
    },
    {
     "name": "stdout",
     "output_type": "stream",
     "text": [
      "i:0,j:0,max_like:1,max_empty:1\n"
     ]
    },
    {
     "name": "stdin",
     "output_type": "stream",
     "text": [
      " 9 6 8 3 4\n"
     ]
    },
    {
     "name": "stdout",
     "output_type": "stream",
     "text": [
      "i:0,j:2,max_like:0,max_empty:1\n",
      "i:1,j:0,max_like:1,max_empty:1\n"
     ]
    },
    {
     "name": "stdin",
     "output_type": "stream",
     "text": [
      " 8 5 3 1 6\n"
     ]
    },
    {
     "name": "stdout",
     "output_type": "stream",
     "text": [
      "i:0,j:2,max_like:1,max_empty:1\n"
     ]
    },
    {
     "name": "stdin",
     "output_type": "stream",
     "text": [
      " 6 3 8 5 4\n"
     ]
    },
    {
     "name": "stdout",
     "output_type": "stream",
     "text": [
      "i:1,j:2,max_like:1,max_empty:1\n"
     ]
    },
    {
     "name": "stdin",
     "output_type": "stream",
     "text": [
      " 2 6 4 8 7\n"
     ]
    },
    {
     "name": "stdout",
     "output_type": "stream",
     "text": [
      "i:2,j:0,max_like:0,max_empty:1\n",
      "i:2,j:1,max_like:1,max_empty:2\n"
     ]
    },
    {
     "name": "stdin",
     "output_type": "stream",
     "text": [
      " 1 8 3 4 5\n"
     ]
    },
    {
     "name": "stdout",
     "output_type": "stream",
     "text": [
      "i:2,j:0,max_like:0,max_empty:0\n"
     ]
    },
    {
     "name": "stdin",
     "output_type": "stream",
     "text": [
      " 4 7 9 3 8\n"
     ]
    },
    {
     "name": "stdout",
     "output_type": "stream",
     "text": [
      "i:2,j:2,max_like:0,max_empty:0\n"
     ]
    }
   ],
   "source": [
    "for _ in range(9):\n",
    "    _input = list(map(int, input().split()))\n",
    "    likedict[_input[0]] = _input[1:]\n",
    "    \n",
    "    max_x = 0\n",
    "    max_y = 0\n",
    "    max_like = -1\n",
    "    max_empty = -1\n",
    "    for i in range(N):\n",
    "        for j in range(N):\n",
    "            if arr[i][j] == 0:\n",
    "                likecnt = 0\n",
    "                emptycnt = 0\n",
    "                for k in range(4):\n",
    "                    nx = i + dx[k]\n",
    "                    ny = j + dy[k]\n",
    "                    if 0 <= nx < N and 0 <= ny < N:\n",
    "                        if arr[nx][ny] in _input:\n",
    "                            likecnt += 1\n",
    "                        if arr[nx][ny] == 0:\n",
    "                            emptycnt += 1\n",
    "                            \n",
    "                if max_like < likecnt or (max_like == likecnt and max_empty < emptycnt):\n",
    "                    max_x = i\n",
    "                    max_y = j\n",
    "                    max_like = likecnt\n",
    "                    max_empty = emptycnt\n",
    "                    print(f'i:{i},j:{j},max_like:{max_like},max_empty:{max_empty}')\n",
    "                    \n",
    "    arr[max_x][max_y] = _input[0]"
   ]
  },
  {
   "cell_type": "code",
   "execution_count": 38,
   "id": "3f5ff30c-9563-473e-b365-4c52af47715e",
   "metadata": {},
   "outputs": [
    {
     "data": {
      "text/plain": [
       "defaultdict(list,\n",
       "            {7: [9, 3, 8, 2],\n",
       "             5: [7, 3, 8, 6],\n",
       "             3: [5, 2, 4, 9],\n",
       "             9: [6, 8, 3, 4],\n",
       "             8: [5, 3, 1, 6],\n",
       "             6: [3, 8, 5, 4],\n",
       "             2: [6, 4, 8, 7],\n",
       "             1: [8, 3, 4, 5],\n",
       "             4: [7, 9, 3, 8]})"
      ]
     },
     "execution_count": 38,
     "metadata": {},
     "output_type": "execute_result"
    }
   ],
   "source": [
    "likedict"
   ]
  },
  {
   "cell_type": "code",
   "execution_count": 39,
   "id": "00b1fcb2-c384-4d3e-ba9e-ea28a63d8491",
   "metadata": {},
   "outputs": [
    {
     "data": {
      "text/plain": [
       "[[3, 5, 8], [9, 7, 6], [1, 2, 4]]"
      ]
     },
     "execution_count": 39,
     "metadata": {},
     "output_type": "execute_result"
    }
   ],
   "source": [
    "arr"
   ]
  },
  {
   "cell_type": "code",
   "execution_count": 40,
   "id": "26fd35c1-925e-40cb-ae3e-f0b4259175b1",
   "metadata": {},
   "outputs": [
    {
     "name": "stdout",
     "output_type": "stream",
     "text": [
      "151\n"
     ]
    }
   ],
   "source": [
    "for i in range(N):\n",
    "    for j in range(N):\n",
    "        cnt = 0\n",
    "        like = likedict[arr[i][j]]\n",
    "        for k in range(4):\n",
    "            nx = i + dx[k]\n",
    "            ny = j + dy[k]\n",
    "            if 0 <= nx < N and 0 <= ny < N:\n",
    "                if arr[nx][ny] in like:\n",
    "                    cnt += 1\n",
    "        if cnt != 0:\n",
    "            result += 10 ** (cnt-1)\n",
    "            \n",
    "print(result)"
   ]
  },
  {
   "cell_type": "code",
   "execution_count": null,
   "id": "03a0191f-6d84-4ca2-8edd-4ca1b938b0c9",
   "metadata": {},
   "outputs": [],
   "source": []
  }
 ],
 "metadata": {
  "kernelspec": {
   "display_name": "Python 3 (ipykernel)",
   "language": "python",
   "name": "python3"
  },
  "language_info": {
   "codemirror_mode": {
    "name": "ipython",
    "version": 3
   },
   "file_extension": ".py",
   "mimetype": "text/x-python",
   "name": "python",
   "nbconvert_exporter": "python",
   "pygments_lexer": "ipython3",
   "version": "3.8.11"
  }
 },
 "nbformat": 4,
 "nbformat_minor": 5
}
