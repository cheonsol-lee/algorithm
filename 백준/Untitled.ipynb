{
 "cells": [
  {
   "cell_type": "code",
   "execution_count": 18,
   "id": "bcad465d-d7bb-4da1-9f4c-a8037c49dc4d",
   "metadata": {},
   "outputs": [],
   "source": [
    "import heapq"
   ]
  },
  {
   "cell_type": "code",
   "execution_count": 34,
   "id": "2f112a7c-3641-4344-9781-ae8637580de9",
   "metadata": {},
   "outputs": [],
   "source": [
    "nums = [1,2,3,4,5]\n",
    "heap = []"
   ]
  },
  {
   "cell_type": "code",
   "execution_count": 35,
   "id": "274f989a-1a6e-46bc-ae93-39125c8b7c64",
   "metadata": {},
   "outputs": [],
   "source": [
    "for num in nums:\n",
    "    heapq.heappush(heap, (-num, num))"
   ]
  },
  {
   "cell_type": "code",
   "execution_count": 36,
   "id": "e73299a8-7dc3-4af3-97fb-5f440608ba7e",
   "metadata": {},
   "outputs": [
    {
     "data": {
      "text/plain": [
       "[(-5, 5), (-4, 4), (-2, 2), (-1, 1), (-3, 3)]"
      ]
     },
     "execution_count": 36,
     "metadata": {},
     "output_type": "execute_result"
    }
   ],
   "source": [
    "heap"
   ]
  },
  {
   "cell_type": "code",
   "execution_count": 44,
   "id": "be6865f7-5970-49bd-bb9c-7feb59282578",
   "metadata": {},
   "outputs": [
    {
     "data": {
      "text/plain": [
       "1"
      ]
     },
     "execution_count": 44,
     "metadata": {},
     "output_type": "execute_result"
    }
   ],
   "source": [
    "heapq.heappop(heap)[1]"
   ]
  },
  {
   "cell_type": "code",
   "execution_count": 45,
   "id": "18042ada-73fd-43fb-989d-aa6d95b65211",
   "metadata": {},
   "outputs": [
    {
     "data": {
      "text/plain": [
       "[]"
      ]
     },
     "execution_count": 45,
     "metadata": {},
     "output_type": "execute_result"
    }
   ],
   "source": [
    "heap"
   ]
  },
  {
   "cell_type": "code",
   "execution_count": null,
   "id": "ecd2a72c-b87b-44ed-924d-f203e1c9dfd8",
   "metadata": {},
   "outputs": [],
   "source": []
  }
 ],
 "metadata": {
  "kernelspec": {
   "display_name": "Python 3",
   "language": "python",
   "name": "python3"
  },
  "language_info": {
   "codemirror_mode": {
    "name": "ipython",
    "version": 3
   },
   "file_extension": ".py",
   "mimetype": "text/x-python",
   "name": "python",
   "nbconvert_exporter": "python",
   "pygments_lexer": "ipython3",
   "version": "3.7.0"
  }
 },
 "nbformat": 4,
 "nbformat_minor": 5
}
