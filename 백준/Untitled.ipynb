{
 "cells": [
  {
   "cell_type": "code",
   "execution_count": 72,
   "id": "1b11339b-f654-4fee-9e09-f02ba6192e0a",
   "metadata": {},
   "outputs": [
    {
     "name": "stdin",
     "output_type": "stream",
     "text": [
      " 3\n",
      " 1\n"
     ]
    },
    {
     "name": "stdout",
     "output_type": "stream",
     "text": [
      "0 1\n"
     ]
    },
    {
     "name": "stdin",
     "output_type": "stream",
     "text": [
      " 2\n"
     ]
    },
    {
     "name": "stdout",
     "output_type": "stream",
     "text": [
      "1 1\n"
     ]
    },
    {
     "name": "stdin",
     "output_type": "stream",
     "text": [
      " 3\n"
     ]
    },
    {
     "name": "stdout",
     "output_type": "stream",
     "text": [
      "1 2\n"
     ]
    }
   ],
   "source": [
    "zero = [1,0,1]\n",
    "one  = [0,1,1]\n",
    "\n",
    "def fibo(n):\n",
    "    length = len(zero)\n",
    "    if n >= length:\n",
    "        for i in range(length, n+1):\n",
    "            zero.append(zero[i-1] + zero[i-2])\n",
    "            one.append(one[i-1] + one[i-2])\n",
    "\n",
    "T = int(input())\n",
    "\n",
    "for i in range(T):\n",
    "    num = int(input())\n",
    "    fibo(num)\n",
    "    print('{} {}'.format(zero[num], one[num]))"
   ]
  },
  {
   "cell_type": "code",
   "execution_count": null,
   "id": "aea11521-06b8-484e-a996-fee57fab4071",
   "metadata": {},
   "outputs": [],
   "source": []
  }
 ],
 "metadata": {
  "kernelspec": {
   "display_name": "Python 3",
   "language": "python",
   "name": "python3"
  },
  "language_info": {
   "codemirror_mode": {
    "name": "ipython",
    "version": 3
   },
   "file_extension": ".py",
   "mimetype": "text/x-python",
   "name": "python",
   "nbconvert_exporter": "python",
   "pygments_lexer": "ipython3",
   "version": "3.7.0"
  }
 },
 "nbformat": 4,
 "nbformat_minor": 5
}
