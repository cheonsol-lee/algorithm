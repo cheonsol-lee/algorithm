{
 "cells": [
  {
   "cell_type": "code",
   "execution_count": 12,
   "id": "1f067e13-e615-4806-9b75-6c46724a7588",
   "metadata": {},
   "outputs": [
    {
     "name": "stdin",
     "output_type": "stream",
     "text": [
      " 3\n",
      " 000\n",
      " 010\n"
     ]
    }
   ],
   "source": [
    "N = int(input())\n",
    "arr1 = list(map(int, input()))\n",
    "arr2 = list(map(int, input()))"
   ]
  },
  {
   "cell_type": "code",
   "execution_count": 13,
   "id": "c7a82e4b-e34d-47a9-802e-5b881438a233",
   "metadata": {},
   "outputs": [
    {
     "data": {
      "text/plain": [
       "[0, 0, 0]"
      ]
     },
     "execution_count": 13,
     "metadata": {},
     "output_type": "execute_result"
    }
   ],
   "source": [
    "arr1"
   ]
  },
  {
   "cell_type": "code",
   "execution_count": 14,
   "id": "87732ad7-1727-4811-8036-2f623a58a854",
   "metadata": {},
   "outputs": [
    {
     "data": {
      "text/plain": [
       "[0, 1, 0]"
      ]
     },
     "execution_count": 14,
     "metadata": {},
     "output_type": "execute_result"
    }
   ],
   "source": [
    "arr2"
   ]
  },
  {
   "cell_type": "code",
   "execution_count": 15,
   "id": "84bf8eba-ef40-4e6c-b22e-dad9fcf76d2e",
   "metadata": {},
   "outputs": [],
   "source": [
    "def push_button(arr1 ,arr2 , N):\n",
    "    count = 0  # 스위치 누른 횟수\n",
    "\n",
    "    for i in range(1, N):\n",
    "        if arr1[i - 1] == arr2[i - 1]:\n",
    "            continue\n",
    "        else:\n",
    "            arr1[i - 1] = (arr1[i - 1] + 1) % 2\n",
    "            arr1[i] = (arr1[i] + 1) % 2\n",
    "\n",
    "            # 맨 끝항 아닐때\n",
    "            if i != N - 1:\n",
    "                arr1[i + 1] = (arr1[i + 1] + 1) % 2\n",
    "\n",
    "            count += 1\n",
    "\n",
    "    # 답을 찾을경우\n",
    "    if arr1 == arr2:\n",
    "        return count\n",
    "    else:\n",
    "        return -1"
   ]
  },
  {
   "cell_type": "code",
   "execution_count": 16,
   "id": "383dc3bb-60d4-4ea5-bbbd-2aa7774760e9",
   "metadata": {},
   "outputs": [],
   "source": [
    "# 0번 스위치 누르기X\n",
    "if push_button(arr1, arr2, N) != -1:\n",
    "    print(push_button(arr1, arr2, N))"
   ]
  },
  {
   "cell_type": "code",
   "execution_count": 17,
   "id": "0065da1b-0da2-4163-af4b-162c7362d61c",
   "metadata": {},
   "outputs": [
    {
     "data": {
      "text/plain": [
       "[0, 1, 1]"
      ]
     },
     "execution_count": 17,
     "metadata": {},
     "output_type": "execute_result"
    }
   ],
   "source": [
    "arr1"
   ]
  },
  {
   "cell_type": "code",
   "execution_count": null,
   "id": "022ca798-8bf3-4e4b-8308-4d6c50d76bad",
   "metadata": {},
   "outputs": [],
   "source": [
    "# 0번 스위치 누르기O\n",
    "else:\n",
    "    arr1[0] = (arr1[0] + 1) % 2\n",
    "    arr1[1] = (arr1[1] + 1) % 2\n",
    "    print(push_button(arr1, arr2, N))"
   ]
  }
 ],
 "metadata": {
  "kernelspec": {
   "display_name": "Python 3",
   "language": "python",
   "name": "python3"
  },
  "language_info": {
   "codemirror_mode": {
    "name": "ipython",
    "version": 3
   },
   "file_extension": ".py",
   "mimetype": "text/x-python",
   "name": "python",
   "nbconvert_exporter": "python",
   "pygments_lexer": "ipython3",
   "version": "3.7.0"
  }
 },
 "nbformat": 4,
 "nbformat_minor": 5
}
