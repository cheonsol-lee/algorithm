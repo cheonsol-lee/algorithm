{
 "cells": [
  {
   "cell_type": "code",
   "execution_count": 12,
   "id": "bf87e4c6-4746-4d62-b7aa-46742d1c2cae",
   "metadata": {},
   "outputs": [
    {
     "name": "stdin",
     "output_type": "stream",
     "text": [
      " 4 7\n"
     ]
    }
   ],
   "source": [
    "N, K = map(int, input().split())"
   ]
  },
  {
   "cell_type": "code",
   "execution_count": 15,
   "id": "49026152-e342-41ea-ae63-a73c6e0687cb",
   "metadata": {},
   "outputs": [
    {
     "name": "stdin",
     "output_type": "stream",
     "text": [
      " 6 13\n",
      " 4 8\n",
      " 3 6\n",
      " 5 12\n"
     ]
    }
   ],
   "source": [
    "arr_dict = dict()\n",
    "arr_w = []\n",
    "arr_v = []\n",
    "for i in range(N):\n",
    "    W, V = map(int, input().split())\n",
    "    arr_dict[W] = V\n",
    "    arr_w.append(W)"
   ]
  },
  {
   "cell_type": "code",
   "execution_count": 16,
   "id": "52366ab9-e1b3-42cc-b7d3-158533aa15d2",
   "metadata": {},
   "outputs": [
    {
     "data": {
      "text/plain": [
       "{6: 13, 4: 8, 3: 6, 5: 12}"
      ]
     },
     "execution_count": 16,
     "metadata": {},
     "output_type": "execute_result"
    }
   ],
   "source": [
    "arr_dict"
   ]
  },
  {
   "cell_type": "code",
   "execution_count": 17,
   "id": "629e4932-72f2-4bad-ae16-c394f694f65f",
   "metadata": {},
   "outputs": [
    {
     "data": {
      "text/plain": [
       "[6, 4, 3, 5]"
      ]
     },
     "execution_count": 17,
     "metadata": {},
     "output_type": "execute_result"
    }
   ],
   "source": [
    "arr_w"
   ]
  },
  {
   "cell_type": "code",
   "execution_count": 18,
   "id": "98ab4f74-65a1-47a9-8aa6-0d35f0bda688",
   "metadata": {},
   "outputs": [],
   "source": [
    "arr_w.sort()"
   ]
  },
  {
   "cell_type": "code",
   "execution_count": 19,
   "id": "6f651572-13bd-4c23-8c90-9e046c1f6dd7",
   "metadata": {},
   "outputs": [
    {
     "data": {
      "text/plain": [
       "[3, 4, 5, 6]"
      ]
     },
     "execution_count": 19,
     "metadata": {},
     "output_type": "execute_result"
    }
   ],
   "source": [
    "arr_w"
   ]
  },
  {
   "cell_type": "code",
   "execution_count": 20,
   "id": "b9e2d80e-6059-4815-ad62-c5103f121661",
   "metadata": {},
   "outputs": [],
   "source": [
    "arr_v = [arr_dict[i] for i in arr_w]"
   ]
  },
  {
   "cell_type": "code",
   "execution_count": 22,
   "id": "6cb9759b-4549-4bb7-976d-8d5fbc981cf4",
   "metadata": {},
   "outputs": [
    {
     "data": {
      "text/plain": [
       "[6, 8, 12, 13]"
      ]
     },
     "execution_count": 22,
     "metadata": {},
     "output_type": "execute_result"
    }
   ],
   "source": [
    "arr_v"
   ]
  },
  {
   "cell_type": "code",
   "execution_count": null,
   "id": "5bf8e9da-9c62-42a9-b9c7-0f94f09a778c",
   "metadata": {},
   "outputs": [],
   "source": []
  }
 ],
 "metadata": {
  "kernelspec": {
   "display_name": "Python 3",
   "language": "python",
   "name": "python3"
  },
  "language_info": {
   "codemirror_mode": {
    "name": "ipython",
    "version": 3
   },
   "file_extension": ".py",
   "mimetype": "text/x-python",
   "name": "python",
   "nbconvert_exporter": "python",
   "pygments_lexer": "ipython3",
   "version": "3.7.0"
  }
 },
 "nbformat": 4,
 "nbformat_minor": 5
}
