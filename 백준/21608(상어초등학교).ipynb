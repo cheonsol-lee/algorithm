{
 "cells": [
  {
   "cell_type": "markdown",
   "id": "09e7be38-5a7c-4400-a40b-49d2cda449c4",
   "metadata": {},
   "source": [
    "'''\n",
    "3\n",
    "4 2 5 1 7\n",
    "3 1 9 4 5\n",
    "9 8 1 2 3\n",
    "8 1 9 3 4\n",
    "7 2 3 4 8\n",
    "1 9 2 5 7\n",
    "6 5 2 3 4\n",
    "5 1 9 2 8\n",
    "2 9 3 1 4\n",
    "답: 54\n",
    "\n",
    "3\n",
    "4 2 5 1 7\n",
    "2 1 9 4 5\n",
    "5 8 1 4 3\n",
    "1 2 9 3 4\n",
    "7 2 3 4 8\n",
    "9 8 4 5 7\n",
    "6 5 2 3 4\n",
    "8 4 9 2 1\n",
    "3 9 2 1 4\n",
    "답: 1053\n",
    "\n",
    "3\n",
    "7 9 3 8 2\n",
    "5 7 3 8 6\n",
    "3 5 2 4 9\n",
    "9 6 8 3 4\n",
    "8 5 3 1 6\n",
    "6 3 8 5 4\n",
    "2 6 4 8 7\n",
    "1 8 3 4 5\n",
    "4 7 9 3 8\n",
    "답: 151\n",
    "'''"
   ]
  },
  {
   "cell_type": "code",
   "execution_count": 1602,
   "id": "26faaf1a-4da9-4834-b84c-20fcf632df52",
   "metadata": {},
   "outputs": [
    {
     "name": "stdin",
     "output_type": "stream",
     "text": [
      " 3\n"
     ]
    }
   ],
   "source": [
    "N = int(input())"
   ]
  },
  {
   "cell_type": "code",
   "execution_count": 1553,
   "id": "cd6c6be8-263a-4906-ac40-70038e3ccef9",
   "metadata": {},
   "outputs": [],
   "source": [
    "like_list = [0 for i in range(N*N + 1)] # 인덱스(학생 번호)별로 좋아하는 사람 목록, 0번은 없으므로 비움"
   ]
  },
  {
   "cell_type": "code",
   "execution_count": 1554,
   "id": "c67711e8-09b7-4a38-b333-d7b13bd70480",
   "metadata": {},
   "outputs": [
    {
     "name": "stdin",
     "output_type": "stream",
     "text": [
      " 4 2 5 1 7\n",
      " 2 1 9 4 5\n",
      " 5 8 1 4 3\n",
      " 1 2 9 3 4\n",
      " 7 2 3 4 8\n",
      " 9 8 4 5 7\n",
      " 6 5 2 3 4\n",
      " 8 4 9 2 1\n",
      " 3 9 2 1 4\n"
     ]
    }
   ],
   "source": [
    "order_list = [] # 학생 자리 지정 순서\n",
    "for i in range(N*N):\n",
    "    input_list = list(map(int, input().split()))\n",
    "    order_list.append(input_list[0])\n",
    "    like_list[input_list[0]] = input_list[1:]"
   ]
  },
  {
   "cell_type": "code",
   "execution_count": 1555,
   "id": "edb292f6-6750-4b47-9085-6fab2e805b87",
   "metadata": {},
   "outputs": [
    {
     "data": {
      "text/plain": [
       "[4, 2, 5, 1, 7, 9, 6, 8, 3]"
      ]
     },
     "execution_count": 1555,
     "metadata": {},
     "output_type": "execute_result"
    }
   ],
   "source": [
    "order_list"
   ]
  },
  {
   "cell_type": "code",
   "execution_count": 1556,
   "id": "85aee7bd-6295-412f-86f5-ef50ee8d60d1",
   "metadata": {},
   "outputs": [
    {
     "data": {
      "text/plain": [
       "[0,\n",
       " [2, 9, 3, 4],\n",
       " [1, 9, 4, 5],\n",
       " [9, 2, 1, 4],\n",
       " [2, 5, 1, 7],\n",
       " [8, 1, 4, 3],\n",
       " [5, 2, 3, 4],\n",
       " [2, 3, 4, 8],\n",
       " [4, 9, 2, 1],\n",
       " [8, 4, 5, 7]]"
      ]
     },
     "execution_count": 1556,
     "metadata": {},
     "output_type": "execute_result"
    }
   ],
   "source": [
    "like_list"
   ]
  },
  {
   "cell_type": "code",
   "execution_count": 1571,
   "id": "03ac89cf-c037-44e6-a9f0-8593cce5e990",
   "metadata": {},
   "outputs": [],
   "source": [
    "# 전역변수: 데이터 저장\n",
    "data_map = [[0 for i in range(N+1)] for j in range(N+1)] # 학생 지정 자리 저장\n",
    "\n",
    "# 전역변수: 데이터 조회 유무\n",
    "check_map = [[0 for i in range(N+1)] for j in range(N+1)]\n",
    "for i in range(N+1):\n",
    "    for j in range(N+1):\n",
    "        if i==0 or j==0:\n",
    "            check_map[i][j] = 0 # 조회 함 (0행 또는 0열의 위치는 0으로 표기)\n",
    "        else:\n",
    "            check_map[i][j] = 1 # 조회 안함         \n",
    "            "
   ]
  },
  {
   "cell_type": "code",
   "execution_count": 1572,
   "id": "3886fbe4-f403-4c3a-a2f4-9cdf31187e4a",
   "metadata": {},
   "outputs": [
    {
     "data": {
      "text/plain": [
       "[[0, 0, 0, 0], [0, 1, 1, 1], [0, 1, 1, 1], [0, 1, 1, 1]]"
      ]
     },
     "execution_count": 1572,
     "metadata": {},
     "output_type": "execute_result"
    }
   ],
   "source": [
    "check_map"
   ]
  },
  {
   "cell_type": "code",
   "execution_count": 1573,
   "id": "7e0b07c6-5dba-4e4a-935b-6833d1661ab8",
   "metadata": {},
   "outputs": [],
   "source": [
    "# 전역변수: 인접 위치에 좋아하는 학생 수\n",
    "count_like_map = [[0 for i in range(N+1)] for j in range(N+1)]\n",
    "\n",
    "# 전역변수: 인접 위치에 빈 자리 수 \n",
    "count_vacant_map = [[0 for i in range(N+1)] for j in range(N+1)]"
   ]
  },
  {
   "cell_type": "code",
   "execution_count": 1574,
   "id": "bba3bd1a-8095-48ed-9120-20ab1f42008b",
   "metadata": {},
   "outputs": [
    {
     "data": {
      "text/plain": [
       "[[0, 0, 0, 0], [0, 1, 1, 1], [0, 1, 1, 1], [0, 1, 1, 1]]"
      ]
     },
     "execution_count": 1574,
     "metadata": {},
     "output_type": "execute_result"
    }
   ],
   "source": [
    "check_map"
   ]
  },
  {
   "cell_type": "code",
   "execution_count": 1575,
   "id": "3115462e-325c-4bcd-b785-7e8679c96808",
   "metadata": {},
   "outputs": [
    {
     "data": {
      "text/plain": [
       "[[0, 0, 0, 0], [0, 0, 0, 0], [0, 0, 0, 0], [0, 0, 0, 0]]"
      ]
     },
     "execution_count": 1575,
     "metadata": {},
     "output_type": "execute_result"
    }
   ],
   "source": [
    "data_map"
   ]
  },
  {
   "cell_type": "code",
   "execution_count": 1576,
   "id": "43c7aabc-9ba4-4711-b32c-527cdb20f077",
   "metadata": {},
   "outputs": [],
   "source": [
    "# 자리계산 또는 만족도 계산용\n",
    "def count_like_and_vacant_map(num, satisfaction=False):\n",
    "    global data_map, check_map, count_like_map, count_vacant_map\n",
    "    di = [-1, 1, 0, 0]\n",
    "    dj = [0, 0, -1, 1]\n",
    "\n",
    "    for i in range(1, N+1):\n",
    "        for j in range(1, N+1):\n",
    "            # 만족도 함수용으로 사용할 때\n",
    "            if satisfaction:\n",
    "                num = data_map[i][j]\n",
    "            \n",
    "            count_like = 0 # 인접 칸의 좋아하는 학생 수\n",
    "            count_vacant = 0 # 인접 칸의빈칸 수\n",
    "\n",
    "            # 인접 칸 탐색\n",
    "            for k in range(4):\n",
    "                ni = i + di[k]\n",
    "                nj = j + dj[k]\n",
    "\n",
    "                # 데이터 범위 벗어나면 무시\n",
    "                if(ni>N or ni<1 or nj>N or nj<1):\n",
    "                    continue\n",
    "\n",
    "                adj_num = data_map[ni][nj] # 인접 칸의 좋아하는 학생 번호\n",
    "\n",
    "                # 자리를 배치할 학생 번호(num)의 선호 리스트에 있는지 조회\n",
    "                count_like   += adj_num in like_list[num] # 인접 칸의 좋아하는 학생 수 합\n",
    "                count_vacant += check_map[ni][nj] == 1 # 인접 칸의 빈자리 수 합\n",
    "\n",
    "            count_like_map[i][j]   = count_like # 좋아하는 학생 수 기록\n",
    "            count_vacant_map[i][j] = count_vacant # 빈칸 수 기록"
   ]
  },
  {
   "cell_type": "code",
   "execution_count": 1577,
   "id": "58769e9a-05a9-4312-8969-d0a1b520406d",
   "metadata": {},
   "outputs": [],
   "source": [
    "def sum_2_list(lst):\n",
    "    return sum([sum(lst[i]) for i in range(N+1)])"
   ]
  },
  {
   "cell_type": "code",
   "execution_count": 1578,
   "id": "56804669-17bb-4744-b3ce-66a535d30248",
   "metadata": {},
   "outputs": [],
   "source": [
    "def flatten_2_list(lst):\n",
    "    return [lst[i][j] for i in range(N+1) for j in range(N+1)]"
   ]
  },
  {
   "cell_type": "code",
   "execution_count": 1579,
   "id": "af9903e3-715c-4f45-b5ea-c4e38d46c01d",
   "metadata": {},
   "outputs": [],
   "source": [
    "def count_nonzero_element_list(lst):\n",
    "    count = 0\n",
    "    for element in lst:\n",
    "        if element != 0:\n",
    "            count += 1\n",
    "    return count"
   ]
  },
  {
   "cell_type": "code",
   "execution_count": 1580,
   "id": "a01809bc-c1d4-474b-a9f2-c0d48ef34624",
   "metadata": {},
   "outputs": [],
   "source": [
    "def first_time_nonzero_index(lst):\n",
    "    final_index = -1\n",
    "    for index, i in enumerate(lst):\n",
    "        if i != 0:\n",
    "            final_index = index\n",
    "            break\n",
    "    return final_index"
   ]
  },
  {
   "cell_type": "code",
   "execution_count": 1581,
   "id": "46f60847-9bd2-4135-ab5f-cf36a8786a05",
   "metadata": {},
   "outputs": [],
   "source": [
    "# 문제 조건처리 함수\n",
    "def problem_condition():\n",
    "    global data_map, check_map, count_like_map, count_vacant_map\n",
    "    \n",
    "    # 1차원 리스트로 변경\n",
    "    check_map_list = flatten_2_list(check_map)\n",
    "    count_like_map_list = flatten_2_list(count_like_map)\n",
    "    count_vacant_map_list = flatten_2_list(count_vacant_map)\n",
    "    \n",
    "    # condition1\n",
    "    if(sum(count_like_map_list) == 0):\n",
    "        tmp = [x + y for x, y in zip(check_map_list, count_like_map_list)] # 두 1차원 리스트 간의 합\n",
    "    else:\n",
    "        tmp = [x * y for x, y in zip(check_map_list, count_like_map_list)]\n",
    "    \n",
    "    # check_map과 count_like_map이 겹치는게 없을 때\n",
    "    if(sum(tmp) == 0):\n",
    "        tmp = check_map_list.copy()\n",
    "    \n",
    "    # 원소 개수 == 1\n",
    "    if(count_nonzero_element_list(tmp) == 1):\n",
    "        final_index = first_time_nonzero_index(tmp)\n",
    "#         print('condition 1')\n",
    "        return final_index\n",
    "    \n",
    "    # condition2\n",
    "    tmp2 = [x * y for x, y in zip(tmp, count_vacant_map_list)]\n",
    "    if(sum(tmp2) == 0):\n",
    "        # 원소가 모두 0일 때\n",
    "        # 좋아하는 학생이 인접한 칸과 빈자리가 인접한 칸이 겹치지 않는 경우\n",
    "        tmp2 = tmp.copy()\n",
    "\n",
    "    # 원소 개수 == 1\n",
    "    if(count_nonzero_element_list(tmp2) == 1):\n",
    "        final_index = first_time_nonzero_index(tmp2)\n",
    "#         print('condition 2')\n",
    "        return final_index\n",
    "    \n",
    "    # condition3\n",
    "    tmp2_max = max(tmp2)\n",
    "    final_index = tmp2.index(tmp2_max)\n",
    "#     print('condition 3')\n",
    "    return final_index"
   ]
  },
  {
   "cell_type": "code",
   "execution_count": 1582,
   "id": "cdefb040-65b5-4343-8bd1-bda3bc209ab8",
   "metadata": {},
   "outputs": [
    {
     "data": {
      "text/plain": [
       "[4, 2, 5, 1, 7, 9, 6, 8, 3]"
      ]
     },
     "execution_count": 1582,
     "metadata": {},
     "output_type": "execute_result"
    }
   ],
   "source": [
    "order_list"
   ]
  },
  {
   "cell_type": "code",
   "execution_count": 1583,
   "id": "4006dcd6-e63d-4d35-a782-48a9e9d339e5",
   "metadata": {},
   "outputs": [
    {
     "name": "stdout",
     "output_type": "stream",
     "text": [
      "4 [[0, 0, 0, 0], [0, 0, 0, 0], [0, 0, 4, 0], [0, 0, 0, 0]]\n",
      "2 [[0, 0, 0, 0], [0, 0, 2, 0], [0, 0, 4, 0], [0, 0, 0, 0]]\n",
      "5 [[0, 0, 0, 0], [0, 0, 2, 0], [0, 5, 4, 0], [0, 0, 0, 0]]\n",
      "1 [[0, 0, 0, 0], [0, 0, 2, 0], [0, 5, 4, 1], [0, 0, 0, 0]]\n",
      "7 [[0, 0, 0, 0], [0, 0, 2, 0], [0, 5, 4, 1], [0, 0, 7, 0]]\n",
      "9 [[0, 0, 0, 0], [0, 0, 2, 0], [0, 5, 4, 1], [0, 9, 7, 0]]\n",
      "6 [[0, 0, 0, 0], [0, 6, 2, 0], [0, 5, 4, 1], [0, 9, 7, 0]]\n",
      "8 [[0, 0, 0, 0], [0, 6, 2, 8], [0, 5, 4, 1], [0, 9, 7, 0]]\n",
      "3 [[0, 0, 0, 0], [0, 6, 2, 8], [0, 5, 4, 1], [0, 9, 7, 3]]\n"
     ]
    }
   ],
   "source": [
    "# solve1 : 자리 배치\n",
    "for stu_id in order_list:\n",
    "#     print(stu_id)\n",
    "    count_like_and_vacant_map(stu_id)\n",
    "    final_index = problem_condition()\n",
    "    \n",
    "    # 최종의 행, 열\n",
    "    fi = final_index // (N + 1)# 행\n",
    "    fj = final_index % (N + 1) # 열\n",
    "    \n",
    "    data_map[fi][fj] = stu_id # 자리 배치 기록\n",
    "    check_map[fi][fj] = 0 # 조회 기록\n",
    "    \n",
    "    print(stu_id, data_map)"
   ]
  },
  {
   "cell_type": "code",
   "execution_count": 1585,
   "id": "1b568f11-5ad3-44e9-bde4-c58fc9444da8",
   "metadata": {},
   "outputs": [
    {
     "data": {
      "text/plain": [
       "[[0, 0, 0, 0], [0, 6, 2, 8], [0, 5, 4, 1], [0, 9, 7, 3]]"
      ]
     },
     "execution_count": 1585,
     "metadata": {},
     "output_type": "execute_result"
    }
   ],
   "source": [
    "data_map"
   ]
  },
  {
   "cell_type": "code",
   "execution_count": 1586,
   "id": "a6d62b1f-adea-421d-a091-0a803046474b",
   "metadata": {},
   "outputs": [
    {
     "data": {
      "text/plain": [
       "[[0, 0, 0, 0], [0, 0, 0, 0], [0, 0, 0, 0], [0, 0, 0, 0]]"
      ]
     },
     "execution_count": 1586,
     "metadata": {},
     "output_type": "execute_result"
    }
   ],
   "source": [
    "check_map"
   ]
  },
  {
   "cell_type": "code",
   "execution_count": 1587,
   "id": "91d4a94f-2343-4265-9c46-367c55aa6477",
   "metadata": {},
   "outputs": [
    {
     "data": {
      "text/plain": [
       "[[0, 0, 0, 0], [0, 1, 1, 2], [0, 2, 2, 1], [0, 0, 2, 1]]"
      ]
     },
     "execution_count": 1587,
     "metadata": {},
     "output_type": "execute_result"
    }
   ],
   "source": [
    "count_like_map"
   ]
  },
  {
   "cell_type": "code",
   "execution_count": 1588,
   "id": "e5e7a3dd-4244-4836-972b-a38bb7fa56ff",
   "metadata": {},
   "outputs": [],
   "source": [
    "# solve2 : 만족도 계산\n",
    "count_like_and_vacant_map(num=-1, satisfaction=True)\n",
    "satis_list = flatten_2_list(count_like_map)"
   ]
  },
  {
   "cell_type": "code",
   "execution_count": 1589,
   "id": "f6b49ded-1f46-470c-bb4a-68991c94078d",
   "metadata": {},
   "outputs": [
    {
     "data": {
      "text/plain": [
       "[0, 0, 0, 0, 0, 2, 1, 2, 0, 1, 4, 2, 0, 2, 2, 1]"
      ]
     },
     "execution_count": 1589,
     "metadata": {},
     "output_type": "execute_result"
    }
   ],
   "source": [
    "satis_list"
   ]
  },
  {
   "cell_type": "code",
   "execution_count": 1596,
   "id": "81d1754a-a463-481a-b617-60161854cad4",
   "metadata": {},
   "outputs": [],
   "source": [
    "numbers = [1,2,3,4]\n",
    "cnt_1 = 0\n",
    "cnt_2 = 0\n",
    "cnt_3 = 0\n",
    "cnt_4 = 0\n",
    "\n",
    "for i in satis_list:\n",
    "    if i == 1:\n",
    "        cnt_1 += 1\n",
    "    elif i == 2:\n",
    "        cnt_2 += 1\n",
    "    elif i == 3:\n",
    "        cnt_3 += 1\n",
    "    elif i == 4:\n",
    "        cnt_4 += 1"
   ]
  },
  {
   "cell_type": "code",
   "execution_count": 1597,
   "id": "732c8ff4-f04f-445d-a715-322afaa47dd8",
   "metadata": {},
   "outputs": [],
   "source": [
    "counts = [cnt_1, cnt_2, cnt_3, cnt_4]\n",
    "satis_dict = dict(zip(numbers, counts)) # 학생별 만족도 수치 dictionary"
   ]
  },
  {
   "cell_type": "code",
   "execution_count": 1598,
   "id": "fd811470-4962-4a9c-a8c0-9cdc316a7b80",
   "metadata": {},
   "outputs": [],
   "source": [
    "# 만족도 조건사항\n",
    "points = [1,10,100,1000]\n",
    "score_dict = dict(zip(numbers, points)) # 만족도 조건 dictionary"
   ]
  },
  {
   "cell_type": "code",
   "execution_count": 1599,
   "id": "cd2b3678-a1ec-4653-9428-08b37038e470",
   "metadata": {},
   "outputs": [
    {
     "data": {
      "text/plain": [
       "{1: 3, 2: 5, 3: 0, 4: 1}"
      ]
     },
     "execution_count": 1599,
     "metadata": {},
     "output_type": "execute_result"
    }
   ],
   "source": [
    "satis_dict"
   ]
  },
  {
   "cell_type": "code",
   "execution_count": 1600,
   "id": "e9c07271-9da4-40ef-8c91-ae36e5965658",
   "metadata": {},
   "outputs": [],
   "source": [
    "final_point = 0\n",
    "for i in satis_dict:\n",
    "    final_point += satis_dict[i] * score_dict[i]"
   ]
  },
  {
   "cell_type": "code",
   "execution_count": 1601,
   "id": "feb742f4-b7fd-46ed-a67a-41dd43cd3357",
   "metadata": {},
   "outputs": [
    {
     "data": {
      "text/plain": [
       "1053"
      ]
     },
     "execution_count": 1601,
     "metadata": {},
     "output_type": "execute_result"
    }
   ],
   "source": [
    "final_point"
   ]
  },
  {
   "cell_type": "code",
   "execution_count": null,
   "id": "07003adf-0cdb-46ae-b43f-a92ebefb8175",
   "metadata": {},
   "outputs": [],
   "source": []
  },
  {
   "cell_type": "code",
   "execution_count": null,
   "id": "6c19de63-0dec-438e-a5cb-e68c1ad663f2",
   "metadata": {},
   "outputs": [],
   "source": []
  }
 ],
 "metadata": {
  "kernelspec": {
   "display_name": "Python 3 (ipykernel)",
   "language": "python",
   "name": "python3"
  },
  "language_info": {
   "codemirror_mode": {
    "name": "ipython",
    "version": 3
   },
   "file_extension": ".py",
   "mimetype": "text/x-python",
   "name": "python",
   "nbconvert_exporter": "python",
   "pygments_lexer": "ipython3",
   "version": "3.8.11"
  }
 },
 "nbformat": 4,
 "nbformat_minor": 5
}
