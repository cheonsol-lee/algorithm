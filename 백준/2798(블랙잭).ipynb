{
 "cells": [
  {
   "cell_type": "code",
   "execution_count": 22,
   "id": "40b0449f-4726-4e82-93ca-f865f3d60d35",
   "metadata": {},
   "outputs": [],
   "source": [
    "N, M = map(int, input().split())\n",
    "arr = list(map(int, input().split()))\n",
    "arr.sort()\n",
    "\n",
    "def solve(N, M):\n",
    "    global arr\n",
    "    total_sum = 0\n",
    "    max_sum = 0\n",
    "\n",
    "    for i in range(N-2):\n",
    "        for j in range(i+1, N-1):\n",
    "            for k in range(j+1, N):\n",
    "                total_sum = arr[i] + arr[j] + arr[k]\n",
    "                if total_sum == M:\n",
    "                    return total_sum\n",
    "\n",
    "                if total_sum > M:\n",
    "                    continue\n",
    "                else:\n",
    "                    max_sum = max(max_sum, total_sum)\n",
    "    return max_sum\n",
    "\n",
    "print(solve(N, M))"
   ]
  },
  {
   "cell_type": "code",
   "execution_count": null,
   "id": "3c985b95-cf0b-4807-8af2-d1434e141300",
   "metadata": {},
   "outputs": [],
   "source": []
  }
 ],
 "metadata": {
  "kernelspec": {
   "display_name": "Python 3",
   "language": "python",
   "name": "python3"
  },
  "language_info": {
   "codemirror_mode": {
    "name": "ipython",
    "version": 3
   },
   "file_extension": ".py",
   "mimetype": "text/x-python",
   "name": "python",
   "nbconvert_exporter": "python",
   "pygments_lexer": "ipython3",
   "version": "3.7.0"
  }
 },
 "nbformat": 4,
 "nbformat_minor": 5
}
