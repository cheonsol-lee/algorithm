{
 "cells": [
  {
   "cell_type": "code",
   "execution_count": 72,
   "id": "9e9a20b7-5840-4118-b549-599fa49d049a",
   "metadata": {},
   "outputs": [
    {
     "name": "stdin",
     "output_type": "stream",
     "text": [
      " 9991\n"
     ]
    }
   ],
   "source": [
    "N = int(input())"
   ]
  },
  {
   "cell_type": "code",
   "execution_count": 73,
   "id": "56326b97-c6a5-450f-8bcd-6c187fe993af",
   "metadata": {},
   "outputs": [],
   "source": [
    "def factorization(num):\n",
    "    d = 2\n",
    "    \n",
    "    while d <= num:\n",
    "        if num % d == 0:\n",
    "            num /= d\n",
    "            print(d)\n",
    "        else:\n",
    "            d += 1"
   ]
  },
  {
   "cell_type": "code",
   "execution_count": 74,
   "id": "fce6248f-ae2d-4dad-b769-fd1afa4e1fb8",
   "metadata": {},
   "outputs": [
    {
     "name": "stdout",
     "output_type": "stream",
     "text": [
      "97\n",
      "103\n"
     ]
    }
   ],
   "source": [
    "factorization(N)"
   ]
  },
  {
   "cell_type": "code",
   "execution_count": null,
   "id": "62f01efd-4b2f-4464-bf7d-7f47bf5047a8",
   "metadata": {},
   "outputs": [],
   "source": []
  }
 ],
 "metadata": {
  "kernelspec": {
   "display_name": "Python 3",
   "language": "python",
   "name": "python3"
  },
  "language_info": {
   "codemirror_mode": {
    "name": "ipython",
    "version": 3
   },
   "file_extension": ".py",
   "mimetype": "text/x-python",
   "name": "python",
   "nbconvert_exporter": "python",
   "pygments_lexer": "ipython3",
   "version": "3.7.0"
  }
 },
 "nbformat": 4,
 "nbformat_minor": 5
}
