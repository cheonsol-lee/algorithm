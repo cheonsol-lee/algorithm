{
 "cells": [
  {
   "cell_type": "code",
   "execution_count": 91,
   "id": "3f229d1e-cf62-40ab-bbf4-0437bad611ea",
   "metadata": {},
   "outputs": [
    {
     "name": "stdin",
     "output_type": "stream",
     "text": [
      " 5 17\n"
     ]
    }
   ],
   "source": [
    "N, K = map(int, input().split())"
   ]
  },
  {
   "cell_type": "code",
   "execution_count": 125,
   "id": "775d74f4-e26a-4080-8c6d-359de999dd6c",
   "metadata": {},
   "outputs": [],
   "source": [
    "graph = [[] for i in range(100001)]"
   ]
  },
  {
   "cell_type": "code",
   "execution_count": 126,
   "id": "44e736f4-260b-43c7-bd4d-ce0b7869e269",
   "metadata": {},
   "outputs": [],
   "source": [
    "for i in range(100001):\n",
    "    if (i-1) >= 0:`\n",
    "        graph[i].append(i-1)\n",
    "    if ((i+1) <= 100000):\n",
    "        graph[i].append(i+1)\n",
    "    if ((i*2) <= 100000):\n",
    "        graph[i].append(i*2)"
   ]
  },
  {
   "cell_type": "code",
   "execution_count": 129,
   "id": "ef8e7396-c41d-4872-9555-821bcfb72c28",
   "metadata": {},
   "outputs": [
    {
     "data": {
      "text/plain": [
       "[99998, 100000]"
      ]
     },
     "execution_count": 129,
     "metadata": {},
     "output_type": "execute_result"
    }
   ],
   "source": [
    "graph[99999]"
   ]
  },
  {
   "cell_type": "code",
   "execution_count": 127,
   "id": "be0c7ecb-1419-4fd0-82bb-839ac6fc9a75",
   "metadata": {},
   "outputs": [],
   "source": [
    "visited = [False for i in range(100001)]\n",
    "distance = [0 for i in range(100001)]"
   ]
  },
  {
   "cell_type": "code",
   "execution_count": 101,
   "id": "b5820706-62fd-4745-8193-df8218c7e24b",
   "metadata": {},
   "outputs": [],
   "source": [
    "from collections import deque\n",
    "def bfs(graph, start, visited):\n",
    "    queue = deque([start])\n",
    "#     visited[start] = True\n",
    "    \n",
    "    while queue:\n",
    "        start = queue.popleft()\n",
    "        \n",
    "        for i in graph[start]:\n",
    "            if not visited[i]:\n",
    "                queue.append(i)\n",
    "                visited[i] = True\n",
    "                distance[i] = distance[start] + 1 # start노드로부터의 거리 저장\n",
    "                \n",
    "                # 목적지를 찾았다면\n",
    "                if i == K:\n",
    "                    return distance[i]"
   ]
  },
  {
   "cell_type": "code",
   "execution_count": 139,
   "id": "5073c778-c730-4385-a4ce-929c83fd5c6c",
   "metadata": {},
   "outputs": [],
   "source": [
    "N = 5\n",
    "K = 5\n",
    "visited = [False for i in range(100001)]\n",
    "distance = [0 for i in range(100001)]"
   ]
  },
  {
   "cell_type": "code",
   "execution_count": 140,
   "id": "e6fe025f-7d6c-42a3-a221-c30701399c08",
   "metadata": {
    "tags": []
   },
   "outputs": [
    {
     "name": "stdout",
     "output_type": "stream",
     "text": [
      "0\n"
     ]
    }
   ],
   "source": [
    "if N==K:\n",
    "    print(0)\n",
    "else:\n",
    "    count = bfs(graph, N, visited)\n",
    "    print(count)"
   ]
  },
  {
   "cell_type": "code",
   "execution_count": null,
   "id": "5a3102d9-db70-482f-aed9-926f326d1799",
   "metadata": {},
   "outputs": [],
   "source": []
  },
  {
   "cell_type": "code",
   "execution_count": null,
   "id": "2e5ef64e-d169-47bb-b855-67a9d6564521",
   "metadata": {},
   "outputs": [],
   "source": []
  }
 ],
 "metadata": {
  "kernelspec": {
   "display_name": "Python 3",
   "language": "python",
   "name": "python3"
  },
  "language_info": {
   "codemirror_mode": {
    "name": "ipython",
    "version": 3
   },
   "file_extension": ".py",
   "mimetype": "text/x-python",
   "name": "python",
   "nbconvert_exporter": "python",
   "pygments_lexer": "ipython3",
   "version": "3.7.0"
  }
 },
 "nbformat": 4,
 "nbformat_minor": 5
}
