{
 "cells": [
  {
   "cell_type": "code",
   "execution_count": 40,
   "id": "9116791e-bf55-416b-8cf2-d908e1ff53bd",
   "metadata": {},
   "outputs": [
    {
     "name": "stdin",
     "output_type": "stream",
     "text": [
      " 24 18\n"
     ]
    },
    {
     "name": "stdout",
     "output_type": "stream",
     "text": [
      "6\n",
      "72\n"
     ]
    }
   ],
   "source": [
    "# 유클리드 호제법\n",
    "# 최대공약수\n",
    "# X / Y = Z ... R\n",
    "# X, Y의 최대공약수는 Y, R의 최대공약수와 동일함\n",
    "\n",
    "# 최대공약수\n",
    "def GCD(x, y):\n",
    "    while True:\n",
    "        r = x % y\n",
    "        if r == 0:\n",
    "            return y\n",
    "        \n",
    "        x = y\n",
    "        y = r\n",
    "\n",
    "# 최소공배수\n",
    "def LCM(x, y):\n",
    "    return (x*y) // GCD(x,y)\n",
    "\n",
    "num1, num2 = map(int, input().split())\n",
    "\n",
    "print(GCD(num1, num2))\n",
    "\n",
    "print(LCM(num1, num2))"
   ]
  },
  {
   "cell_type": "code",
   "execution_count": null,
   "id": "62726c5a-00e2-421f-8299-f405e8a4b8e0",
   "metadata": {},
   "outputs": [],
   "source": []
  }
 ],
 "metadata": {
  "kernelspec": {
   "display_name": "Python 3",
   "language": "python",
   "name": "python3"
  },
  "language_info": {
   "codemirror_mode": {
    "name": "ipython",
    "version": 3
   },
   "file_extension": ".py",
   "mimetype": "text/x-python",
   "name": "python",
   "nbconvert_exporter": "python",
   "pygments_lexer": "ipython3",
   "version": "3.7.0"
  }
 },
 "nbformat": 4,
 "nbformat_minor": 5
}
