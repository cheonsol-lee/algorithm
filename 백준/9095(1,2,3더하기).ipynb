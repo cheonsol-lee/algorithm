{
 "cells": [
  {
   "cell_type": "code",
   "execution_count": 30,
   "id": "7a3cc9bc-145c-4dec-925f-610abd1cf435",
   "metadata": {},
   "outputs": [],
   "source": [
    "T = int(input())\n",
    "\n",
    "memo = [0] * 10000001\n",
    "\n",
    "\n",
    "# solve(n-1) : 끝자리 1\n",
    "# solve(n-2) : 끝자리 2\n",
    "# solve(n-3) : 끝자리 3\n",
    "def solve(n):\n",
    "    if memo[n] != 0:\n",
    "        return memo[n]\n",
    "    \n",
    "    if n <= 2:\n",
    "        memo[n] = n\n",
    "        return memo[n]\n",
    "    \n",
    "    if n == 3:\n",
    "        memo[n] = 4\n",
    "        return memo[n]\n",
    "    \n",
    "    memo[n] = solve(n-1) + solve(n-2) + solve(n-3)\n",
    "    return memo[n]\n",
    "\n",
    "for i in range(T):\n",
    "    n = int(input())\n",
    "    print(solve(n))    "
   ]
  },
  {
   "cell_type": "code",
   "execution_count": null,
   "id": "af19330c-b797-4f77-b076-cba6cba26914",
   "metadata": {},
   "outputs": [],
   "source": []
  }
 ],
 "metadata": {
  "kernelspec": {
   "display_name": "Python 3",
   "language": "python",
   "name": "python3"
  },
  "language_info": {
   "codemirror_mode": {
    "name": "ipython",
    "version": 3
   },
   "file_extension": ".py",
   "mimetype": "text/x-python",
   "name": "python",
   "nbconvert_exporter": "python",
   "pygments_lexer": "ipython3",
   "version": "3.7.0"
  }
 },
 "nbformat": 4,
 "nbformat_minor": 5
}
