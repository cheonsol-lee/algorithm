{
 "cells": [
  {
   "cell_type": "code",
   "execution_count": null,
   "id": "041dae9a-4c7c-46de-a588-bfe55de6c8d0",
   "metadata": {},
   "outputs": [],
   "source": [
    "4 4\n",
    "....\n",
    "....\n",
    "....\n",
    "....\n",
    "\n",
    "3 5\n",
    "XX...\n",
    ".XX..\n",
    "...XX\n",
    "\n",
    "5 8\n",
    "....XXXX\n",
    "........\n",
    "XX.X.XX.\n",
    "........\n",
    "........"
   ]
  },
  {
   "cell_type": "code",
   "execution_count": null,
   "id": "61e0b571-a693-4e66-9b40-c679ac79b850",
   "metadata": {},
   "outputs": [],
   "source": [
    "N, M = map(int, input().split())\n",
    "\n",
    "array = []\n",
    "for _ in range(N):\n",
    "    array.append(input())"
   ]
  },
  {
   "cell_type": "markdown",
   "id": "74a161a7-2187-4dfb-a297-1283810c7fe9",
   "metadata": {},
   "source": [
    "# sol1"
   ]
  },
  {
   "cell_type": "code",
   "execution_count": null,
   "id": "ecd73866-d5f2-44f4-8622-5789b32882c5",
   "metadata": {},
   "outputs": [],
   "source": [
    "# 행 조회\n",
    "row_cnt = 0\n",
    "for i in range(N):\n",
    "    if 'X' not in array[i]:\n",
    "        row_cnt += 1\n",
    "\n",
    "# 열 조회\n",
    "col_cnt = 0\n",
    "for j in range(M):\n",
    "    if 'X' not in [array[i][j] for i in range(N)]:\n",
    "        col_cnt += 1\n",
    "\n",
    "print(max(row_cnt, col_cnt))"
   ]
  },
  {
   "cell_type": "markdown",
   "id": "d2274d22-981c-46a1-a632-9f05666138ce",
   "metadata": {},
   "source": [
    "# sol2"
   ]
  },
  {
   "cell_type": "code",
   "execution_count": null,
   "id": "305e1d7a-e571-4b0a-97ad-c1d7b5c46def",
   "metadata": {},
   "outputs": [],
   "source": [
    "row = [0] * N\n",
    "col = [0] * M\n",
    "\n",
    "for i in range(N):\n",
    "    for j in range(M):\n",
    "        if array[i][j] == 'X':\n",
    "            row[i] = 1\n",
    "            col[j] = 1\n",
    "\n",
    "print(max(N - sum(row), M - sum(col)))"
   ]
  }
 ],
 "metadata": {
  "kernelspec": {
   "display_name": "llm",
   "language": "python",
   "name": "llm"
  },
  "language_info": {
   "codemirror_mode": {
    "name": "ipython",
    "version": 3
   },
   "file_extension": ".py",
   "mimetype": "text/x-python",
   "name": "python",
   "nbconvert_exporter": "python",
   "pygments_lexer": "ipython3",
   "version": "3.11.8"
  }
 },
 "nbformat": 4,
 "nbformat_minor": 5
}
