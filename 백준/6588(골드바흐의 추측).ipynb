{
 "cells": [
  {
   "cell_type": "code",
   "execution_count": 221,
   "id": "969d9680-f8aa-4ced-8a22-fdf7f9f190ce",
   "metadata": {},
   "outputs": [],
   "source": [
    "'''\n",
    "1. 에라토스테네스의 체 1번만 진행\n",
    "2. 소수 판정은 sqrt(n)까지만 나누기\n",
    "3. 합이 n인 두 소수: p, n-p\n",
    "4. b-a가 가장 큰 것: a를 작은수부터 구했을 때 제일 먼저 찾은값(a,b)\n",
    "'''\n",
    "\n",
    "import math\n",
    "def get_prime_num(n):\n",
    "    arr = [True] * (n+1)\n",
    "    arr[0] = False\n",
    "    arr[1] = False\n",
    "    \n",
    "    for i in range(2, int(math.sqrt(n)+1)):\n",
    "        if arr[i] == True:\n",
    "            j = 2\n",
    "\n",
    "            while (i*j) <= n:\n",
    "                arr[i*j] = False\n",
    "                j += 1\n",
    "            \n",
    "    return arr"
   ]
  },
  {
   "cell_type": "code",
   "execution_count": 222,
   "id": "5f8e42de-30dd-493f-810c-b167dbd978de",
   "metadata": {},
   "outputs": [],
   "source": [
    "arr = get_prime_num(1000000) # 에라토스테네스의 체는 1번만 실행"
   ]
  },
  {
   "cell_type": "code",
   "execution_count": 223,
   "id": "659264d2-ff51-4a87-9285-efeca8973be9",
   "metadata": {},
   "outputs": [
    {
     "data": {
      "text/plain": [
       "True"
      ]
     },
     "execution_count": 223,
     "metadata": {},
     "output_type": "execute_result"
    }
   ],
   "source": [
    "arr[3]"
   ]
  },
  {
   "cell_type": "code",
   "execution_count": 224,
   "id": "81c48759-31fb-48bc-bd77-b88e2282d451",
   "metadata": {
    "tags": []
   },
   "outputs": [
    {
     "name": "stdin",
     "output_type": "stream",
     "text": [
      " 6\n"
     ]
    },
    {
     "name": "stdout",
     "output_type": "stream",
     "text": [
      "6 = 3 + 3\n"
     ]
    },
    {
     "name": "stdin",
     "output_type": "stream",
     "text": [
      " 8\n"
     ]
    },
    {
     "name": "stdout",
     "output_type": "stream",
     "text": [
      "8 = 3 + 5\n"
     ]
    },
    {
     "name": "stdin",
     "output_type": "stream",
     "text": [
      " 0\n"
     ]
    }
   ],
   "source": [
    "while(True):\n",
    "    n = int(input())\n",
    "    \n",
    "    if n == 0:\n",
    "        break\n",
    "    \n",
    "    mid = n // 2\n",
    "    n1 = 0\n",
    "    n2 = 0\n",
    "    token = False\n",
    "    \n",
    "    for i in range(1, mid+1, 2):\n",
    "        if arr[i]==True and arr[n - i]==True: \n",
    "            n1 = i\n",
    "            n2 = n - i\n",
    "            token = True\n",
    "            break\n",
    "    if token == True:\n",
    "        print(f'{n} = {n1} + {n2}')\n",
    "    else:\n",
    "        print('Goldbach\\'s conjecture is wrong.')"
   ]
  },
  {
   "cell_type": "code",
   "execution_count": null,
   "id": "b7f00fdf-6177-4794-92f7-5a9740c9af5c",
   "metadata": {},
   "outputs": [],
   "source": []
  }
 ],
 "metadata": {
  "kernelspec": {
   "display_name": "Python 3",
   "language": "python",
   "name": "python3"
  },
  "language_info": {
   "codemirror_mode": {
    "name": "ipython",
    "version": 3
   },
   "file_extension": ".py",
   "mimetype": "text/x-python",
   "name": "python",
   "nbconvert_exporter": "python",
   "pygments_lexer": "ipython3",
   "version": "3.7.0"
  }
 },
 "nbformat": 4,
 "nbformat_minor": 5
}
