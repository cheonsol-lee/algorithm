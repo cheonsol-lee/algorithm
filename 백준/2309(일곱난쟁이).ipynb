{
 "cells": [
  {
   "cell_type": "code",
   "execution_count": null,
   "id": "91ceb48f-1d0f-4f8d-854e-0b884be5d022",
   "metadata": {},
   "outputs": [],
   "source": [
    "arr = []\n",
    "for i in range(9):\n",
    "    arr.append(int(input()))\n",
    "\n",
    "arr.sort()\n",
    "\n",
    "sum_h = sum(arr)\n",
    "\n",
    "def solve(arr):\n",
    "    for i in range(0,8):\n",
    "        for j in range(i,9):\n",
    "            if sum_h - (arr[i]+arr[j]) == 100:\n",
    "                arr[i] = 0\n",
    "                arr[j] = 0\n",
    "                return arr\n",
    "\n",
    "arr = solve(arr)\n",
    "for i in arr:\n",
    "    if i != 0:\n",
    "        print(i)"
   ]
  }
 ],
 "metadata": {
  "kernelspec": {
   "display_name": "Python 3",
   "language": "python",
   "name": "python3"
  },
  "language_info": {
   "codemirror_mode": {
    "name": "ipython",
    "version": 3
   },
   "file_extension": ".py",
   "mimetype": "text/x-python",
   "name": "python",
   "nbconvert_exporter": "python",
   "pygments_lexer": "ipython3",
   "version": "3.7.0"
  }
 },
 "nbformat": 4,
 "nbformat_minor": 5
}
