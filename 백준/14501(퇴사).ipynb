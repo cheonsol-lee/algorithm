{
 "cells": [
  {
   "cell_type": "code",
   "execution_count": 17,
   "id": "27b3d6ac-1a77-401e-8e5a-c7bfa1709b63",
   "metadata": {},
   "outputs": [
    {
     "name": "stdin",
     "output_type": "stream",
     "text": [
      " 10\n"
     ]
    }
   ],
   "source": [
    "N = int(input())"
   ]
  },
  {
   "cell_type": "code",
   "execution_count": 22,
   "id": "7e379123-7a65-4df7-9ee2-9976d1cef678",
   "metadata": {},
   "outputs": [
    {
     "name": "stdin",
     "output_type": "stream",
     "text": [
      " 5 50\n",
      " 4 40\n",
      " 3 30\n",
      " 2 20\n",
      " 1 10\n",
      " 1 10\n",
      " 2 20\n",
      " 3 30\n",
      " 4 40\n",
      " 5 50\n"
     ]
    }
   ],
   "source": [
    "t = [0] * (N+1)\n",
    "p = [0] * (N+1)\n",
    "for i in range(1, N+1):\n",
    "    n1, n2 = map(int, input().split())\n",
    "    t[i] = n1\n",
    "    p[i] = n2"
   ]
  },
  {
   "cell_type": "code",
   "execution_count": 23,
   "id": "ef10597b-0b2d-46db-9901-9ed9da2c4e77",
   "metadata": {},
   "outputs": [],
   "source": [
    "dp = [0] * (N+2)"
   ]
  },
  {
   "cell_type": "code",
   "execution_count": 24,
   "id": "ac66c945-cc4e-48d7-9e88-9ec036f12538",
   "metadata": {},
   "outputs": [],
   "source": [
    "for i in range(N, 0, -1):\n",
    "    # 상담일 더했을 떄, 기준일을 넘어가는 경우\n",
    "    if i + t[i] > N + 1:\n",
    "        dp[i] = dp[i+1]\n",
    "    else:\n",
    "        dp[i] = max(dp[i+1], p[i] + dp[i+t[i]])"
   ]
  },
  {
   "cell_type": "code",
   "execution_count": 25,
   "id": "eaf0a2aa-1dc0-4a2f-a56f-c2b29540688f",
   "metadata": {},
   "outputs": [
    {
     "name": "stdout",
     "output_type": "stream",
     "text": [
      "90\n"
     ]
    }
   ],
   "source": [
    "print(dp[1])"
   ]
  },
  {
   "cell_type": "code",
   "execution_count": null,
   "id": "de2cea36-e4fd-44a2-b29f-c1f38a7f210f",
   "metadata": {},
   "outputs": [],
   "source": []
  },
  {
   "cell_type": "code",
   "execution_count": null,
   "id": "31ac6102-e8cf-4bb4-8c87-73eada3e1274",
   "metadata": {},
   "outputs": [],
   "source": []
  },
  {
   "cell_type": "code",
   "execution_count": null,
   "id": "487d41d7-fae5-46c3-a6e1-03254f943158",
   "metadata": {},
   "outputs": [],
   "source": []
  },
  {
   "cell_type": "code",
   "execution_count": null,
   "id": "fec481ba-7239-438c-b385-99dbabcc90bf",
   "metadata": {},
   "outputs": [],
   "source": []
  },
  {
   "cell_type": "code",
   "execution_count": null,
   "id": "6542436b-5571-40d7-a132-a5a76674d7fe",
   "metadata": {},
   "outputs": [],
   "source": []
  }
 ],
 "metadata": {
  "kernelspec": {
   "display_name": "Python 3 (ipykernel)",
   "language": "python",
   "name": "python3"
  },
  "language_info": {
   "codemirror_mode": {
    "name": "ipython",
    "version": 3
   },
   "file_extension": ".py",
   "mimetype": "text/x-python",
   "name": "python",
   "nbconvert_exporter": "python",
   "pygments_lexer": "ipython3",
   "version": "3.11.7"
  }
 },
 "nbformat": 4,
 "nbformat_minor": 5
}
