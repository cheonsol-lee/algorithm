{
 "cells": [
  {
   "cell_type": "markdown",
   "id": "69672f13-ed17-4057-8ab6-e452404c1312",
   "metadata": {},
   "source": [
    "3\n",
    "CCP\n",
    "CCP\n",
    "PPC\n",
    "\n",
    "4\n",
    "PPPP\n",
    "CYZY\n",
    "CCPY\n",
    "PPCC\n",
    "\n",
    "5\n",
    "YCPZY\n",
    "CYZZP\n",
    "CCPPP\n",
    "YCYZC\n",
    "CPPZZ"
   ]
  },
  {
   "cell_type": "code",
   "execution_count": 105,
   "id": "0e5a1e5c-a3c7-43f6-b274-47176d26c84a",
   "metadata": {},
   "outputs": [
    {
     "name": "stdin",
     "output_type": "stream",
     "text": [
      " 3\n"
     ]
    }
   ],
   "source": [
    "N = int(input())"
   ]
  },
  {
   "cell_type": "code",
   "execution_count": 106,
   "id": "940a0f5b-c243-4657-b56c-809b46d61ce4",
   "metadata": {},
   "outputs": [
    {
     "name": "stdin",
     "output_type": "stream",
     "text": [
      " CCP\n",
      " CCP\n",
      " PPC\n"
     ]
    }
   ],
   "source": [
    "data = [list(input()) for i in range(N)]"
   ]
  },
  {
   "cell_type": "code",
   "execution_count": 107,
   "id": "b9e0f414-8a47-4ac6-a82b-dd1ceed23578",
   "metadata": {},
   "outputs": [
    {
     "data": {
      "text/plain": [
       "[['C', 'C', 'P'], ['C', 'C', 'P'], ['P', 'P', 'C']]"
      ]
     },
     "execution_count": 107,
     "metadata": {},
     "output_type": "execute_result"
    }
   ],
   "source": [
    "data"
   ]
  },
  {
   "cell_type": "code",
   "execution_count": 108,
   "id": "da184ffa-bf6f-4fc3-b0d7-f47f6d120069",
   "metadata": {},
   "outputs": [],
   "source": [
    "max_count = 0"
   ]
  },
  {
   "cell_type": "code",
   "execution_count": 109,
   "id": "279a8fda-c550-4e46-a7d3-990892b2f94a",
   "metadata": {},
   "outputs": [],
   "source": [
    "def width():\n",
    "    global max_count\n",
    "    \n",
    "    for i in range(N):\n",
    "        count = 1\n",
    "        for j in range(1, N):\n",
    "            if data[i][j] == data[i][j-1]:\n",
    "                count += 1\n",
    "            else:\n",
    "                if max_count < count:\n",
    "                    max_count = count\n",
    "                count = 1\n",
    "        if max_count < count: # 한줄이 모두 같은 경우\n",
    "            max_count = count\n",
    "            \n",
    "def height():\n",
    "    global max_count\n",
    "    \n",
    "    for i in range(N):\n",
    "        count = 1\n",
    "        for j in range(1, N):\n",
    "            if data[j][i] == data[j-1][i]:\n",
    "                count += 1\n",
    "            else:\n",
    "                if max_count < count:\n",
    "                    max_count = count\n",
    "                count = 1\n",
    "        if max_count < count: # 한줄이 모두 같은 경우\n",
    "            max_count = count"
   ]
  },
  {
   "cell_type": "code",
   "execution_count": 112,
   "id": "46241f6e-fbc6-4239-9917-8962cbac34a6",
   "metadata": {},
   "outputs": [],
   "source": [
    "for i in range(N):\n",
    "    for j in range(1, N):\n",
    "        # 열끼리 비교\n",
    "        data[i][j], data[i][j-1] = data[i][j-1] , data[i][j] # 교환\n",
    "        width()\n",
    "        height()\n",
    "        data[i][j], data[i][j-1] = data[i][j-1] , data[i][j] # 복귀\n",
    "        \n",
    "        # 행끼리 비교\n",
    "        data[j][i], data[j-1][i] = data[j-1][i] , data[j][i] # 교환\n",
    "        width()\n",
    "        height()\n",
    "        data[j][i], data[j-1][i] = data[j-1][i] , data[j][i] # 복귀"
   ]
  },
  {
   "cell_type": "code",
   "execution_count": 111,
   "id": "7798e0d5-20b4-40dc-9c55-7ed30d457b48",
   "metadata": {},
   "outputs": [
    {
     "data": {
      "text/plain": [
       "3"
      ]
     },
     "execution_count": 111,
     "metadata": {},
     "output_type": "execute_result"
    }
   ],
   "source": [
    "max_count"
   ]
  },
  {
   "cell_type": "code",
   "execution_count": null,
   "id": "e35fe4ae-d304-45c2-ad48-19c89f35d135",
   "metadata": {},
   "outputs": [],
   "source": []
  }
 ],
 "metadata": {
  "kernelspec": {
   "display_name": "Python 3 (ipykernel)",
   "language": "python",
   "name": "python3"
  },
  "language_info": {
   "codemirror_mode": {
    "name": "ipython",
    "version": 3
   },
   "file_extension": ".py",
   "mimetype": "text/x-python",
   "name": "python",
   "nbconvert_exporter": "python",
   "pygments_lexer": "ipython3",
   "version": "3.8.11"
  }
 },
 "nbformat": 4,
 "nbformat_minor": 5
}
