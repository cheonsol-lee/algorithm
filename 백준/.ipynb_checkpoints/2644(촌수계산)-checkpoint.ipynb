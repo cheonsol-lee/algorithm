{
 "cells": [
  {
   "cell_type": "code",
   "execution_count": 37,
   "id": "c2eb7de7-731c-4c14-8e46-9e00631e62b4",
   "metadata": {},
   "outputs": [
    {
     "name": "stdin",
     "output_type": "stream",
     "text": [
      " 9\n"
     ]
    }
   ],
   "source": [
    "n = int(input())"
   ]
  },
  {
   "cell_type": "code",
   "execution_count": 38,
   "id": "b0aa11cb-634a-4323-86dd-5dfd6604ffd8",
   "metadata": {},
   "outputs": [
    {
     "name": "stdin",
     "output_type": "stream",
     "text": [
      " 7 3\n"
     ]
    }
   ],
   "source": [
    "q1, q2 = map(int, input().split())"
   ]
  },
  {
   "cell_type": "code",
   "execution_count": 39,
   "id": "20febff4-2295-4a25-8503-5623954d2766",
   "metadata": {},
   "outputs": [
    {
     "name": "stdin",
     "output_type": "stream",
     "text": [
      " 7\n"
     ]
    }
   ],
   "source": [
    "m = int(input())"
   ]
  },
  {
   "cell_type": "code",
   "execution_count": 40,
   "id": "9fad2ea5-86eb-4b6a-b404-d4deabe9466f",
   "metadata": {},
   "outputs": [],
   "source": [
    "graph = [[] for i in range(n+1)]"
   ]
  },
  {
   "cell_type": "code",
   "execution_count": 41,
   "id": "1fe1e535-c04a-4483-8bd2-82d70ee7aa75",
   "metadata": {},
   "outputs": [
    {
     "name": "stdin",
     "output_type": "stream",
     "text": [
      " 1 2\n",
      " 1 3\n",
      " 2 7\n",
      " 2 8\n",
      " 2 9\n",
      " 4 5\n",
      " 4 6\n"
     ]
    }
   ],
   "source": [
    "for i in range(m):\n",
    "    n1, n2 = map(int, input().split())\n",
    "    graph[n1].append(n2)\n",
    "    graph[n2].append(n1)"
   ]
  },
  {
   "cell_type": "code",
   "execution_count": 42,
   "id": "384db14e-ed64-45e2-92d7-097b5316d612",
   "metadata": {},
   "outputs": [
    {
     "data": {
      "text/plain": [
       "[[], [2, 3], [1, 7, 8, 9], [1], [5, 6], [4], [4], [2], [2], [2]]"
      ]
     },
     "execution_count": 42,
     "metadata": {},
     "output_type": "execute_result"
    }
   ],
   "source": [
    "graph"
   ]
  },
  {
   "cell_type": "code",
   "execution_count": 74,
   "id": "7adf2717-5d6e-4c70-b706-1dbcb4ebccfc",
   "metadata": {},
   "outputs": [],
   "source": [
    "visited = [False for i in range(n+1)]"
   ]
  },
  {
   "cell_type": "code",
   "execution_count": 75,
   "id": "3ba4144f-8e94-4d61-be30-74161061a398",
   "metadata": {},
   "outputs": [],
   "source": [
    "distance = [0] * (n+1) # 촌수 계산"
   ]
  },
  {
   "cell_type": "code",
   "execution_count": 76,
   "id": "c9653540-b768-4296-9223-e6c19f413991",
   "metadata": {},
   "outputs": [],
   "source": [
    "from collections import deque\n",
    "def bfs(graph, start, visited):\n",
    "    global distance\n",
    "    queue = deque([start])\n",
    "    visited[start] = True\n",
    "    \n",
    "    while queue:\n",
    "        start = queue.popleft()\n",
    "        \n",
    "        for i in graph[start]:\n",
    "            if not visited[i]:\n",
    "                queue.append(i)\n",
    "                visited[i] = True\n",
    "                distance[i] = distance[start] + 1\n",
    "                \n",
    "                if q2 == i:\n",
    "                    return True\n",
    "                \n",
    "    return False"
   ]
  },
  {
   "cell_type": "code",
   "execution_count": 77,
   "id": "5755f651-3fb2-4f77-bc8c-9f1a13c40262",
   "metadata": {},
   "outputs": [],
   "source": [
    "q1=7\n",
    "q2=3"
   ]
  },
  {
   "cell_type": "code",
   "execution_count": 78,
   "id": "e06882da-3834-41c4-becb-02aa9898a528",
   "metadata": {},
   "outputs": [],
   "source": [
    "is_possible = bfs(graph, q1, visited)"
   ]
  },
  {
   "cell_type": "code",
   "execution_count": 80,
   "id": "768bd180-847c-48e7-864f-5f65e1e3218e",
   "metadata": {},
   "outputs": [
    {
     "name": "stdout",
     "output_type": "stream",
     "text": [
      "3\n"
     ]
    }
   ],
   "source": [
    "if is_possible:\n",
    "    print(distance[q2])\n",
    "else:\n",
    "    print(-1)"
   ]
  },
  {
   "cell_type": "code",
   "execution_count": null,
   "id": "128214d8-d968-4e81-bfae-7562ac10a184",
   "metadata": {},
   "outputs": [],
   "source": []
  },
  {
   "cell_type": "code",
   "execution_count": null,
   "id": "ecd37f12-b759-4de0-a409-a8e1f2855c22",
   "metadata": {},
   "outputs": [],
   "source": []
  }
 ],
 "metadata": {
  "kernelspec": {
   "display_name": "Python 3 (ipykernel)",
   "language": "python",
   "name": "python3"
  },
  "language_info": {
   "codemirror_mode": {
    "name": "ipython",
    "version": 3
   },
   "file_extension": ".py",
   "mimetype": "text/x-python",
   "name": "python",
   "nbconvert_exporter": "python",
   "pygments_lexer": "ipython3",
   "version": "3.8.11"
  }
 },
 "nbformat": 4,
 "nbformat_minor": 5
}
