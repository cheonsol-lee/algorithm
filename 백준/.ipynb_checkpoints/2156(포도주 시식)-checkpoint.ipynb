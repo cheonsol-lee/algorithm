{
 "cells": [
  {
   "cell_type": "code",
   "execution_count": 32,
   "id": "7fcd9c04-e573-493b-8871-a99511023139",
   "metadata": {},
   "outputs": [
    {
     "name": "stdin",
     "output_type": "stream",
     "text": [
      " 1\n",
      " 2\n"
     ]
    },
    {
     "name": "stdout",
     "output_type": "stream",
     "text": [
      "2\n"
     ]
    }
   ],
   "source": [
    "'''\n",
    "(점화식) 포도주 잔을 안마심(0), 마심(1)로 구분하여\n",
    "0, 01, 011로 구분함\n",
    "\n",
    "1번: dp(n-1)\n",
    "2번: dp(n-2) + arr[n]\n",
    "3번: dp(n-3) + arr[n-1] + arr[n]\n",
    "dp(n) = max(1번, 2번, 3번)\n",
    "'''\n",
    "\n",
    "n = int(input())\n",
    "\n",
    "arr = [0] * (n+3)\n",
    "\n",
    "for i in range(1, n+1):\n",
    "    arr[i] = int(input())\n",
    "\n",
    "memo = [0] * (n+3)\n",
    "\n",
    "memo[1] = arr[1]\n",
    "memo[2] = arr[1] + arr[2]\n",
    "memo[3] = max(sum(arr[1:3]), sum(arr[2:4]), sum([arr[1], arr[3]]), arr[2])\n",
    "\n",
    "for i in range(4, n+1):\n",
    "    memo[i] = max(memo[i-1], memo[i-2]+arr[i], memo[i-3]+arr[i]+arr[i-1])\n",
    "\n",
    "print(memo[n])"
   ]
  },
  {
   "cell_type": "code",
   "execution_count": null,
   "id": "a3607070-645c-4cd2-af1f-747c4b82e8f2",
   "metadata": {},
   "outputs": [],
   "source": []
  }
 ],
 "metadata": {
  "kernelspec": {
   "display_name": "Python 3 (ipykernel)",
   "language": "python",
   "name": "python3"
  },
  "language_info": {
   "codemirror_mode": {
    "name": "ipython",
    "version": 3
   },
   "file_extension": ".py",
   "mimetype": "text/x-python",
   "name": "python",
   "nbconvert_exporter": "python",
   "pygments_lexer": "ipython3",
   "version": "3.8.11"
  }
 },
 "nbformat": 4,
 "nbformat_minor": 5
}
