{
 "cells": [
  {
   "cell_type": "markdown",
   "id": "465394b1-5279-4734-ac46-dcc679cd093a",
   "metadata": {},
   "source": [
    "5 5\n",
    "3 1 6 4 7\n",
    "1 4\n",
    "2 1\n",
    "3 4\n",
    "4 2\n",
    "5 1"
   ]
  },
  {
   "cell_type": "code",
   "execution_count": 22,
   "id": "77371119-c38a-4dbd-b16d-c05683461bd2",
   "metadata": {},
   "outputs": [
    {
     "name": "stdin",
     "output_type": "stream",
     "text": [
      " 5 5\n",
      " 3 1 6 4 7\n"
     ]
    }
   ],
   "source": [
    "N, E = map(int, input().split())\n",
    "\n",
    "height_list = list(map(int, input().split()))"
   ]
  },
  {
   "cell_type": "code",
   "execution_count": 23,
   "id": "174bf711-630f-44ce-a35f-d09d9e33058d",
   "metadata": {},
   "outputs": [
    {
     "data": {
      "text/plain": [
       "[3, 1, 6, 4, 7]"
      ]
     },
     "execution_count": 23,
     "metadata": {},
     "output_type": "execute_result"
    }
   ],
   "source": [
    "height_list"
   ]
  },
  {
   "cell_type": "code",
   "execution_count": 24,
   "id": "2e1b3543-ce66-40e9-97d5-d63bb74944a9",
   "metadata": {},
   "outputs": [],
   "source": [
    "height_list.insert(0, 0) # 0번은 사용 안함"
   ]
  },
  {
   "cell_type": "code",
   "execution_count": 25,
   "id": "3075027e-f8f9-468e-aee1-50e1f6c5691f",
   "metadata": {},
   "outputs": [
    {
     "data": {
      "text/plain": [
       "[0, 3, 1, 6, 4, 7]"
      ]
     },
     "execution_count": 25,
     "metadata": {},
     "output_type": "execute_result"
    }
   ],
   "source": [
    "height_list"
   ]
  },
  {
   "cell_type": "code",
   "execution_count": 26,
   "id": "1782e91c-97e4-4375-be0b-5e0bf372d125",
   "metadata": {},
   "outputs": [],
   "source": [
    "# 방향성있는 인접행렬\n",
    "adj_matrix = [[0 for i in range(N+1)] for j in range(N+1)]"
   ]
  },
  {
   "cell_type": "code",
   "execution_count": 27,
   "id": "1d705f02-ccc5-4a58-8761-9d3a3f5c5bd6",
   "metadata": {},
   "outputs": [
    {
     "data": {
      "text/plain": [
       "[[0, 0, 0, 0, 0, 0],\n",
       " [0, 0, 0, 0, 0, 0],\n",
       " [0, 0, 0, 0, 0, 0],\n",
       " [0, 0, 0, 0, 0, 0],\n",
       " [0, 0, 0, 0, 0, 0],\n",
       " [0, 0, 0, 0, 0, 0]]"
      ]
     },
     "execution_count": 27,
     "metadata": {},
     "output_type": "execute_result"
    }
   ],
   "source": [
    "adj_matrix"
   ]
  },
  {
   "cell_type": "code",
   "execution_count": 28,
   "id": "b25d6754-4a97-4054-9f1c-a066c3b3f1b5",
   "metadata": {},
   "outputs": [
    {
     "name": "stdin",
     "output_type": "stream",
     "text": [
      " 1 4\n",
      " 2 1\n",
      " 3 4\n",
      " 4 2\n",
      " 5 1\n"
     ]
    }
   ],
   "source": [
    "for i in range(E):\n",
    "    n1, n2 = map(int, input().split())\n",
    "    \n",
    "    # n1의 높이 < n2의 높이\n",
    "    if height_list[n1] < height_list[n2]:\n",
    "        adj_matrix[n1][n2] = 1\n",
    "    # n1의 높이 > n2의 높이\n",
    "    else:\n",
    "        adj_matrix[n2][n1] = 1"
   ]
  },
  {
   "cell_type": "code",
   "execution_count": 29,
   "id": "7afdd04c-7c4c-46cb-a0c8-cf0ed9c963cb",
   "metadata": {},
   "outputs": [
    {
     "data": {
      "text/plain": [
       "[[0, 0, 0, 0, 0, 0],\n",
       " [0, 0, 0, 0, 1, 1],\n",
       " [0, 1, 0, 0, 1, 0],\n",
       " [0, 0, 0, 0, 0, 0],\n",
       " [0, 0, 0, 1, 0, 0],\n",
       " [0, 0, 0, 0, 0, 0]]"
      ]
     },
     "execution_count": 29,
     "metadata": {},
     "output_type": "execute_result"
    }
   ],
   "source": [
    "adj_matrix"
   ]
  },
  {
   "cell_type": "code",
   "execution_count": 30,
   "id": "569a8364-0568-4711-aeb2-f3e0be3cbb5a",
   "metadata": {},
   "outputs": [
    {
     "data": {
      "text/plain": [
       "[0, 0, 0, 0, 1, 1]"
      ]
     },
     "execution_count": 30,
     "metadata": {},
     "output_type": "execute_result"
    }
   ],
   "source": [
    "adj_matrix[1]"
   ]
  },
  {
   "cell_type": "code",
   "execution_count": 31,
   "id": "ce95730d-c1e6-43ff-974e-6e3aeed9a9c2",
   "metadata": {},
   "outputs": [
    {
     "data": {
      "text/plain": [
       "1"
      ]
     },
     "execution_count": 31,
     "metadata": {},
     "output_type": "execute_result"
    }
   ],
   "source": [
    "adj_matrix[1][4]"
   ]
  },
  {
   "cell_type": "code",
   "execution_count": 61,
   "id": "8d8c901b-cae7-48b8-82c8-b1e317591b61",
   "metadata": {},
   "outputs": [],
   "source": [
    "# 메모이제이션\n",
    "memo = [0 for i in range(N+1)]"
   ]
  },
  {
   "cell_type": "code",
   "execution_count": 62,
   "id": "960560cf-9247-4a56-9e77-8ee934afe922",
   "metadata": {},
   "outputs": [
    {
     "data": {
      "text/plain": [
       "[0, 3, 1, 6, 4, 7]"
      ]
     },
     "execution_count": 62,
     "metadata": {},
     "output_type": "execute_result"
    }
   ],
   "source": [
    "height_list"
   ]
  },
  {
   "cell_type": "code",
   "execution_count": 63,
   "id": "acbe94ed-202e-4e59-b755-4af34617a12a",
   "metadata": {},
   "outputs": [],
   "source": [
    "adj_count = [adj_matrix[i].count(1) for i in range(N+1)]"
   ]
  },
  {
   "cell_type": "code",
   "execution_count": 64,
   "id": "701ae1ff-316b-4c88-8e4b-97038d2cb0ba",
   "metadata": {},
   "outputs": [
    {
     "data": {
      "text/plain": [
       "[0, 2, 2, 0, 1, 0]"
      ]
     },
     "execution_count": 64,
     "metadata": {},
     "output_type": "execute_result"
    }
   ],
   "source": [
    "adj_count"
   ]
  },
  {
   "cell_type": "code",
   "execution_count": 69,
   "id": "c3443ec3-a125-4ac4-b4c8-79ed63396bfa",
   "metadata": {},
   "outputs": [],
   "source": [
    "def visit(node):\n",
    "    global memo\n",
    "    max_count = 0\n",
    "    \n",
    "    if memo[node] != 0:\n",
    "        return memo[node]\n",
    "    \n",
    "    # 리스트에 1이 없다면\n",
    "    if not (1 in adj_matrix[node]):\n",
    "        memo[node] = 1\n",
    "        return 1\n",
    " \n",
    "    for next_node in range(1, N+1):\n",
    "        if adj_matrix[node][next_node] == 0:\n",
    "            continue\n",
    "        \n",
    "        cur_count = visit(next_node) + 1\n",
    "        max_count = max(cur_count, max_count)\n",
    "        \n",
    "    memo[node] = max_count\n",
    "        \n",
    "    return max_count"
   ]
  },
  {
   "cell_type": "code",
   "execution_count": 70,
   "id": "7c28b7e4-5e96-4862-8375-45f748a9d274",
   "metadata": {},
   "outputs": [
    {
     "name": "stdout",
     "output_type": "stream",
     "text": [
      "3\n",
      "4\n",
      "1\n",
      "2\n",
      "1\n"
     ]
    }
   ],
   "source": [
    "for node in range(1, N+1):\n",
    "    visit(node)\n",
    "\n",
    "for i in range(1, N+1):\n",
    "    print(memo[i])"
   ]
  },
  {
   "cell_type": "code",
   "execution_count": 71,
   "id": "097bfe28-ecc1-4c6a-84f0-e78d361cf8cd",
   "metadata": {},
   "outputs": [
    {
     "data": {
      "text/plain": [
       "[0, 3, 4, 1, 2, 1]"
      ]
     },
     "execution_count": 71,
     "metadata": {},
     "output_type": "execute_result"
    }
   ],
   "source": [
    "memo"
   ]
  },
  {
   "cell_type": "code",
   "execution_count": null,
   "id": "4b6dfffe-9534-4066-8d5c-7a05ea216329",
   "metadata": {},
   "outputs": [],
   "source": []
  },
  {
   "cell_type": "code",
   "execution_count": null,
   "id": "d13d345b-d8a9-413c-9eaa-04bbfde5036d",
   "metadata": {},
   "outputs": [],
   "source": []
  }
 ],
 "metadata": {
  "kernelspec": {
   "display_name": "Python 3 (ipykernel)",
   "language": "python",
   "name": "python3"
  },
  "language_info": {
   "codemirror_mode": {
    "name": "ipython",
    "version": 3
   },
   "file_extension": ".py",
   "mimetype": "text/x-python",
   "name": "python",
   "nbconvert_exporter": "python",
   "pygments_lexer": "ipython3",
   "version": "3.8.11"
  }
 },
 "nbformat": 4,
 "nbformat_minor": 5
}
