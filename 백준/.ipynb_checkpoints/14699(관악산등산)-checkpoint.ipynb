{
 "cells": [
  {
   "cell_type": "markdown",
   "id": "465394b1-5279-4734-ac46-dcc679cd093a",
   "metadata": {},
   "source": [
    "5 5\n",
    "3 1 6 4 7\n",
    "1 4\n",
    "2 1\n",
    "3 4\n",
    "4 2\n",
    "5 1"
   ]
  },
  {
   "cell_type": "code",
   "execution_count": 172,
   "id": "77371119-c38a-4dbd-b16d-c05683461bd2",
   "metadata": {},
   "outputs": [
    {
     "name": "stdin",
     "output_type": "stream",
     "text": [
      " 5 5\n",
      " 3 1 6 4 7\n"
     ]
    }
   ],
   "source": [
    "N, E = map(int, input().split())\n",
    "\n",
    "height_list = list(map(int, input().split()))"
   ]
  },
  {
   "cell_type": "code",
   "execution_count": 173,
   "id": "174bf711-630f-44ce-a35f-d09d9e33058d",
   "metadata": {},
   "outputs": [
    {
     "data": {
      "text/plain": [
       "[3, 1, 6, 4, 7]"
      ]
     },
     "execution_count": 173,
     "metadata": {},
     "output_type": "execute_result"
    }
   ],
   "source": [
    "height_list"
   ]
  },
  {
   "cell_type": "code",
   "execution_count": 174,
   "id": "2e1b3543-ce66-40e9-97d5-d63bb74944a9",
   "metadata": {},
   "outputs": [],
   "source": [
    "height_list.insert(0, 0) # 0번은 사용 안함"
   ]
  },
  {
   "cell_type": "code",
   "execution_count": 175,
   "id": "3075027e-f8f9-468e-aee1-50e1f6c5691f",
   "metadata": {},
   "outputs": [
    {
     "data": {
      "text/plain": [
       "[0, 3, 1, 6, 4, 7]"
      ]
     },
     "execution_count": 175,
     "metadata": {},
     "output_type": "execute_result"
    }
   ],
   "source": [
    "height_list"
   ]
  },
  {
   "cell_type": "code",
   "execution_count": 176,
   "id": "1782e91c-97e4-4375-be0b-5e0bf372d125",
   "metadata": {},
   "outputs": [],
   "source": [
    "# 방향성있는 인접행렬\n",
    "adj_matrix = [[0 for i in range(N+1)] for j in range(N+1)]"
   ]
  },
  {
   "cell_type": "code",
   "execution_count": 177,
   "id": "1d705f02-ccc5-4a58-8761-9d3a3f5c5bd6",
   "metadata": {},
   "outputs": [
    {
     "data": {
      "text/plain": [
       "[[0, 0, 0, 0, 0, 0],\n",
       " [0, 0, 0, 0, 0, 0],\n",
       " [0, 0, 0, 0, 0, 0],\n",
       " [0, 0, 0, 0, 0, 0],\n",
       " [0, 0, 0, 0, 0, 0],\n",
       " [0, 0, 0, 0, 0, 0]]"
      ]
     },
     "execution_count": 177,
     "metadata": {},
     "output_type": "execute_result"
    }
   ],
   "source": [
    "adj_matrix"
   ]
  },
  {
   "cell_type": "code",
   "execution_count": 178,
   "id": "b25d6754-4a97-4054-9f1c-a066c3b3f1b5",
   "metadata": {},
   "outputs": [
    {
     "name": "stdin",
     "output_type": "stream",
     "text": [
      " 1 4\n",
      " 2 1\n",
      " 3 4\n",
      " 4 2\n",
      " 5 1\n"
     ]
    }
   ],
   "source": [
    "for i in range(E):\n",
    "    n1, n2 = map(int, input().split())\n",
    "    \n",
    "    # n1의 높이 < n2의 높이\n",
    "    if height_list[n1] < height_list[n2]:\n",
    "        adj_matrix[n1][n2] = 1\n",
    "    # n1의 높이 > n2의 높이\n",
    "    else:\n",
    "        adj_matrix[n2][n1] = 1"
   ]
  },
  {
   "cell_type": "code",
   "execution_count": 179,
   "id": "7afdd04c-7c4c-46cb-a0c8-cf0ed9c963cb",
   "metadata": {},
   "outputs": [
    {
     "data": {
      "text/plain": [
       "[[0, 0, 0, 0, 0, 0],\n",
       " [0, 0, 0, 0, 1, 1],\n",
       " [0, 1, 0, 0, 1, 0],\n",
       " [0, 0, 0, 0, 0, 0],\n",
       " [0, 0, 0, 1, 0, 0],\n",
       " [0, 0, 0, 0, 0, 0]]"
      ]
     },
     "execution_count": 179,
     "metadata": {},
     "output_type": "execute_result"
    }
   ],
   "source": [
    "adj_matrix"
   ]
  },
  {
   "cell_type": "code",
   "execution_count": 180,
   "id": "569a8364-0568-4711-aeb2-f3e0be3cbb5a",
   "metadata": {},
   "outputs": [
    {
     "data": {
      "text/plain": [
       "[0, 0, 0, 0, 1, 1]"
      ]
     },
     "execution_count": 180,
     "metadata": {},
     "output_type": "execute_result"
    }
   ],
   "source": [
    "adj_matrix[1]"
   ]
  },
  {
   "cell_type": "code",
   "execution_count": 181,
   "id": "ce95730d-c1e6-43ff-974e-6e3aeed9a9c2",
   "metadata": {},
   "outputs": [
    {
     "data": {
      "text/plain": [
       "1"
      ]
     },
     "execution_count": 181,
     "metadata": {},
     "output_type": "execute_result"
    }
   ],
   "source": [
    "adj_matrix[1][4]"
   ]
  },
  {
   "cell_type": "code",
   "execution_count": 190,
   "id": "8d8c901b-cae7-48b8-82c8-b1e317591b61",
   "metadata": {},
   "outputs": [],
   "source": [
    "# 메모이제이션\n",
    "memo = [0 for i in range(N+1)]"
   ]
  },
  {
   "cell_type": "code",
   "execution_count": 191,
   "id": "960560cf-9247-4a56-9e77-8ee934afe922",
   "metadata": {},
   "outputs": [
    {
     "data": {
      "text/plain": [
       "[0, 3, 1, 6, 4, 7]"
      ]
     },
     "execution_count": 191,
     "metadata": {},
     "output_type": "execute_result"
    }
   ],
   "source": [
    "height_list"
   ]
  },
  {
   "cell_type": "code",
   "execution_count": 196,
   "id": "acbe94ed-202e-4e59-b755-4af34617a12a",
   "metadata": {},
   "outputs": [],
   "source": [
    "adj_count = [adj_matrix[i].count(1) for i in range(N+1)]"
   ]
  },
  {
   "cell_type": "code",
   "execution_count": 197,
   "id": "701ae1ff-316b-4c88-8e4b-97038d2cb0ba",
   "metadata": {},
   "outputs": [
    {
     "data": {
      "text/plain": [
       "[0, 2, 2, 0, 1, 0]"
      ]
     },
     "execution_count": 197,
     "metadata": {},
     "output_type": "execute_result"
    }
   ],
   "source": [
    "adj_count"
   ]
  },
  {
   "cell_type": "code",
   "execution_count": 198,
   "id": "9ab2505f-2f0b-4b7b-ad8c-905442b24ae4",
   "metadata": {},
   "outputs": [],
   "source": [
    "for i in range(1,N+1):\n",
    "    if adj_count[i] == 0:\n",
    "        memo[i] = 1"
   ]
  },
  {
   "cell_type": "code",
   "execution_count": 199,
   "id": "47132b70-dd73-4de8-9b39-58ccd8da1a4a",
   "metadata": {},
   "outputs": [
    {
     "data": {
      "text/plain": [
       "[0, 0, 0, 1, 0, 1]"
      ]
     },
     "execution_count": 199,
     "metadata": {},
     "output_type": "execute_result"
    }
   ],
   "source": [
    "memo"
   ]
  },
  {
   "cell_type": "code",
   "execution_count": null,
   "id": "6c3c7210-2d96-4358-8e20-b82942930a97",
   "metadata": {},
   "outputs": [],
   "source": [
    "while(True):\n",
    "    # 모든 공간이 체크됨\n",
    "    if memo.count(0) == 1:\n",
    "        break\n",
    "    \n",
    "    \n",
    "        "
   ]
  },
  {
   "cell_type": "code",
   "execution_count": null,
   "id": "627af8bc-75fb-44dd-a1c8-ec381f7aab9e",
   "metadata": {},
   "outputs": [],
   "source": []
  },
  {
   "cell_type": "code",
   "execution_count": 183,
   "id": "eeaa6276-3c85-4f83-963d-3decb4e43aa8",
   "metadata": {
    "jupyter": {
     "source_hidden": true
    },
    "tags": []
   },
   "outputs": [],
   "source": [
    "def visit(node):\n",
    "    global memo\n",
    "    max_count = 0\n",
    "    \n",
    "    if memo[node] != 0:\n",
    "        return memo[node]\n",
    "    \n",
    "    # 리스트에 1이 없다면\n",
    "    if not (1 in adj_matrix[node]):\n",
    "        memo[node] = 1\n",
    "        return 1\n",
    "    \n",
    "#     plan_num = adj_matrix[node].count(1) # 방문 가능한 노드수\n",
    "    \n",
    "    for next_node in range(1, N+1):\n",
    "        if adj_matrix[node][next_node] == 0:\n",
    "            continue\n",
    "        \n",
    "        cur_count = visit(next_node) + 1\n",
    "        max_count = max(cur_count, max_count)\n",
    "        \n",
    "    memo[node] = max_count\n",
    "        \n",
    "    return max_count"
   ]
  },
  {
   "cell_type": "code",
   "execution_count": 186,
   "id": "c22ba050-5795-459c-8b2b-49cc48ee2f8a",
   "metadata": {},
   "outputs": [
    {
     "data": {
      "text/plain": [
       "1"
      ]
     },
     "execution_count": 186,
     "metadata": {},
     "output_type": "execute_result"
    }
   ],
   "source": []
  },
  {
   "cell_type": "code",
   "execution_count": 187,
   "id": "a8e77be8-3c24-4938-8a2b-4d30aefe0532",
   "metadata": {},
   "outputs": [],
   "source": [
    "for node in range(1, N+1):\n",
    "    visit(node)\n",
    "    \n",
    "    max_count = 0\n",
    "    \n",
    "    if memo[node] != 0:\n",
    "        continue\n",
    "    \n",
    "    # 리스트에 1이 없다면\n",
    "    if not (1 in adj_matrix[node]):\n",
    "        memo[node] = 1\n",
    "        return 1\n",
    "     \n",
    "    for next_node in range(1, N+1):\n",
    "        if adj_matrix[node][next_node] == 0:\n",
    "            continue\n",
    "        \n",
    "        cur_count = visit(next_node) + 1\n",
    "        max_count = max(cur_count, max_count)\n",
    "        \n",
    "    memo[node] = max_count\n",
    "        \n",
    "    return max_count"
   ]
  },
  {
   "cell_type": "code",
   "execution_count": null,
   "id": "f5d632f3-17d4-428d-9a9d-8a75bd9fcffd",
   "metadata": {},
   "outputs": [],
   "source": []
  },
  {
   "cell_type": "code",
   "execution_count": null,
   "id": "9fad838b-7bbf-4016-98ef-904e08745b05",
   "metadata": {},
   "outputs": [],
   "source": []
  },
  {
   "cell_type": "code",
   "execution_count": null,
   "id": "d13f7210-0331-47fc-839b-0ffc09bd37a1",
   "metadata": {},
   "outputs": [],
   "source": []
  },
  {
   "cell_type": "code",
   "execution_count": 187,
   "id": "018b7515-0b43-4b4c-bfdc-8b8455ebf51a",
   "metadata": {},
   "outputs": [
    {
     "name": "stdout",
     "output_type": "stream",
     "text": [
      "3\n",
      "4\n",
      "1\n",
      "2\n",
      "1\n"
     ]
    }
   ],
   "source": [
    "for i in range(1, N+1):\n",
    "    print(memo[i])"
   ]
  },
  {
   "cell_type": "code",
   "execution_count": 189,
   "id": "50d74bf3-e72d-418b-a665-faaf610b748d",
   "metadata": {},
   "outputs": [
    {
     "data": {
      "text/plain": [
       "[0, 3, 4, 1, 2, 1]"
      ]
     },
     "execution_count": 189,
     "metadata": {},
     "output_type": "execute_result"
    }
   ],
   "source": [
    "memo"
   ]
  },
  {
   "cell_type": "code",
   "execution_count": null,
   "id": "097bfe28-ecc1-4c6a-84f0-e78d361cf8cd",
   "metadata": {},
   "outputs": [],
   "source": []
  },
  {
   "cell_type": "code",
   "execution_count": null,
   "id": "4b6dfffe-9534-4066-8d5c-7a05ea216329",
   "metadata": {},
   "outputs": [],
   "source": []
  }
 ],
 "metadata": {
  "kernelspec": {
   "display_name": "Python 3",
   "language": "python",
   "name": "python3"
  },
  "language_info": {
   "codemirror_mode": {
    "name": "ipython",
    "version": 3
   },
   "file_extension": ".py",
   "mimetype": "text/x-python",
   "name": "python",
   "nbconvert_exporter": "python",
   "pygments_lexer": "ipython3",
   "version": "3.7.0"
  }
 },
 "nbformat": 4,
 "nbformat_minor": 5
}
