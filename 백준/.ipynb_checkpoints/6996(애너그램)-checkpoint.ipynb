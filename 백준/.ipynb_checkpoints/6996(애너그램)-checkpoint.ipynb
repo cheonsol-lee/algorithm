{
 "cells": [
  {
   "cell_type": "code",
   "execution_count": 7,
   "id": "23aeba38-39d2-4702-84ec-3c20a80604a6",
   "metadata": {},
   "outputs": [],
   "source": [
    "N = int(input())\n",
    "\n",
    "for i in range(N):\n",
    "    arr1 = [0]*26\n",
    "    arr2 = [0]*26\n",
    "    \n",
    "    str1, str2 = input().split()\n",
    "    \n",
    "    for c in str1:\n",
    "        arr1[ord(c)-ord('a')] += 1\n",
    "        \n",
    "    for c in str2:\n",
    "        arr2[ord(c)-ord('a')] += 1\n",
    "        \n",
    "    if arr1 == arr2:\n",
    "        print(f'{str1} & {str2} are anagrams.')\n",
    "    else:\n",
    "        print(f'{str1} & {str2} are NOT anagrams.')"
   ]
  },
  {
   "cell_type": "code",
   "execution_count": null,
   "id": "1cc2bee0-7f3e-40d7-b4ba-2f2357bd69c2",
   "metadata": {},
   "outputs": [],
   "source": []
  }
 ],
 "metadata": {
  "kernelspec": {
   "display_name": "Python 3",
   "language": "python",
   "name": "python3"
  },
  "language_info": {
   "codemirror_mode": {
    "name": "ipython",
    "version": 3
   },
   "file_extension": ".py",
   "mimetype": "text/x-python",
   "name": "python",
   "nbconvert_exporter": "python",
   "pygments_lexer": "ipython3",
   "version": "3.7.0"
  }
 },
 "nbformat": 4,
 "nbformat_minor": 5
}
