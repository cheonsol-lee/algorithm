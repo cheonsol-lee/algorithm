{
 "cells": [
  {
   "cell_type": "code",
   "execution_count": null,
   "id": "bb6c58d6-446d-4bc2-9ab2-689c7b2d8ced",
   "metadata": {},
   "outputs": [],
   "source": [
    "5 7\n",
    "0 0 0 0 0 0 0\n",
    "0 2 4 5 3 0 0\n",
    "0 3 0 2 5 2 0\n",
    "0 7 6 2 4 0 0\n",
    "0 0 0 0 0 0 0"
   ]
  },
  {
   "cell_type": "code",
   "execution_count": 33,
   "id": "a51721a8-8e70-4291-ad87-8cac7a3d5524",
   "metadata": {},
   "outputs": [
    {
     "name": "stdin",
     "output_type": "stream",
     "text": [
      " 5 7\n"
     ]
    }
   ],
   "source": [
    "N, M = map(int, input().split())"
   ]
  },
  {
   "cell_type": "code",
   "execution_count": 14,
   "id": "d4d8633b-d15f-40d9-9b2b-9e1bcb49e4b8",
   "metadata": {},
   "outputs": [],
   "source": [
    "data_map = [[0 for i in range(M)] for j in range(N)]\n",
    "check_map = [[0 for i in range(M)] for j in range(N)]\n",
    "ice_map = [[0 for i in range(M)] for j in range(N)]"
   ]
  },
  {
   "cell_type": "code",
   "execution_count": 16,
   "id": "0e88c04f-8564-4d99-a3c8-fdbc7b46cc13",
   "metadata": {},
   "outputs": [
    {
     "name": "stdin",
     "output_type": "stream",
     "text": [
      " 0 0 0 0 0 0 0\n",
      " 0 2 4 5 3 0 0\n",
      " 0 3 0 2 5 2 0\n",
      " 0 7 6 2 4 0 0\n",
      " 0 0 0 0 0 0 0\n"
     ]
    }
   ],
   "source": [
    "for i in range(N):\n",
    "    data_map[i] = list(map(int, input().split()))"
   ]
  },
  {
   "cell_type": "code",
   "execution_count": 17,
   "id": "1cff0157-175c-40ae-950e-308be25bb54c",
   "metadata": {},
   "outputs": [
    {
     "data": {
      "text/plain": [
       "[[0, 0, 0, 0, 0, 0, 0],\n",
       " [0, 2, 4, 5, 3, 0, 0],\n",
       " [0, 3, 0, 2, 5, 2, 0],\n",
       " [0, 7, 6, 2, 4, 0, 0],\n",
       " [0, 0, 0, 0, 0, 0, 0]]"
      ]
     },
     "execution_count": 17,
     "metadata": {},
     "output_type": "execute_result"
    }
   ],
   "source": [
    "data_map"
   ]
  },
  {
   "cell_type": "code",
   "execution_count": 23,
   "id": "7348388e-d88b-4395-82a3-9cd97d17866c",
   "metadata": {},
   "outputs": [],
   "source": [
    "for i in range(N):\n",
    "    for j in range(M):\n",
    "        if data_map[i][j] != 0:\n",
    "            check_map[i][j] = 1\n",
    "            ice_map[i][j] = 1"
   ]
  },
  {
   "cell_type": "code",
   "execution_count": 20,
   "id": "e2293983-d705-46ea-832a-c7fcae497918",
   "metadata": {},
   "outputs": [
    {
     "data": {
      "text/plain": [
       "[[0, 0, 0, 0, 0, 0, 0],\n",
       " [0, 1, 1, 1, 1, 0, 0],\n",
       " [0, 1, 0, 1, 1, 1, 0],\n",
       " [0, 1, 1, 1, 1, 0, 0],\n",
       " [0, 0, 0, 0, 0, 0, 0]]"
      ]
     },
     "execution_count": 20,
     "metadata": {},
     "output_type": "execute_result"
    }
   ],
   "source": [
    "check_map"
   ]
  },
  {
   "cell_type": "code",
   "execution_count": 13,
   "id": "613aef41-98d2-40c0-8e1a-b459fe8c99ef",
   "metadata": {},
   "outputs": [],
   "source": [
    "dx = [-1,1,0,0]\n",
    "dy = [0,0,-1,1]"
   ]
  },
  {
   "cell_type": "code",
   "execution_count": 34,
   "id": "f73395db-25a7-4551-b0f2-bc34cd79b3d9",
   "metadata": {},
   "outputs": [
    {
     "name": "stdout",
     "output_type": "stream",
     "text": [
      "hi\n"
     ]
    }
   ],
   "source": [
    "if data_map:\n",
    "    print('hi')"
   ]
  },
  {
   "cell_type": "code",
   "execution_count": 30,
   "id": "d8b06575-178c-4ba6-ac6a-1e7a5ab13412",
   "metadata": {},
   "outputs": [],
   "source": [
    "def dfs(graph, x, y):\n",
    "    global data_map, check_map\n",
    "    \n",
    "    # 아직 방문하지 않았다면\n",
    "    if check_map[x][y] >= 1:\n",
    "        check_map[x][y] = 0\n",
    "        \n",
    "        for i in range(4):\n",
    "            nx = x + dx[i]\n",
    "            ny = y + dy[i]\n",
    "            \n",
    "            # 주변이 바다라면\n",
    "            if data_map[nx][ny] == 0:\n",
    "                graph[nx][ny] -= 1\n",
    "            \n",
    "            dfs(nx, ny)\n",
    "        return graph\n",
    "    \n",
    "    return False"
   ]
  },
  {
   "cell_type": "code",
   "execution_count": 31,
   "id": "74a07ff7-667b-4078-8b75-27b4ae9dcbcf",
   "metadata": {},
   "outputs": [
    {
     "ename": "KeyboardInterrupt",
     "evalue": "",
     "output_type": "error",
     "traceback": [
      "\u001b[1;31m---------------------------------------------------------------------------\u001b[0m",
      "\u001b[1;31mKeyboardInterrupt\u001b[0m                         Traceback (most recent call last)",
      "\u001b[1;32m<ipython-input-31-dabaef92028b>\u001b[0m in \u001b[0;36m<module>\u001b[1;34m\u001b[0m\n\u001b[0;32m     11\u001b[0m     \u001b[1;32mfor\u001b[0m \u001b[0mi\u001b[0m \u001b[1;32min\u001b[0m \u001b[0mrange\u001b[0m\u001b[1;33m(\u001b[0m\u001b[1;36m1\u001b[0m\u001b[1;33m,\u001b[0m \u001b[0mN\u001b[0m\u001b[1;33m-\u001b[0m\u001b[1;36m1\u001b[0m\u001b[1;33m)\u001b[0m\u001b[1;33m:\u001b[0m\u001b[1;33m\u001b[0m\u001b[0m\n\u001b[0;32m     12\u001b[0m         \u001b[1;32mfor\u001b[0m \u001b[0mj\u001b[0m \u001b[1;32min\u001b[0m \u001b[0mrange\u001b[0m\u001b[1;33m(\u001b[0m\u001b[1;36m1\u001b[0m\u001b[1;33m,\u001b[0m \u001b[0mM\u001b[0m\u001b[1;33m-\u001b[0m\u001b[1;36m1\u001b[0m\u001b[1;33m)\u001b[0m\u001b[1;33m:\u001b[0m\u001b[1;33m\u001b[0m\u001b[0m\n\u001b[1;32m---> 13\u001b[1;33m             \u001b[1;32mif\u001b[0m \u001b[0mdfs\u001b[0m\u001b[1;33m(\u001b[0m\u001b[0mi\u001b[0m\u001b[1;33m,\u001b[0m \u001b[0mj\u001b[0m\u001b[1;33m)\u001b[0m\u001b[1;33m:\u001b[0m\u001b[1;33m\u001b[0m\u001b[0m\n\u001b[0m\u001b[0;32m     14\u001b[0m                 \u001b[0mice_count\u001b[0m \u001b[1;33m+=\u001b[0m \u001b[1;36m1\u001b[0m\u001b[1;33m\u001b[0m\u001b[0m\n\u001b[0;32m     15\u001b[0m             \u001b[1;32mif\u001b[0m \u001b[0mice_count\u001b[0m \u001b[1;33m==\u001b[0m \u001b[1;36m2\u001b[0m\u001b[1;33m:\u001b[0m\u001b[1;33m\u001b[0m\u001b[0m\n",
      "\u001b[1;32m<ipython-input-30-7e94e4244519>\u001b[0m in \u001b[0;36mdfs\u001b[1;34m(x, y)\u001b[0m\n\u001b[0;32m     11\u001b[0m \u001b[1;33m\u001b[0m\u001b[0m\n\u001b[0;32m     12\u001b[0m             \u001b[1;31m# 주변이 바다라면\u001b[0m\u001b[1;33m\u001b[0m\u001b[1;33m\u001b[0m\u001b[0m\n\u001b[1;32m---> 13\u001b[1;33m             \u001b[1;32mif\u001b[0m \u001b[0mice_map\u001b[0m\u001b[1;33m[\u001b[0m\u001b[0mnx\u001b[0m\u001b[1;33m]\u001b[0m\u001b[1;33m[\u001b[0m\u001b[0mny\u001b[0m\u001b[1;33m]\u001b[0m \u001b[1;33m==\u001b[0m \u001b[1;36m0\u001b[0m\u001b[1;33m:\u001b[0m\u001b[1;33m\u001b[0m\u001b[0m\n\u001b[0m\u001b[0;32m     14\u001b[0m                 \u001b[0mdata_map\u001b[0m\u001b[1;33m[\u001b[0m\u001b[0mnx\u001b[0m\u001b[1;33m]\u001b[0m\u001b[1;33m[\u001b[0m\u001b[0mny\u001b[0m\u001b[1;33m]\u001b[0m \u001b[1;33m-=\u001b[0m \u001b[1;36m1\u001b[0m\u001b[1;33m\u001b[0m\u001b[0m\n\u001b[0;32m     15\u001b[0m \u001b[1;33m\u001b[0m\u001b[0m\n",
      "\u001b[1;31mKeyboardInterrupt\u001b[0m: "
     ]
    }
   ],
   "source": [
    "import copy\n",
    "\n",
    "year_count = 0 # 빙산 분리 연도\n",
    "token = False # 프로그램 종료 토큰\n",
    "\n",
    "while True:\n",
    "    ice_count = 0\n",
    "    check_map = copy.deepcopy(data_map)\n",
    "    \n",
    "    for i in range(1, N-1):\n",
    "        for j in range(1, M-1):\n",
    "            if dfs(i, j):\n",
    "                ice_count += 1\n",
    "            if ice_count == 2:\n",
    "                print(year_count)\n",
    "                token = True\n",
    "                break\n",
    "        # 프로그램 종료\n",
    "        if token == True:\n",
    "            break\n",
    "            \n",
    "    # 프로그램 종료\n",
    "    if token == True:\n",
    "        break\n",
    "        \n",
    "    # 빙산이 녹을 때까지 분리되지 않는 경우\n",
    "    if ice_count == 0:\n",
    "        print(0)\n",
    "        break\n",
    "        \n",
    "    year_count += 1"
   ]
  },
  {
   "cell_type": "code",
   "execution_count": null,
   "id": "a729c8ba-ee20-483d-af57-a4a04db68254",
   "metadata": {},
   "outputs": [],
   "source": [
    "   "
   ]
  }
 ],
 "metadata": {
  "kernelspec": {
   "display_name": "Python 3",
   "language": "python",
   "name": "python3"
  },
  "language_info": {
   "codemirror_mode": {
    "name": "ipython",
    "version": 3
   },
   "file_extension": ".py",
   "mimetype": "text/x-python",
   "name": "python",
   "nbconvert_exporter": "python",
   "pygments_lexer": "ipython3",
   "version": "3.7.0"
  }
 },
 "nbformat": 4,
 "nbformat_minor": 5
}
