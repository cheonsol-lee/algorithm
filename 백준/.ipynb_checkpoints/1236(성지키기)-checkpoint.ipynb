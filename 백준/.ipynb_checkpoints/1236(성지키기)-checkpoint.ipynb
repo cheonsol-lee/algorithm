{
 "cells": [
  {
   "cell_type": "code",
   "execution_count": null,
   "id": "041dae9a-4c7c-46de-a588-bfe55de6c8d0",
   "metadata": {},
   "outputs": [],
   "source": [
    "4 4\n",
    "....\n",
    "....\n",
    "....\n",
    "....\n",
    "\n",
    "3 5\n",
    "XX...\n",
    ".XX..\n",
    "...XX\n",
    "\n",
    "5 8\n",
    "....XXXX\n",
    "........\n",
    "XX.X.XX.\n",
    "........\n",
    "........"
   ]
  },
  {
   "cell_type": "code",
   "execution_count": null,
   "id": "1a3a571a-c5a9-4c99-af0c-a90bcf9b0c41",
   "metadata": {},
   "outputs": [],
   "source": [
    "N, M = map(int, input().split())\n",
    "\n",
    "array = []\n",
    "for _ in range(N):\n",
    "    array.append(input())\n",
    "\n",
    "# 행 조회\n",
    "row_cnt = 0\n",
    "for i in range(N):\n",
    "    if 'X' not in array[i]:\n",
    "        row_cnt += 1\n",
    "\n",
    "# 열 조회\n",
    "col_cnt = 0\n",
    "for j in range(M):\n",
    "    if 'X' not in [array[i][j] for i in range(N)]:\n",
    "        col_cnt += 1\n",
    "\n",
    "print(max(row_cnt, col_cnt))"
   ]
  }
 ],
 "metadata": {
  "kernelspec": {
   "display_name": "llm",
   "language": "python",
   "name": "llm"
  },
  "language_info": {
   "codemirror_mode": {
    "name": "ipython",
    "version": 3
   },
   "file_extension": ".py",
   "mimetype": "text/x-python",
   "name": "python",
   "nbconvert_exporter": "python",
   "pygments_lexer": "ipython3",
   "version": "3.11.8"
  }
 },
 "nbformat": 4,
 "nbformat_minor": 5
}
