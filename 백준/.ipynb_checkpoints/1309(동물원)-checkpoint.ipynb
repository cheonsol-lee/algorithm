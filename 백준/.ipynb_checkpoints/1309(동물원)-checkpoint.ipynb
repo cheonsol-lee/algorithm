{
 "cells": [
  {
   "cell_type": "code",
   "execution_count": 9,
   "id": "16f61eed-5cf8-48bc-a9ca-2cc897c9db06",
   "metadata": {},
   "outputs": [
    {
     "name": "stdin",
     "output_type": "stream",
     "text": [
      " 4\n"
     ]
    }
   ],
   "source": [
    "N = int(input())"
   ]
  },
  {
   "cell_type": "code",
   "execution_count": 31,
   "id": "098f70ad-5cdc-4c3c-bb27-8837813fc725",
   "metadata": {},
   "outputs": [],
   "source": [
    "dp = [[0,0,0] for i in range(N+1)] "
   ]
  },
  {
   "cell_type": "code",
   "execution_count": 32,
   "id": "78e9e74f-438d-4152-a85f-6ae2e5e84799",
   "metadata": {},
   "outputs": [
    {
     "data": {
      "text/plain": [
       "[[0, 0, 0], [0, 0, 0], [0, 0, 0], [0, 0, 0], [0, 0, 0]]"
      ]
     },
     "execution_count": 32,
     "metadata": {},
     "output_type": "execute_result"
    }
   ],
   "source": [
    "dp"
   ]
  },
  {
   "cell_type": "code",
   "execution_count": 33,
   "id": "8eebba18-9a78-49a6-86ef-557b76328dc3",
   "metadata": {},
   "outputs": [],
   "source": [
    "dp[1] = [1,1,1]"
   ]
  },
  {
   "cell_type": "code",
   "execution_count": 34,
   "id": "a4834ea5-b6d2-4d04-8c26-78d5c69522a8",
   "metadata": {},
   "outputs": [
    {
     "data": {
      "text/plain": [
       "[[0, 0, 0], [1, 1, 1], [0, 0, 0], [0, 0, 0], [0, 0, 0]]"
      ]
     },
     "execution_count": 34,
     "metadata": {},
     "output_type": "execute_result"
    }
   ],
   "source": [
    "dp"
   ]
  },
  {
   "cell_type": "code",
   "execution_count": 35,
   "id": "d46b5dc5-4ad6-443a-a129-6cec5538a2ab",
   "metadata": {},
   "outputs": [],
   "source": [
    "MOD = 9901\n",
    "for i in range(2, N+1):\n",
    "    dp[i][0] = (dp[i-1][0] + dp[i-1][1] + dp[i-1][2]) % MOD\n",
    "    dp[i][1] = (dp[i-1][0] + dp[i-1][2]) % MOD\n",
    "    dp[i][2] = (dp[i-1][0] + dp[i-1][1]) % MOD"
   ]
  },
  {
   "cell_type": "code",
   "execution_count": 36,
   "id": "8dc7e4ed-a358-4b1d-b668-ba44d5bb74b8",
   "metadata": {},
   "outputs": [
    {
     "data": {
      "text/plain": [
       "[[0, 0, 0], [1, 1, 1], [3, 2, 2], [7, 5, 5], [17, 12, 12]]"
      ]
     },
     "execution_count": 36,
     "metadata": {},
     "output_type": "execute_result"
    }
   ],
   "source": [
    "dp"
   ]
  },
  {
   "cell_type": "code",
   "execution_count": 40,
   "id": "5f7ff27e-5b11-4e92-81f8-62ceba08af43",
   "metadata": {},
   "outputs": [
    {
     "name": "stdout",
     "output_type": "stream",
     "text": [
      "41\n"
     ]
    }
   ],
   "source": [
    "print(sum(dp[N]) % MOD)"
   ]
  },
  {
   "cell_type": "code",
   "execution_count": null,
   "id": "9d111f49-d547-41a4-921f-d14dbf88d550",
   "metadata": {},
   "outputs": [],
   "source": []
  }
 ],
 "metadata": {
  "kernelspec": {
   "display_name": "Python 3",
   "language": "python",
   "name": "python3"
  },
  "language_info": {
   "codemirror_mode": {
    "name": "ipython",
    "version": 3
   },
   "file_extension": ".py",
   "mimetype": "text/x-python",
   "name": "python",
   "nbconvert_exporter": "python",
   "pygments_lexer": "ipython3",
   "version": "3.7.0"
  }
 },
 "nbformat": 4,
 "nbformat_minor": 5
}
