{
 "cells": [
  {
   "cell_type": "code",
   "execution_count": null,
   "id": "4e209ce6-fd08-4f0b-b92a-f4709ed61f33",
   "metadata": {},
   "outputs": [],
   "source": [
    "N, X = map(int, input().split())\n",
    "\n",
    "arr = list(map(int, input().split()))\n",
    "\n",
    "if max(arr) == 0:\n",
    "    print('SAD')\n",
    "else:\n",
    "    num = sum(arr[:X])\n",
    "    max_num = num\n",
    "    count = 1\n",
    "    \n",
    "    for i in range(X, N):\n",
    "        num += arr[i]  # 슬라이딩 윈도우 앞\n",
    "        num -= arr[i-X] # 슬라이딩 윈도우 뒤\n",
    "        if max_num < num:\n",
    "            count = 1\n",
    "            max_num = max(num, max_num)\n",
    "        elif max_num == num:\n",
    "            count += 1\n",
    "        else:\n",
    "            continue\n",
    "\n",
    "    print(max_num)\n",
    "    print(count)"
   ]
  },
  {
   "cell_type": "code",
   "execution_count": null,
   "id": "11392235-44aa-4ec2-8b00-ee6c92d13090",
   "metadata": {},
   "outputs": [],
   "source": []
  }
 ],
 "metadata": {
  "kernelspec": {
   "display_name": "Python 3",
   "language": "python",
   "name": "python3"
  },
  "language_info": {
   "codemirror_mode": {
    "name": "ipython",
    "version": 3
   },
   "file_extension": ".py",
   "mimetype": "text/x-python",
   "name": "python",
   "nbconvert_exporter": "python",
   "pygments_lexer": "ipython3",
   "version": "3.7.0"
  }
 },
 "nbformat": 4,
 "nbformat_minor": 5
}
