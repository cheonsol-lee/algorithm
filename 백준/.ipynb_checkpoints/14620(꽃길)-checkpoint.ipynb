{
 "cells": [
  {
   "cell_type": "markdown",
   "id": "c3a5cef7-102b-4af7-91e2-7db65093c347",
   "metadata": {},
   "source": [
    "6\n",
    "1 0 2 3 3 4\n",
    "1 1 1 1 1 1\n",
    "0 0 1 1 1 1\n",
    "3 9 9 0 1 99\n",
    "9 11 3 1 0 3\n",
    "12 3 0 0 0 1\n",
    "\n",
    "답: 12"
   ]
  },
  {
   "cell_type": "code",
   "execution_count": 4,
   "id": "cc50d93c-530a-4a25-9ba6-608cf6026ac3",
   "metadata": {},
   "outputs": [
    {
     "name": "stdin",
     "output_type": "stream",
     "text": [
      " 6\n"
     ]
    }
   ],
   "source": [
    "N = int(input())"
   ]
  },
  {
   "cell_type": "code",
   "execution_count": 7,
   "id": "dec191dc-1eb2-4389-b082-b2cc726ab3f9",
   "metadata": {},
   "outputs": [
    {
     "name": "stdin",
     "output_type": "stream",
     "text": [
      " 1 0 2 3 3 4\n",
      " 1 1 1 1 1 1\n",
      " 0 0 1 1 1 1\n",
      " 3 9 9 0 1 99\n",
      " 9 11 3 1 0 3\n",
      " 12 3 0 0 0 1\n"
     ]
    }
   ],
   "source": [
    "data_map = []\n",
    "for i in range(N):\n",
    "    data_map.append(list(map(int, input().split())))"
   ]
  },
  {
   "cell_type": "code",
   "execution_count": 8,
   "id": "56d5e896-77c9-41d7-9653-04db6da970ad",
   "metadata": {},
   "outputs": [
    {
     "data": {
      "text/plain": [
       "[[1, 0, 2, 3, 3, 4],\n",
       " [1, 1, 1, 1, 1, 1],\n",
       " [0, 0, 1, 1, 1, 1],\n",
       " [3, 9, 9, 0, 1, 99],\n",
       " [9, 11, 3, 1, 0, 3],\n",
       " [12, 3, 0, 0, 0, 1]]"
      ]
     },
     "execution_count": 8,
     "metadata": {},
     "output_type": "execute_result"
    }
   ],
   "source": [
    "data_map"
   ]
  },
  {
   "cell_type": "code",
   "execution_count": 10,
   "id": "5c946ae8-b33f-4226-a4a8-04d32bad5875",
   "metadata": {},
   "outputs": [
    {
     "data": {
      "text/plain": [
       "1"
      ]
     },
     "execution_count": 10,
     "metadata": {},
     "output_type": "execute_result"
    }
   ],
   "source": [
    "data_map[1][3]"
   ]
  },
  {
   "cell_type": "code",
   "execution_count": 11,
   "id": "25e09fa4-ee90-4f3f-91ff-327d7b6fc71c",
   "metadata": {},
   "outputs": [],
   "source": [
    "dx = [-1,1,0,0]\n",
    "dy = [0,0,-1,1]"
   ]
  },
  {
   "cell_type": "code",
   "execution_count": 106,
   "id": "61051cd2-2255-4cb3-bd72-c6f2842249cc",
   "metadata": {},
   "outputs": [],
   "source": [
    "min_cost = 1001 # 최소 가격 지정\n",
    "sum_list = []\n",
    "seed_list = []\n",
    "for i in range(1,N-1):\n",
    "    for j in range(1,N-1):\n",
    "        cost = 0 # 비용\n",
    "        \n",
    "        for k in range(4):\n",
    "            nx = i + dx[k]\n",
    "            ny = j + dy[k]\n",
    "            \n",
    "            cost += data_map[nx][ny]\n",
    "        cost += data_map[i][j]\n",
    "        \n",
    "        sum_list.append(cost)\n",
    "        seed_list.append((i,j))"
   ]
  },
  {
   "cell_type": "code",
   "execution_count": 107,
   "id": "43d5009a-9cf1-45e1-97d6-83d3f0ed0ada",
   "metadata": {},
   "outputs": [
    {
     "data": {
      "text/plain": [
       "1001"
      ]
     },
     "execution_count": 107,
     "metadata": {},
     "output_type": "execute_result"
    }
   ],
   "source": [
    "min_cost"
   ]
  },
  {
   "cell_type": "code",
   "execution_count": 108,
   "id": "686f79e8-f0af-495a-8491-b85e9caeaf23",
   "metadata": {},
   "outputs": [
    {
     "data": {
      "text/plain": [
       "{(1, 1): 3,\n",
       " (1, 2): 6,\n",
       " (1, 3): 7,\n",
       " (1, 4): 7,\n",
       " (2, 1): 11,\n",
       " (2, 2): 12,\n",
       " (2, 3): 4,\n",
       " (2, 4): 5,\n",
       " (3, 1): 32,\n",
       " (3, 2): 22,\n",
       " (3, 3): 12,\n",
       " (3, 4): 101,\n",
       " (4, 1): 35,\n",
       " (4, 2): 24,\n",
       " (4, 3): 4,\n",
       " (4, 4): 5}"
      ]
     },
     "execution_count": 108,
     "metadata": {},
     "output_type": "execute_result"
    }
   ],
   "source": [
    "seed"
   ]
  },
  {
   "cell_type": "code",
   "execution_count": 109,
   "id": "0a177303-9a61-4fee-bc61-6f6dfa780273",
   "metadata": {},
   "outputs": [
    {
     "data": {
      "text/plain": [
       "(1, 1)"
      ]
     },
     "execution_count": 109,
     "metadata": {},
     "output_type": "execute_result"
    }
   ],
   "source": [
    "min(seed)"
   ]
  },
  {
   "cell_type": "code",
   "execution_count": 110,
   "id": "290abd95-e946-47e9-a23e-5485552715cb",
   "metadata": {},
   "outputs": [
    {
     "data": {
      "text/plain": [
       "[(1, 1),\n",
       " (1, 2),\n",
       " (1, 3),\n",
       " (1, 4),\n",
       " (2, 1),\n",
       " (2, 2),\n",
       " (2, 3),\n",
       " (2, 4),\n",
       " (3, 1),\n",
       " (3, 2),\n",
       " (3, 3),\n",
       " (3, 4),\n",
       " (4, 1),\n",
       " (4, 2),\n",
       " (4, 3),\n",
       " (4, 4)]"
      ]
     },
     "execution_count": 110,
     "metadata": {},
     "output_type": "execute_result"
    }
   ],
   "source": [
    "seed_list"
   ]
  },
  {
   "cell_type": "code",
   "execution_count": 111,
   "id": "b3f4bc62-9ce8-45fc-b2a5-eeb03b4f0373",
   "metadata": {},
   "outputs": [
    {
     "data": {
      "text/plain": [
       "16"
      ]
     },
     "execution_count": 111,
     "metadata": {},
     "output_type": "execute_result"
    }
   ],
   "source": [
    "len(combination_list)"
   ]
  },
  {
   "cell_type": "code",
   "execution_count": 112,
   "id": "d157ef99-21c8-4edb-8d57-069087a50db1",
   "metadata": {},
   "outputs": [
    {
     "data": {
      "text/plain": [
       "(1, 3)"
      ]
     },
     "execution_count": 112,
     "metadata": {},
     "output_type": "execute_result"
    }
   ],
   "source": [
    "seed_list[2]"
   ]
  },
  {
   "cell_type": "code",
   "execution_count": 113,
   "id": "2b019b30-3b99-403b-9fb4-744aee18afde",
   "metadata": {},
   "outputs": [
    {
     "data": {
      "text/plain": [
       "3"
      ]
     },
     "execution_count": 113,
     "metadata": {},
     "output_type": "execute_result"
    }
   ],
   "source": [
    "seed_list[2][1]"
   ]
  },
  {
   "cell_type": "code",
   "execution_count": 114,
   "id": "01ffcae6-8327-4dc6-b49a-f2b5774c7b55",
   "metadata": {},
   "outputs": [],
   "source": [
    "# 상하좌우, 대각선, 상하좌우 2칸씩 띄기\n",
    "ban_condition_x = [0, -1,-1,-1,0,0,1,1,1, -2,0,0,2]\n",
    "ban_condition_y = [0, -1,0,1,-1,1,-1,0,1, 0,-2,2,0]"
   ]
  },
  {
   "cell_type": "code",
   "execution_count": 115,
   "id": "4d7a9b6f-8852-4c26-81fa-f373afc605e9",
   "metadata": {},
   "outputs": [],
   "source": [
    "def ban_confirm(seed_1, seed_2):\n",
    "    x = seed_1[0]\n",
    "    y = seed_1[1]\n",
    "    \n",
    "    for z in range(13):\n",
    "        nx = x + ban_condition_x[z]\n",
    "        ny = y + ban_condition_y[z]\n",
    "#         print((nx,ny))\n",
    "        if (nx,ny) == seed_2:\n",
    "            return False # 하나라도 충돌이 있으면 False\n",
    "        else:\n",
    "            continue\n",
    "            \n",
    "    return True # 모두 충돌하지 않는다면 True"
   ]
  },
  {
   "cell_type": "code",
   "execution_count": 116,
   "id": "d698ef59-3e61-4d7e-b92d-e2672b3db655",
   "metadata": {},
   "outputs": [
    {
     "name": "stdout",
     "output_type": "stream",
     "text": [
      "False\n"
     ]
    }
   ],
   "source": [
    "seed_1 = (1,1)\n",
    "seed_2 = (1,3)\n",
    "print(ban_confirm(seed_1, seed_2))"
   ]
  },
  {
   "cell_type": "code",
   "execution_count": 117,
   "id": "04f98171-6c95-4222-95c4-9792b933b01b",
   "metadata": {},
   "outputs": [
    {
     "data": {
      "text/plain": [
       "False"
      ]
     },
     "execution_count": 117,
     "metadata": {},
     "output_type": "execute_result"
    }
   ],
   "source": [
    "(1,1) == (1,2)"
   ]
  },
  {
   "cell_type": "code",
   "execution_count": 118,
   "id": "338824a4-ab0b-4054-9f33-f89d3853b8d5",
   "metadata": {},
   "outputs": [
    {
     "name": "stdout",
     "output_type": "stream",
     "text": [
      "i:0, j:3, k:9\n",
      "i:0, j:3, k:10\n",
      "i:0, j:3, k:14\n",
      "i:0, j:6, k:15\n"
     ]
    }
   ],
   "source": [
    "all_cost = []\n",
    "length = len(seed_list)\n",
    "min_cost = 1001\n",
    "\n",
    "for i in range(0, length):\n",
    "    for j in range(1, length):\n",
    "        for k in range(2, length):\n",
    "            # i,j,k 가 가능한 조합인지 파악\n",
    "            seed_1 = seed_list[i]\n",
    "            seed_2 = seed_list[j]\n",
    "            seed_3 = seed_list[k]\n",
    "            \n",
    "            # 모두 True 일 때, 3가지 씨앗이 가능한 경우이므로 최소 비용 저장\n",
    "            if(ban_confirm(seed_1, seed_2) and ban_confirm(seed_1, seed_3) and ban_confirm(seed_2, seed_3)):\n",
    "                cost = sum_list[i] + sum_list[j] + sum_list[k]\n",
    "\n",
    "                # 최소 비용 저장\n",
    "                if cost < min_cost:\n",
    "                    min_cost = cost\n",
    "                    print(f'i:{i}, j:{j}, k:{k}')"
   ]
  },
  {
   "cell_type": "code",
   "execution_count": 119,
   "id": "b33ddc4c-b11f-49cd-a28e-2e252c6e9561",
   "metadata": {
    "tags": []
   },
   "outputs": [
    {
     "data": {
      "text/plain": [
       "12"
      ]
     },
     "execution_count": 119,
     "metadata": {},
     "output_type": "execute_result"
    }
   ],
   "source": [
    "min_cost"
   ]
  },
  {
   "cell_type": "code",
   "execution_count": null,
   "id": "3389f983-b043-41d3-9b22-169e06b113a3",
   "metadata": {},
   "outputs": [],
   "source": []
  }
 ],
 "metadata": {
  "kernelspec": {
   "display_name": "Python 3 (ipykernel)",
   "language": "python",
   "name": "python3"
  },
  "language_info": {
   "codemirror_mode": {
    "name": "ipython",
    "version": 3
   },
   "file_extension": ".py",
   "mimetype": "text/x-python",
   "name": "python",
   "nbconvert_exporter": "python",
   "pygments_lexer": "ipython3",
   "version": "3.8.11"
  }
 },
 "nbformat": 4,
 "nbformat_minor": 5
}
