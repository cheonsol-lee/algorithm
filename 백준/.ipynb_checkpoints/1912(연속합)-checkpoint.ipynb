{
 "cells": [
  {
   "cell_type": "code",
   "execution_count": 54,
   "id": "b53a2b02-de0b-404f-8cf9-46b1bb5f0bc4",
   "metadata": {},
   "outputs": [],
   "source": [
    "n = int(input())\n",
    "arr = list(map(int, input().split()))\n",
    "\n",
    "dp = [arr[0]]\n",
    "\n",
    "# 이전까지의 최대합과 뒤의 값의 합, 뒤의 값 => 최대값 저장\n",
    "for i in range(1, n):\n",
    "    dp.append(max(dp[i-1] + arr[i], arr[i]))\n",
    "\n",
    "print(max(dp))"
   ]
  },
  {
   "cell_type": "code",
   "execution_count": null,
   "id": "24c92c68-f8d8-47a9-995c-06d9d645affb",
   "metadata": {},
   "outputs": [],
   "source": []
  }
 ],
 "metadata": {
  "kernelspec": {
   "display_name": "Python 3",
   "language": "python",
   "name": "python3"
  },
  "language_info": {
   "codemirror_mode": {
    "name": "ipython",
    "version": 3
   },
   "file_extension": ".py",
   "mimetype": "text/x-python",
   "name": "python",
   "nbconvert_exporter": "python",
   "pygments_lexer": "ipython3",
   "version": "3.7.0"
  }
 },
 "nbformat": 4,
 "nbformat_minor": 5
}
