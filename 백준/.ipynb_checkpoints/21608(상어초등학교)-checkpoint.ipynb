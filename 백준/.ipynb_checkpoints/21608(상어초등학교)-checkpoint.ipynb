{
 "cells": [
  {
   "cell_type": "markdown",
   "id": "09e7be38-5a7c-4400-a40b-49d2cda449c4",
   "metadata": {},
   "source": [
    "'''\n",
    "3\n",
    "4 2 5 1 7\n",
    "3 1 9 4 5\n",
    "9 8 1 2 3\n",
    "8 1 9 3 4\n",
    "7 2 3 4 8\n",
    "1 9 2 5 7\n",
    "6 5 2 3 4\n",
    "5 1 9 2 8\n",
    "2 9 3 1 4\n",
    "\n",
    "3\n",
    "4 2 5 1 7\n",
    "2 1 9 4 5\n",
    "5 8 1 4 3\n",
    "1 2 9 3 4\n",
    "7 2 3 4 8\n",
    "9 8 4 5 7\n",
    "6 5 2 3 4\n",
    "8 4 9 2 1\n",
    "3 9 2 1 4\n",
    "\n",
    "3\n",
    "7 9 3 8 2\n",
    "5 7 3 8 6\n",
    "3 5 2 4 9\n",
    "9 6 8 3 4\n",
    "8 5 3 1 6\n",
    "6 3 8 5 4\n",
    "2 6 4 8 7\n",
    "1 8 3 4 5\n",
    "4 7 9 3 8\n",
    "'''"
   ]
  },
  {
   "cell_type": "code",
   "execution_count": 1176,
   "id": "cef0a16e-c60f-44b4-8816-db862224ebbf",
   "metadata": {},
   "outputs": [],
   "source": [
    "import numpy as np"
   ]
  },
  {
   "cell_type": "code",
   "execution_count": 1177,
   "id": "26faaf1a-4da9-4834-b84c-20fcf632df52",
   "metadata": {},
   "outputs": [
    {
     "name": "stdin",
     "output_type": "stream",
     "text": [
      " 3\n"
     ]
    }
   ],
   "source": [
    "N = int(input())"
   ]
  },
  {
   "cell_type": "code",
   "execution_count": 1178,
   "id": "cd6c6be8-263a-4906-ac40-70038e3ccef9",
   "metadata": {},
   "outputs": [],
   "source": [
    "like_list = [0 for i in range(N*N + 1)] # 인덱스(학생 번호)별로 좋아하는 사람 목록, 0번은 없으므로 비움"
   ]
  },
  {
   "cell_type": "code",
   "execution_count": 1179,
   "id": "c67711e8-09b7-4a38-b333-d7b13bd70480",
   "metadata": {},
   "outputs": [
    {
     "name": "stdin",
     "output_type": "stream",
     "text": [
      " 7 9 3 8 2\n",
      " 5 7 3 8 6\n",
      " 3 5 2 4 9\n",
      " 9 6 8 3 4\n",
      " 8 5 3 1 6\n",
      " 6 3 8 5 4\n",
      " 2 6 4 8 7\n",
      " 1 8 3 4 5\n",
      " 4 7 9 3 8\n"
     ]
    }
   ],
   "source": [
    "order_list = [] # 학생 자리 지정 순서\n",
    "for i in range(N*N):\n",
    "    input_list = list(map(int, input().split()))\n",
    "    order_list.append(input_list[0])\n",
    "    like_list[input_list[0]] = input_list[1:]"
   ]
  },
  {
   "cell_type": "code",
   "execution_count": 1180,
   "id": "edb292f6-6750-4b47-9085-6fab2e805b87",
   "metadata": {},
   "outputs": [
    {
     "data": {
      "text/plain": [
       "[7, 5, 3, 9, 8, 6, 2, 1, 4]"
      ]
     },
     "execution_count": 1180,
     "metadata": {},
     "output_type": "execute_result"
    }
   ],
   "source": [
    "order_list"
   ]
  },
  {
   "cell_type": "code",
   "execution_count": 1181,
   "id": "85aee7bd-6295-412f-86f5-ef50ee8d60d1",
   "metadata": {},
   "outputs": [
    {
     "data": {
      "text/plain": [
       "[0,\n",
       " [8, 3, 4, 5],\n",
       " [6, 4, 8, 7],\n",
       " [5, 2, 4, 9],\n",
       " [7, 9, 3, 8],\n",
       " [7, 3, 8, 6],\n",
       " [3, 8, 5, 4],\n",
       " [9, 3, 8, 2],\n",
       " [5, 3, 1, 6],\n",
       " [6, 8, 3, 4]]"
      ]
     },
     "execution_count": 1181,
     "metadata": {},
     "output_type": "execute_result"
    }
   ],
   "source": [
    "like_list"
   ]
  },
  {
   "cell_type": "code",
   "execution_count": 1182,
   "id": "5bb6ca1c-42c1-4c25-bd1f-40e45626c014",
   "metadata": {},
   "outputs": [],
   "source": [
    "# 전역변수: 데이터 저장\n",
    "data_map = np.array([[0 for i in range(N+1)] for j in range(N+1)]) # 학생 지정 자리 저장\n",
    "\n",
    "# 전역변수: 데이터 조회 유무\n",
    "check_map = np.array([])\n",
    "for i in range(N+1):\n",
    "    for j in range(N+1):\n",
    "        if i==0 or j==0:\n",
    "            check_map = np.append(check_map, [0]) # 조회 함 (0행 또는 0열의 위치는 0으로 표기)\n",
    "        else:\n",
    "            check_map = np.append(check_map, [1]) # 조회 안함            \n",
    "check_map = np.reshape(check_map, (N+1,N+1))\n",
    "\n",
    "# 전역변수: 인접 위치에 좋아하는 학생 수\n",
    "count_like_map = np.array([[0 for i in range(N+1)] for j in range(N+1)]) \n",
    "\n",
    "# 전역변수: 인접 위치에 빈 자리 수 \n",
    "count_vacant_map = np.array([[0 for i in range(N+1)] for j in range(N+1)])  "
   ]
  },
  {
   "cell_type": "code",
   "execution_count": 1183,
   "id": "bba3bd1a-8095-48ed-9120-20ab1f42008b",
   "metadata": {},
   "outputs": [
    {
     "data": {
      "text/plain": [
       "array([[0., 0., 0., 0.],\n",
       "       [0., 1., 1., 1.],\n",
       "       [0., 1., 1., 1.],\n",
       "       [0., 1., 1., 1.]])"
      ]
     },
     "execution_count": 1183,
     "metadata": {},
     "output_type": "execute_result"
    }
   ],
   "source": [
    "check_map"
   ]
  },
  {
   "cell_type": "code",
   "execution_count": 1184,
   "id": "3115462e-325c-4bcd-b785-7e8679c96808",
   "metadata": {},
   "outputs": [
    {
     "data": {
      "text/plain": [
       "array([[0, 0, 0, 0],\n",
       "       [0, 0, 0, 0],\n",
       "       [0, 0, 0, 0],\n",
       "       [0, 0, 0, 0]])"
      ]
     },
     "execution_count": 1184,
     "metadata": {},
     "output_type": "execute_result"
    }
   ],
   "source": [
    "data_map"
   ]
  },
  {
   "cell_type": "code",
   "execution_count": 1185,
   "id": "43c7aabc-9ba4-4711-b32c-527cdb20f077",
   "metadata": {},
   "outputs": [],
   "source": [
    "# 자리계산 또는 만족도 계산용\n",
    "def count_like_and_vacant_map(num, satisfaction=False):\n",
    "    global data_map, check_map, count_like_map, count_vacant_map\n",
    "    di = [-1, 1, 0, 0]\n",
    "    dj = [0, 0, -1, 1]\n",
    "\n",
    "    for i in range(1, N+1):\n",
    "        for j in range(1, N+1):\n",
    "            # 만족도 함수용으로 사용할 때\n",
    "            if satisfaction:\n",
    "                num = data_map[i][j]\n",
    "            \n",
    "            count_like = 0 # 인접 칸의 좋아하는 학생 수\n",
    "            count_vacant = 0 # 인접 칸의빈칸 수\n",
    "\n",
    "            # 인접 칸 탐색\n",
    "            for k in range(4):\n",
    "                ni = i + di[k]\n",
    "                nj = j + dj[k]\n",
    "\n",
    "                # 데이터 범위 벗어나면 무시\n",
    "                if(ni>N or ni<1 or nj>N or nj<1):\n",
    "                    continue\n",
    "\n",
    "                adj_num = data_map[ni][nj] # 인접 칸의 좋아하는 학생 번호\n",
    "\n",
    "                # 자리를 배치할 학생 번호(num)의 선호 리스트에 있는지 조회\n",
    "                count_like   += adj_num in like_list[num] # 인접 칸의 좋아하는 학생 수 합\n",
    "                count_vacant += check_map[ni][nj] == 1 # 인접 칸의 빈자리 수 합\n",
    "\n",
    "            count_like_map[i][j]   = count_like # 좋아하는 학생 수 기록\n",
    "            count_vacant_map[i][j] = count_vacant # 빈칸 수 기록"
   ]
  },
  {
   "cell_type": "code",
   "execution_count": 1186,
   "id": "46f60847-9bd2-4135-ab5f-cf36a8786a05",
   "metadata": {},
   "outputs": [],
   "source": [
    "# 문제 조건처리 함수\n",
    "def problem_condition():\n",
    "    global data_map, check_map, count_like_map, count_vacant_map\n",
    "    \n",
    "    # condition1\n",
    "    if(sum(np.ravel(count_like_map, order='C')) == 0):\n",
    "        tmp = check_map + count_like_map\n",
    "    else:\n",
    "        tmp = check_map * count_like_map \n",
    "    # 원소 개수 == 1\n",
    "    if(np.count_nonzero(np.ravel(tmp, order='C') != 0) == 1):\n",
    "        final_index = np.where(np.ravel(tmp, order='C') != 0)[0][0]\n",
    "#         print('condition 1')\n",
    "        return final_index\n",
    "    \n",
    "    # condition2\n",
    "    tmp2 = tmp * count_vacant_map\n",
    "    if(sum(np.ravel(tmp2, order='C')) == 0):\n",
    "        # 원소가 모두 0일 때\n",
    "        # 좋아하는 학생이 인접한 칸과 빈자리가 인접한 칸이 겹치지 않는 경우\n",
    "        tmp2 = tmp \n",
    "\n",
    "    # 원소 개수 == 1\n",
    "    if(np.count_nonzero(np.ravel(tmp2, order='C') != 0) == 1):\n",
    "        final_index = np.where(np.ravel(tmp2, order='C') != 0)[0][0]\n",
    "#         print('condition 2')\n",
    "        return final_index\n",
    "    \n",
    "    # condition3\n",
    "    final_index = np.argmax(tmp2)\n",
    "#     print('condition 3')\n",
    "    return final_index"
   ]
  },
  {
   "cell_type": "code",
   "execution_count": 1283,
   "id": "cdefb040-65b5-4343-8bd1-bda3bc209ab8",
   "metadata": {},
   "outputs": [
    {
     "data": {
      "text/plain": [
       "[7, 5, 3, 9, 8, 6, 2, 1, 4]"
      ]
     },
     "execution_count": 1283,
     "metadata": {},
     "output_type": "execute_result"
    }
   ],
   "source": [
    "order_list"
   ]
  },
  {
   "cell_type": "code",
   "execution_count": 1303,
   "id": "7d1ead2a-0450-4afb-9482-cefefe01aba2",
   "metadata": {},
   "outputs": [
    {
     "data": {
      "text/plain": [
       "array([[0, 0, 0, 0],\n",
       "       [0, 3, 5, 8],\n",
       "       [0, 9, 7, 6],\n",
       "       [0, 0, 0, 0]])"
      ]
     },
     "execution_count": 1303,
     "metadata": {},
     "output_type": "execute_result"
    }
   ],
   "source": [
    "data_map"
   ]
  },
  {
   "cell_type": "code",
   "execution_count": 1304,
   "id": "965e15a6-fecf-4339-8548-7da890b58712",
   "metadata": {},
   "outputs": [
    {
     "data": {
      "text/plain": [
       "array([[0., 0., 0., 0.],\n",
       "       [0., 0., 0., 0.],\n",
       "       [0., 0., 0., 0.],\n",
       "       [0., 1., 1., 1.]])"
      ]
     },
     "execution_count": 1304,
     "metadata": {},
     "output_type": "execute_result"
    }
   ],
   "source": [
    "check_map"
   ]
  },
  {
   "cell_type": "code",
   "execution_count": 1305,
   "id": "12dfe5be-b9fe-454f-8970-29a76f6312a9",
   "metadata": {},
   "outputs": [],
   "source": [
    "stu_id = 2\n",
    "count_like_and_vacant_map(stu_id)"
   ]
  },
  {
   "cell_type": "code",
   "execution_count": 1306,
   "id": "14e2fbd4-2792-4f8e-b393-85ffc083a3f2",
   "metadata": {},
   "outputs": [
    {
     "data": {
      "text/plain": [
       "array([[0, 0, 0, 0],\n",
       "       [0, 1, 2, 1],\n",
       "       [0, 1, 1, 1],\n",
       "       [0, 0, 0, 0]])"
      ]
     },
     "execution_count": 1306,
     "metadata": {},
     "output_type": "execute_result"
    }
   ],
   "source": [
    "count_like_map"
   ]
  },
  {
   "cell_type": "code",
   "execution_count": 1307,
   "id": "7283c7d2-18b4-4f07-a408-7d5718131154",
   "metadata": {},
   "outputs": [
    {
     "data": {
      "text/plain": [
       "array([[0, 0, 0, 0],\n",
       "       [0, 0, 0, 0],\n",
       "       [0, 1, 1, 1],\n",
       "       [0, 1, 2, 1]])"
      ]
     },
     "execution_count": 1307,
     "metadata": {},
     "output_type": "execute_result"
    }
   ],
   "source": [
    "count_vacant_map"
   ]
  },
  {
   "cell_type": "code",
   "execution_count": 1311,
   "id": "a32d46a5-bb18-4475-93e2-625e26206a6e",
   "metadata": {},
   "outputs": [
    {
     "data": {
      "text/plain": [
       "7"
      ]
     },
     "execution_count": 1311,
     "metadata": {},
     "output_type": "execute_result"
    }
   ],
   "source": [
    "sum(np.ravel(count_like_map, order='C'))"
   ]
  },
  {
   "cell_type": "code",
   "execution_count": 1312,
   "id": "13d59b8d-2f1e-403b-a89e-ea02f99b0a2b",
   "metadata": {},
   "outputs": [],
   "source": [
    "# condition1\n",
    "if(sum(np.ravel(count_like_map, order='C')) == 0):\n",
    "    tmp = check_map + count_like_map\n",
    "else:\n",
    "    tmp = check_map * count_like_map \n",
    "    "
   ]
  },
  {
   "cell_type": "code",
   "execution_count": 1314,
   "id": "003a1bdd-aeda-495c-b261-7b6d2f7b1352",
   "metadata": {},
   "outputs": [],
   "source": []
  },
  {
   "cell_type": "code",
   "execution_count": 1315,
   "id": "e06355b8-0fe2-45b6-80f1-abcea3cb7383",
   "metadata": {},
   "outputs": [],
   "source": [
    "if(sum(np.ravel(tmp, order='C')) == 0):\n",
    "    tmp = check_map"
   ]
  },
  {
   "cell_type": "code",
   "execution_count": 1318,
   "id": "2543fccb-36cd-4316-aeca-b7b62269c5f5",
   "metadata": {},
   "outputs": [
    {
     "data": {
      "text/plain": [
       "array([[0., 0., 0., 0.],\n",
       "       [0., 0., 0., 0.],\n",
       "       [0., 0., 0., 0.],\n",
       "       [0., 1., 1., 1.]])"
      ]
     },
     "execution_count": 1318,
     "metadata": {},
     "output_type": "execute_result"
    }
   ],
   "source": [
    "tmp"
   ]
  },
  {
   "cell_type": "code",
   "execution_count": 1316,
   "id": "a24085a6-e995-47fa-a976-556343c6c198",
   "metadata": {},
   "outputs": [],
   "source": [
    "# 원소 개수 == 1\n",
    "if(np.count_nonzero(np.ravel(tmp, order='C') != 0) == 1):\n",
    "    final_index = np.where(np.ravel(tmp, order='C') != 0)[0][0]\n",
    "#         print('condition 1')\n",
    "#     return final_index"
   ]
  },
  {
   "cell_type": "code",
   "execution_count": 1322,
   "id": "9b20954d-6df1-483d-8c74-afd945f58bb6",
   "metadata": {},
   "outputs": [
    {
     "data": {
      "text/plain": [
       "array([[0, 0, 0, 0],\n",
       "       [0, 0, 0, 0],\n",
       "       [0, 1, 1, 1],\n",
       "       [0, 1, 2, 1]])"
      ]
     },
     "execution_count": 1322,
     "metadata": {},
     "output_type": "execute_result"
    }
   ],
   "source": [
    "count_vacant_map"
   ]
  },
  {
   "cell_type": "code",
   "execution_count": 1323,
   "id": "da1de9cc-3a02-4e56-9060-164cc12aa07c",
   "metadata": {},
   "outputs": [],
   "source": [
    "# condition2\n",
    "tmp2 = tmp * count_vacant_map"
   ]
  },
  {
   "cell_type": "code",
   "execution_count": 1324,
   "id": "f6fd25ff-e98a-4248-a185-b9f9d1c5773f",
   "metadata": {},
   "outputs": [
    {
     "data": {
      "text/plain": [
       "array([[0., 0., 0., 0.],\n",
       "       [0., 0., 0., 0.],\n",
       "       [0., 0., 0., 0.],\n",
       "       [0., 1., 2., 1.]])"
      ]
     },
     "execution_count": 1324,
     "metadata": {},
     "output_type": "execute_result"
    }
   ],
   "source": [
    "tmp2"
   ]
  },
  {
   "cell_type": "code",
   "execution_count": 1325,
   "id": "9d0abc0e-eb58-40ef-95ca-39dab2bebc85",
   "metadata": {},
   "outputs": [
    {
     "data": {
      "text/plain": [
       "3"
      ]
     },
     "execution_count": 1325,
     "metadata": {},
     "output_type": "execute_result"
    }
   ],
   "source": [
    "np.count_nonzero(np.ravel(tmp2, order='C') != 0)"
   ]
  },
  {
   "cell_type": "code",
   "execution_count": 1326,
   "id": "eb8d016a-d870-4b6a-b1ac-9450453af306",
   "metadata": {},
   "outputs": [
    {
     "data": {
      "text/plain": [
       "array([[0., 0., 0., 0.],\n",
       "       [0., 0., 0., 0.],\n",
       "       [0., 0., 0., 0.],\n",
       "       [0., 1., 1., 1.]])"
      ]
     },
     "execution_count": 1326,
     "metadata": {},
     "output_type": "execute_result"
    }
   ],
   "source": [
    "check_map"
   ]
  },
  {
   "cell_type": "code",
   "execution_count": 1327,
   "id": "abcee2d6-2cad-46c7-ba7d-9dbd178c02e7",
   "metadata": {},
   "outputs": [
    {
     "data": {
      "text/plain": [
       "array([[0., 0., 0., 0.],\n",
       "       [0., 0., 0., 0.],\n",
       "       [0., 0., 0., 0.],\n",
       "       [0., 1., 2., 1.]])"
      ]
     },
     "execution_count": 1327,
     "metadata": {},
     "output_type": "execute_result"
    }
   ],
   "source": [
    "tmp2"
   ]
  },
  {
   "cell_type": "code",
   "execution_count": 1328,
   "id": "8843accb-9046-4cc9-aa48-de68209bb391",
   "metadata": {},
   "outputs": [],
   "source": [
    "# condition2\n",
    "if(sum(np.ravel(tmp2, order='C')) == 0):\n",
    "    tmp2 = tmp"
   ]
  },
  {
   "cell_type": "code",
   "execution_count": 1329,
   "id": "3fecc3df-65d8-4896-a6ff-a588a504fc7e",
   "metadata": {},
   "outputs": [
    {
     "data": {
      "text/plain": [
       "array([[0., 0., 0., 0.],\n",
       "       [0., 0., 0., 0.],\n",
       "       [0., 0., 0., 0.],\n",
       "       [0., 1., 2., 1.]])"
      ]
     },
     "execution_count": 1329,
     "metadata": {},
     "output_type": "execute_result"
    }
   ],
   "source": [
    "tmp2"
   ]
  },
  {
   "cell_type": "code",
   "execution_count": 1330,
   "id": "9532fd6e-a644-4ca9-9550-7c65f88d1100",
   "metadata": {},
   "outputs": [],
   "source": [
    "# 원소 개수 == 1\n",
    "if(np.count_nonzero(np.ravel(tmp2, order='C') != 0) == 1):\n",
    "    final_index = np.where(np.ravel(tmp2, order='C') != 0)[0][0]\n",
    "#         print('condition 2')\n",
    "#     return final_index"
   ]
  },
  {
   "cell_type": "code",
   "execution_count": 1331,
   "id": "a66038ad-96a9-4115-9a84-11da9b698065",
   "metadata": {},
   "outputs": [],
   "source": [
    "# condition3\n",
    "final_index = np.argmax(tmp2)\n",
    "#     print('condition 3')\n",
    "# return final_index"
   ]
  },
  {
   "cell_type": "code",
   "execution_count": 1332,
   "id": "13533d69-5d4d-4f14-b9cc-97325d8e1703",
   "metadata": {},
   "outputs": [
    {
     "data": {
      "text/plain": [
       "14"
      ]
     },
     "execution_count": 1332,
     "metadata": {},
     "output_type": "execute_result"
    }
   ],
   "source": [
    "final_index"
   ]
  },
  {
   "cell_type": "code",
   "execution_count": 1333,
   "id": "a158d840-1538-4bf4-a91c-6fdabbebbf62",
   "metadata": {},
   "outputs": [],
   "source": [
    "# 최종의 행, 열\n",
    "fi = final_index // (N + 1)# 행\n",
    "fj = final_index % (N + 1) # 열\n",
    "\n",
    "data_map[fi][fj] = stu_id # 자리 배치 기록\n",
    "check_map[fi][fj] = 0 # 조회 기록"
   ]
  },
  {
   "cell_type": "code",
   "execution_count": 1336,
   "id": "79065ff3-8dd4-40a2-a811-b607d935e9fd",
   "metadata": {},
   "outputs": [
    {
     "data": {
      "text/plain": [
       "array([[0, 0, 0, 0],\n",
       "       [0, 3, 5, 8],\n",
       "       [0, 9, 7, 6],\n",
       "       [0, 0, 0, 0]])"
      ]
     },
     "execution_count": 1336,
     "metadata": {},
     "output_type": "execute_result"
    }
   ],
   "source": [
    "data_map"
   ]
  },
  {
   "cell_type": "code",
   "execution_count": null,
   "id": "91e6a4b7-11de-4ef1-b568-3a62d9a75f24",
   "metadata": {},
   "outputs": [],
   "source": []
  },
  {
   "cell_type": "code",
   "execution_count": null,
   "id": "4ee0dc1e-232b-49d3-8317-2fb77e5b3e7e",
   "metadata": {},
   "outputs": [],
   "source": []
  },
  {
   "cell_type": "code",
   "execution_count": null,
   "id": "8b9ebe11-38d7-4555-82e1-0b9200757702",
   "metadata": {},
   "outputs": [],
   "source": []
  },
  {
   "cell_type": "code",
   "execution_count": 1335,
   "id": "c2e41f7c-0fec-4792-93f1-09249e80cf9f",
   "metadata": {},
   "outputs": [],
   "source": [
    "data_map[3][2] = 0 # 자리 배치 기록\n",
    "check_map[3][2] = 1"
   ]
  },
  {
   "cell_type": "code",
   "execution_count": null,
   "id": "d621bf3a-3ef6-444a-92af-88c70f02d792",
   "metadata": {},
   "outputs": [],
   "source": []
  },
  {
   "cell_type": "code",
   "execution_count": null,
   "id": "3359c7e1-8e78-47a6-bf32-644a27c1944b",
   "metadata": {},
   "outputs": [],
   "source": []
  },
  {
   "cell_type": "code",
   "execution_count": null,
   "id": "cf442113-d439-453c-8a42-c72ad84a9e74",
   "metadata": {},
   "outputs": [],
   "source": []
  },
  {
   "cell_type": "code",
   "execution_count": 1167,
   "id": "4006dcd6-e63d-4d35-a782-48a9e9d339e5",
   "metadata": {},
   "outputs": [],
   "source": [
    "# solve1 : 자리 배치\n",
    "for stu_id in order_list:\n",
    "#     print(stu_id)\n",
    "    count_like_and_vacant_map(stu_id)\n",
    "    final_index = problem_condition()\n",
    "    \n",
    "    # 최종의 행, 열\n",
    "    fi = final_index // (N + 1)# 행\n",
    "    fj = final_index % (N + 1) # 열\n",
    "    \n",
    "    data_map[fi][fj] = stu_id # 자리 배치 기록\n",
    "    check_map[fi][fj] = 0 # 조회 기록"
   ]
  },
  {
   "cell_type": "code",
   "execution_count": 1168,
   "id": "1b568f11-5ad3-44e9-bde4-c58fc9444da8",
   "metadata": {},
   "outputs": [
    {
     "data": {
      "text/plain": [
       "array([[0, 0, 0, 0],\n",
       "       [0, 6, 2, 8],\n",
       "       [0, 5, 4, 1],\n",
       "       [0, 9, 7, 3]])"
      ]
     },
     "execution_count": 1168,
     "metadata": {},
     "output_type": "execute_result"
    }
   ],
   "source": [
    "data_map"
   ]
  },
  {
   "cell_type": "code",
   "execution_count": 1169,
   "id": "a6d62b1f-adea-421d-a091-0a803046474b",
   "metadata": {},
   "outputs": [
    {
     "data": {
      "text/plain": [
       "array([[0., 0., 0., 0.],\n",
       "       [0., 0., 0., 0.],\n",
       "       [0., 0., 0., 0.],\n",
       "       [0., 0., 0., 0.]])"
      ]
     },
     "execution_count": 1169,
     "metadata": {},
     "output_type": "execute_result"
    }
   ],
   "source": [
    "check_map"
   ]
  },
  {
   "cell_type": "code",
   "execution_count": 1171,
   "id": "91d4a94f-2343-4265-9c46-367c55aa6477",
   "metadata": {},
   "outputs": [
    {
     "data": {
      "text/plain": [
       "array([[0, 0, 0, 0],\n",
       "       [0, 1, 1, 2],\n",
       "       [0, 2, 2, 1],\n",
       "       [0, 0, 2, 1]])"
      ]
     },
     "execution_count": 1171,
     "metadata": {},
     "output_type": "execute_result"
    }
   ],
   "source": [
    "count_like_map"
   ]
  },
  {
   "cell_type": "code",
   "execution_count": 1172,
   "id": "1ef6acbe-bcbd-4d0a-9147-6f6a480f1c6e",
   "metadata": {},
   "outputs": [
    {
     "name": "stdout",
     "output_type": "stream",
     "text": [
      "satisfaction\n",
      "satisfaction\n",
      "satisfaction\n",
      "satisfaction\n",
      "satisfaction\n",
      "satisfaction\n",
      "satisfaction\n",
      "satisfaction\n",
      "satisfaction\n"
     ]
    }
   ],
   "source": [
    "# solve2 : 만족도 계산\n",
    "count_like_and_vacant_map(num=-1, satisfaction=True)\n",
    "satis_list = np.ravel(count_like_map, order='C')\n",
    "number, count = np.unique(satis_list, return_counts=True)\n",
    "satis_dict = dict(zip(number, count)) # 학생별 만족도 수치 dictionary\n",
    "\n",
    "# 만족도 조건사항\n",
    "number = np.array([0,1,2,3,4])\n",
    "point = np.array([0,1,10,100,1000])\n",
    "score_dict = dict(zip(number, point)) # 만족도 조건 dictionary"
   ]
  },
  {
   "cell_type": "code",
   "execution_count": 1173,
   "id": "e9c07271-9da4-40ef-8c91-ae36e5965658",
   "metadata": {},
   "outputs": [
    {
     "name": "stdout",
     "output_type": "stream",
     "text": [
      "0\n",
      "1\n",
      "2\n",
      "4\n"
     ]
    }
   ],
   "source": [
    "final_point = 0\n",
    "for i in satis_dict:\n",
    "    print(i)\n",
    "    final_point += satis_dict[i] * score_dict[i]"
   ]
  },
  {
   "cell_type": "code",
   "execution_count": 1174,
   "id": "feb742f4-b7fd-46ed-a67a-41dd43cd3357",
   "metadata": {},
   "outputs": [
    {
     "data": {
      "text/plain": [
       "1053"
      ]
     },
     "execution_count": 1174,
     "metadata": {},
     "output_type": "execute_result"
    }
   ],
   "source": [
    "final_point"
   ]
  },
  {
   "cell_type": "code",
   "execution_count": null,
   "id": "07003adf-0cdb-46ae-b43f-a92ebefb8175",
   "metadata": {},
   "outputs": [],
   "source": []
  }
 ],
 "metadata": {
  "kernelspec": {
   "display_name": "Python 3 (ipykernel)",
   "language": "python",
   "name": "python3"
  },
  "language_info": {
   "codemirror_mode": {
    "name": "ipython",
    "version": 3
   },
   "file_extension": ".py",
   "mimetype": "text/x-python",
   "name": "python",
   "nbconvert_exporter": "python",
   "pygments_lexer": "ipython3",
   "version": "3.8.11"
  }
 },
 "nbformat": 4,
 "nbformat_minor": 5
}
