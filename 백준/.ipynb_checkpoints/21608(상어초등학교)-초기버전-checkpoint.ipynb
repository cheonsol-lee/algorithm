{
 "cells": [
  {
   "cell_type": "markdown",
   "id": "09e7be38-5a7c-4400-a40b-49d2cda449c4",
   "metadata": {},
   "source": [
    "'''\n",
    "3\n",
    "4 2 5 1 7\n",
    "3 1 9 4 5\n",
    "9 8 1 2 3\n",
    "8 1 9 3 4\n",
    "7 2 3 4 8\n",
    "1 9 2 5 7\n",
    "6 5 2 3 4\n",
    "5 1 9 2 8\n",
    "2 9 3 1 4\n",
    "'''"
   ]
  },
  {
   "cell_type": "code",
   "execution_count": 9,
   "id": "cef0a16e-c60f-44b4-8816-db862224ebbf",
   "metadata": {},
   "outputs": [],
   "source": [
    "import numpy as np"
   ]
  },
  {
   "cell_type": "code",
   "execution_count": 10,
   "id": "26faaf1a-4da9-4834-b84c-20fcf632df52",
   "metadata": {},
   "outputs": [
    {
     "name": "stdin",
     "output_type": "stream",
     "text": [
      " 3\n"
     ]
    }
   ],
   "source": [
    "N = int(input())"
   ]
  },
  {
   "cell_type": "code",
   "execution_count": 11,
   "id": "cd6c6be8-263a-4906-ac40-70038e3ccef9",
   "metadata": {},
   "outputs": [],
   "source": [
    "like_list = [0 for i in range(N*N + 1)] # 인덱스(학생 번호)별로 좋아하는 사람 목록, 0번은 없으므로 비움"
   ]
  },
  {
   "cell_type": "code",
   "execution_count": 12,
   "id": "0d4cd1d6-4bc8-4df5-a4f2-f888cedfe02e",
   "metadata": {},
   "outputs": [
    {
     "data": {
      "text/plain": [
       "[0, 0, 0, 0, 0, 0, 0, 0, 0, 0]"
      ]
     },
     "execution_count": 12,
     "metadata": {},
     "output_type": "execute_result"
    }
   ],
   "source": [
    "like_list"
   ]
  },
  {
   "cell_type": "code",
   "execution_count": 13,
   "id": "f94c9d7f-47da-412f-b64e-4cbafb6eed19",
   "metadata": {},
   "outputs": [],
   "source": [
    "order_list = [] # 학생 자리 지정 순서"
   ]
  },
  {
   "cell_type": "code",
   "execution_count": 14,
   "id": "c67711e8-09b7-4a38-b333-d7b13bd70480",
   "metadata": {},
   "outputs": [
    {
     "name": "stdin",
     "output_type": "stream",
     "text": [
      " 4 2 5 1 7\n",
      " 3 1 9 4 5\n",
      " 9 8 1 2 3\n",
      " 8 1 9 3 4\n",
      " 7 2 3 4 8\n",
      " 1 9 2 5 7\n",
      " 6 5 2 3 4\n",
      " 5 1 9 2 8\n",
      " 2 9 3 1 4\n"
     ]
    }
   ],
   "source": [
    "for i in range(N*N):\n",
    "    input_list = list(map(int, input().split()))\n",
    "    order_list.append(input_list[0])\n",
    "    like_list[input_list[0]] = input_list[1:]"
   ]
  },
  {
   "cell_type": "code",
   "execution_count": 15,
   "id": "edb292f6-6750-4b47-9085-6fab2e805b87",
   "metadata": {},
   "outputs": [
    {
     "data": {
      "text/plain": [
       "[4, 3, 9, 8, 7, 1, 6, 5, 2]"
      ]
     },
     "execution_count": 15,
     "metadata": {},
     "output_type": "execute_result"
    }
   ],
   "source": [
    "order_list"
   ]
  },
  {
   "cell_type": "code",
   "execution_count": 16,
   "id": "85aee7bd-6295-412f-86f5-ef50ee8d60d1",
   "metadata": {},
   "outputs": [
    {
     "data": {
      "text/plain": [
       "[0,\n",
       " [9, 2, 5, 7],\n",
       " [9, 3, 1, 4],\n",
       " [1, 9, 4, 5],\n",
       " [2, 5, 1, 7],\n",
       " [1, 9, 2, 8],\n",
       " [5, 2, 3, 4],\n",
       " [2, 3, 4, 8],\n",
       " [1, 9, 3, 4],\n",
       " [8, 1, 2, 3]]"
      ]
     },
     "execution_count": 16,
     "metadata": {},
     "output_type": "execute_result"
    }
   ],
   "source": [
    "like_list"
   ]
  },
  {
   "cell_type": "code",
   "execution_count": 17,
   "id": "293b3755-1e23-42fb-b8f4-1d9ef1dc6e97",
   "metadata": {},
   "outputs": [
    {
     "data": {
      "text/plain": [
       "[9, 3, 1, 4]"
      ]
     },
     "execution_count": 17,
     "metadata": {},
     "output_type": "execute_result"
    }
   ],
   "source": [
    "like_list[2]"
   ]
  },
  {
   "cell_type": "code",
   "execution_count": 283,
   "id": "5bb6ca1c-42c1-4c25-bd1f-40e45626c014",
   "metadata": {},
   "outputs": [],
   "source": [
    "# 전역변수의 2차원 맵 생성(check, data)\n",
    "# for i in range(N):\n",
    "data_map = np.array([[0 for i in range(N+1)] for j in range(N+1)]) # 학생 지정 자리 저장\n",
    "\n",
    "check_map = np.array([])\n",
    "for i in range(N+1):\n",
    "    for j in range(N+1):\n",
    "        if i==0 or j==0:\n",
    "            check_map = np.append(check_map, [0]) # 조회 함 (0행 또는 0열의 위치는 0으로 표기)\n",
    "        else:\n",
    "            check_map = np.append(check_map, [1]) # 조회 안함\n",
    "            \n",
    "check_map = np.reshape(check_map, (N+1,N+1))"
   ]
  },
  {
   "cell_type": "code",
   "execution_count": 286,
   "id": "d0bc0e9a-6583-430f-82f2-31585cdf1e0f",
   "metadata": {},
   "outputs": [
    {
     "data": {
      "text/plain": [
       "array([[0., 0., 0., 0.],\n",
       "       [0., 1., 1., 1.],\n",
       "       [0., 1., 1., 1.],\n",
       "       [0., 1., 1., 1.]])"
      ]
     },
     "execution_count": 286,
     "metadata": {},
     "output_type": "execute_result"
    }
   ],
   "source": [
    "check_map"
   ]
  },
  {
   "cell_type": "code",
   "execution_count": 287,
   "id": "3115462e-325c-4bcd-b785-7e8679c96808",
   "metadata": {},
   "outputs": [
    {
     "data": {
      "text/plain": [
       "array([[0, 0, 0, 0],\n",
       "       [0, 0, 0, 0],\n",
       "       [0, 0, 0, 0],\n",
       "       [0, 0, 0, 0]])"
      ]
     },
     "execution_count": 287,
     "metadata": {},
     "output_type": "execute_result"
    }
   ],
   "source": [
    "data_map"
   ]
  },
  {
   "cell_type": "markdown",
   "id": "919ce54a-a7f2-4837-9a90-a20f5eb32bc0",
   "metadata": {},
   "source": [
    "## 1. 자리 함수"
   ]
  },
  {
   "cell_type": "code",
   "execution_count": 288,
   "id": "38814202-09c7-4e42-9591-d2e19a6c1264",
   "metadata": {},
   "outputs": [],
   "source": [
    "# def location(num):"
   ]
  },
  {
   "cell_type": "code",
   "execution_count": 289,
   "id": "bb9aefbd-a1a9-41f8-b2f0-0f09c52f799d",
   "metadata": {},
   "outputs": [
    {
     "data": {
      "text/plain": [
       "[4, 3, 9, 8, 7, 1, 6, 5, 2]"
      ]
     },
     "execution_count": 289,
     "metadata": {},
     "output_type": "execute_result"
    }
   ],
   "source": [
    "order_list"
   ]
  },
  {
   "cell_type": "code",
   "execution_count": 290,
   "id": "b066f7e4-1549-45c3-9e85-284ef2be07ab",
   "metadata": {},
   "outputs": [],
   "source": [
    "num = 4"
   ]
  },
  {
   "cell_type": "code",
   "execution_count": 291,
   "id": "34d5d3a3-ea2b-4448-bf38-36df5e1689f8",
   "metadata": {},
   "outputs": [],
   "source": [
    "# 지역변수의 2차원 맵 생성\n",
    "count_like_map = np.array([[0 for i in range(N+1)] for j in range(N+1)]) # 인접 위치에 좋아하는 학생 수\n",
    "count_vacant_map = np.array([[0 for i in range(N+1)] for j in range(N+1)]) # 인접 위치에 빈 자리 수"
   ]
  },
  {
   "cell_type": "code",
   "execution_count": 263,
   "id": "210155fb-bf1d-491e-8cf3-e4d3232215e8",
   "metadata": {},
   "outputs": [
    {
     "data": {
      "text/plain": [
       "array([[0, 0, 0, 0],\n",
       "       [0, 0, 0, 0],\n",
       "       [0, 0, 0, 0],\n",
       "       [0, 0, 0, 0]])"
      ]
     },
     "execution_count": 263,
     "metadata": {},
     "output_type": "execute_result"
    }
   ],
   "source": [
    "count_like_map"
   ]
  },
  {
   "cell_type": "code",
   "execution_count": 264,
   "id": "b1b35acc-1adb-438c-8e41-e4b2091431d3",
   "metadata": {},
   "outputs": [
    {
     "data": {
      "text/plain": [
       "array([[0, 0, 0, 0],\n",
       "       [0, 0, 0, 0],\n",
       "       [0, 0, 0, 0],\n",
       "       [0, 0, 0, 0]])"
      ]
     },
     "execution_count": 264,
     "metadata": {},
     "output_type": "execute_result"
    }
   ],
   "source": [
    "count_vacant_map"
   ]
  },
  {
   "cell_type": "markdown",
   "id": "9ccc67a1-a570-40b0-bcd1-1c9d98b2dc83",
   "metadata": {},
   "source": [
    "#### 1) 빈칸 중에 선호 학생이 인접 칸에 많은 위치"
   ]
  },
  {
   "cell_type": "code",
   "execution_count": 265,
   "id": "f6b12d46-ab40-4aa9-a874-0d3a27d608a3",
   "metadata": {},
   "outputs": [],
   "source": [
    "di = [-1, 1, 0, 0]\n",
    "dj = [0, 0, -1, 1]"
   ]
  },
  {
   "cell_type": "code",
   "execution_count": 266,
   "id": "b821e38c-1a50-4653-8726-5bbab76afc2d",
   "metadata": {},
   "outputs": [
    {
     "name": "stdout",
     "output_type": "stream",
     "text": [
      "빈칸: (1,1)\n",
      "빈칸: (1,2)\n",
      "빈칸: (1,3)\n",
      "빈칸: (2,1)\n",
      "빈칸: (2,3)\n",
      "빈칸: (3,1)\n",
      "빈칸: (3,2)\n",
      "빈칸: (3,3)\n"
     ]
    }
   ],
   "source": [
    "# order_list에서 순서대로 num 부여\n",
    "\n",
    "for i in range(1, N+1):\n",
    "    for j in range(1, N+1):\n",
    "        \n",
    "        # 현재 위치가 빈칸인지 조회\n",
    "        if(check_map[i][j] == 1):\n",
    "            print(f'빈칸: ({i},{j})')\n",
    "            \n",
    "        count_like = 0 # 인접 칸의 좋아하는 학생 수\n",
    "        count_vacant = 0 # 인접 칸의 빈칸 수\n",
    "        \n",
    "        # 인접 칸 탐색\n",
    "        for k in range(4):\n",
    "            ni = i + di[k]\n",
    "            nj = j + dj[k]\n",
    "            \n",
    "            # 데이터 범위 벗어나면 무시\n",
    "            if(ni>N or ni<1 or nj>N or nj<1):\n",
    "                continue\n",
    "            \n",
    "            adj_num = data_map[ni][nj] # 인접 칸의 좋아하는 학생 번호\n",
    "            \n",
    "            # 자리를 배치할 학생 번호(num)의 선호 리스트에 있는지 조회\n",
    "            count_like   += adj_num in like_list[num] # 인접 칸의 좋아하는 학생 수 합\n",
    "            count_vacant += check_map[ni][nj] == 1 # 인접 칸의 빈자리 수 합\n",
    "            \n",
    "        count_like_map[i][j]   = count_like # 좋아하는 학생 수 기록\n",
    "        count_vacant_map[i][j] = count_vacant # 빈칸 수 기록"
   ]
  },
  {
   "cell_type": "code",
   "execution_count": 267,
   "id": "345ab502-2aaf-4238-921c-dbc94adb40ec",
   "metadata": {},
   "outputs": [
    {
     "data": {
      "text/plain": [
       "array([[0, 0, 0, 0],\n",
       "       [0, 0, 1, 0],\n",
       "       [0, 1, 0, 1],\n",
       "       [0, 0, 1, 0]])"
      ]
     },
     "execution_count": 267,
     "metadata": {},
     "output_type": "execute_result"
    }
   ],
   "source": [
    "count_like_map"
   ]
  },
  {
   "cell_type": "code",
   "execution_count": 268,
   "id": "4869fb67-48d3-4401-bebb-92a04fe83089",
   "metadata": {},
   "outputs": [
    {
     "data": {
      "text/plain": [
       "array([[0, 0, 0, 0],\n",
       "       [0, 2, 2, 2],\n",
       "       [0, 2, 4, 2],\n",
       "       [0, 2, 2, 2]])"
      ]
     },
     "execution_count": 268,
     "metadata": {},
     "output_type": "execute_result"
    }
   ],
   "source": [
    "count_vacant_map"
   ]
  },
  {
   "cell_type": "code",
   "execution_count": 269,
   "id": "46a5e3ec-1a3b-47c2-be6d-533b7eddf531",
   "metadata": {},
   "outputs": [
    {
     "data": {
      "text/plain": [
       "array([[1, 1, 1, 1],\n",
       "       [1, 1, 1, 1],\n",
       "       [1, 1, 0, 1],\n",
       "       [1, 1, 1, 1]])"
      ]
     },
     "execution_count": 269,
     "metadata": {},
     "output_type": "execute_result"
    }
   ],
   "source": [
    "check_map"
   ]
  },
  {
   "cell_type": "code",
   "execution_count": 270,
   "id": "b7d2dea7-d8b3-40aa-a19e-ccb3fc27cb22",
   "metadata": {},
   "outputs": [],
   "source": [
    "# 빈값 맵 중에서 인덱스 리스트에 해당하는 값들을 조회한 후 여기서 최대값의 인덱스 출력\n",
    "vacant_list = np.ravel(check_map, order='C') # 1: 빈자리, 0: 자리있음\n",
    "\n",
    "# 좋아하는 학생수 리스트\n",
    "count_like_list = np.ravel(count_like_map, order='C')\n",
    "initial_token = sum(count_like_list) \n",
    "\n",
    "# 빈자리의 좋아하는 학생수만 표기 (단, 채워있는 자리는 0으로 변환)\n",
    "count_like_list = np.multiply(vacant_list, count_like_list)            \n",
    "max_like_value = max(count_like_list)"
   ]
  },
  {
   "cell_type": "code",
   "execution_count": 271,
   "id": "b0c43646-4c41-4ac1-9486-15fbe1455a70",
   "metadata": {},
   "outputs": [
    {
     "data": {
      "text/plain": [
       "array([0, 0, 0, 0, 0, 0, 1, 0, 0, 1, 0, 1, 0, 0, 1, 0])"
      ]
     },
     "execution_count": 271,
     "metadata": {},
     "output_type": "execute_result"
    }
   ],
   "source": [
    "count_like_list"
   ]
  },
  {
   "cell_type": "code",
   "execution_count": 272,
   "id": "67618de8-7dd4-4428-adf2-867e7e81f27d",
   "metadata": {},
   "outputs": [
    {
     "data": {
      "text/plain": [
       "array([1, 1, 1, 1, 1, 1, 1, 1, 1, 1, 0, 1, 1, 1, 1, 1])"
      ]
     },
     "execution_count": 272,
     "metadata": {},
     "output_type": "execute_result"
    }
   ],
   "source": [
    "vacant_list"
   ]
  },
  {
   "cell_type": "code",
   "execution_count": 273,
   "id": "6e5ad79b-dadc-42ed-a6bd-b7c24d7c3310",
   "metadata": {},
   "outputs": [
    {
     "data": {
      "text/plain": [
       "1"
      ]
     },
     "execution_count": 273,
     "metadata": {},
     "output_type": "execute_result"
    }
   ],
   "source": [
    "max_like_value"
   ]
  },
  {
   "cell_type": "code",
   "execution_count": 274,
   "id": "a2a40810-937a-445d-ac1a-d63dc8ff0db3",
   "metadata": {},
   "outputs": [
    {
     "name": "stdout",
     "output_type": "stream",
     "text": [
      "6\n",
      "9\n",
      "11\n",
      "14\n"
     ]
    }
   ],
   "source": [
    "# 처음 시작일 때, 최대 빈자리수 체크\n",
    "if initial_token == 0:\n",
    "    count_vacant_list = np.ravel(count_vacant_map, order='C')\n",
    "    max_vacant_value = max(count_vacant_list)\n",
    "    \n",
    "    max_index_list = np.array([])\n",
    "    for index, value in enumerate(count_vacant_list):\n",
    "        if value == max_vacant_value:\n",
    "            print(index)\n",
    "            max_index_list = np.append(max_index_list, [1])\n",
    "        else:\n",
    "            max_index_list = np.append(max_index_list, [0])\n",
    "    \n",
    "# 처음 시작아닐 때, 최대 좋아하는 학생수 있는 위치 체크    \n",
    "else:\n",
    "    count_vacant_list = np.ravel(count_vacant_map, order='C')\n",
    "    max_index_list = np.array([])\n",
    "    for index, value in enumerate(count_like_list):\n",
    "        if value == max_like_value:\n",
    "            print(index)\n",
    "            max_index_list = np.append(max_index_list, [1])\n",
    "        else:\n",
    "            max_index_list = np.append(max_index_list, [0])"
   ]
  },
  {
   "cell_type": "code",
   "execution_count": 275,
   "id": "8ea7bff9-a97c-4caf-82d7-638c43cf1d82",
   "metadata": {},
   "outputs": [
    {
     "data": {
      "text/plain": [
       "4"
      ]
     },
     "execution_count": 275,
     "metadata": {},
     "output_type": "execute_result"
    }
   ],
   "source": [
    "initial_token"
   ]
  },
  {
   "cell_type": "code",
   "execution_count": 276,
   "id": "a9c54381-f8ea-4d0d-a5f2-683770e8a8b7",
   "metadata": {},
   "outputs": [
    {
     "data": {
      "text/plain": [
       "array([[0, 0, 0, 0],\n",
       "       [0, 2, 2, 2],\n",
       "       [0, 2, 4, 2],\n",
       "       [0, 2, 2, 2]])"
      ]
     },
     "execution_count": 276,
     "metadata": {},
     "output_type": "execute_result"
    }
   ],
   "source": [
    "count_vacant_map"
   ]
  },
  {
   "cell_type": "code",
   "execution_count": 277,
   "id": "9e701ae0-ef80-4444-9019-04874e711cf6",
   "metadata": {},
   "outputs": [
    {
     "data": {
      "text/plain": [
       "array([[1, 1, 1, 1],\n",
       "       [1, 1, 1, 1],\n",
       "       [1, 1, 0, 1],\n",
       "       [1, 1, 1, 1]])"
      ]
     },
     "execution_count": 277,
     "metadata": {},
     "output_type": "execute_result"
    }
   ],
   "source": [
    "check_map"
   ]
  },
  {
   "cell_type": "code",
   "execution_count": 278,
   "id": "28868007-a572-4638-93b9-a610e93fc422",
   "metadata": {},
   "outputs": [
    {
     "data": {
      "text/plain": [
       "array([0, 0, 0, 0, 0, 2, 2, 2, 0, 2, 4, 2, 0, 2, 2, 2])"
      ]
     },
     "execution_count": 278,
     "metadata": {},
     "output_type": "execute_result"
    }
   ],
   "source": [
    "count_vacant_list"
   ]
  },
  {
   "cell_type": "code",
   "execution_count": 279,
   "id": "2102b179-7f44-4664-bab2-33f7a8125967",
   "metadata": {},
   "outputs": [
    {
     "data": {
      "text/plain": [
       "array([0., 0., 0., 0., 0., 0., 1., 0., 0., 1., 0., 1., 0., 0., 1., 0.])"
      ]
     },
     "execution_count": 279,
     "metadata": {},
     "output_type": "execute_result"
    }
   ],
   "source": [
    "max_index_list"
   ]
  },
  {
   "cell_type": "code",
   "execution_count": 280,
   "id": "1357df18-20bb-4252-ad04-df0183da59f9",
   "metadata": {},
   "outputs": [],
   "source": [
    "# 빈값 맵 중에서 인덱스 리스트에 해당하는 값들을 조회한 후 여기서 최대값의 인덱스 출력\n",
    "# check_vacant_list = np.ravel(check_map, order='C')\n",
    "\n",
    "# 좋아하는 학생이 있는 자리만 표기\n",
    "count_vacant_list = np.multiply(count_vacant_list, max_index_list) "
   ]
  },
  {
   "cell_type": "code",
   "execution_count": 281,
   "id": "90af8fd8-960f-4ef1-858f-a80c214ee7fe",
   "metadata": {},
   "outputs": [
    {
     "data": {
      "text/plain": [
       "array([0., 0., 0., 0., 0., 0., 2., 0., 0., 2., 0., 2., 0., 0., 2., 0.])"
      ]
     },
     "execution_count": 281,
     "metadata": {},
     "output_type": "execute_result"
    }
   ],
   "source": [
    "count_vacant_list"
   ]
  },
  {
   "cell_type": "code",
   "execution_count": 282,
   "id": "5d08000e-e5da-4795-8947-b65eaa745930",
   "metadata": {},
   "outputs": [],
   "source": [
    "max_vacant_value = max(count_vacant_list)\n",
    "# max_vacant_value = max([count_vacant_list[index] for index in max_index_list])"
   ]
  },
  {
   "cell_type": "code",
   "execution_count": 248,
   "id": "9c28a623-063b-45ca-9ffd-f6ef2253dcea",
   "metadata": {},
   "outputs": [
    {
     "data": {
      "text/plain": [
       "4.0"
      ]
     },
     "execution_count": 248,
     "metadata": {},
     "output_type": "execute_result"
    }
   ],
   "source": [
    "max_vacant_value"
   ]
  },
  {
   "cell_type": "code",
   "execution_count": 249,
   "id": "1009b040-7771-4456-8284-90a7a2f88cbf",
   "metadata": {},
   "outputs": [],
   "source": [
    "max_vacant_list = []\n",
    "for index, value in enumerate(count_vacant_list): \n",
    "    if value == max_vacant_value:\n",
    "        max_vacant_list.append(1) # 최대 위치에만 1 할당\n",
    "    else:\n",
    "        max_vacant_list.append(0)"
   ]
  },
  {
   "cell_type": "code",
   "execution_count": 250,
   "id": "6e236d9a-aa77-4caf-b0e0-49e7361017bc",
   "metadata": {},
   "outputs": [
    {
     "data": {
      "text/plain": [
       "[0, 0, 0, 0, 0, 0, 0, 0, 0, 0, 1, 0, 0, 0, 0, 0]"
      ]
     },
     "execution_count": 250,
     "metadata": {},
     "output_type": "execute_result"
    }
   ],
   "source": [
    "max_vacant_list"
   ]
  },
  {
   "cell_type": "code",
   "execution_count": 251,
   "id": "b61af130-ab8b-45cb-b610-2e1ef4ac63d7",
   "metadata": {},
   "outputs": [],
   "source": [
    "# 빈 자리가 많다면, 적은 수의 인덱스 출력\n",
    "final_index = max_vacant_list.index(1)"
   ]
  },
  {
   "cell_type": "code",
   "execution_count": 252,
   "id": "336f8a92-09ce-4515-8b0b-4e158490becc",
   "metadata": {},
   "outputs": [
    {
     "data": {
      "text/plain": [
       "10"
      ]
     },
     "execution_count": 252,
     "metadata": {},
     "output_type": "execute_result"
    }
   ],
   "source": [
    "final_index"
   ]
  },
  {
   "cell_type": "code",
   "execution_count": 253,
   "id": "a8cb17fe-2584-438c-ae77-c44bdb8a4fb7",
   "metadata": {},
   "outputs": [],
   "source": [
    "# 최종의 행, 열\n",
    "fi = final_index // (N + 1)# 행\n",
    "fj = final_index % (N + 1) # 열"
   ]
  },
  {
   "cell_type": "code",
   "execution_count": 254,
   "id": "676daf2b-94ec-44bc-8e7d-75c7a92f365e",
   "metadata": {},
   "outputs": [
    {
     "data": {
      "text/plain": [
       "2"
      ]
     },
     "execution_count": 254,
     "metadata": {},
     "output_type": "execute_result"
    }
   ],
   "source": [
    "fi"
   ]
  },
  {
   "cell_type": "code",
   "execution_count": 255,
   "id": "9d7bfe8d-4211-4c05-b23d-08d6081e1906",
   "metadata": {},
   "outputs": [
    {
     "data": {
      "text/plain": [
       "2"
      ]
     },
     "execution_count": 255,
     "metadata": {},
     "output_type": "execute_result"
    }
   ],
   "source": [
    "fj"
   ]
  },
  {
   "cell_type": "code",
   "execution_count": 256,
   "id": "bce945e8-6689-40c4-856a-5636a1da606c",
   "metadata": {},
   "outputs": [
    {
     "data": {
      "text/plain": [
       "array([[0, 0, 0, 0],\n",
       "       [0, 2, 3, 2],\n",
       "       [0, 3, 4, 3],\n",
       "       [0, 2, 3, 2]])"
      ]
     },
     "execution_count": 256,
     "metadata": {},
     "output_type": "execute_result"
    }
   ],
   "source": [
    "count_vacant_map"
   ]
  },
  {
   "cell_type": "code",
   "execution_count": 257,
   "id": "f121d8e7-666d-4cbd-a8ef-8bfd6a23a782",
   "metadata": {},
   "outputs": [],
   "source": [
    "data_map[fi][fj] = num # 자리 배치 기록\n",
    "check_map[fi][fj] = 0 # 조회 기록"
   ]
  },
  {
   "cell_type": "code",
   "execution_count": 258,
   "id": "9325e4f7-8c6a-4454-865f-b79bb510fba4",
   "metadata": {},
   "outputs": [
    {
     "data": {
      "text/plain": [
       "array([[0, 0, 0, 0],\n",
       "       [0, 0, 0, 0],\n",
       "       [0, 0, 4, 0],\n",
       "       [0, 0, 0, 0]])"
      ]
     },
     "execution_count": 258,
     "metadata": {},
     "output_type": "execute_result"
    }
   ],
   "source": [
    "data_map"
   ]
  },
  {
   "cell_type": "code",
   "execution_count": 259,
   "id": "284c4067-d19d-49a3-a21e-f53ccef0e4e1",
   "metadata": {},
   "outputs": [
    {
     "data": {
      "text/plain": [
       "array([[1, 1, 1, 1],\n",
       "       [1, 1, 1, 1],\n",
       "       [1, 1, 0, 1],\n",
       "       [1, 1, 1, 1]])"
      ]
     },
     "execution_count": 259,
     "metadata": {},
     "output_type": "execute_result"
    }
   ],
   "source": [
    "check_map"
   ]
  },
  {
   "cell_type": "code",
   "execution_count": 260,
   "id": "acc31ff9-9d5a-44aa-9efc-f5eea3f06863",
   "metadata": {},
   "outputs": [
    {
     "data": {
      "text/plain": [
       "array([[0, 0, 0, 0],\n",
       "       [0, 0, 0, 0],\n",
       "       [0, 0, 4, 0],\n",
       "       [0, 0, 0, 0]])"
      ]
     },
     "execution_count": 260,
     "metadata": {},
     "output_type": "execute_result"
    }
   ],
   "source": [
    "data_map"
   ]
  },
  {
   "cell_type": "markdown",
   "id": "18d86d65-93a7-40f5-b6c7-2fb5aec83d17",
   "metadata": {},
   "source": [
    "## 2. 만족도 함수"
   ]
  },
  {
   "cell_type": "code",
   "execution_count": 639,
   "id": "792469b1-7b70-4f2b-b7e1-741b0cb7ba98",
   "metadata": {},
   "outputs": [
    {
     "data": {
      "text/plain": [
       "array([[0, 0, 0, 0],\n",
       "       [0, 9, 3, 2],\n",
       "       [0, 8, 4, 7],\n",
       "       [0, 5, 6, 1]])"
      ]
     },
     "execution_count": 639,
     "metadata": {},
     "output_type": "execute_result"
    }
   ],
   "source": [
    "data_map"
   ]
  },
  {
   "cell_type": "code",
   "execution_count": 640,
   "id": "67c197d0-c443-405c-84bd-ecc2e008ea3e",
   "metadata": {},
   "outputs": [
    {
     "data": {
      "text/plain": [
       "[0,\n",
       " [9, 2, 5, 7],\n",
       " [9, 3, 1, 4],\n",
       " [1, 9, 4, 5],\n",
       " [2, 5, 1, 7],\n",
       " [1, 9, 2, 8],\n",
       " [5, 2, 3, 4],\n",
       " [2, 3, 4, 8],\n",
       " [1, 9, 3, 4],\n",
       " [8, 1, 2, 3]]"
      ]
     },
     "execution_count": 640,
     "metadata": {},
     "output_type": "execute_result"
    }
   ],
   "source": [
    "like_list"
   ]
  },
  {
   "cell_type": "code",
   "execution_count": 641,
   "id": "406ade8a-6c16-41bb-be2b-99afd623e65a",
   "metadata": {},
   "outputs": [],
   "source": [
    "# 지역변수의 2차원 맵 생성\n",
    "for i in range(N):\n",
    "    count_like_map = np.array([[0 for i in range(N+1)] for j in range(N+1)]) # 인접 위치에 좋아하는 학생 수\n",
    "    count_vacant_map = np.array([[0 for i in range(N+1)] for j in range(N+1)]) # 인접 위치에 빈 자리 수"
   ]
  },
  {
   "cell_type": "code",
   "execution_count": 642,
   "id": "8467c38d-aac2-4cf8-9a16-5afe6c3fc4d7",
   "metadata": {},
   "outputs": [],
   "source": [
    "for i in range(1, N+1):\n",
    "    for j in range(1, N+1):\n",
    "        \n",
    "        # 현재 고려할 학생 번호\n",
    "        num = data_map[i][j]\n",
    "            \n",
    "        count_like = 0 # 인접 칸의 좋아하는 학생 수\n",
    "        count_vacant = 0 # 인접 칸의 빈칸 수\n",
    "        \n",
    "        # 인접 칸 탐색\n",
    "        for k in range(4):\n",
    "            ni = i + di[k]\n",
    "            nj = j + dj[k]\n",
    "            \n",
    "            # 데이터 범위 벗어나면 무시\n",
    "            if(ni>N or ni<1 or nj>N or nj<1):\n",
    "                continue\n",
    "            \n",
    "            adj_num = data_map[ni][nj] # 인접 칸의 좋아하는 학생 번호\n",
    "            \n",
    "            # 자리를 배치할 학생 번호(num)의 선호 리스트에 있는지 조회\n",
    "            count_like   += adj_num in like_list[num] # 인접 칸의 좋아하는 학생 수 합\n",
    "            count_vacant += check_map[ni][nj] == 1 # 인접 칸의 빈자리 수 합\n",
    "            \n",
    "        count_like_map[i][j]   = count_like # 좋아하는 학생 수 기록\n",
    "        count_vacant_map[i][j] = count_vacant # 빈칸 수 기록"
   ]
  },
  {
   "cell_type": "code",
   "execution_count": 643,
   "id": "4d112fb5-d1bb-493a-a3b3-d342af626122",
   "metadata": {},
   "outputs": [
    {
     "data": {
      "text/plain": [
       "array([[0, 0, 0, 0],\n",
       "       [0, 2, 2, 1],\n",
       "       [0, 2, 1, 2],\n",
       "       [0, 1, 2, 1]])"
      ]
     },
     "execution_count": 643,
     "metadata": {},
     "output_type": "execute_result"
    }
   ],
   "source": [
    "count_like_map"
   ]
  },
  {
   "cell_type": "code",
   "execution_count": 646,
   "id": "f5f98236-7973-41b2-bb2b-b0eb5064f823",
   "metadata": {},
   "outputs": [],
   "source": [
    "satis_list = np.ravel(count_like_map, order='C')"
   ]
  },
  {
   "cell_type": "code",
   "execution_count": 647,
   "id": "bd33bedf-bb14-4d4d-872b-6d6aee1e043f",
   "metadata": {},
   "outputs": [
    {
     "data": {
      "text/plain": [
       "array([0, 0, 0, 0, 0, 2, 2, 1, 0, 2, 1, 2, 0, 1, 2, 1])"
      ]
     },
     "execution_count": 647,
     "metadata": {},
     "output_type": "execute_result"
    }
   ],
   "source": [
    "satis_list"
   ]
  },
  {
   "cell_type": "code",
   "execution_count": 665,
   "id": "843ee51f-faa9-41b2-b931-a0bd03746e05",
   "metadata": {},
   "outputs": [],
   "source": [
    "number, count = np.unique(satis_list, return_counts=True)"
   ]
  },
  {
   "cell_type": "code",
   "execution_count": 666,
   "id": "2de9ca2b-1257-4d76-8076-6fefb6c8a550",
   "metadata": {},
   "outputs": [],
   "source": [
    "satis_dict = dict(zip(number, count))"
   ]
  },
  {
   "cell_type": "code",
   "execution_count": 667,
   "id": "959018dd-59aa-482e-b99e-b1d31938789f",
   "metadata": {},
   "outputs": [
    {
     "data": {
      "text/plain": [
       "{0: 7, 1: 4, 2: 5}"
      ]
     },
     "execution_count": 667,
     "metadata": {},
     "output_type": "execute_result"
    }
   ],
   "source": [
    "satis_dict"
   ]
  },
  {
   "cell_type": "code",
   "execution_count": 668,
   "id": "0ac92ea5-e56a-4d69-9f5d-43009d31e575",
   "metadata": {},
   "outputs": [],
   "source": [
    "number = np.array([0,1,2,3,4])\n",
    "point = np.array([0,1,10,100,1000])\n",
    "score_dict = dict(zip(number, point))"
   ]
  },
  {
   "cell_type": "code",
   "execution_count": 669,
   "id": "0c454933-fa3e-4b41-9b0b-2a97d68e70ca",
   "metadata": {},
   "outputs": [
    {
     "data": {
      "text/plain": [
       "{0: 0, 1: 1, 2: 10, 3: 100, 4: 1000}"
      ]
     },
     "execution_count": 669,
     "metadata": {},
     "output_type": "execute_result"
    }
   ],
   "source": [
    "score_dict"
   ]
  },
  {
   "cell_type": "code",
   "execution_count": 674,
   "id": "e9c07271-9da4-40ef-8c91-ae36e5965658",
   "metadata": {},
   "outputs": [
    {
     "name": "stdout",
     "output_type": "stream",
     "text": [
      "0\n",
      "1\n",
      "2\n"
     ]
    }
   ],
   "source": [
    "final_point = 0\n",
    "for i in satis_dict:\n",
    "    print(i)\n",
    "    final_point += satis_dict[i] * score_dict[i]"
   ]
  },
  {
   "cell_type": "code",
   "execution_count": 675,
   "id": "feb742f4-b7fd-46ed-a67a-41dd43cd3357",
   "metadata": {},
   "outputs": [
    {
     "data": {
      "text/plain": [
       "54"
      ]
     },
     "execution_count": 675,
     "metadata": {},
     "output_type": "execute_result"
    }
   ],
   "source": [
    "final_point"
   ]
  },
  {
   "cell_type": "code",
   "execution_count": null,
   "id": "07003adf-0cdb-46ae-b43f-a92ebefb8175",
   "metadata": {},
   "outputs": [],
   "source": []
  }
 ],
 "metadata": {
  "kernelspec": {
   "display_name": "Python 3 (ipykernel)",
   "language": "python",
   "name": "python3"
  },
  "language_info": {
   "codemirror_mode": {
    "name": "ipython",
    "version": 3
   },
   "file_extension": ".py",
   "mimetype": "text/x-python",
   "name": "python",
   "nbconvert_exporter": "python",
   "pygments_lexer": "ipython3",
   "version": "3.8.11"
  }
 },
 "nbformat": 4,
 "nbformat_minor": 5
}
