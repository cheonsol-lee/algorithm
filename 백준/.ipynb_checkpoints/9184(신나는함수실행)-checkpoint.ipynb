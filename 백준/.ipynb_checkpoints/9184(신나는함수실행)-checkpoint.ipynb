{
 "cells": [
  {
   "cell_type": "code",
   "execution_count": 18,
   "id": "86abb131-db6f-4672-9dc6-31a7492a9876",
   "metadata": {},
   "outputs": [
    {
     "name": "stdin",
     "output_type": "stream",
     "text": [
      " 1 1 1\n"
     ]
    },
    {
     "name": "stdout",
     "output_type": "stream",
     "text": [
      "w(1, 1, 1) = 2\n"
     ]
    },
    {
     "name": "stdin",
     "output_type": "stream",
     "text": [
      " 2 2 2\n"
     ]
    },
    {
     "name": "stdout",
     "output_type": "stream",
     "text": [
      "w(2, 2, 2) = 4\n"
     ]
    },
    {
     "name": "stdin",
     "output_type": "stream",
     "text": [
      " 10 4 6\n"
     ]
    },
    {
     "name": "stdout",
     "output_type": "stream",
     "text": [
      "w(10, 4, 6) = 523\n"
     ]
    },
    {
     "name": "stdin",
     "output_type": "stream",
     "text": [
      " 50 50 50\n"
     ]
    },
    {
     "name": "stdout",
     "output_type": "stream",
     "text": [
      "w(50, 50, 50) = 1048576\n"
     ]
    },
    {
     "name": "stdin",
     "output_type": "stream",
     "text": [
      " -1 7 18\n"
     ]
    },
    {
     "name": "stdout",
     "output_type": "stream",
     "text": [
      "w(-1, 7, 18) = 1\n"
     ]
    },
    {
     "name": "stdin",
     "output_type": "stream",
     "text": [
      " -1 -1 -1\n"
     ]
    }
   ],
   "source": [
    "memo = dict()\n",
    "\n",
    "def w(a, b, c):\n",
    "    if (a,b,c) in memo:\n",
    "        return memo[(a,b,c)]\n",
    "    \n",
    "    if a <= 0 or b <= 0 or c <= 0:\n",
    "        memo[(a,b,c)] = 1\n",
    "        return memo[(a,b,c)]\n",
    "    \n",
    "    elif a > 20 or b > 20 or c > 20:\n",
    "        memo[(a,b,c)] = w(20, 20, 20)\n",
    "        return memo[(a,b,c)]\n",
    "    \n",
    "    elif a < b and b < c:\n",
    "        memo[(a,b,c)] = w(a,b,c-1) + w(a,b-1,c-1) - w(a,b-1,c)\n",
    "        return memo[(a,b,c)]\n",
    "    \n",
    "    else:\n",
    "        memo[(a,b,c)] = w(a-1, b, c) + w(a-1, b-1, c) + w(a-1, b, c-1) - w(a-1, b-1, c-1)\n",
    "        return memo[(a,b,c)]\n",
    "\n",
    "while True:\n",
    "    a, b, c = map(int, input().split())\n",
    "    \n",
    "    if a==-1 and b==-1 and c==-1:\n",
    "        break\n",
    "        \n",
    "    print(f'w({a}, {b}, {c}) = {w(a,b,c)}')"
   ]
  },
  {
   "cell_type": "code",
   "execution_count": null,
   "id": "112c224d-b45e-4e6c-b4bc-4d597bb4a8bf",
   "metadata": {},
   "outputs": [],
   "source": []
  }
 ],
 "metadata": {
  "kernelspec": {
   "display_name": "Python 3",
   "language": "python",
   "name": "python3"
  },
  "language_info": {
   "codemirror_mode": {
    "name": "ipython",
    "version": 3
   },
   "file_extension": ".py",
   "mimetype": "text/x-python",
   "name": "python",
   "nbconvert_exporter": "python",
   "pygments_lexer": "ipython3",
   "version": "3.7.0"
  }
 },
 "nbformat": 4,
 "nbformat_minor": 5
}
