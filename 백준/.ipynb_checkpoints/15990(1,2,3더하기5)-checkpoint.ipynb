{
 "cells": [
  {
   "cell_type": "code",
   "execution_count": 17,
   "id": "02f8750f-ecbf-4d06-ab2a-075f1a69f1e5",
   "metadata": {},
   "outputs": [],
   "source": [
    "T = int(input())\n",
    "\n",
    "MAX = 100000\n",
    "MOD = 1000000009\n",
    "\n",
    "# 배열 초기화\n",
    "# 행: 숫자, 열: 끝자리 수\n",
    "d = [[0] * 4 for _ in range(MAX + 1)]\n",
    "d[1] = [0,1,0,0]\n",
    "d[2] = [0,0,1,0]\n",
    "d[3] = [0,1,1,1]\n",
    "\n",
    "# d[i][1] : i를 만드는 수 중에서 끝자리가 1이 올 경우(이전 수가 2 또는 3으로 끝나는 경우)\n",
    "for i in range(4, MAX+1):\n",
    "    d[i][1] = (d[i-1][2] + d[i-1][3]) % MOD\n",
    "    d[i][2] = (d[i-2][1] + d[i-2][3]) % MOD\n",
    "    d[i][3] = (d[i-3][1] + d[i-3][2]) % MOD\n",
    "\n",
    "for i in range(T):\n",
    "    n = int(input())\n",
    "    print(sum(d[n]) % MOD)"
   ]
  },
  {
   "cell_type": "code",
   "execution_count": null,
   "id": "bf3da016-c98f-40aa-a9de-337ccef6fcd2",
   "metadata": {},
   "outputs": [],
   "source": []
  }
 ],
 "metadata": {
  "kernelspec": {
   "display_name": "Python 3",
   "language": "python",
   "name": "python3"
  },
  "language_info": {
   "codemirror_mode": {
    "name": "ipython",
    "version": 3
   },
   "file_extension": ".py",
   "mimetype": "text/x-python",
   "name": "python",
   "nbconvert_exporter": "python",
   "pygments_lexer": "ipython3",
   "version": "3.7.0"
  }
 },
 "nbformat": 4,
 "nbformat_minor": 5
}
