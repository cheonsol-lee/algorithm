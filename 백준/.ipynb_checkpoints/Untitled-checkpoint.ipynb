{
 "cells": [
  {
   "cell_type": "code",
   "execution_count": 8,
   "id": "16f61eed-5cf8-48bc-a9ca-2cc897c9db06",
   "metadata": {},
   "outputs": [],
   "source": [
    "T = int(input())\n",
    "\n",
    "MAX = 1000001\n",
    "MOD = 1000000009\n",
    "dp = [0] * MAX\n",
    "dp[1] = 1\n",
    "dp[2] = 2\n",
    "dp[3] = 4\n",
    "\n",
    "for i in range(4, MAX):\n",
    "    dp[i] = (dp[i-1] % MOD + dp[i-2] % MOD + dp[i-3] % MOD) % MOD\n",
    "\n",
    "for i in range(T):\n",
    "    n = int(input())\n",
    "    print(dp[n])"
   ]
  },
  {
   "cell_type": "code",
   "execution_count": null,
   "id": "098f70ad-5cdc-4c3c-bb27-8837813fc725",
   "metadata": {},
   "outputs": [],
   "source": []
  }
 ],
 "metadata": {
  "kernelspec": {
   "display_name": "Python 3",
   "language": "python",
   "name": "python3"
  },
  "language_info": {
   "codemirror_mode": {
    "name": "ipython",
    "version": 3
   },
   "file_extension": ".py",
   "mimetype": "text/x-python",
   "name": "python",
   "nbconvert_exporter": "python",
   "pygments_lexer": "ipython3",
   "version": "3.7.0"
  }
 },
 "nbformat": 4,
 "nbformat_minor": 5
}
