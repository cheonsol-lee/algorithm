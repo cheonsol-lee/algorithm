{
 "cells": [
  {
   "cell_type": "code",
   "execution_count": null,
   "id": "3b3f3bda-49b1-4db5-bd86-bc251969cd93",
   "metadata": {},
   "outputs": [],
   "source": [
    "import math\n",
    "\n",
    "def is_prime_num(n):\n",
    "    arr = [True] * (n+1)\n",
    "    arr[0] = False\n",
    "    arr[1] = False\n",
    "    \n",
    "    for i in range(2, int(math.sqrt(n)+1)):\n",
    "        if arr[i] == True:\n",
    "            j = 2\n",
    "            \n",
    "            while (i*j) <= n:\n",
    "                arr[i*j] = False\n",
    "                j += 1\n",
    "    return arr\n",
    "\n",
    "M = int(input())\n",
    "N = int(input())\n",
    "\n",
    "arr = is_prime_num(N)\n",
    "\n",
    "total_sum = 0\n",
    "min_prime = 10001\n",
    "\n",
    "for i in range(M, N+1):\n",
    "    if arr[i] == True:\n",
    "        total_sum += i\n",
    "        min_prime = min(min_prime, i)\n",
    "        \n",
    "if total_sum == 0:\n",
    "    print(-1)\n",
    "else:\n",
    "    print(total_sum)\n",
    "    print(min_prime)"
   ]
  }
 ],
 "metadata": {
  "kernelspec": {
   "display_name": "Python 3",
   "language": "python",
   "name": "python3"
  },
  "language_info": {
   "codemirror_mode": {
    "name": "ipython",
    "version": 3
   },
   "file_extension": ".py",
   "mimetype": "text/x-python",
   "name": "python",
   "nbconvert_exporter": "python",
   "pygments_lexer": "ipython3",
   "version": "3.7.0"
  }
 },
 "nbformat": 4,
 "nbformat_minor": 5
}
