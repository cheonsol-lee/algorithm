{
 "cells": [
  {
   "cell_type": "code",
   "execution_count": 18,
   "id": "235ddc34-9377-4f67-8be6-253af6799495",
   "metadata": {},
   "outputs": [
    {
     "name": "stdin",
     "output_type": "stream",
     "text": [
      " 100 2 1 1 0\n"
     ]
    }
   ],
   "source": [
    "F,S,G,U,D = map(int, input().split())\n",
    "MAX_NUM = 1000001\n",
    "graph = [[] for i in range(MAX_NUM)]\n",
    "distance = [0 for i in range(MAX_NUM)]\n",
    "visited = [False for i in range(MAX_NUM)]"
   ]
  },
  {
   "cell_type": "code",
   "execution_count": 21,
   "id": "97b7b8ab-f816-40cd-942f-f9634335845e",
   "metadata": {},
   "outputs": [],
   "source": [
    "for i in range(1, 1000001):\n",
    "    if i-D >= 1 and i-D != 0:\n",
    "        graph[i].append(i-D)\n",
    "    if i+U <= 1000000 and i+U != 0:\n",
    "        graph[i].append(i+U)"
   ]
  },
  {
   "cell_type": "code",
   "execution_count": 23,
   "id": "f7a5f54f-7fcf-40a7-88ba-b5094e834a43",
   "metadata": {},
   "outputs": [],
   "source": [
    "from collections import deque\n",
    "def bfs(graph, start, visited):\n",
    "    queue = deque([start])\n",
    "    visited[start] = True\n",
    "    \n",
    "    while queue:\n",
    "        start = queue.popleft()\n",
    "        \n",
    "        for i in graph[start]:\n",
    "            if not visited[i]:\n",
    "                queue.append(i)\n",
    "                visited[i] = True\n",
    "                \n",
    "                distance[i] = distance[start] + 1\n",
    "                \n",
    "                # 목표 층에 도달\n",
    "                if i == G:\n",
    "                    return distance[i]\n",
    "    return False"
   ]
  },
  {
   "cell_type": "code",
   "execution_count": 24,
   "id": "b36bef81-3188-421f-bda8-aae528735d83",
   "metadata": {},
   "outputs": [],
   "source": [
    "if S == G:\n",
    "    print(0)"
   ]
  },
  {
   "cell_type": "code",
   "execution_count": 26,
   "id": "e1d81de2-db4f-4b33-8917-61ebdc8f6114",
   "metadata": {},
   "outputs": [
    {
     "name": "stdout",
     "output_type": "stream",
     "text": [
      "use the stairs\n"
     ]
    }
   ],
   "source": [
    "count = bfs(graph, S, visited)\n",
    "if count:\n",
    "    print(count)\n",
    "else:\n",
    "    print('use the stairs')"
   ]
  },
  {
   "cell_type": "code",
   "execution_count": 6,
   "id": "bfd1aa52-c65f-4ea4-8736-abea0bac1a30",
   "metadata": {},
   "outputs": [],
   "source": []
  },
  {
   "cell_type": "code",
   "execution_count": null,
   "id": "f0ed9da7-18dc-4813-acd7-bbbbe5ffd567",
   "metadata": {},
   "outputs": [],
   "source": []
  }
 ],
 "metadata": {
  "kernelspec": {
   "display_name": "Python 3",
   "language": "python",
   "name": "python3"
  },
  "language_info": {
   "codemirror_mode": {
    "name": "ipython",
    "version": 3
   },
   "file_extension": ".py",
   "mimetype": "text/x-python",
   "name": "python",
   "nbconvert_exporter": "python",
   "pygments_lexer": "ipython3",
   "version": "3.7.0"
  }
 },
 "nbformat": 4,
 "nbformat_minor": 5
}
