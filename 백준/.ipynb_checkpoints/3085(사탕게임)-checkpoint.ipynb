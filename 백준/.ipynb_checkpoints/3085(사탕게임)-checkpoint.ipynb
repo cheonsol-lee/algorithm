{
 "cells": [
  {
   "cell_type": "markdown",
   "id": "69672f13-ed17-4057-8ab6-e452404c1312",
   "metadata": {},
   "source": [
    "3\n",
    "CCP\n",
    "CCP\n",
    "PPC\n",
    "\n",
    "4\n",
    "PPPP\n",
    "CYZY\n",
    "CCPY\n",
    "PPCC\n",
    "\n",
    "5\n",
    "YCPZY\n",
    "CYZZP\n",
    "CCPPP\n",
    "YCYZC\n",
    "CPPZZ"
   ]
  },
  {
   "cell_type": "code",
   "execution_count": 27,
   "id": "0e5a1e5c-a3c7-43f6-b274-47176d26c84a",
   "metadata": {},
   "outputs": [
    {
     "name": "stdin",
     "output_type": "stream",
     "text": [
      " 3\n"
     ]
    }
   ],
   "source": [
    "N = int(input())"
   ]
  },
  {
   "cell_type": "code",
   "execution_count": 28,
   "id": "1830ccbf-d7d1-4941-8998-f8d90b3d27c0",
   "metadata": {},
   "outputs": [
    {
     "name": "stdin",
     "output_type": "stream",
     "text": [
      " CCP\n",
      " CCP\n",
      " PPC\n"
     ]
    }
   ],
   "source": [
    "data = []\n",
    "for i in range(N):\n",
    "    data.append(list(input()))"
   ]
  },
  {
   "cell_type": "code",
   "execution_count": 29,
   "id": "b9e0f414-8a47-4ac6-a82b-dd1ceed23578",
   "metadata": {},
   "outputs": [
    {
     "data": {
      "text/plain": [
       "[['C', 'C', 'P'], ['C', 'C', 'P'], ['P', 'P', 'C']]"
      ]
     },
     "execution_count": 29,
     "metadata": {},
     "output_type": "execute_result"
    }
   ],
   "source": [
    "data"
   ]
  },
  {
   "cell_type": "code",
   "execution_count": 30,
   "id": "cf67d3b4-ce65-4a87-818a-0bbf18313d1b",
   "metadata": {},
   "outputs": [
    {
     "data": {
      "text/plain": [
       "['C', 'C', 'P']"
      ]
     },
     "execution_count": 30,
     "metadata": {},
     "output_type": "execute_result"
    }
   ],
   "source": [
    "data[0]"
   ]
  },
  {
   "cell_type": "code",
   "execution_count": 31,
   "id": "c409f33e-a276-4117-813a-5007f32c5bf0",
   "metadata": {},
   "outputs": [
    {
     "data": {
      "text/plain": [
       "3"
      ]
     },
     "execution_count": 31,
     "metadata": {},
     "output_type": "execute_result"
    }
   ],
   "source": [
    "N"
   ]
  },
  {
   "cell_type": "code",
   "execution_count": 32,
   "id": "815f6e84-d752-4a55-ae80-db385df9fdf4",
   "metadata": {},
   "outputs": [],
   "source": [
    "val = data[0][0]"
   ]
  },
  {
   "cell_type": "code",
   "execution_count": 33,
   "id": "30cc6177-c2dd-4789-8591-5409bca15df0",
   "metadata": {},
   "outputs": [
    {
     "data": {
      "text/plain": [
       "'C'"
      ]
     },
     "execution_count": 33,
     "metadata": {},
     "output_type": "execute_result"
    }
   ],
   "source": [
    "val"
   ]
  },
  {
   "cell_type": "code",
   "execution_count": 34,
   "id": "f2eae70f-fd5d-430a-9868-c20af89852eb",
   "metadata": {},
   "outputs": [],
   "source": [
    "# 이동 방향 : 상하좌우\n",
    "dx = [-1, 1, 0, 0]\n",
    "dy = [0, 0, -1, 1]"
   ]
  },
  {
   "cell_type": "code",
   "execution_count": null,
   "id": "7c434666-4b1f-4e3a-ac35-570df6568b1e",
   "metadata": {},
   "outputs": [],
   "source": [
    "for x range(N):\n",
    "    for y range(N):\n",
    "        \n",
    "        for i in range(4):\n",
    "            nx = x + dx[i]\n",
    "            ny = y + dy[i]\n",
    "            \n",
    "            # data 공간을 벗어난 경우\n",
    "            if nx<0 or nx>=N or ny<0 or ny>=M:\n",
    "                continue\n",
    "            \n",
    "            data[x][y]"
   ]
  }
 ],
 "metadata": {
  "kernelspec": {
   "display_name": "Python 3 (ipykernel)",
   "language": "python",
   "name": "python3"
  },
  "language_info": {
   "codemirror_mode": {
    "name": "ipython",
    "version": 3
   },
   "file_extension": ".py",
   "mimetype": "text/x-python",
   "name": "python",
   "nbconvert_exporter": "python",
   "pygments_lexer": "ipython3",
   "version": "3.8.11"
  }
 },
 "nbformat": 4,
 "nbformat_minor": 5
}
