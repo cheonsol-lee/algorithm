{
 "cells": [
  {
   "cell_type": "code",
   "execution_count": 66,
   "id": "08bbaa23-03e4-43b5-adfe-d9b2eee03ff0",
   "metadata": {},
   "outputs": [],
   "source": [
    "import sys\n",
    "sys.setrecursionlimit(10**6)\n",
    "\n",
    "N = int(input())\n",
    "\n",
    "MAX = 987654321\n",
    "dp = [MAX] * 100001\n",
    "\n",
    "dp[1] = 1\n",
    "dp[2] = 2\n",
    "dp[3] = 3\n",
    "\n",
    "import math\n",
    "\n",
    "def solve(n):\n",
    "    if dp[n] != MAX:\n",
    "        return dp[n]\n",
    "    \n",
    "    if n <= 3:\n",
    "        dp[n] = n\n",
    "        return dp[n]\n",
    "    \n",
    "    for i in range(1, int(math.sqrt(n)) + 1):\n",
    "        dp[n] = min(dp[n], solve(n - i**2) + 1)\n",
    "    \n",
    "    return dp[n]\n",
    "\n",
    "print(solve(N))"
   ]
  },
  {
   "cell_type": "code",
   "execution_count": null,
   "id": "22b659da-170c-4bb1-bcd3-25e25271d15e",
   "metadata": {},
   "outputs": [],
   "source": []
  },
  {
   "cell_type": "code",
   "execution_count": null,
   "id": "169136c8-0743-4412-98f2-022f6c1061ec",
   "metadata": {},
   "outputs": [],
   "source": []
  }
 ],
 "metadata": {
  "kernelspec": {
   "display_name": "Python 3",
   "language": "python",
   "name": "python3"
  },
  "language_info": {
   "codemirror_mode": {
    "name": "ipython",
    "version": 3
   },
   "file_extension": ".py",
   "mimetype": "text/x-python",
   "name": "python",
   "nbconvert_exporter": "python",
   "pygments_lexer": "ipython3",
   "version": "3.7.0"
  }
 },
 "nbformat": 4,
 "nbformat_minor": 5
}
