{
 "cells": [
  {
   "cell_type": "code",
   "execution_count": 66,
   "id": "b2e0b2ad-6070-459a-9615-bba71f976e36",
   "metadata": {},
   "outputs": [],
   "source": [
    "# Top-down\n",
    "\n",
    "import sys\n",
    "sys.setrecursionlimit(10**6)\n",
    "\n",
    "N = int(input())\n",
    "\n",
    "MAX = 987654321\n",
    "dp = [MAX] * 100001\n",
    "\n",
    "dp[1] = 1\n",
    "dp[2] = 2\n",
    "dp[3] = 3\n",
    "\n",
    "import math\n",
    "\n",
    "def solve(n):\n",
    "    if dp[n] != MAX:\n",
    "        return dp[n]\n",
    "    \n",
    "    if n <= 3:\n",
    "        dp[n] = n\n",
    "        return dp[n]\n",
    "    \n",
    "    for i in range(1, int(math.sqrt(n)) + 1):\n",
    "        dp[n] = min(dp[n], solve(n - i**2) + 1)\n",
    "    \n",
    "    return dp[n]\n",
    "\n",
    "print(solve(N))"
   ]
  },
  {
   "cell_type": "code",
   "execution_count": 67,
   "id": "c0e62fe8-df46-4289-adc3-8e526504c3ab",
   "metadata": {},
   "outputs": [],
   "source": [
    "# Bottom-up\n",
    "\n",
    "n = int(input())\n",
    "dp = [x for x in range (n+1)]\n",
    "\n",
    "for i in range(1,n+1):\n",
    "    for j in range(1,i):\n",
    "        if j*j > i :\n",
    "            break\n",
    "        dp[i] = min(dp[i], dp[i - j**2]+1)\n",
    "print(dp[n])"
   ]
  },
  {
   "cell_type": "code",
   "execution_count": null,
   "id": "ccb693d0-bf47-4089-b3dc-1532c5f6e4f9",
   "metadata": {},
   "outputs": [],
   "source": []
  }
 ],
 "metadata": {
  "kernelspec": {
   "display_name": "Python 3",
   "language": "python",
   "name": "python3"
  },
  "language_info": {
   "codemirror_mode": {
    "name": "ipython",
    "version": 3
   },
   "file_extension": ".py",
   "mimetype": "text/x-python",
   "name": "python",
   "nbconvert_exporter": "python",
   "pygments_lexer": "ipython3",
   "version": "3.7.0"
  }
 },
 "nbformat": 4,
 "nbformat_minor": 5
}
