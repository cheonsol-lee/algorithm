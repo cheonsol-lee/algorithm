{
 "cells": [
  {
   "cell_type": "code",
   "execution_count": 82,
   "id": "b174cfd1-f432-47ae-9308-15beabf60640",
   "metadata": {},
   "outputs": [
    {
     "name": "stdin",
     "output_type": "stream",
     "text": [
      " 3\n"
     ]
    }
   ],
   "source": [
    "N = int(input())"
   ]
  },
  {
   "cell_type": "code",
   "execution_count": 77,
   "id": "bb70b97b-58aa-42c8-ab1f-ecb48797a9d6",
   "metadata": {},
   "outputs": [],
   "source": [
    "dp = [[0 for i in range(10)] for j in range(N+1)]"
   ]
  },
  {
   "cell_type": "code",
   "execution_count": 78,
   "id": "3ba4bee6-1f8f-4d74-869b-1d481c1cdb71",
   "metadata": {},
   "outputs": [],
   "source": [
    "dp[0] = [1] * 10"
   ]
  },
  {
   "cell_type": "code",
   "execution_count": 79,
   "id": "a19a38fb-b202-4aca-8b1d-29846bf34fc8",
   "metadata": {},
   "outputs": [],
   "source": [
    "# dp의 행(자리수), 열(끝자리수)\n",
    "# 끝자리수에 따른 그보다 한자리 적은 수의 범위를 더함\n",
    "# dp[1][3] =  dp[0][0] + dp[0][1] + dp[0][2] + dp[0][3]\n",
    "for i in range(1, N+1):\n",
    "    for j in range(0, 10):\n",
    "        for col in range(j+1):\n",
    "            dp[i][j] += dp[i-1][col] % 10007"
   ]
  },
  {
   "cell_type": "code",
   "execution_count": 80,
   "id": "6e30cb75-25e4-438f-b57f-b0eb208fa298",
   "metadata": {},
   "outputs": [
    {
     "data": {
      "text/plain": [
       "[[1, 1, 1, 1, 1, 1, 1, 1, 1, 1],\n",
       " [1, 2, 3, 4, 5, 6, 7, 8, 9, 10],\n",
       " [1, 3, 6, 10, 15, 21, 28, 36, 45, 55],\n",
       " [1, 4, 10, 20, 35, 56, 84, 120, 165, 220]]"
      ]
     },
     "execution_count": 80,
     "metadata": {},
     "output_type": "execute_result"
    }
   ],
   "source": [
    "dp"
   ]
  },
  {
   "cell_type": "code",
   "execution_count": 81,
   "id": "aecfdc43-7b2d-4d1c-8b5f-4995fa1df7fa",
   "metadata": {},
   "outputs": [
    {
     "name": "stdout",
     "output_type": "stream",
     "text": [
      "220\n"
     ]
    }
   ],
   "source": [
    "print(dp[N][9] % 10007)"
   ]
  },
  {
   "cell_type": "code",
   "execution_count": null,
   "id": "f2a68d9d-30b0-4f12-8d7d-533a6e5728cf",
   "metadata": {},
   "outputs": [],
   "source": []
  },
  {
   "cell_type": "code",
   "execution_count": null,
   "id": "5a410a7b-5ff4-4266-8749-87d8cdb75ce0",
   "metadata": {},
   "outputs": [],
   "source": []
  }
 ],
 "metadata": {
  "kernelspec": {
   "display_name": "Python 3",
   "language": "python",
   "name": "python3"
  },
  "language_info": {
   "codemirror_mode": {
    "name": "ipython",
    "version": 3
   },
   "file_extension": ".py",
   "mimetype": "text/x-python",
   "name": "python",
   "nbconvert_exporter": "python",
   "pygments_lexer": "ipython3",
   "version": "3.7.0"
  }
 },
 "nbformat": 4,
 "nbformat_minor": 5
}
