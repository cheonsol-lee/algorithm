{
 "cells": [
  {
   "cell_type": "code",
   "execution_count": 16,
   "id": "e1c4b993-b9dc-4587-9e64-82750fc80d9f",
   "metadata": {},
   "outputs": [],
   "source": [
    "N = int(input())\n",
    "\n",
    "val_arr = list(map(int, input().split()))\n",
    "\n",
    "val_arr.insert(0, 0)\n",
    "\n",
    "memo = [0]*1001\n",
    "\n",
    "# 최댓값이 n일 때, 얻는 최대 가치 리턴\n",
    "def solve(n):\n",
    "    if memo[n] != 0:\n",
    "        return memo[n]\n",
    "    \n",
    "    if n==0:\n",
    "        return 0\n",
    "    \n",
    "    for i in range(1, n+1):\n",
    "        memo[n] = max(memo[n], solve(n - i) + val_arr[i])\n",
    "    return memo[n]\n",
    "\n",
    "print(solve(N))"
   ]
  },
  {
   "cell_type": "code",
   "execution_count": null,
   "id": "989bae40-db41-4af9-a52a-0e008b00c050",
   "metadata": {},
   "outputs": [],
   "source": []
  }
 ],
 "metadata": {
  "kernelspec": {
   "display_name": "Python 3",
   "language": "python",
   "name": "python3"
  },
  "language_info": {
   "codemirror_mode": {
    "name": "ipython",
    "version": 3
   },
   "file_extension": ".py",
   "mimetype": "text/x-python",
   "name": "python",
   "nbconvert_exporter": "python",
   "pygments_lexer": "ipython3",
   "version": "3.7.0"
  }
 },
 "nbformat": 4,
 "nbformat_minor": 5
}
