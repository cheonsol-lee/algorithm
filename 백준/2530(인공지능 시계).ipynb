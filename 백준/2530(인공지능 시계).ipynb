{
 "cells": [
  {
   "cell_type": "code",
   "execution_count": null,
   "id": "100abfba-b9b2-474e-8dc5-9636f9928d8f",
   "metadata": {},
   "outputs": [],
   "source": [
    "17 40 45\n",
    "6015\n",
    "\n",
    "23 48 59\n",
    "2515"
   ]
  },
  {
   "cell_type": "code",
   "execution_count": 85,
   "id": "c8211a77-82a2-4b89-b71b-40e76da1b5a0",
   "metadata": {},
   "outputs": [
    {
     "name": "stdin",
     "output_type": "stream",
     "text": [
      " 23 48 59\n"
     ]
    }
   ],
   "source": [
    "A, B, C = list(map(int, input().split()))"
   ]
  },
  {
   "cell_type": "code",
   "execution_count": 98,
   "id": "3c26cbca-d36f-4e6e-8753-841aaecf3ed8",
   "metadata": {},
   "outputs": [
    {
     "name": "stdin",
     "output_type": "stream",
     "text": [
      " 500000\n"
     ]
    }
   ],
   "source": [
    "D = int(input()) # 추가시간(초)"
   ]
  },
  {
   "cell_type": "code",
   "execution_count": 99,
   "id": "79ccbe91-762d-4329-9f01-6078e1487742",
   "metadata": {},
   "outputs": [],
   "source": [
    "time = A*3600 + B*60 + C + D"
   ]
  },
  {
   "cell_type": "code",
   "execution_count": 104,
   "id": "669b1d8d-9a09-4ab7-a0ed-ab458b732fcb",
   "metadata": {},
   "outputs": [],
   "source": [
    "if time >= 86400:\n",
    "    time %= 86400"
   ]
  },
  {
   "cell_type": "code",
   "execution_count": 105,
   "id": "1b160e5e-8abe-4d9f-b0c3-714edd9c75c1",
   "metadata": {},
   "outputs": [
    {
     "data": {
      "text/plain": [
       "67339"
      ]
     },
     "execution_count": 105,
     "metadata": {},
     "output_type": "execute_result"
    }
   ],
   "source": [
    "time"
   ]
  },
  {
   "cell_type": "code",
   "execution_count": 106,
   "id": "ad2a4c53-0e47-4add-a592-ff92b50bdc56",
   "metadata": {},
   "outputs": [],
   "source": [
    "time_h = time // 3600\n",
    "time_m = (time % 3600) // 60\n",
    "time_s = (time % 3600) % 60"
   ]
  },
  {
   "cell_type": "code",
   "execution_count": 107,
   "id": "bf4dac17-4104-40cc-b9c2-7cda980a6a9e",
   "metadata": {},
   "outputs": [
    {
     "name": "stdout",
     "output_type": "stream",
     "text": [
      "18 42 19\n"
     ]
    }
   ],
   "source": [
    "print(f'{time_h} {time_m} {time_s}')"
   ]
  },
  {
   "cell_type": "code",
   "execution_count": null,
   "id": "9a0deefe-c589-4ef2-a42b-6d5f5e9a05c5",
   "metadata": {},
   "outputs": [],
   "source": []
  },
  {
   "cell_type": "code",
   "execution_count": null,
   "id": "e425ca0f-c26f-4b53-87ad-0a0f42880e63",
   "metadata": {},
   "outputs": [],
   "source": []
  }
 ],
 "metadata": {
  "kernelspec": {
   "display_name": "Python 3",
   "language": "python",
   "name": "python3"
  },
  "language_info": {
   "codemirror_mode": {
    "name": "ipython",
    "version": 3
   },
   "file_extension": ".py",
   "mimetype": "text/x-python",
   "name": "python",
   "nbconvert_exporter": "python",
   "pygments_lexer": "ipython3",
   "version": "3.7.0"
  }
 },
 "nbformat": 4,
 "nbformat_minor": 5
}
