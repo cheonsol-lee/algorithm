{
 "cells": [
  {
   "cell_type": "code",
   "execution_count": null,
   "id": "06533413-205e-446d-ae8b-1c0d0240cce5",
   "metadata": {},
   "outputs": [],
   "source": [
    "5\n",
    "6 8 2 6 2\n",
    "3 2 3 4 6\n",
    "6 7 3 3 2\n",
    "7 2 5 3 6\n",
    "8 9 5 2 7\n",
    "\n",
    "7\n",
    "9 9 9 9 9 9 9\n",
    "9 2 1 2 1 2 9\n",
    "9 1 8 7 8 1 9\n",
    "9 2 7 9 7 2 9\n",
    "9 1 8 7 8 1 9\n",
    "9 2 1 2 1 2 9\n",
    "9 9 9 9 9 9 9"
   ]
  },
  {
   "cell_type": "code",
   "execution_count": 109,
   "id": "b765b956-0a93-4c7a-839e-79b120f9d803",
   "metadata": {},
   "outputs": [
    {
     "name": "stdin",
     "output_type": "stream",
     "text": [
      " 7\n"
     ]
    }
   ],
   "source": [
    "N = int(input())"
   ]
  },
  {
   "cell_type": "code",
   "execution_count": 110,
   "id": "ece39d31-7056-42f3-aa67-4303378f5d44",
   "metadata": {},
   "outputs": [],
   "source": [
    "data_map = [[0 for i in range(N)] for j in range(N)]"
   ]
  },
  {
   "cell_type": "code",
   "execution_count": 111,
   "id": "0decbe8d-769a-4eb6-b1c4-7eaf66cb9adb",
   "metadata": {},
   "outputs": [
    {
     "data": {
      "text/plain": [
       "[[0, 0, 0, 0, 0, 0, 0],\n",
       " [0, 0, 0, 0, 0, 0, 0],\n",
       " [0, 0, 0, 0, 0, 0, 0],\n",
       " [0, 0, 0, 0, 0, 0, 0],\n",
       " [0, 0, 0, 0, 0, 0, 0],\n",
       " [0, 0, 0, 0, 0, 0, 0],\n",
       " [0, 0, 0, 0, 0, 0, 0]]"
      ]
     },
     "execution_count": 111,
     "metadata": {},
     "output_type": "execute_result"
    }
   ],
   "source": [
    "data_map"
   ]
  },
  {
   "cell_type": "code",
   "execution_count": 112,
   "id": "82e5d6c1-d452-4dd9-95b2-5d93423365f3",
   "metadata": {},
   "outputs": [
    {
     "name": "stdin",
     "output_type": "stream",
     "text": [
      " 9 9 9 9 9 9 9\n",
      " 9 2 1 2 1 2 9\n",
      " 9 1 8 7 8 1 9\n",
      " 9 2 7 9 7 2 9\n",
      " 9 1 8 7 8 1 9\n",
      " 9 2 1 2 1 2 9\n",
      " 9 9 9 9 9 9 9\n"
     ]
    }
   ],
   "source": [
    "max_value = 0\n",
    "for i in range(N):\n",
    "    one_list = list(map(int, input().split()))\n",
    "\n",
    "    max_value = max(max_value, max(one_list))\n",
    "    data_map[i] = one_list"
   ]
  },
  {
   "cell_type": "code",
   "execution_count": 113,
   "id": "c5b361a8-a498-4add-be3b-f4d2f958b92d",
   "metadata": {
    "tags": []
   },
   "outputs": [],
   "source": [
    "# check_map = [[1 for i in range(N)] for j in range(N)]\n",
    "dx = [-1,1,0,0]\n",
    "dy = [0,0,-1,1]"
   ]
  },
  {
   "cell_type": "code",
   "execution_count": 114,
   "id": "77fd9b88-e2b4-494c-b56c-2c99d1e0e2a1",
   "metadata": {},
   "outputs": [
    {
     "data": {
      "text/plain": [
       "[[9, 9, 9, 9, 9, 9, 9],\n",
       " [9, 2, 1, 2, 1, 2, 9],\n",
       " [9, 1, 8, 7, 8, 1, 9],\n",
       " [9, 2, 7, 9, 7, 2, 9],\n",
       " [9, 1, 8, 7, 8, 1, 9],\n",
       " [9, 2, 1, 2, 1, 2, 9],\n",
       " [9, 9, 9, 9, 9, 9, 9]]"
      ]
     },
     "execution_count": 114,
     "metadata": {},
     "output_type": "execute_result"
    }
   ],
   "source": [
    "data_map"
   ]
  },
  {
   "cell_type": "code",
   "execution_count": 115,
   "id": "8c52a4ad-bc4c-4512-9c07-2eedf781a97f",
   "metadata": {},
   "outputs": [],
   "source": [
    "def dfs(x, y, h):\n",
    "    global data_map, check_map\n",
    "    \n",
    "    if x<=-1 or x>=N or y<=-1 or y>=N:\n",
    "        return False\n",
    "    \n",
    "    # 아직 방문하지 않았다면\n",
    "    if check_map[x][y] > h:\n",
    "        check_map[x][y] = h\n",
    "        \n",
    "        for i in range(4):\n",
    "            nx = x + dx[i]\n",
    "            ny = y + dy[i]\n",
    "\n",
    "            dfs(nx, ny, h)\n",
    "        return True\n",
    "    \n",
    "    return False"
   ]
  },
  {
   "cell_type": "code",
   "execution_count": 116,
   "id": "95ed065a-d2e4-41bf-9846-604f77205f89",
   "metadata": {},
   "outputs": [
    {
     "data": {
      "text/plain": [
       "9"
      ]
     },
     "execution_count": 116,
     "metadata": {},
     "output_type": "execute_result"
    }
   ],
   "source": [
    "max_value"
   ]
  },
  {
   "cell_type": "code",
   "execution_count": 117,
   "id": "809a7003-e43e-4ebf-93de-39c99f2ed1fe",
   "metadata": {},
   "outputs": [],
   "source": [
    "import copy \n",
    "max_count = 0\n",
    "\n",
    "for h in range(max_value):\n",
    "    check_map = copy.deepcopy(data_map)\n",
    "    count = 0\n",
    "    \n",
    "    for x in range(N):\n",
    "        for y in range(N):\n",
    "            if dfs(x,y,h) == True:\n",
    "                count += 1\n",
    "            max_count = max(max_count, count)"
   ]
  },
  {
   "cell_type": "code",
   "execution_count": 118,
   "id": "18660e54-3b30-477e-afcb-ff1f30922c23",
   "metadata": {},
   "outputs": [
    {
     "data": {
      "text/plain": [
       "6"
      ]
     },
     "execution_count": 118,
     "metadata": {},
     "output_type": "execute_result"
    }
   ],
   "source": [
    "max_count"
   ]
  },
  {
   "cell_type": "code",
   "execution_count": null,
   "id": "b91f8246-1afe-4f9c-b8ee-8d13d3df6892",
   "metadata": {},
   "outputs": [],
   "source": []
  }
 ],
 "metadata": {
  "kernelspec": {
   "display_name": "Python 3",
   "language": "python",
   "name": "python3"
  },
  "language_info": {
   "codemirror_mode": {
    "name": "ipython",
    "version": 3
   },
   "file_extension": ".py",
   "mimetype": "text/x-python",
   "name": "python",
   "nbconvert_exporter": "python",
   "pygments_lexer": "ipython3",
   "version": "3.7.0"
  }
 },
 "nbformat": 4,
 "nbformat_minor": 5
}
