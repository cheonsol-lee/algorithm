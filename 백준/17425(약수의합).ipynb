{
 "cells": [
  {
   "cell_type": "code",
   "execution_count": 31,
   "id": "cbc3f359-b487-4de5-926e-6fde61e995b3",
   "metadata": {},
   "outputs": [],
   "source": [
    "# 최대값 설정\n",
    "MAX=1000000\n",
    "\n",
    "# DP 1로 초기화\n",
    "dp = [1]*(MAX+1)\n",
    "\n",
    "# S: 값 누적 리스트\n",
    "s = [0]*(MAX+1)\n",
    "\n",
    "for i in range(2, MAX+1):\n",
    "    j=1\n",
    "    while i*j <= MAX:\n",
    "    \t# i의 배수에 값 추가\n",
    "        dp[i*j] += i\n",
    "        j += 1\n",
    "\n",
    "for i in range(1, MAX+1):\n",
    "\t# 누적 값 계산\n",
    "    s[i] = s[i-1] + dp[i]\n",
    "\n",
    "n = int(input())\n",
    "ans=[]\n",
    "for _ in range(n):\n",
    "    a=int(input())\n",
    "    ans.append(s[a])\n",
    "print('\\n'.join(map(str, ans))+'\\n')"
   ]
  }
 ],
 "metadata": {
  "kernelspec": {
   "display_name": "Python 3",
   "language": "python",
   "name": "python3"
  },
  "language_info": {
   "codemirror_mode": {
    "name": "ipython",
    "version": 3
   },
   "file_extension": ".py",
   "mimetype": "text/x-python",
   "name": "python",
   "nbconvert_exporter": "python",
   "pygments_lexer": "ipython3",
   "version": "3.7.0"
  }
 },
 "nbformat": 4,
 "nbformat_minor": 5
}
