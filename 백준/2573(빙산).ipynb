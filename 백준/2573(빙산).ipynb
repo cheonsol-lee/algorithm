{
 "cells": [
  {
   "cell_type": "code",
   "execution_count": null,
   "id": "bb6c58d6-446d-4bc2-9ab2-689c7b2d8ced",
   "metadata": {},
   "outputs": [],
   "source": [
    "5 7\n",
    "0 0 0 0 0 0 0\n",
    "0 2 4 5 3 0 0\n",
    "0 3 0 2 5 2 0\n",
    "0 7 6 2 4 0 0\n",
    "0 0 0 0 0 0 0"
   ]
  },
  {
   "cell_type": "code",
   "execution_count": 47,
   "id": "a51721a8-8e70-4291-ad87-8cac7a3d5524",
   "metadata": {},
   "outputs": [
    {
     "name": "stdin",
     "output_type": "stream",
     "text": [
      " 5 7\n"
     ]
    }
   ],
   "source": [
    "N, M = map(int, input().split())"
   ]
  },
  {
   "cell_type": "code",
   "execution_count": 79,
   "id": "d4d8633b-d15f-40d9-9b2b-9e1bcb49e4b8",
   "metadata": {},
   "outputs": [],
   "source": [
    "data_map = [[0 for i in range(M)] for j in range(N)]\n",
    "check_map = [[0 for i in range(M)] for j in range(N)]"
   ]
  },
  {
   "cell_type": "code",
   "execution_count": 80,
   "id": "0e88c04f-8564-4d99-a3c8-fdbc7b46cc13",
   "metadata": {},
   "outputs": [
    {
     "name": "stdin",
     "output_type": "stream",
     "text": [
      " 0 0 0 0 0 0 0\n",
      " 0 2 4 5 3 0 0\n",
      " 0 3 0 2 5 2 0\n",
      " 0 7 6 2 4 0 0\n",
      " 0 0 0 0 0 0 0\n"
     ]
    }
   ],
   "source": [
    "for i in range(N):\n",
    "    data_map[i] = list(map(int, input().split()))"
   ]
  },
  {
   "cell_type": "code",
   "execution_count": 81,
   "id": "4f54988d-3572-42b8-af3e-db1e3523a359",
   "metadata": {},
   "outputs": [],
   "source": [
    "check_map = [[0 for i in range(M)] for j in range(N)]"
   ]
  },
  {
   "cell_type": "code",
   "execution_count": 91,
   "id": "1cff0157-175c-40ae-950e-308be25bb54c",
   "metadata": {},
   "outputs": [
    {
     "data": {
      "text/plain": [
       "[[0, 0, 0, 0, 0, 0, 0],\n",
       " [0, 0, -1, -1, -1, 0, 0],\n",
       " [0, -2, 0, 0, -1, -1, 0],\n",
       " [0, -1, -1, 0, 0, 0, 0],\n",
       " [0, 0, 0, 0, 0, 0, 0]]"
      ]
     },
     "execution_count": 91,
     "metadata": {},
     "output_type": "execute_result"
    }
   ],
   "source": [
    "data_map"
   ]
  },
  {
   "cell_type": "code",
   "execution_count": 84,
   "id": "e2293983-d705-46ea-832a-c7fcae497918",
   "metadata": {},
   "outputs": [],
   "source": [
    "data_map2 = copy.deepcopy(data_map)"
   ]
  },
  {
   "cell_type": "code",
   "execution_count": 92,
   "id": "e1fde5db-a378-4459-a4f9-9035c26ab88c",
   "metadata": {},
   "outputs": [
    {
     "data": {
      "text/plain": [
       "[[0, 0, 0, 0, 0, 0, 0],\n",
       " [0, 2, 4, 5, 3, 0, 0],\n",
       " [0, 3, 0, 2, 5, 2, 0],\n",
       " [0, 7, 6, 2, 4, 0, 0],\n",
       " [0, 0, 0, 0, 0, 0, 0]]"
      ]
     },
     "execution_count": 92,
     "metadata": {},
     "output_type": "execute_result"
    }
   ],
   "source": [
    "data_map2"
   ]
  },
  {
   "cell_type": "code",
   "execution_count": 121,
   "id": "e0aeeeab-a1fe-4492-af65-49364ac58e1d",
   "metadata": {},
   "outputs": [],
   "source": [
    "data_map = copy.deepcopy(data_map2)"
   ]
  },
  {
   "cell_type": "code",
   "execution_count": 122,
   "id": "8c89ad1e-2205-495a-939a-31c05a8321cd",
   "metadata": {},
   "outputs": [
    {
     "data": {
      "text/plain": [
       "[[0, 0, 0, 0, 0, 0, 0],\n",
       " [0, 2, 4, 5, 3, 0, 0],\n",
       " [0, 3, 0, 2, 5, 2, 0],\n",
       " [0, 7, 6, 2, 4, 0, 0],\n",
       " [0, 0, 0, 0, 0, 0, 0]]"
      ]
     },
     "execution_count": 122,
     "metadata": {},
     "output_type": "execute_result"
    }
   ],
   "source": [
    "data_map"
   ]
  },
  {
   "cell_type": "code",
   "execution_count": 123,
   "id": "613aef41-98d2-40c0-8e1a-b459fe8c99ef",
   "metadata": {},
   "outputs": [],
   "source": [
    "dx = [-1,1,0,0]\n",
    "dy = [0,0,-1,1]"
   ]
  },
  {
   "cell_type": "code",
   "execution_count": 124,
   "id": "d8b06575-178c-4ba6-ac6a-1e7a5ab13412",
   "metadata": {},
   "outputs": [],
   "source": [
    "def dfs(x, y):\n",
    "    global check_map\n",
    "\n",
    "    # 아직 방문하지 않았다면\n",
    "    if check_map[x][y] >= 1:\n",
    "        check_map[x][y] = 0\n",
    "        \n",
    "        for i in range(4):\n",
    "            nx = x + dx[i]\n",
    "            ny = y + dy[i]\n",
    "\n",
    "            dfs(nx, ny)   \n",
    "        return True\n",
    "    \n",
    "    return False"
   ]
  },
  {
   "cell_type": "code",
   "execution_count": 125,
   "id": "3b564538-82b5-4352-a50e-50c0e1f68786",
   "metadata": {},
   "outputs": [],
   "source": [
    "def melt(x, y):\n",
    "    global data_map, check_map\n",
    "    sea_count = 0\n",
    "    \n",
    "    # 아직 방문하지 않았다면\n",
    "    if check_map[x][y] >= 1:\n",
    "        for i in range(4):\n",
    "            nx = x + dx[i]\n",
    "            ny = y + dy[i]\n",
    "            \n",
    "            # 주변이 바다라면\n",
    "            if check_map[nx][ny] == 0:\n",
    "                sea_count += 1\n",
    "                \n",
    "        data_map[x][y] -= sea_count    "
   ]
  },
  {
   "cell_type": "code",
   "execution_count": 126,
   "id": "74a07ff7-667b-4078-8b75-27b4ae9dcbcf",
   "metadata": {},
   "outputs": [
    {
     "name": "stdout",
     "output_type": "stream",
     "text": [
      "2\n"
     ]
    }
   ],
   "source": [
    "import copy\n",
    "\n",
    "year_count = 0 # 빙산 분리 연도\n",
    "\n",
    "while True:\n",
    "    ice_count = 0\n",
    "    check_map = copy.deepcopy(data_map)\n",
    "    \n",
    "    # 녹이기\n",
    "    for i in range(1, N-1):\n",
    "        for j in range(1, M-1):\n",
    "            melt(i, j)\n",
    "    \n",
    "    # 빙하 묶음 개수\n",
    "    for i in range(1, N-1):\n",
    "        for j in range(1, M-1):\n",
    "            if dfs(i, j):\n",
    "                ice_count += 1\n",
    "    \n",
    "    # 빙산 0개이면 종료\n",
    "    if ice_count == 0:\n",
    "        print(0)\n",
    "        break\n",
    "\n",
    "    # 빙하 2개이상이면 종료            \n",
    "    if ice_count >= 2:\n",
    "        print(year_count)\n",
    "        break\n",
    "      \n",
    "    year_count += 1"
   ]
  },
  {
   "cell_type": "code",
   "execution_count": null,
   "id": "a729c8ba-ee20-483d-af57-a4a04db68254",
   "metadata": {},
   "outputs": [],
   "source": [
    "   "
   ]
  },
  {
   "cell_type": "code",
   "execution_count": null,
   "id": "b36bda54-6aa5-4bb6-a25f-f8be44128fb5",
   "metadata": {},
   "outputs": [],
   "source": []
  }
 ],
 "metadata": {
  "kernelspec": {
   "display_name": "Python 3",
   "language": "python",
   "name": "python3"
  },
  "language_info": {
   "codemirror_mode": {
    "name": "ipython",
    "version": 3
   },
   "file_extension": ".py",
   "mimetype": "text/x-python",
   "name": "python",
   "nbconvert_exporter": "python",
   "pygments_lexer": "ipython3",
   "version": "3.7.0"
  }
 },
 "nbformat": 4,
 "nbformat_minor": 5
}
