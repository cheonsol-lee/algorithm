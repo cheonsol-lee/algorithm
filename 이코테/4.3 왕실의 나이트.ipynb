{
 "cells": [
  {
   "cell_type": "code",
   "execution_count": 34,
   "id": "64fdd7c7-bfe0-49f8-aa36-f1bc71bc7934",
   "metadata": {},
   "outputs": [
    {
     "name": "stdin",
     "output_type": "stream",
     "text": [
      " c2\n"
     ]
    }
   ],
   "source": [
    "input_data = input()\n",
    "y = int(input_data[1])\n",
    "x = int(ord(input_data[0])) - int(ord('a')) + 1"
   ]
  },
  {
   "cell_type": "code",
   "execution_count": 35,
   "id": "e2696593-3576-4e35-8567-fc29a90d65bb",
   "metadata": {},
   "outputs": [],
   "source": [
    "dy = [2,2,-2,-2,-1,1,-1,1]\n",
    "dx = [-1,1,-1,1,2,2,-2,-2]"
   ]
  },
  {
   "cell_type": "code",
   "execution_count": 36,
   "id": "291df700-7b7c-459d-8848-425541bb3544",
   "metadata": {},
   "outputs": [],
   "source": [
    "count = 0\n",
    "\n",
    "for i in range(8):\n",
    "    nx = x + dx[i]\n",
    "    ny = y + dy[i]\n",
    "    \n",
    "    if(nx>=1 and nx<=8 and ny>=1 and ny<=8):\n",
    "        count += 1"
   ]
  },
  {
   "cell_type": "code",
   "execution_count": 37,
   "id": "c58c878d-560b-46c5-bb29-ce570b31cb41",
   "metadata": {},
   "outputs": [
    {
     "data": {
      "text/plain": [
       "6"
      ]
     },
     "execution_count": 37,
     "metadata": {},
     "output_type": "execute_result"
    }
   ],
   "source": [
    "count"
   ]
  },
  {
   "cell_type": "code",
   "execution_count": null,
   "id": "44aaf0bc-99f2-453c-93f2-753e0c366bde",
   "metadata": {},
   "outputs": [],
   "source": []
  }
 ],
 "metadata": {
  "kernelspec": {
   "display_name": "Python 3 (ipykernel)",
   "language": "python",
   "name": "python3"
  },
  "language_info": {
   "codemirror_mode": {
    "name": "ipython",
    "version": 3
   },
   "file_extension": ".py",
   "mimetype": "text/x-python",
   "name": "python",
   "nbconvert_exporter": "python",
   "pygments_lexer": "ipython3",
   "version": "3.8.11"
  }
 },
 "nbformat": 4,
 "nbformat_minor": 5
}
