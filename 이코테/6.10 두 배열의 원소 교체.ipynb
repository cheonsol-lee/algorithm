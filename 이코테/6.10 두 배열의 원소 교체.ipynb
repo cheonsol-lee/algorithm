{
 "cells": [
  {
   "cell_type": "code",
   "execution_count": null,
   "id": "3ca6618a-c6fb-4df5-959d-84c31761c33d",
   "metadata": {},
   "outputs": [],
   "source": [
    "'''\n",
    "5 3\n",
    "1 2 5 4 3\n",
    "5 5 6 6 5\n",
    "'''"
   ]
  },
  {
   "cell_type": "code",
   "execution_count": 20,
   "id": "b3e31849-e9be-443d-aff4-ec86788e2d43",
   "metadata": {},
   "outputs": [
    {
     "name": "stdin",
     "output_type": "stream",
     "text": [
      " 5 3\n"
     ]
    }
   ],
   "source": [
    "N, K = map(int, input().split())"
   ]
  },
  {
   "cell_type": "code",
   "execution_count": 21,
   "id": "06c5d751-1cd6-48f3-94aa-ebe20ae85c76",
   "metadata": {},
   "outputs": [
    {
     "name": "stdin",
     "output_type": "stream",
     "text": [
      " 1 2 5 4 3\n",
      " 5 5 6 6 5\n"
     ]
    }
   ],
   "source": [
    "A_arr = list(map(int, input().split()))\n",
    "B_arr = list(map(int, input().split()))"
   ]
  },
  {
   "cell_type": "code",
   "execution_count": 22,
   "id": "03784f05-0618-4d1e-87a0-a78662bc0e59",
   "metadata": {},
   "outputs": [],
   "source": [
    "A_arr.sort()\n",
    "B_arr.sort(reverse=True)"
   ]
  },
  {
   "cell_type": "code",
   "execution_count": 23,
   "id": "a908fb1b-ad2c-4e4c-8da7-535175e87a4c",
   "metadata": {},
   "outputs": [
    {
     "name": "stdout",
     "output_type": "stream",
     "text": [
      "[1, 2, 3, 4, 5]\n",
      "[6, 6, 5, 5, 5]\n"
     ]
    }
   ],
   "source": [
    "print(A_arr)\n",
    "print(B_arr)"
   ]
  },
  {
   "cell_type": "code",
   "execution_count": 27,
   "id": "4ec2a796-fd25-428e-bd8a-3af5b104ebc4",
   "metadata": {},
   "outputs": [],
   "source": [
    "for i in range(K):\n",
    "    if A_arr[i] < B_arr[i]:\n",
    "        A_arr[i], B_arr[i] = B_arr[i], A_arr[i]\n",
    "    else:\n",
    "        break"
   ]
  },
  {
   "cell_type": "code",
   "execution_count": 28,
   "id": "50a819dd-301f-4bc2-b5b9-e550305fe77e",
   "metadata": {},
   "outputs": [
    {
     "name": "stdout",
     "output_type": "stream",
     "text": [
      "[6, 6, 5, 4, 5]\n",
      "[1, 2, 3, 5, 5]\n"
     ]
    }
   ],
   "source": [
    "print(A_arr)\n",
    "print(B_arr)"
   ]
  },
  {
   "cell_type": "code",
   "execution_count": 29,
   "id": "d1c7c487-9e3d-4c67-820b-dcee27ae9ee8",
   "metadata": {},
   "outputs": [
    {
     "data": {
      "text/plain": [
       "26"
      ]
     },
     "execution_count": 29,
     "metadata": {},
     "output_type": "execute_result"
    }
   ],
   "source": [
    "sum(A_arr)"
   ]
  },
  {
   "cell_type": "code",
   "execution_count": null,
   "id": "55721796-6545-48a6-9971-3690774aab25",
   "metadata": {},
   "outputs": [],
   "source": []
  }
 ],
 "metadata": {
  "kernelspec": {
   "display_name": "Python 3 (ipykernel)",
   "language": "python",
   "name": "python3"
  },
  "language_info": {
   "codemirror_mode": {
    "name": "ipython",
    "version": 3
   },
   "file_extension": ".py",
   "mimetype": "text/x-python",
   "name": "python",
   "nbconvert_exporter": "python",
   "pygments_lexer": "ipython3",
   "version": "3.8.11"
  }
 },
 "nbformat": 4,
 "nbformat_minor": 5
}
