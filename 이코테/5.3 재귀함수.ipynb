{
 "cells": [
  {
   "cell_type": "code",
   "execution_count": 1,
   "id": "c324d8fc-3a3d-4d2b-87b1-650e281f02e7",
   "metadata": {},
   "outputs": [],
   "source": [
    "def recursive_function(i):\n",
    "    if i == 5:\n",
    "        return\n",
    "    print(f'{i}번쨰 재귀함수에서 {i+1}번째 재귀함수를 호출')\n",
    "    recursive_function(i+1)\n",
    "    print(f'{i}번째 재귀함수 종료')"
   ]
  },
  {
   "cell_type": "code",
   "execution_count": 2,
   "id": "e6f63fb0-f9f1-42da-a4d8-4f05995e985d",
   "metadata": {},
   "outputs": [
    {
     "name": "stdout",
     "output_type": "stream",
     "text": [
      "1번쨰 재귀함수에서 2번째 재귀함수를 호출\n",
      "2번쨰 재귀함수에서 3번째 재귀함수를 호출\n",
      "3번쨰 재귀함수에서 4번째 재귀함수를 호출\n",
      "4번쨰 재귀함수에서 5번째 재귀함수를 호출\n",
      "4번째 재귀함수 종료\n",
      "3번째 재귀함수 종료\n",
      "2번째 재귀함수 종료\n",
      "1번째 재귀함수 종료\n"
     ]
    }
   ],
   "source": [
    "recursive_function(1)"
   ]
  },
  {
   "cell_type": "code",
   "execution_count": null,
   "id": "979a5634-9d8d-4dcb-b0b0-fcb20f80099c",
   "metadata": {},
   "outputs": [],
   "source": []
  }
 ],
 "metadata": {
  "kernelspec": {
   "display_name": "Python 3 (ipykernel)",
   "language": "python",
   "name": "python3"
  },
  "language_info": {
   "codemirror_mode": {
    "name": "ipython",
    "version": 3
   },
   "file_extension": ".py",
   "mimetype": "text/x-python",
   "name": "python",
   "nbconvert_exporter": "python",
   "pygments_lexer": "ipython3",
   "version": "3.8.11"
  }
 },
 "nbformat": 4,
 "nbformat_minor": 5
}
