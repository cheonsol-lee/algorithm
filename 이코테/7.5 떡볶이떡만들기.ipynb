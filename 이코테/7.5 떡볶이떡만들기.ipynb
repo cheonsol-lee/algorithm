{
 "cells": [
  {
   "cell_type": "code",
   "execution_count": null,
   "id": "dd1dddf2-9eab-45b3-8bc4-2d21f18a2158",
   "metadata": {},
   "outputs": [],
   "source": [
    "'''\n",
    "4 6\n",
    "19 15 10 17\n",
    "'''"
   ]
  },
  {
   "cell_type": "code",
   "execution_count": 33,
   "id": "1460e47a-ee4b-44bd-b380-d10cd7d69643",
   "metadata": {},
   "outputs": [
    {
     "name": "stdin",
     "output_type": "stream",
     "text": [
      " 4 3\n"
     ]
    }
   ],
   "source": [
    "N, M = map(int, input().split())"
   ]
  },
  {
   "cell_type": "code",
   "execution_count": 11,
   "id": "6c34820e-0f41-4c58-a362-02baf381d1bc",
   "metadata": {},
   "outputs": [
    {
     "name": "stdin",
     "output_type": "stream",
     "text": [
      " 19 15 10 17\n"
     ]
    }
   ],
   "source": [
    "array = list(map(int, input().split()))"
   ]
  },
  {
   "cell_type": "code",
   "execution_count": 12,
   "id": "2765f317-716c-414a-a1b9-84aa29266293",
   "metadata": {},
   "outputs": [
    {
     "data": {
      "text/plain": [
       "[19, 15, 10, 17]"
      ]
     },
     "execution_count": 12,
     "metadata": {},
     "output_type": "execute_result"
    }
   ],
   "source": [
    "array"
   ]
  },
  {
   "cell_type": "code",
   "execution_count": 34,
   "id": "868dbc2f-2be9-4658-8df3-9e8a35378cde",
   "metadata": {},
   "outputs": [],
   "source": [
    "start = 0\n",
    "end = max(array)"
   ]
  },
  {
   "cell_type": "code",
   "execution_count": 35,
   "id": "cecbbb44-e512-4073-9521-ecbd1b40ecf1",
   "metadata": {},
   "outputs": [
    {
     "name": "stdout",
     "output_type": "stream",
     "text": [
      "\n",
      "9\n",
      "25\n",
      "\n",
      "14\n",
      "9\n",
      "\n",
      "17\n",
      "2\n",
      "\n",
      "15\n",
      "6\n",
      "\n",
      "16\n",
      "4\n"
     ]
    }
   ],
   "source": [
    "result = 0\n",
    "while(start <= end):\n",
    "    total = 0\n",
    "    mid = (start + end) // 2\n",
    "\n",
    "    for x in array:\n",
    "        # 잘랐을 때의 떡의 양 계산\n",
    "        if x > mid:\n",
    "            total += x - mid\n",
    "    # 떡의 양이 부족한 경우 더 많이 자르기(왼쪽 부분 탐색)\n",
    "    if total < M:\n",
    "        end = mid - 1\n",
    "    # 떡의 양이 충분한 경우 덜 자르기(오른쪽 부분 탐색)\n",
    "    else:\n",
    "        result = mid\n",
    "        start = mid + 1"
   ]
  },
  {
   "cell_type": "code",
   "execution_count": 36,
   "id": "a4758c88-618b-4cc6-b272-97267979f904",
   "metadata": {},
   "outputs": [
    {
     "data": {
      "text/plain": [
       "16"
      ]
     },
     "execution_count": 36,
     "metadata": {},
     "output_type": "execute_result"
    }
   ],
   "source": [
    "result"
   ]
  },
  {
   "cell_type": "code",
   "execution_count": 39,
   "id": "3b24217f-ba68-4da8-97f5-7c12b1c2a5d7",
   "metadata": {},
   "outputs": [],
   "source": [
    "start = 0\n",
    "end = max(array)\n",
    "\n",
    "result = 0\n",
    "while start <= end:\n",
    "    total = 0\n",
    "    mid = (start + end) // 2\n",
    "    \n",
    "    for x in array:\n",
    "        if x > mid:\n",
    "            total += x - mid\n",
    "    \n",
    "    if total < M:\n",
    "        end = mid - 1\n",
    "    else:\n",
    "        result = mid\n",
    "        start = mid + 1"
   ]
  },
  {
   "cell_type": "code",
   "execution_count": 40,
   "id": "2e5aa7ba-97b9-4cf9-983d-6d3db3885b72",
   "metadata": {},
   "outputs": [
    {
     "data": {
      "text/plain": [
       "16"
      ]
     },
     "execution_count": 40,
     "metadata": {},
     "output_type": "execute_result"
    }
   ],
   "source": [
    "result"
   ]
  },
  {
   "cell_type": "code",
   "execution_count": null,
   "id": "6fbadcae-c647-4ffd-836c-420677f5f6c7",
   "metadata": {},
   "outputs": [],
   "source": []
  }
 ],
 "metadata": {
  "kernelspec": {
   "display_name": "Python 3 (ipykernel)",
   "language": "python",
   "name": "python3"
  },
  "language_info": {
   "codemirror_mode": {
    "name": "ipython",
    "version": 3
   },
   "file_extension": ".py",
   "mimetype": "text/x-python",
   "name": "python",
   "nbconvert_exporter": "python",
   "pygments_lexer": "ipython3",
   "version": "3.8.11"
  }
 },
 "nbformat": 4,
 "nbformat_minor": 5
}
