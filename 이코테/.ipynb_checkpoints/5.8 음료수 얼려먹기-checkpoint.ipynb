{
 "cells": [
  {
   "cell_type": "code",
   "execution_count": null,
   "id": "ce3af68e-1d44-4092-a643-2cb9910df371",
   "metadata": {},
   "outputs": [],
   "source": [
    "'''\n",
    "15 14\n",
    "00000111100000\n",
    "11111101111110\n",
    "11011101101110\n",
    "11011101100000\n",
    "11011111111111\n",
    "11011111111100\n",
    "11000000011111\n",
    "01111111111111\n",
    "00000000011111\n",
    "01111111111000\n",
    "00011111111000\n",
    "00000001111000\n",
    "11111111110011\n",
    "11100011111111\n",
    "11100011111111\n",
    "'''"
   ]
  },
  {
   "cell_type": "code",
   "execution_count": null,
   "id": "06058463-8903-4d6b-a137-2250671315a2",
   "metadata": {},
   "outputs": [],
   "source": [
    "'''\n",
    "4 5\n",
    "00110\n",
    "00011\n",
    "11111\n",
    "00000\n",
    "'''"
   ]
  },
  {
   "cell_type": "code",
   "execution_count": 21,
   "id": "58508da1-d17a-471d-9b5a-895119510734",
   "metadata": {},
   "outputs": [
    {
     "name": "stdin",
     "output_type": "stream",
     "text": [
      " 4 5\n"
     ]
    }
   ],
   "source": [
    "N, M = map(int, input().split())"
   ]
  },
  {
   "cell_type": "code",
   "execution_count": 22,
   "id": "c2b42ae3-60f6-421b-9c89-a252b9a00700",
   "metadata": {},
   "outputs": [
    {
     "name": "stdin",
     "output_type": "stream",
     "text": [
      " 00110\n",
      " 00011\n",
      " 11111\n",
      " 00000\n"
     ]
    }
   ],
   "source": [
    "graph = []\n",
    "for i in range(N):\n",
    "    graph.append(list(map(int, input())))"
   ]
  },
  {
   "cell_type": "code",
   "execution_count": 23,
   "id": "1464ea7c-9773-4ab1-a86c-e1977a845413",
   "metadata": {},
   "outputs": [
    {
     "data": {
      "text/plain": [
       "[[0, 0, 1, 1, 0], [0, 0, 0, 1, 1], [1, 1, 1, 1, 1], [0, 0, 0, 0, 0]]"
      ]
     },
     "execution_count": 23,
     "metadata": {},
     "output_type": "execute_result"
    }
   ],
   "source": [
    "graph"
   ]
  },
  {
   "cell_type": "code",
   "execution_count": 24,
   "id": "96d69255-f9c5-4165-8ec0-3e03cd17bb49",
   "metadata": {},
   "outputs": [],
   "source": [
    "def dfs(x,y):\n",
    "    if x<=-1 or x>=N or y<=-1 or y>=M:\n",
    "        return False\n",
    "    \n",
    "    # 현재 노드를 아직 방문하지 않았다면\n",
    "    if graph[x][y] == 0:\n",
    "        graph[x][y] = 1\n",
    "        \n",
    "        dfs(x-1,y)\n",
    "        dfs(x+1,y)\n",
    "        dfs(x,y-1)\n",
    "        dfs(x,y+1)\n",
    "        return True\n",
    "    return False"
   ]
  },
  {
   "cell_type": "code",
   "execution_count": 25,
   "id": "7fc1ab4e-eef3-4b3c-925c-a418152cb615",
   "metadata": {},
   "outputs": [
    {
     "name": "stdout",
     "output_type": "stream",
     "text": [
      "(0, 0)\n",
      "(0, 4)\n",
      "(3, 0)\n"
     ]
    }
   ],
   "source": [
    "count = 0\n",
    "for i in range(N):\n",
    "    for j in range(M):\n",
    "        if dfs(i,j) == True:\n",
    "            count += 1"
   ]
  },
  {
   "cell_type": "code",
   "execution_count": 26,
   "id": "245d4741-124c-45aa-91dd-267fbdaa900f",
   "metadata": {},
   "outputs": [
    {
     "data": {
      "text/plain": [
       "3"
      ]
     },
     "execution_count": 26,
     "metadata": {},
     "output_type": "execute_result"
    }
   ],
   "source": [
    "count"
   ]
  },
  {
   "cell_type": "code",
   "execution_count": null,
   "id": "1e7ebd7b-b769-4bb3-a7c3-5b49025d35d6",
   "metadata": {},
   "outputs": [],
   "source": []
  }
 ],
 "metadata": {
  "kernelspec": {
   "display_name": "Python 3 (ipykernel)",
   "language": "python",
   "name": "python3"
  },
  "language_info": {
   "codemirror_mode": {
    "name": "ipython",
    "version": 3
   },
   "file_extension": ".py",
   "mimetype": "text/x-python",
   "name": "python",
   "nbconvert_exporter": "python",
   "pygments_lexer": "ipython3",
   "version": "3.8.11"
  }
 },
 "nbformat": 4,
 "nbformat_minor": 5
}
