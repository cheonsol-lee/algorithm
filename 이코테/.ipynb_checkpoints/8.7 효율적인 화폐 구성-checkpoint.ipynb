{
 "cells": [
  {
   "cell_type": "code",
   "execution_count": 32,
   "id": "9eec3b37-e3e4-44cb-ae84-7d3edba35246",
   "metadata": {},
   "outputs": [
    {
     "name": "stdin",
     "output_type": "stream",
     "text": [
      " 3 10\n"
     ]
    }
   ],
   "source": [
    "N, M = map(int, input().split())"
   ]
  },
  {
   "cell_type": "code",
   "execution_count": 33,
   "id": "e34bfc76-0caf-412b-befe-61dcfac51f78",
   "metadata": {},
   "outputs": [
    {
     "name": "stdin",
     "output_type": "stream",
     "text": [
      " 3\n",
      " 5\n",
      " 7\n"
     ]
    }
   ],
   "source": [
    "array = []\n",
    "for i in range(N):\n",
    "    array.append(int(input()))"
   ]
  },
  {
   "cell_type": "code",
   "execution_count": 34,
   "id": "23be829c-1e4a-4b48-95a6-3f608e621b06",
   "metadata": {},
   "outputs": [
    {
     "data": {
      "text/plain": [
       "[3, 5, 7]"
      ]
     },
     "execution_count": 34,
     "metadata": {},
     "output_type": "execute_result"
    }
   ],
   "source": [
    "array"
   ]
  },
  {
   "cell_type": "code",
   "execution_count": 35,
   "id": "d7216acb-bf05-4d0b-b92d-c19f56743ac0",
   "metadata": {},
   "outputs": [],
   "source": [
    "d = [10001] * (M+1)"
   ]
  },
  {
   "cell_type": "code",
   "execution_count": 36,
   "id": "c5d092b8-b9fa-49e7-9094-3e56eb0a3749",
   "metadata": {},
   "outputs": [
    {
     "data": {
      "text/plain": [
       "10001"
      ]
     },
     "execution_count": 36,
     "metadata": {},
     "output_type": "execute_result"
    }
   ],
   "source": [
    "d[2-array[0]]"
   ]
  },
  {
   "cell_type": "code",
   "execution_count": 37,
   "id": "c5226e79-0380-4a4d-8d4c-b1cfa8984767",
   "metadata": {},
   "outputs": [
    {
     "name": "stdout",
     "output_type": "stream",
     "text": [
      "i:0, j:3, d[j]: 1\n",
      "i:0, j:6, d[j]: 2\n",
      "i:0, j:9, d[j]: 3\n",
      "i:1, j:5, d[j]: 1\n",
      "i:1, j:8, d[j]: 2\n",
      "i:1, j:10, d[j]: 2\n",
      "i:2, j:7, d[j]: 1\n",
      "i:2, j:10, d[j]: 2\n"
     ]
    }
   ],
   "source": [
    "d[0] = 0\n",
    "for i in range(N):\n",
    "    for j in range(array[i], M+1):\n",
    "        if d[j - array[i]] != 10001:\n",
    "            d[j] = min(d[j], d[j-array[i]]+1)\n",
    "            print(f'i:{i}, j:{j}, d[j]: {d[j]}')"
   ]
  },
  {
   "cell_type": "code",
   "execution_count": 40,
   "id": "1fb9c895-9b7b-4f6d-a1f4-a448746bddad",
   "metadata": {},
   "outputs": [
    {
     "data": {
      "text/plain": [
       "[0, 10001, 10001, 1, 10001, 1, 2, 1, 2, 3, 2]"
      ]
     },
     "execution_count": 40,
     "metadata": {},
     "output_type": "execute_result"
    }
   ],
   "source": [
    "d"
   ]
  },
  {
   "cell_type": "code",
   "execution_count": 41,
   "id": "e1a3dee6-e6d6-4a99-837b-e7fdc3e39dd6",
   "metadata": {},
   "outputs": [
    {
     "name": "stdout",
     "output_type": "stream",
     "text": [
      "2\n"
     ]
    }
   ],
   "source": [
    "if d[M] == 10001:\n",
    "    print(-1)\n",
    "else:\n",
    "    print(d[M])"
   ]
  },
  {
   "cell_type": "code",
   "execution_count": null,
   "id": "f37f445f-a633-4f86-b252-f215e81643d9",
   "metadata": {},
   "outputs": [],
   "source": []
  }
 ],
 "metadata": {
  "kernelspec": {
   "display_name": "Python 3 (ipykernel)",
   "language": "python",
   "name": "python3"
  },
  "language_info": {
   "codemirror_mode": {
    "name": "ipython",
    "version": 3
   },
   "file_extension": ".py",
   "mimetype": "text/x-python",
   "name": "python",
   "nbconvert_exporter": "python",
   "pygments_lexer": "ipython3",
   "version": "3.8.11"
  }
 },
 "nbformat": 4,
 "nbformat_minor": 5
}
