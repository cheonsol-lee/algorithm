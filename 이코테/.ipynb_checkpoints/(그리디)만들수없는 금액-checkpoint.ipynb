{
 "cells": [
  {
   "cell_type": "code",
   "execution_count": 83,
   "id": "dfda7555-015d-4b98-acbe-cc2e3413bf83",
   "metadata": {},
   "outputs": [
    {
     "data": {
      "text/plain": [
       "'\\n5\\n3 2 1 1 9\\n3\\n3 5 7\\n'"
      ]
     },
     "execution_count": 83,
     "metadata": {},
     "output_type": "execute_result"
    }
   ],
   "source": [
    "'''\n",
    "5\n",
    "3 2 1 1 9\n",
    "3\n",
    "3 5 7\n",
    "'''"
   ]
  },
  {
   "cell_type": "markdown",
   "id": "20c32463-689c-4bf5-ac12-a9e4c9357378",
   "metadata": {},
   "source": [
    "# 내 답안"
   ]
  },
  {
   "cell_type": "code",
   "execution_count": 84,
   "id": "5341ff9d-ded6-44b8-a092-ac8908c7c197",
   "metadata": {},
   "outputs": [
    {
     "name": "stdin",
     "output_type": "stream",
     "text": [
      " 3\n",
      " 3 5 7\n"
     ]
    }
   ],
   "source": [
    "N = int(input())\n",
    "array = list(map(int, input().split()))"
   ]
  },
  {
   "cell_type": "code",
   "execution_count": 85,
   "id": "6f937b7c-80f3-4e3d-a838-0cc2db2ce775",
   "metadata": {},
   "outputs": [
    {
     "data": {
      "text/plain": [
       "[3, 5, 7]"
      ]
     },
     "execution_count": 85,
     "metadata": {},
     "output_type": "execute_result"
    }
   ],
   "source": [
    "array"
   ]
  },
  {
   "cell_type": "code",
   "execution_count": 86,
   "id": "6bf9376c-4680-4327-a25a-8e370e4e248a",
   "metadata": {},
   "outputs": [],
   "source": [
    "data = [0]*1000001"
   ]
  },
  {
   "cell_type": "code",
   "execution_count": 87,
   "id": "32a2493e-f063-4e03-8160-1e4950199a82",
   "metadata": {},
   "outputs": [],
   "source": [
    "for num in range(1, 2**N):\n",
    "    result = 0\n",
    "    bi_num = bin(num)[2:]\n",
    "    bi_num = bi_num.zfill(N)\n",
    "    for i,num in enumerate(bi_num):\n",
    "        result += array[i] * int(num)\n",
    "        data[result] = 1"
   ]
  },
  {
   "cell_type": "code",
   "execution_count": 88,
   "id": "29563347-3dde-4c6b-a0ab-d818fc246687",
   "metadata": {},
   "outputs": [],
   "source": [
    "answer = -1\n",
    "for i,num in enumerate(data):\n",
    "    if num == 0:\n",
    "        answer = i\n",
    "        break"
   ]
  },
  {
   "cell_type": "code",
   "execution_count": 89,
   "id": "63d954b7-2d28-4c9a-8648-0bcfa3302f90",
   "metadata": {},
   "outputs": [
    {
     "data": {
      "text/plain": [
       "1"
      ]
     },
     "execution_count": 89,
     "metadata": {},
     "output_type": "execute_result"
    }
   ],
   "source": [
    "answer"
   ]
  },
  {
   "cell_type": "markdown",
   "id": "b1b76438-e3b5-465f-a09c-b9cffe05639e",
   "metadata": {},
   "source": [
    "# 모범 답안"
   ]
  },
  {
   "cell_type": "code",
   "execution_count": 95,
   "id": "9232c712-d6f6-4f0f-b85e-e368c559bb51",
   "metadata": {},
   "outputs": [
    {
     "name": "stdin",
     "output_type": "stream",
     "text": [
      " 4\n",
      " 1 1 2 6\n"
     ]
    },
    {
     "data": {
      "text/plain": [
       "<function list.sort(*, key=None, reverse=False)>"
      ]
     },
     "execution_count": 95,
     "metadata": {},
     "output_type": "execute_result"
    }
   ],
   "source": [
    "N = int(input())\n",
    "coin = list(map(int, input().split()))\n",
    "coin.sort"
   ]
  },
  {
   "cell_type": "code",
   "execution_count": 96,
   "id": "28a94bd2-6d34-4aea-a0f7-8d6b21101110",
   "metadata": {},
   "outputs": [],
   "source": [
    "# 만들 수 없는 숫자\n",
    "target = 1\n",
    "\n",
    "for i in coin:\n",
    "    if target < i:\n",
    "        break\n",
    "    \n",
    "    target += i"
   ]
  },
  {
   "cell_type": "code",
   "execution_count": 97,
   "id": "b9be884b-8d46-4442-9d92-48f10ee441a7",
   "metadata": {},
   "outputs": [
    {
     "data": {
      "text/plain": [
       "5"
      ]
     },
     "execution_count": 97,
     "metadata": {},
     "output_type": "execute_result"
    }
   ],
   "source": [
    "target"
   ]
  },
  {
   "cell_type": "code",
   "execution_count": null,
   "id": "b1b90aa5-e031-46c3-a38c-7586a1f6cdd9",
   "metadata": {},
   "outputs": [],
   "source": []
  }
 ],
 "metadata": {
  "kernelspec": {
   "display_name": "Python 3 (ipykernel)",
   "language": "python",
   "name": "python3"
  },
  "language_info": {
   "codemirror_mode": {
    "name": "ipython",
    "version": 3
   },
   "file_extension": ".py",
   "mimetype": "text/x-python",
   "name": "python",
   "nbconvert_exporter": "python",
   "pygments_lexer": "ipython3",
   "version": "3.8.11"
  }
 },
 "nbformat": 4,
 "nbformat_minor": 5
}
