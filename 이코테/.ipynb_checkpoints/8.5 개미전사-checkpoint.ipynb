{
 "cells": [
  {
   "cell_type": "code",
   "execution_count": 1,
   "id": "47a9a671-b246-4ee2-a08b-d29fac7547eb",
   "metadata": {},
   "outputs": [
    {
     "name": "stdin",
     "output_type": "stream",
     "text": [
      " 4\n",
      " 1 3 1 5\n"
     ]
    }
   ],
   "source": [
    "N = int(input())\n",
    "array = list(map(int, input().split()))"
   ]
  },
  {
   "cell_type": "code",
   "execution_count": 14,
   "id": "879da0f8-168d-4413-ad7f-6a8f91d7784d",
   "metadata": {},
   "outputs": [],
   "source": [
    "d = [0] * 101"
   ]
  },
  {
   "cell_type": "code",
   "execution_count": 20,
   "id": "1c44df01-6570-4009-9145-2d8ac38f7b29",
   "metadata": {},
   "outputs": [],
   "source": [
    "d[0] = array[0]\n",
    "d[1] = max(array[0], array[1])\n",
    "\n",
    "for i in range(2, N):\n",
    "    d[i] = max(d[i-1], d[i-2] + array[i])"
   ]
  },
  {
   "cell_type": "code",
   "execution_count": 21,
   "id": "f1f2cc63-0019-4494-90fb-a547d1c0469a",
   "metadata": {},
   "outputs": [
    {
     "data": {
      "text/plain": [
       "8"
      ]
     },
     "execution_count": 21,
     "metadata": {},
     "output_type": "execute_result"
    }
   ],
   "source": [
    "d[N-1]"
   ]
  },
  {
   "cell_type": "code",
   "execution_count": null,
   "id": "e293551c-ca22-43dd-8469-9150837083a0",
   "metadata": {},
   "outputs": [],
   "source": []
  }
 ],
 "metadata": {
  "kernelspec": {
   "display_name": "Python 3 (ipykernel)",
   "language": "python",
   "name": "python3"
  },
  "language_info": {
   "codemirror_mode": {
    "name": "ipython",
    "version": 3
   },
   "file_extension": ".py",
   "mimetype": "text/x-python",
   "name": "python",
   "nbconvert_exporter": "python",
   "pygments_lexer": "ipython3",
   "version": "3.8.11"
  }
 },
 "nbformat": 4,
 "nbformat_minor": 5
}
