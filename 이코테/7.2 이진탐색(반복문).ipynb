{
 "cells": [
  {
   "cell_type": "code",
   "execution_count": null,
   "id": "33cb006e-3911-4e99-a399-463b0d476702",
   "metadata": {},
   "outputs": [],
   "source": [
    "'''\n",
    "10 7\n",
    "1 3 5 7 9 11 13 15 17 19\n",
    "1 3 5 6 9 11 13 15 17 19\n",
    "'''"
   ]
  },
  {
   "cell_type": "code",
   "execution_count": 1,
   "id": "4eea83bc-fe48-4b99-ab6b-ec38bbb22d88",
   "metadata": {},
   "outputs": [],
   "source": [
    "def binary_search(array, target, start, end):\n",
    "    while start <= end:\n",
    "        mid = (start+end) // 2\n",
    "        if array[mid] == target:\n",
    "            return mid\n",
    "        elif array[mid] > target:\n",
    "            end = mid - 1\n",
    "        else:\n",
    "            start = mid + 1\n",
    "    \n",
    "    return None"
   ]
  },
  {
   "cell_type": "code",
   "execution_count": 6,
   "id": "d05bb8ef-f0e5-40d5-9c66-de426490c3dc",
   "metadata": {},
   "outputs": [
    {
     "name": "stdin",
     "output_type": "stream",
     "text": [
      " 10 7\n"
     ]
    }
   ],
   "source": [
    "N, target = map(int, input().split())"
   ]
  },
  {
   "cell_type": "code",
   "execution_count": 7,
   "id": "88ebb8c5-a2ba-4382-9920-45391bd0a9d1",
   "metadata": {},
   "outputs": [
    {
     "name": "stdin",
     "output_type": "stream",
     "text": [
      " 1 3 5 6 9 11 13 15 17 19\n"
     ]
    }
   ],
   "source": [
    "array = list(map(int, input().split()))"
   ]
  },
  {
   "cell_type": "code",
   "execution_count": 8,
   "id": "17f0a1cb-70f1-4773-ae60-6892a104cd2a",
   "metadata": {},
   "outputs": [],
   "source": [
    "result = binary_search(array, target, 0, N-1)"
   ]
  },
  {
   "cell_type": "code",
   "execution_count": 9,
   "id": "3226e028-e787-44b1-bc43-75f7ce2be7cc",
   "metadata": {},
   "outputs": [
    {
     "name": "stdout",
     "output_type": "stream",
     "text": [
      "원소 없음\n"
     ]
    }
   ],
   "source": [
    "if result == None:\n",
    "    print(\"원소 없음\")\n",
    "else:\n",
    "    print(result+1)"
   ]
  },
  {
   "cell_type": "code",
   "execution_count": null,
   "id": "ca9b5ddc-97a1-45c8-a551-3628bd1161a6",
   "metadata": {},
   "outputs": [],
   "source": []
  }
 ],
 "metadata": {
  "kernelspec": {
   "display_name": "Python 3 (ipykernel)",
   "language": "python",
   "name": "python3"
  },
  "language_info": {
   "codemirror_mode": {
    "name": "ipython",
    "version": 3
   },
   "file_extension": ".py",
   "mimetype": "text/x-python",
   "name": "python",
   "nbconvert_exporter": "python",
   "pygments_lexer": "ipython3",
   "version": "3.8.11"
  }
 },
 "nbformat": 4,
 "nbformat_minor": 5
}
