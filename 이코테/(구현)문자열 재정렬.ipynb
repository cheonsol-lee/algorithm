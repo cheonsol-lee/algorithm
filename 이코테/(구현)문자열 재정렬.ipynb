{
 "cells": [
  {
   "cell_type": "code",
   "execution_count": 1,
   "id": "78ba8732-3a52-4f11-a5b9-1a583285c383",
   "metadata": {},
   "outputs": [
    {
     "data": {
      "text/plain": [
       "'\\nK1KA5CB7\\nAJKDLSI412K4JSJ9D\\n'"
      ]
     },
     "execution_count": 1,
     "metadata": {},
     "output_type": "execute_result"
    }
   ],
   "source": [
    "'''\n",
    "K1KA5CB7\n",
    "AJKDLSI412K4JSJ9D\n",
    "'''"
   ]
  },
  {
   "cell_type": "code",
   "execution_count": 24,
   "id": "79509dea-a11c-4a3e-8656-3e86e4a11c1e",
   "metadata": {},
   "outputs": [
    {
     "name": "stdin",
     "output_type": "stream",
     "text": [
      " DFDFSDF\n"
     ]
    }
   ],
   "source": [
    "array = list(input())"
   ]
  },
  {
   "cell_type": "code",
   "execution_count": 25,
   "id": "b8bb27fd-a13c-4ae2-ad4c-154c0d3807c8",
   "metadata": {},
   "outputs": [
    {
     "data": {
      "text/plain": [
       "['D', 'F', 'D', 'F', 'S', 'D', 'F']"
      ]
     },
     "execution_count": 25,
     "metadata": {},
     "output_type": "execute_result"
    }
   ],
   "source": [
    "array"
   ]
  },
  {
   "cell_type": "code",
   "execution_count": 26,
   "id": "83b22486-8e08-4690-aac4-887b495c704d",
   "metadata": {},
   "outputs": [],
   "source": [
    "char_list = list()\n",
    "num = 0\n",
    "for i in array:\n",
    "    # 숫자라면\n",
    "    if i.isdigit():\n",
    "        num += int(i)\n",
    "    else:\n",
    "        char_list.append(i)"
   ]
  },
  {
   "cell_type": "code",
   "execution_count": 27,
   "id": "aaf34149-43e4-44df-be5f-c8f153efd685",
   "metadata": {},
   "outputs": [],
   "source": [
    "char_list.sort()"
   ]
  },
  {
   "cell_type": "code",
   "execution_count": 29,
   "id": "56265dc6-385a-451a-aeef-10b577ff2a02",
   "metadata": {},
   "outputs": [],
   "source": [
    "if num != 0:\n",
    "    char_list.append(str(num))"
   ]
  },
  {
   "cell_type": "code",
   "execution_count": 36,
   "id": "4f21304b-ab9b-4fba-a4ce-1bedb6cf7fb6",
   "metadata": {},
   "outputs": [
    {
     "name": "stdout",
     "output_type": "stream",
     "text": [
      "DDDFFFS\n"
     ]
    }
   ],
   "source": [
    "print(\"\".join(char_list))"
   ]
  },
  {
   "cell_type": "code",
   "execution_count": null,
   "id": "b1e4f98e-b48f-4c82-adba-7ff60855336a",
   "metadata": {},
   "outputs": [],
   "source": []
  }
 ],
 "metadata": {
  "kernelspec": {
   "display_name": "Python 3 (ipykernel)",
   "language": "python",
   "name": "python3"
  },
  "language_info": {
   "codemirror_mode": {
    "name": "ipython",
    "version": 3
   },
   "file_extension": ".py",
   "mimetype": "text/x-python",
   "name": "python",
   "nbconvert_exporter": "python",
   "pygments_lexer": "ipython3",
   "version": "3.8.11"
  }
 },
 "nbformat": 4,
 "nbformat_minor": 5
}
