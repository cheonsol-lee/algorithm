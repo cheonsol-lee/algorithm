{
 "cells": [
  {
   "cell_type": "code",
   "execution_count": null,
   "id": "0cf36df3-c9fc-4c5f-90a3-f00e4d3a5dc6",
   "metadata": {},
   "outputs": [],
   "source": [
    "'''\n",
    "10 7\n",
    "1 3 5 7 9 11 13 15 17 19\n",
    "1 3 5 6 9 11 13 15 17 19\n",
    "'''"
   ]
  },
  {
   "cell_type": "code",
   "execution_count": 1,
   "id": "29784d47-a315-4ad3-af8c-2ec80e813c6f",
   "metadata": {},
   "outputs": [],
   "source": [
    "def binary_search(array, target, start, end):\n",
    "    if start > end:\n",
    "        return None\n",
    "    mid = (start+end) // 2\n",
    "    \n",
    "    if array[mid] == target:\n",
    "        return mid\n",
    "    elif array[mid] > target:\n",
    "        return binary_search(array, target, start, mid-1)\n",
    "    else:\n",
    "        return binary_search(array, target, mid+1, end)    "
   ]
  },
  {
   "cell_type": "code",
   "execution_count": 10,
   "id": "fdd91851-de24-42cd-9018-2676434e4420",
   "metadata": {},
   "outputs": [
    {
     "name": "stdin",
     "output_type": "stream",
     "text": [
      " 10 7\n"
     ]
    }
   ],
   "source": [
    "N, target = map(int, input().split())"
   ]
  },
  {
   "cell_type": "code",
   "execution_count": 14,
   "id": "a0f38c71-7419-42e1-a661-cdefbaf7b309",
   "metadata": {},
   "outputs": [
    {
     "name": "stdin",
     "output_type": "stream",
     "text": [
      " 1 3 5 7 9 11 13 15 17 19\n"
     ]
    }
   ],
   "source": [
    "array = list(map(int, input().split()))"
   ]
  },
  {
   "cell_type": "code",
   "execution_count": 16,
   "id": "0c2bc791-6b51-4f2d-9d99-d27082fa8f55",
   "metadata": {},
   "outputs": [],
   "source": [
    "result = binary_search(array, target, 0, N-1)"
   ]
  },
  {
   "cell_type": "code",
   "execution_count": 18,
   "id": "49ff90d2-0e91-4819-a1a2-6598647b4425",
   "metadata": {},
   "outputs": [
    {
     "name": "stdout",
     "output_type": "stream",
     "text": [
      "4\n"
     ]
    }
   ],
   "source": [
    "if result==None:\n",
    "    print(\"존재하지 않음\")\n",
    "else:\n",
    "    print(result+1)"
   ]
  },
  {
   "cell_type": "code",
   "execution_count": null,
   "id": "4fe53b4e-4c12-419e-8623-cf66f7fb51f3",
   "metadata": {},
   "outputs": [],
   "source": []
  }
 ],
 "metadata": {
  "kernelspec": {
   "display_name": "Python 3 (ipykernel)",
   "language": "python",
   "name": "python3"
  },
  "language_info": {
   "codemirror_mode": {
    "name": "ipython",
    "version": 3
   },
   "file_extension": ".py",
   "mimetype": "text/x-python",
   "name": "python",
   "nbconvert_exporter": "python",
   "pygments_lexer": "ipython3",
   "version": "3.8.11"
  }
 },
 "nbformat": 4,
 "nbformat_minor": 5
}
