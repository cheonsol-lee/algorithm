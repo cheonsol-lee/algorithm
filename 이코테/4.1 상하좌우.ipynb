{
 "cells": [
  {
   "cell_type": "markdown",
   "id": "b7290f9b-1fa3-4365-995a-85176c007ca5",
   "metadata": {},
   "source": [
    "5"
   ]
  },
  {
   "cell_type": "markdown",
   "id": "1e6fddc6-b619-4328-962a-af5b82e905ce",
   "metadata": {},
   "source": [
    "R R R U D D"
   ]
  },
  {
   "cell_type": "code",
   "execution_count": 23,
   "id": "9e358762-5fa3-40b1-b21b-4eba9fc95ae7",
   "metadata": {},
   "outputs": [
    {
     "name": "stdin",
     "output_type": "stream",
     "text": [
      " 5\n",
      " R R R U D D\n"
     ]
    }
   ],
   "source": [
    "N = int(input())\n",
    "plans = input().split()"
   ]
  },
  {
   "cell_type": "code",
   "execution_count": 24,
   "id": "06df2be6-6a1c-4339-8a30-4c93ce0832f8",
   "metadata": {},
   "outputs": [],
   "source": [
    "y, x = 1, 1\n",
    "\n",
    "# L,R,U,D 이동방향\n",
    "dy = [0,0,-1,1]\n",
    "dx = [-1,1,0,0]\n",
    "\n",
    "move_types = ['L', 'R', 'U', 'D']"
   ]
  },
  {
   "cell_type": "code",
   "execution_count": 25,
   "id": "ba0f9592-0022-4ce8-acb1-5c35fbda1a80",
   "metadata": {},
   "outputs": [],
   "source": [
    "for plan in plans:\n",
    "    for i in range(len(move_types)):\n",
    "        if plan == move_types[i]:\n",
    "            ny = y + dy[i]\n",
    "            nx = x + dx[i]\n",
    "        \n",
    "    # 공간을 벗어나는 경우 무시\n",
    "    if nx<1 or ny<1 or nx>N or ny>N:\n",
    "        continue\n",
    "    \n",
    "    # 이동수행\n",
    "    y, x = ny, nx"
   ]
  },
  {
   "cell_type": "code",
   "execution_count": 26,
   "id": "a203ac82-916f-4f92-ad72-9a9f1caaa13c",
   "metadata": {},
   "outputs": [
    {
     "data": {
      "text/plain": [
       "(3, 4)"
      ]
     },
     "execution_count": 26,
     "metadata": {},
     "output_type": "execute_result"
    }
   ],
   "source": [
    "(y, x)"
   ]
  },
  {
   "cell_type": "code",
   "execution_count": null,
   "id": "c4190183-1966-4001-b6f2-7b510c82e36c",
   "metadata": {},
   "outputs": [],
   "source": []
  }
 ],
 "metadata": {
  "kernelspec": {
   "display_name": "Python 3 (ipykernel)",
   "language": "python",
   "name": "python3"
  },
  "language_info": {
   "codemirror_mode": {
    "name": "ipython",
    "version": 3
   },
   "file_extension": ".py",
   "mimetype": "text/x-python",
   "name": "python",
   "nbconvert_exporter": "python",
   "pygments_lexer": "ipython3",
   "version": "3.8.11"
  }
 },
 "nbformat": 4,
 "nbformat_minor": 5
}
