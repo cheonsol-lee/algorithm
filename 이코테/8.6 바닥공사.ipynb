{
 "cells": [
  {
   "cell_type": "code",
   "execution_count": 45,
   "id": "745fff17-c785-401d-b6cf-0b1673ce5ef8",
   "metadata": {},
   "outputs": [
    {
     "name": "stdin",
     "output_type": "stream",
     "text": [
      " 3\n"
     ]
    }
   ],
   "source": [
    "N = int(input())"
   ]
  },
  {
   "cell_type": "code",
   "execution_count": 46,
   "id": "ef3fee35-6cf6-4aed-a3d7-f97be597f736",
   "metadata": {},
   "outputs": [],
   "source": [
    "d = [0] * 1001\n",
    "d[1] = 1\n",
    "d[2] = 3\n",
    "\n",
    "for i in range(3, N+1):\n",
    "    d[i] = (d[i-1] + d[i-2]*2) % 796796"
   ]
  },
  {
   "cell_type": "code",
   "execution_count": 47,
   "id": "2073eaa0-f16b-46a0-9317-cae4d3e8508d",
   "metadata": {},
   "outputs": [
    {
     "data": {
      "text/plain": [
       "5"
      ]
     },
     "execution_count": 47,
     "metadata": {},
     "output_type": "execute_result"
    }
   ],
   "source": [
    "d[N]"
   ]
  },
  {
   "cell_type": "code",
   "execution_count": null,
   "id": "128f6d1d-0787-4a1b-abc2-1fde3c2ff8ea",
   "metadata": {},
   "outputs": [],
   "source": []
  }
 ],
 "metadata": {
  "kernelspec": {
   "display_name": "Python 3 (ipykernel)",
   "language": "python",
   "name": "python3"
  },
  "language_info": {
   "codemirror_mode": {
    "name": "ipython",
    "version": 3
   },
   "file_extension": ".py",
   "mimetype": "text/x-python",
   "name": "python",
   "nbconvert_exporter": "python",
   "pygments_lexer": "ipython3",
   "version": "3.8.11"
  }
 },
 "nbformat": 4,
 "nbformat_minor": 5
}
