{
 "cells": [
  {
   "cell_type": "markdown",
   "id": "0c44c293-51c4-4184-9041-83ee09cf4d73",
   "metadata": {},
   "source": [
    "- 1번: 23분"
   ]
  },
  {
   "cell_type": "code",
   "execution_count": 1,
   "id": "4beffae4-70f9-4517-8ee2-54d7a993453b",
   "metadata": {},
   "outputs": [],
   "source": [
    "def function():\n",
    "    return"
   ]
  },
  {
   "cell_type": "code",
   "execution_count": 76,
   "id": "d3fa0075-d801-4d8f-8dcb-16f38def8323",
   "metadata": {},
   "outputs": [],
   "source": [
    "# 1번: 그리디\n",
    "def function(N, M ,K, N_num):\n",
    "    N_num.sort(reverse=True)\n",
    "    first = N_num[0]\n",
    "    second = N_num[1]\n",
    "    sum = 0\n",
    "    condition = K\n",
    "    \n",
    "    for i in range(M):\n",
    "        if condition > 0:\n",
    "            sum += first\n",
    "        else:\n",
    "            sum += second\n",
    "            condition = K\n",
    "        condition -= 1\n",
    "        \n",
    "    return sum"
   ]
  },
  {
   "cell_type": "markdown",
   "id": "c9edc625-357c-444f-b693-ba8e3ae90f6b",
   "metadata": {},
   "source": [
    "5 8 3"
   ]
  },
  {
   "cell_type": "markdown",
   "id": "6c618031-0bf1-426c-817c-3b0136dbebb4",
   "metadata": {},
   "source": [
    "2 4 5 4 6"
   ]
  },
  {
   "cell_type": "markdown",
   "id": "c203d573-f158-4450-9dd2-997283dccd14",
   "metadata": {},
   "source": [
    "5 7 2"
   ]
  },
  {
   "cell_type": "markdown",
   "id": "e55a4600-c3b9-425c-9ada-e9ae814a2635",
   "metadata": {},
   "source": [
    "3 4 3 4 3"
   ]
  },
  {
   "cell_type": "code",
   "execution_count": null,
   "id": "f636e3a4-d84e-41fa-945f-8965cfca95cf",
   "metadata": {},
   "outputs": [],
   "source": [
    "N, M, K = map(int, input().split())\n",
    "data = list(map(int, input().split()))"
   ]
  },
  {
   "cell_type": "code",
   "execution_count": null,
   "id": "8e7d70c3-4e01-4c10-a1c2-1d87607940dc",
   "metadata": {},
   "outputs": [],
   "source": [
    "function(N, M ,K, data)"
   ]
  },
  {
   "cell_type": "code",
   "execution_count": 80,
   "id": "492ecb9b-edec-4ca6-a89d-d6be05b2d9af",
   "metadata": {},
   "outputs": [],
   "source": [
    "# 2번: 그리디 + 수학 아이디어\n",
    "def function(N, M ,K, N_num):\n",
    "    N_num.sort(reverse=True)\n",
    "    first = N_num[0]\n",
    "    second = N_num[1]\n",
    "    sum = 0\n",
    "    \n",
    "    repeat_count = M // (K+1)\n",
    "    remain_count = M % (K+1)\n",
    "    sum = (first*K + second)*repeat_count + (first*remain_count)\n",
    "    \n",
    "    return sum"
   ]
  },
  {
   "cell_type": "code",
   "execution_count": 83,
   "id": "82b05f0d-09df-46fd-9468-d32ae02277fa",
   "metadata": {},
   "outputs": [
    {
     "name": "stdin",
     "output_type": "stream",
     "text": [
      " 5 7 2\n",
      " 3 4 3 4 3\n"
     ]
    }
   ],
   "source": [
    "N, M, K = map(int, input().split())\n",
    "data = list(map(int, input().split()))"
   ]
  },
  {
   "cell_type": "code",
   "execution_count": 84,
   "id": "6cd8c734-c8ab-46cd-ae62-644e8cb36011",
   "metadata": {},
   "outputs": [
    {
     "data": {
      "text/plain": [
       "28"
      ]
     },
     "execution_count": 84,
     "metadata": {},
     "output_type": "execute_result"
    }
   ],
   "source": [
    "function(N, M ,K, data)"
   ]
  },
  {
   "cell_type": "code",
   "execution_count": null,
   "id": "c88de014-141e-42c6-a532-bb979c21ed6f",
   "metadata": {},
   "outputs": [],
   "source": []
  }
 ],
 "metadata": {
  "kernelspec": {
   "display_name": "Python 3 (ipykernel)",
   "language": "python",
   "name": "python3"
  },
  "language_info": {
   "codemirror_mode": {
    "name": "ipython",
    "version": 3
   },
   "file_extension": ".py",
   "mimetype": "text/x-python",
   "name": "python",
   "nbconvert_exporter": "python",
   "pygments_lexer": "ipython3",
   "version": "3.8.11"
  }
 },
 "nbformat": 4,
 "nbformat_minor": 5
}
