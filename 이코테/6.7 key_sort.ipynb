{
 "cells": [
  {
   "cell_type": "code",
   "execution_count": 1,
   "id": "7d4d7aec-c8af-4ef0-8cdc-f4b0e80fc7b4",
   "metadata": {},
   "outputs": [],
   "source": [
    "array = [('바나나', 2), ('사과', 5), ('당근', 3)]"
   ]
  },
  {
   "cell_type": "code",
   "execution_count": 4,
   "id": "ac819d9d-7162-4938-92e2-521c8fa3a258",
   "metadata": {},
   "outputs": [],
   "source": [
    "def setting(data):\n",
    "    return data[1]\n",
    "\n",
    "result = sorted(array, key=setting)"
   ]
  },
  {
   "cell_type": "code",
   "execution_count": 6,
   "id": "84515ac0-565f-42d0-bbdc-13d15e0d2cf4",
   "metadata": {},
   "outputs": [
    {
     "data": {
      "text/plain": [
       "[('바나나', 2), ('당근', 3), ('사과', 5)]"
      ]
     },
     "execution_count": 6,
     "metadata": {},
     "output_type": "execute_result"
    }
   ],
   "source": [
    "result"
   ]
  },
  {
   "cell_type": "code",
   "execution_count": 10,
   "id": "d4bf8b1f-75b5-48ac-a1b1-3e63920b0054",
   "metadata": {},
   "outputs": [],
   "source": [
    "array = [('다', 2), ('가', 5), ('나', 3)]"
   ]
  },
  {
   "cell_type": "code",
   "execution_count": 11,
   "id": "695e591c-3e03-4670-989b-5e06f1fa9c9d",
   "metadata": {},
   "outputs": [],
   "source": [
    "result = sorted(array)"
   ]
  },
  {
   "cell_type": "code",
   "execution_count": 12,
   "id": "81e294da-4ed4-4faf-bcf2-dc594f3d0653",
   "metadata": {},
   "outputs": [
    {
     "data": {
      "text/plain": [
       "[('가', 5), ('나', 3), ('다', 2)]"
      ]
     },
     "execution_count": 12,
     "metadata": {},
     "output_type": "execute_result"
    }
   ],
   "source": [
    "result"
   ]
  },
  {
   "cell_type": "code",
   "execution_count": null,
   "id": "3bd9c75e-673a-4cb9-b9d7-5ea9257a83f2",
   "metadata": {},
   "outputs": [],
   "source": []
  }
 ],
 "metadata": {
  "kernelspec": {
   "display_name": "Python 3 (ipykernel)",
   "language": "python",
   "name": "python3"
  },
  "language_info": {
   "codemirror_mode": {
    "name": "ipython",
    "version": 3
   },
   "file_extension": ".py",
   "mimetype": "text/x-python",
   "name": "python",
   "nbconvert_exporter": "python",
   "pygments_lexer": "ipython3",
   "version": "3.8.11"
  }
 },
 "nbformat": 4,
 "nbformat_minor": 5
}
