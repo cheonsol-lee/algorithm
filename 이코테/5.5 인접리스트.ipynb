{
 "cells": [
  {
   "cell_type": "code",
   "execution_count": 1,
   "id": "c75ff674-27d1-4631-9e47-f0f7b1a2eaaa",
   "metadata": {},
   "outputs": [],
   "source": [
    "# 행이 3개인 2차원 리스트로 인접리스트 표현\n",
    "graph = [[] for _ in range(3)]"
   ]
  },
  {
   "cell_type": "code",
   "execution_count": 5,
   "id": "6030549e-6b5f-4fbc-bbf6-afaf5d4b79db",
   "metadata": {},
   "outputs": [],
   "source": [
    "# 노드 0에 연결된 노드 정보 저장(노드, 거리)\n",
    "graph[0].append((1,7))\n",
    "graph[0].append((2,5))"
   ]
  },
  {
   "cell_type": "code",
   "execution_count": 6,
   "id": "606c819a-faf2-4f31-8ab7-32346daa930f",
   "metadata": {},
   "outputs": [],
   "source": [
    "graph[1].append((0,7))\n",
    "graph[2].append((0,5))"
   ]
  },
  {
   "cell_type": "code",
   "execution_count": 7,
   "id": "cf6372b7-f25f-44b9-a7dd-a84ce0c77abd",
   "metadata": {},
   "outputs": [
    {
     "data": {
      "text/plain": [
       "[[(1, 7), (2, 5)], [(0, 7)], [(0, 5)]]"
      ]
     },
     "execution_count": 7,
     "metadata": {},
     "output_type": "execute_result"
    }
   ],
   "source": [
    "graph"
   ]
  },
  {
   "cell_type": "code",
   "execution_count": null,
   "id": "b5b3a9c8-862e-4da8-aa93-60d09dc44e5a",
   "metadata": {},
   "outputs": [],
   "source": []
  }
 ],
 "metadata": {
  "kernelspec": {
   "display_name": "Python 3 (ipykernel)",
   "language": "python",
   "name": "python3"
  },
  "language_info": {
   "codemirror_mode": {
    "name": "ipython",
    "version": 3
   },
   "file_extension": ".py",
   "mimetype": "text/x-python",
   "name": "python",
   "nbconvert_exporter": "python",
   "pygments_lexer": "ipython3",
   "version": "3.8.11"
  }
 },
 "nbformat": 4,
 "nbformat_minor": 5
}
