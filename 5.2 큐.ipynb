{
 "cells": [
  {
   "cell_type": "code",
   "execution_count": 1,
   "id": "bd701a4c-f3e2-4b02-ab7a-26834c297011",
   "metadata": {},
   "outputs": [],
   "source": [
    "from collections import deque"
   ]
  },
  {
   "cell_type": "code",
   "execution_count": 2,
   "id": "cb5776f6-0148-4d3f-a709-92d9dc133c4d",
   "metadata": {},
   "outputs": [],
   "source": [
    "queue = deque()"
   ]
  },
  {
   "cell_type": "code",
   "execution_count": 4,
   "id": "834a2a0e-e8cc-4a0c-af1c-f04145675ec8",
   "metadata": {},
   "outputs": [
    {
     "data": {
      "text/plain": [
       "2"
      ]
     },
     "execution_count": 4,
     "metadata": {},
     "output_type": "execute_result"
    }
   ],
   "source": [
    "queue.append(5)\n",
    "queue.append(2)\n",
    "queue.append(3)\n",
    "queue.append(7)\n",
    "queue.popleft()\n",
    "queue.append(1)\n",
    "queue.append(4)\n",
    "queue.popleft()"
   ]
  },
  {
   "cell_type": "code",
   "execution_count": 5,
   "id": "5392f16c-f2dc-4ff2-9e1e-d9f9e5e0125e",
   "metadata": {},
   "outputs": [
    {
     "data": {
      "text/plain": [
       "deque([3, 7, 1, 4])"
      ]
     },
     "execution_count": 5,
     "metadata": {},
     "output_type": "execute_result"
    }
   ],
   "source": [
    "# 먼저 들어온 순서대로\n",
    "queue"
   ]
  },
  {
   "cell_type": "code",
   "execution_count": 6,
   "id": "48482dbe-8e01-45ac-9265-caded49b8a96",
   "metadata": {},
   "outputs": [],
   "source": [
    "queue.reverse()"
   ]
  },
  {
   "cell_type": "code",
   "execution_count": 7,
   "id": "dd49aa9b-5100-4c95-bb5e-77398124a3a2",
   "metadata": {},
   "outputs": [
    {
     "data": {
      "text/plain": [
       "deque([4, 1, 7, 3])"
      ]
     },
     "execution_count": 7,
     "metadata": {},
     "output_type": "execute_result"
    }
   ],
   "source": [
    "# 나중에 들어온 순서대로\n",
    "queue"
   ]
  },
  {
   "cell_type": "code",
   "execution_count": 9,
   "id": "88aa7c9c-4a95-47b8-9a2b-52c850490d49",
   "metadata": {},
   "outputs": [
    {
     "data": {
      "text/plain": [
       "4"
      ]
     },
     "execution_count": 9,
     "metadata": {},
     "output_type": "execute_result"
    }
   ],
   "source": [
    "queue.popleft()"
   ]
  },
  {
   "cell_type": "code",
   "execution_count": 10,
   "id": "5e770219-cefb-4aba-9557-4c0ee5211390",
   "metadata": {},
   "outputs": [
    {
     "data": {
      "text/plain": [
       "deque([1, 7, 3])"
      ]
     },
     "execution_count": 10,
     "metadata": {},
     "output_type": "execute_result"
    }
   ],
   "source": [
    "queue"
   ]
  },
  {
   "cell_type": "code",
   "execution_count": 11,
   "id": "deb74b13-b39d-4a60-9bdf-0dc9834c8d9e",
   "metadata": {},
   "outputs": [],
   "source": [
    "queue.reverse()"
   ]
  },
  {
   "cell_type": "code",
   "execution_count": 12,
   "id": "c5bc3c11-6100-4714-aa52-6fa158a752a9",
   "metadata": {},
   "outputs": [
    {
     "data": {
      "text/plain": [
       "deque([3, 7, 1])"
      ]
     },
     "execution_count": 12,
     "metadata": {},
     "output_type": "execute_result"
    }
   ],
   "source": [
    "queue"
   ]
  },
  {
   "cell_type": "code",
   "execution_count": 13,
   "id": "e52ad9ef-d598-4f91-9551-4fd04bc405a1",
   "metadata": {},
   "outputs": [
    {
     "data": {
      "text/plain": [
       "[3, 7, 1]"
      ]
     },
     "execution_count": 13,
     "metadata": {},
     "output_type": "execute_result"
    }
   ],
   "source": [
    "list(queue)"
   ]
  },
  {
   "cell_type": "code",
   "execution_count": null,
   "id": "136e5c18-ecc5-4d5c-aae1-720827d84cf8",
   "metadata": {},
   "outputs": [],
   "source": []
  }
 ],
 "metadata": {
  "kernelspec": {
   "display_name": "Python 3 (ipykernel)",
   "language": "python",
   "name": "python3"
  },
  "language_info": {
   "codemirror_mode": {
    "name": "ipython",
    "version": 3
   },
   "file_extension": ".py",
   "mimetype": "text/x-python",
   "name": "python",
   "nbconvert_exporter": "python",
   "pygments_lexer": "ipython3",
   "version": "3.8.11"
  }
 },
 "nbformat": 4,
 "nbformat_minor": 5
}
