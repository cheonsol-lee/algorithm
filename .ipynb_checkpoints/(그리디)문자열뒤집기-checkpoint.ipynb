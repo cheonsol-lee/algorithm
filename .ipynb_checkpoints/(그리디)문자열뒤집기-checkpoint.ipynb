{
 "cells": [
  {
   "cell_type": "code",
   "execution_count": 34,
   "id": "d49e6c30-a15a-4a8d-843a-addbdb10f34e",
   "metadata": {},
   "outputs": [
    {
     "name": "stdin",
     "output_type": "stream",
     "text": [
      " 11001100\n"
     ]
    }
   ],
   "source": [
    "array = list(map(int, input()))"
   ]
  },
  {
   "cell_type": "code",
   "execution_count": 35,
   "id": "8bbc65d7-8c96-4e4a-8c1b-7fd10e530776",
   "metadata": {},
   "outputs": [
    {
     "data": {
      "text/plain": [
       "[1, 1, 0, 0, 1, 1, 0, 0]"
      ]
     },
     "execution_count": 35,
     "metadata": {},
     "output_type": "execute_result"
    }
   ],
   "source": [
    "array"
   ]
  },
  {
   "cell_type": "markdown",
   "id": "cd15bcf6-2313-45b1-9ed6-28baf7b08348",
   "metadata": {},
   "source": [
    "# 내 답안"
   ]
  },
  {
   "cell_type": "code",
   "execution_count": 36,
   "id": "d42a0838-e00b-48a0-bdd0-298c75bfbb5d",
   "metadata": {},
   "outputs": [],
   "source": [
    "before = array[0]\n",
    "new_array = list()\n",
    "new_array.append(before)\n",
    "\n",
    "for num in array:\n",
    "    if before == num:\n",
    "        before = num\n",
    "        continue\n",
    "    else:\n",
    "        new_array.append(num)\n",
    "        before = num"
   ]
  },
  {
   "cell_type": "code",
   "execution_count": 37,
   "id": "f36bdffb-849d-4f9b-b5d7-b1751981f76e",
   "metadata": {},
   "outputs": [
    {
     "data": {
      "text/plain": [
       "[1, 0, 1, 0]"
      ]
     },
     "execution_count": 37,
     "metadata": {},
     "output_type": "execute_result"
    }
   ],
   "source": [
    "new_array"
   ]
  },
  {
   "cell_type": "code",
   "execution_count": 38,
   "id": "4f704fae-6e04-4145-8d12-31493c4a9669",
   "metadata": {},
   "outputs": [
    {
     "data": {
      "text/plain": [
       "4"
      ]
     },
     "execution_count": 38,
     "metadata": {},
     "output_type": "execute_result"
    }
   ],
   "source": [
    "len(new_array)"
   ]
  },
  {
   "cell_type": "code",
   "execution_count": 39,
   "id": "9b73b566-5835-4972-a92a-772d88c55970",
   "metadata": {},
   "outputs": [],
   "source": [
    "one_count = sum(new_array)\n",
    "zero_count = len(new_array) - one_count"
   ]
  },
  {
   "cell_type": "code",
   "execution_count": 40,
   "id": "05972ec2-bf46-4e2f-ba65-be750d196ada",
   "metadata": {},
   "outputs": [
    {
     "name": "stdout",
     "output_type": "stream",
     "text": [
      "2\n"
     ]
    }
   ],
   "source": [
    "print(min(one_count, zero_count))"
   ]
  },
  {
   "cell_type": "markdown",
   "id": "845d8bdc-8ac1-48a0-98bf-047dd286de0e",
   "metadata": {},
   "source": [
    "# 모범 답안"
   ]
  },
  {
   "cell_type": "code",
   "execution_count": 41,
   "id": "d1dea8b0-c335-4e61-9022-95493aabde4d",
   "metadata": {},
   "outputs": [
    {
     "name": "stdin",
     "output_type": "stream",
     "text": [
      " 10101\n"
     ]
    },
    {
     "name": "stdout",
     "output_type": "stream",
     "text": [
      "2\n"
     ]
    }
   ],
   "source": [
    "data = input()\n",
    "count0 = 0 # 전부 0으로 바꾸는 경우\n",
    "count1 = 0 # 전부 1로 바꾸는 경우\n",
    "\n",
    "# 첫 번째 원소에 대해서 처리\n",
    "if data[0] == '1':\n",
    "    count0 += 1\n",
    "else:\n",
    "    count1 += 1\n",
    "\n",
    "# 두 번째 원소부터 모든 원소를 확인하며\n",
    "for i in range(len(data) - 1):\n",
    "    if data[i] != data[i + 1]:\n",
    "        # 다음 수에서 1로 바뀌는 경우\n",
    "        if data[i + 1] == '1':\n",
    "            count0 += 1\n",
    "        # 다음 수에서 0으로 바뀌는 경우\n",
    "        else:\n",
    "            count1 += 1\n",
    "\n",
    "print(min(count0, count1))"
   ]
  },
  {
   "cell_type": "code",
   "execution_count": null,
   "id": "9789fde2-228f-4313-80ec-d2d4aef4ae43",
   "metadata": {},
   "outputs": [],
   "source": []
  },
  {
   "cell_type": "code",
   "execution_count": null,
   "id": "4efab138-0024-4633-be3d-2ca3958f2276",
   "metadata": {},
   "outputs": [],
   "source": []
  }
 ],
 "metadata": {
  "kernelspec": {
   "display_name": "Python 3 (ipykernel)",
   "language": "python",
   "name": "python3"
  },
  "language_info": {
   "codemirror_mode": {
    "name": "ipython",
    "version": 3
   },
   "file_extension": ".py",
   "mimetype": "text/x-python",
   "name": "python",
   "nbconvert_exporter": "python",
   "pygments_lexer": "ipython3",
   "version": "3.8.11"
  }
 },
 "nbformat": 4,
 "nbformat_minor": 5
}
