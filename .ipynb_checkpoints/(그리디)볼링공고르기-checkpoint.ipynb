{
 "cells": [
  {
   "cell_type": "code",
   "execution_count": null,
   "id": "f3de2f2e-7abf-4812-92cc-1fe584d0d835",
   "metadata": {},
   "outputs": [],
   "source": [
    "'''\n",
    "5 3\n",
    "1 3 2 3 2\n",
    "8 5\n",
    "1 5 4 3 2 4 5 2\n",
    "'''"
   ]
  },
  {
   "cell_type": "markdown",
   "id": "55274d34-6bf6-41cc-9777-5a4287b965a7",
   "metadata": {},
   "source": [
    "# 내 답안"
   ]
  },
  {
   "cell_type": "code",
   "execution_count": 45,
   "id": "2f1058ff-6d87-40c4-b394-2bfa08c970f7",
   "metadata": {},
   "outputs": [
    {
     "name": "stdin",
     "output_type": "stream",
     "text": [
      " 5 3\n"
     ]
    }
   ],
   "source": [
    "N, M = map(int, input().split())"
   ]
  },
  {
   "cell_type": "code",
   "execution_count": 46,
   "id": "3e030a59-d2ec-4c9a-9330-e0976ee18c9b",
   "metadata": {},
   "outputs": [
    {
     "name": "stdin",
     "output_type": "stream",
     "text": [
      " 1 3 2 3 2\n"
     ]
    }
   ],
   "source": [
    "array = list(map(int, input().split()))"
   ]
  },
  {
   "cell_type": "code",
   "execution_count": 47,
   "id": "b72aff82-76f3-46c7-a898-a9b3fb7ec694",
   "metadata": {},
   "outputs": [],
   "source": [
    "array.sort()"
   ]
  },
  {
   "cell_type": "code",
   "execution_count": 48,
   "id": "0dd74383-7777-4ca3-ae4d-c09c3edc3da9",
   "metadata": {},
   "outputs": [
    {
     "data": {
      "text/plain": [
       "[1, 2, 2, 3, 3]"
      ]
     },
     "execution_count": 48,
     "metadata": {},
     "output_type": "execute_result"
    }
   ],
   "source": [
    "array"
   ]
  },
  {
   "cell_type": "code",
   "execution_count": 49,
   "id": "c52d66f9-3e43-42ce-ada3-125cdb0def9f",
   "metadata": {},
   "outputs": [],
   "source": [
    "data = [0]*(M+1)"
   ]
  },
  {
   "cell_type": "code",
   "execution_count": 51,
   "id": "af3dba0b-1cc5-4426-a2dc-f08fc1a0f237",
   "metadata": {},
   "outputs": [],
   "source": [
    "# 각 무게에 해당하는 볼링공의 개수 카운트\n",
    "for i in array:\n",
    "    data[i] += 1"
   ]
  },
  {
   "cell_type": "code",
   "execution_count": 52,
   "id": "467034e1-d04d-4c5d-8d4f-d53de8726e0b",
   "metadata": {},
   "outputs": [
    {
     "data": {
      "text/plain": [
       "[0, 1, 2, 2]"
      ]
     },
     "execution_count": 52,
     "metadata": {},
     "output_type": "execute_result"
    }
   ],
   "source": [
    "data"
   ]
  },
  {
   "cell_type": "code",
   "execution_count": 54,
   "id": "d5624e2d-fbcb-4954-83b4-e5ef227dd25a",
   "metadata": {},
   "outputs": [],
   "source": [
    "sub_result = 0\n",
    "for i in range(1, M+1):\n",
    "    if data[i] >= 2:\n",
    "        sub_result += int(data[i]*(data[i]-1)/2)  # combination 연산"
   ]
  },
  {
   "cell_type": "code",
   "execution_count": 56,
   "id": "50d425ab-859d-4f02-a0f4-095ad4b13f14",
   "metadata": {},
   "outputs": [],
   "source": [
    "answer = int(N*(N-1)/2) - sub_result"
   ]
  },
  {
   "cell_type": "code",
   "execution_count": 57,
   "id": "cf8d355b-a8f9-4021-9053-d6307a4743bd",
   "metadata": {},
   "outputs": [
    {
     "name": "stdout",
     "output_type": "stream",
     "text": [
      "8\n"
     ]
    }
   ],
   "source": [
    "print(answer)"
   ]
  },
  {
   "cell_type": "markdown",
   "id": "f49a99e1-5271-4a02-ac40-b1e8dad1cdb7",
   "metadata": {},
   "source": [
    "# 모범 답안"
   ]
  },
  {
   "cell_type": "code",
   "execution_count": 64,
   "id": "fd986963-848c-4222-9cbf-c16f31559792",
   "metadata": {},
   "outputs": [
    {
     "name": "stdin",
     "output_type": "stream",
     "text": [
      " 8 5\n",
      " 1 5 4 3 2 4 5 2\n"
     ]
    },
    {
     "name": "stdout",
     "output_type": "stream",
     "text": [
      "25\n"
     ]
    }
   ],
   "source": [
    "n, m = map(int, input().split())\n",
    "data = list(map(int, input().split()))\n",
    "\n",
    "# 1부터 10까지의 무게를 담을 수 있는 리스트\n",
    "array = [0] * 11\n",
    "\n",
    "for x in data:\n",
    "    # 각 무게에 해당하는 볼링공의 개수 카운트\n",
    "    array[x] += 1\n",
    "\n",
    "result = 0\n",
    "# 1부터 m까지의 각 무게에 대하여 처리\n",
    "for i in range(1, m + 1):\n",
    "    n -= array[i] # 무게가 i인 볼링공의 개수(A가 선택할 수 있는 개수) 제외\n",
    "    result += array[i] * n # B가 선택하는 경우의 수와 곱해주기\n",
    "\n",
    "print(result)"
   ]
  },
  {
   "cell_type": "code",
   "execution_count": null,
   "id": "2802a08a-02d8-43f0-a77b-dbe418b7d368",
   "metadata": {},
   "outputs": [],
   "source": []
  }
 ],
 "metadata": {
  "kernelspec": {
   "display_name": "Python 3 (ipykernel)",
   "language": "python",
   "name": "python3"
  },
  "language_info": {
   "codemirror_mode": {
    "name": "ipython",
    "version": 3
   },
   "file_extension": ".py",
   "mimetype": "text/x-python",
   "name": "python",
   "nbconvert_exporter": "python",
   "pygments_lexer": "ipython3",
   "version": "3.8.11"
  }
 },
 "nbformat": 4,
 "nbformat_minor": 5
}
