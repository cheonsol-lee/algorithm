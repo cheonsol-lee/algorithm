{
 "cells": [
  {
   "cell_type": "code",
   "execution_count": 1,
   "id": "5728950e-6eb3-483a-9740-12c6103b798c",
   "metadata": {},
   "outputs": [
    {
     "data": {
      "text/plain": [
       "'\\n5\\n2 3 1 2 2\\n'"
      ]
     },
     "execution_count": 1,
     "metadata": {},
     "output_type": "execute_result"
    }
   ],
   "source": [
    "'''\n",
    "5\n",
    "2 3 1 2 2\n",
    "'''"
   ]
  },
  {
   "cell_type": "code",
   "execution_count": 36,
   "id": "212adda0-e52b-4e52-bec1-4ff6d95797a4",
   "metadata": {},
   "outputs": [
    {
     "name": "stdin",
     "output_type": "stream",
     "text": [
      " 4\n",
      " 1 2 2 5\n"
     ]
    }
   ],
   "source": [
    "N = int(input())\n",
    "array = list(map(int, input().split()))"
   ]
  },
  {
   "cell_type": "code",
   "execution_count": 37,
   "id": "ef16efc5-5baa-44bc-8e39-f969639a057a",
   "metadata": {},
   "outputs": [],
   "source": [
    "array.sort()"
   ]
  },
  {
   "cell_type": "code",
   "execution_count": 38,
   "id": "ee5824d2-19d8-4bc9-9bc0-05d23977fd05",
   "metadata": {},
   "outputs": [
    {
     "data": {
      "text/plain": [
       "[1, 2, 2, 5]"
      ]
     },
     "execution_count": 38,
     "metadata": {},
     "output_type": "execute_result"
    }
   ],
   "source": [
    "array"
   ]
  },
  {
   "cell_type": "markdown",
   "id": "0c9f33cd-4931-436d-a0f0-2b4795bacd38",
   "metadata": {},
   "source": [
    "# 내 답안"
   ]
  },
  {
   "cell_type": "code",
   "execution_count": 39,
   "id": "2b9df74e-b294-48d8-9fda-a309b940b6b3",
   "metadata": {},
   "outputs": [],
   "source": [
    "max_num = 0\n",
    "group_count = 0\n",
    "\n",
    "begin = 0\n",
    "end = 0\n",
    "\n",
    "while(True):\n",
    "    if begin>=len(array) or end>=len(array):\n",
    "        break\n",
    "    begin = end\n",
    "    count = 0 \n",
    "    if array[begin] > max_num:\n",
    "        max_num = array[begin]\n",
    "    \n",
    "    end = begin + max_num\n",
    "    if end > len(array)+1:\n",
    "        break\n",
    "        \n",
    "    for i in range(begin, end):\n",
    "        if array[i] > max_num:\n",
    "            max_num = array[i]\n",
    "            break\n",
    "        count += 1\n",
    "    \n",
    "    if count == max_num:\n",
    "        group_count += 1"
   ]
  },
  {
   "cell_type": "code",
   "execution_count": 40,
   "id": "0098ecf5-9b4b-42af-b7f9-dbd223ccf6f7",
   "metadata": {},
   "outputs": [
    {
     "name": "stdout",
     "output_type": "stream",
     "text": [
      "2\n"
     ]
    }
   ],
   "source": [
    "print(group_count)"
   ]
  },
  {
   "cell_type": "markdown",
   "id": "4742c1bf-8647-4295-aaf0-a4bc053f349e",
   "metadata": {},
   "source": [
    "# 모범 답안"
   ]
  },
  {
   "cell_type": "code",
   "execution_count": 41,
   "id": "c03f9451-f02d-4dbd-a1c8-a3894b540f0f",
   "metadata": {},
   "outputs": [
    {
     "name": "stdin",
     "output_type": "stream",
     "text": [
      " 5\n",
      " 1 2 3 2 2\n"
     ]
    },
    {
     "name": "stdout",
     "output_type": "stream",
     "text": [
      "2\n"
     ]
    }
   ],
   "source": [
    "n = int(input())\n",
    "data = list(map(int, input().split()))\n",
    "data.sort()\n",
    "\n",
    "result = 0 # 총 그룹의 수\n",
    "count = 0 # 현재 그룹에 포함된 모험가의 수\n",
    "\n",
    "for i in data: # 공포도를 낮은 것부터 하나씩 확인하며\n",
    "    count += 1 # 현재 그룹에 해당 모험가를 포함시키기\n",
    "    if count >= i: # 현재 그룹에 포함된 모험가의 수가 현재의 공포도 이상이라면, 그룹 결성\n",
    "        result += 1 # 총 그룹의 수 증가시키기\n",
    "        count = 0 # 현재 그룹에 포함된 모험가의 수 초기화\n",
    "\n",
    "print(result) # 총 그룹의 수 출력"
   ]
  }
 ],
 "metadata": {
  "kernelspec": {
   "display_name": "Python 3 (ipykernel)",
   "language": "python",
   "name": "python3"
  },
  "language_info": {
   "codemirror_mode": {
    "name": "ipython",
    "version": 3
   },
   "file_extension": ".py",
   "mimetype": "text/x-python",
   "name": "python",
   "nbconvert_exporter": "python",
   "pygments_lexer": "ipython3",
   "version": "3.8.11"
  }
 },
 "nbformat": 4,
 "nbformat_minor": 5
}
