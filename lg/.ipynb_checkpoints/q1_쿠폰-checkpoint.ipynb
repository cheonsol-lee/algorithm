{
 "cells": [
  {
   "cell_type": "code",
   "execution_count": 1,
   "id": "15a9ffb8-7925-481b-9398-ebcebc22fcbd",
   "metadata": {},
   "outputs": [
    {
     "name": "stdout",
     "output_type": "stream",
     "text": [
      "14490\n"
     ]
    }
   ],
   "source": [
    "# # test1\n",
    "# goods = [[25400, 2], [10000, 1], [31600, 1]]\n",
    "# coupons = [[5,3],[23,2],[11,2],[9,5]]\n",
    "\n",
    "# test2\n",
    "goods = [[3100, 2], [7700, 1], [3100, 2]]\n",
    "coupons = [[33,4]]\n",
    "\n",
    "goods.sort()\n",
    "goods.reverse()\n",
    "goods = [[good[0]]*good[1] for good in goods]\n",
    "goods = [element for array in goods for element in array]\n",
    "# print(goods)\n",
    "\n",
    "coupons.sort()\n",
    "coupons.reverse()\n",
    "coupons = [[coupon[0]]*coupon[1] for coupon in coupons]\n",
    "coupons = [element for array in coupons for element in array]\n",
    "# print(coupons)\n",
    "\n",
    "result = 0\n",
    "count_goods = len(goods)\n",
    "count_coupons = len(coupons)\n",
    "\n",
    "for i in range(count_goods):\n",
    "    if i < count_coupons: # 상품수 <= 쿠폰수\n",
    "        result += goods[i] * (100-coupons[i]) / 100\n",
    "\n",
    "    else: # 상품수 > 쿠폰수\n",
    "        result += goods[i]\n",
    "\n",
    "print(int(result))"
   ]
  },
  {
   "cell_type": "code",
   "execution_count": null,
   "id": "15a2c1e0-ed5c-4c7b-a65c-cd8c21b462b0",
   "metadata": {},
   "outputs": [],
   "source": []
  }
 ],
 "metadata": {
  "kernelspec": {
   "display_name": "Python 3 (ipykernel)",
   "language": "python",
   "name": "python3"
  },
  "language_info": {
   "codemirror_mode": {
    "name": "ipython",
    "version": 3
   },
   "file_extension": ".py",
   "mimetype": "text/x-python",
   "name": "python",
   "nbconvert_exporter": "python",
   "pygments_lexer": "ipython3",
   "version": "3.8.11"
  }
 },
 "nbformat": 4,
 "nbformat_minor": 5
}
