{
 "cells": [
  {
   "cell_type": "code",
   "execution_count": 23,
   "id": "7dcd2729-ec69-49c5-99be-478eab8c26fb",
   "metadata": {},
   "outputs": [],
   "source": [
    "# # test1\n",
    "# h, w = 4, 4\n",
    "# blocks = [[0,0],[3,1],[1,0],[0,0],[2,2],[2,3],[3,1]]\n",
    "\n",
    "# # test2\n",
    "# h, w = 5, 3\n",
    "# blocks = [[1,1],[1,2],[1,3],[1,3],[1,2],[1,1]]\n",
    "\n",
    "# # test3\n",
    "# h, w = 2, 2\n",
    "# blocks = [[0,1],[0,0]]\n",
    "# #\n",
    "# test4\n",
    "h, w = 2, 2\n",
    "blocks = [[0,0],[0,1],[1,0],[1,1]]"
   ]
  },
  {
   "cell_type": "code",
   "execution_count": 24,
   "id": "56cd788c-3ab7-4bf9-9d82-1e5f4895b957",
   "metadata": {},
   "outputs": [
    {
     "name": "stdout",
     "output_type": "stream",
     "text": [
      "[0, 0]\n"
     ]
    }
   ],
   "source": [
    "# 중복값 제거\n",
    "tmp = [tuple(block) for block in blocks]\n",
    "blocks = [list(item) for item in set(tmp)]\n",
    "\n",
    "# data: 층별로 빈 공간 할당\n",
    "data = [0] * h\n",
    "\n",
    "# 층별로 검은 종이 갯수 저장\n",
    "for block in blocks:\n",
    "    data[block[1]] += 1\n",
    "\n",
    "count = 0\n",
    "result = list()\n",
    "for i in data:\n",
    "    count += w-i\n",
    "    result.append(count)\n",
    "\n",
    "print(result)"
   ]
  },
  {
   "cell_type": "code",
   "execution_count": null,
   "id": "cf747e8d-7b13-47a7-9cc4-5e566a600685",
   "metadata": {},
   "outputs": [],
   "source": []
  }
 ],
 "metadata": {
  "kernelspec": {
   "display_name": "Python 3 (ipykernel)",
   "language": "python",
   "name": "python3"
  },
  "language_info": {
   "codemirror_mode": {
    "name": "ipython",
    "version": 3
   },
   "file_extension": ".py",
   "mimetype": "text/x-python",
   "name": "python",
   "nbconvert_exporter": "python",
   "pygments_lexer": "ipython3",
   "version": "3.8.11"
  }
 },
 "nbformat": 4,
 "nbformat_minor": 5
}
