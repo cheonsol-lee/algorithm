{
 "cells": [
  {
   "cell_type": "code",
   "execution_count": 36,
   "id": "381512e6-9852-4f8f-85e9-18825394fc89",
   "metadata": {},
   "outputs": [],
   "source": [
    "def money(N):\n",
    "    count = 0\n",
    "    coin_types = [500, 100, 50, 10]\n",
    "    \n",
    "    for coin in coin_types:\n",
    "        count += N // coin\n",
    "        N = N % coin\n",
    "    return count"
   ]
  },
  {
   "cell_type": "code",
   "execution_count": 37,
   "id": "36e2077a-9ecf-4432-a699-db23ffbb0234",
   "metadata": {},
   "outputs": [
    {
     "data": {
      "text/plain": [
       "6"
      ]
     },
     "execution_count": 37,
     "metadata": {},
     "output_type": "execute_result"
    }
   ],
   "source": [
    "money(1260)"
   ]
  },
  {
   "cell_type": "code",
   "execution_count": null,
   "id": "cf055a33-669d-43ae-b7e6-53020de1e8cc",
   "metadata": {},
   "outputs": [],
   "source": []
  }
 ],
 "metadata": {
  "kernelspec": {
   "display_name": "Python 3 (ipykernel)",
   "language": "python",
   "name": "python3"
  },
  "language_info": {
   "codemirror_mode": {
    "name": "ipython",
    "version": 3
   },
   "file_extension": ".py",
   "mimetype": "text/x-python",
   "name": "python",
   "nbconvert_exporter": "python",
   "pygments_lexer": "ipython3",
   "version": "3.8.11"
  }
 },
 "nbformat": 4,
 "nbformat_minor": 5
}
