{
 "cells": [
  {
   "cell_type": "markdown",
   "id": "0b038b85-7b05-49ef-81a3-732ac7d00e3e",
   "metadata": {},
   "source": [
    "# 1. sorted"
   ]
  },
  {
   "cell_type": "code",
   "execution_count": 1,
   "id": "92fd7e84-75e5-4905-8574-f159e4eba9de",
   "metadata": {},
   "outputs": [],
   "source": [
    "array = [7,5,9,0,3,1,6,2,4,8]\n",
    "result = sorted(array)"
   ]
  },
  {
   "cell_type": "code",
   "execution_count": 2,
   "id": "bf6d2530-c978-4b31-a29a-1258ccf92051",
   "metadata": {},
   "outputs": [
    {
     "data": {
      "text/plain": [
       "[0, 1, 2, 3, 4, 5, 6, 7, 8, 9]"
      ]
     },
     "execution_count": 2,
     "metadata": {},
     "output_type": "execute_result"
    }
   ],
   "source": [
    "result"
   ]
  },
  {
   "cell_type": "markdown",
   "id": "4b658c13-eb8a-49d5-b2f4-150edf470317",
   "metadata": {},
   "source": [
    "# 2. sort"
   ]
  },
  {
   "cell_type": "code",
   "execution_count": 3,
   "id": "78e60bd1-2940-4ca9-adbd-c43cfbd321b3",
   "metadata": {},
   "outputs": [
    {
     "data": {
      "text/plain": [
       "[0, 1, 2, 3, 4, 5, 6, 7, 8, 9]"
      ]
     },
     "execution_count": 3,
     "metadata": {},
     "output_type": "execute_result"
    }
   ],
   "source": [
    "array = [7,5,9,0,3,1,6,2,4,8]\n",
    "array.sort()\n",
    "array"
   ]
  },
  {
   "cell_type": "code",
   "execution_count": null,
   "id": "4be7c51e-d86a-43a4-8311-41a07f00e015",
   "metadata": {},
   "outputs": [],
   "source": []
  }
 ],
 "metadata": {
  "kernelspec": {
   "display_name": "Python 3 (ipykernel)",
   "language": "python",
   "name": "python3"
  },
  "language_info": {
   "codemirror_mode": {
    "name": "ipython",
    "version": 3
   },
   "file_extension": ".py",
   "mimetype": "text/x-python",
   "name": "python",
   "nbconvert_exporter": "python",
   "pygments_lexer": "ipython3",
   "version": "3.8.11"
  }
 },
 "nbformat": 4,
 "nbformat_minor": 5
}
