{
 "cells": [
  {
   "cell_type": "code",
   "execution_count": 9,
   "id": "9d6abb50-4260-4bc2-b94a-10932b93dffd",
   "metadata": {},
   "outputs": [
    {
     "data": {
      "text/plain": [
       "'\\n4 4\\n1 1 0\\n1 1 1 1\\n1 0 0 1\\n1 1 0 1\\n1 1 1 1\\n'"
      ]
     },
     "execution_count": 9,
     "metadata": {},
     "output_type": "execute_result"
    }
   ],
   "source": [
    "'''\n",
    "4 4\n",
    "1 1 0\n",
    "1 1 1 1\n",
    "1 0 0 1\n",
    "1 1 0 1\n",
    "1 1 1 1\n",
    "'''"
   ]
  },
  {
   "cell_type": "code",
   "execution_count": 37,
   "id": "63efac60-cc0b-418e-bab8-9705428a885b",
   "metadata": {},
   "outputs": [
    {
     "name": "stdin",
     "output_type": "stream",
     "text": [
      " 4 4\n"
     ]
    }
   ],
   "source": [
    "N, M = map(int, input().split())"
   ]
  },
  {
   "cell_type": "code",
   "execution_count": 38,
   "id": "42fe4ed8-0d79-4aad-a5a5-bcf099271463",
   "metadata": {},
   "outputs": [
    {
     "name": "stdin",
     "output_type": "stream",
     "text": [
      " 1 1 0\n"
     ]
    }
   ],
   "source": [
    "y, x, direction = map(int, input().split())"
   ]
  },
  {
   "cell_type": "code",
   "execution_count": 39,
   "id": "ac069630-e568-42ba-800c-64153f40a4f0",
   "metadata": {},
   "outputs": [],
   "source": [
    "# 방문한 위치를 저장하기 위한 맵을 생성하여 0으로 초기화\n",
    "visited = [[0]*M for _ in range(N)]\n",
    "\n",
    "# 현재 좌표 방문 처리\n",
    "visited[y][x] = 1"
   ]
  },
  {
   "cell_type": "code",
   "execution_count": 42,
   "id": "4946542e-714b-4ea2-b807-8d952aa366f0",
   "metadata": {},
   "outputs": [
    {
     "data": {
      "text/plain": [
       "[[0, 0, 0, 0], [0, 1, 0, 0], [0, 0, 0, 0], [0, 0, 0, 0]]"
      ]
     },
     "execution_count": 42,
     "metadata": {},
     "output_type": "execute_result"
    }
   ],
   "source": [
    "visited"
   ]
  },
  {
   "cell_type": "code",
   "execution_count": 43,
   "id": "3ae9bf78-f83c-4cab-9450-0b5e697a85ae",
   "metadata": {},
   "outputs": [
    {
     "name": "stdin",
     "output_type": "stream",
     "text": [
      " 1 1 1 1\n",
      " 1 0 0 1\n",
      " 1 0 0 1\n",
      " 1 1 1 1\n"
     ]
    }
   ],
   "source": [
    "# 전체 맵 정보 입력받기\n",
    "array = []\n",
    "for i in range(N):\n",
    "    array.append(list(map(int, input().split())))"
   ]
  },
  {
   "cell_type": "code",
   "execution_count": 44,
   "id": "3960cc8b-a4d2-42fe-994a-4f98314b0264",
   "metadata": {},
   "outputs": [
    {
     "data": {
      "text/plain": [
       "[[1, 1, 1, 1], [1, 0, 0, 1], [1, 0, 0, 1], [1, 1, 1, 1]]"
      ]
     },
     "execution_count": 44,
     "metadata": {},
     "output_type": "execute_result"
    }
   ],
   "source": [
    "array"
   ]
  },
  {
   "cell_type": "code",
   "execution_count": 45,
   "id": "b67161ce-5730-40c9-b3a0-013b6333e3db",
   "metadata": {},
   "outputs": [],
   "source": [
    "# 북, 동, 남, 서 방향 정의\n",
    "dy = [-1, 0, 1, 0]\n",
    "dx = [0, 1, 0, -1]"
   ]
  },
  {
   "cell_type": "code",
   "execution_count": 46,
   "id": "ac01bd90-a602-4c0d-b3d1-af89b0853d36",
   "metadata": {},
   "outputs": [],
   "source": [
    "# 왼쪽으로 회전하는 함수\n",
    "def turn_left():\n",
    "    global direction\n",
    "    direction -= 1\n",
    "    if direction == -1:\n",
    "        direction = 3"
   ]
  },
  {
   "cell_type": "code",
   "execution_count": 47,
   "id": "86ca4243-c15a-4591-868e-094c99ed794b",
   "metadata": {},
   "outputs": [],
   "source": [
    "# 시뮬레이션 시작\n",
    "count = 1\n",
    "turn_time = 0\n",
    "while True:\n",
    "    turn_left()\n",
    "    ny = y + dy[direction]\n",
    "    nx = x + dx[direction]\n",
    "    \n",
    "    # 회전한 이후 정면에 가보지 않은 칸이 존재하면 이동\n",
    "    if visited[ny][nx]==0 and array[ny][nx]==0:\n",
    "        visited[ny][nx] = 1\n",
    "        y = ny\n",
    "        x = nx\n",
    "        count += 1\n",
    "        turn_time = 0\n",
    "        continue\n",
    "    # 회전한 이후 정면에 가보지 않은 칸이 없거나 바다인 경우\n",
    "    else:\n",
    "        turn_time += 1\n",
    "        \n",
    "    # 네 방향 모두 갈 수 없는 경우\n",
    "    if turn_time == 4:\n",
    "        ny = y - dy[direction]\n",
    "        nx = x - dx[direction]\n",
    "        # 뒤로 갈 수 있다면 이동하기\n",
    "        if array[nx][ny] == 0:\n",
    "            y = ny\n",
    "            x = nx\n",
    "        # 뒤가 바다일 경우\n",
    "        else:\n",
    "            break\n",
    "        turn_time = 0"
   ]
  },
  {
   "cell_type": "code",
   "execution_count": 48,
   "id": "40fc0b88-dc08-48d7-8e69-688c63bf7467",
   "metadata": {},
   "outputs": [
    {
     "name": "stdout",
     "output_type": "stream",
     "text": [
      "4\n"
     ]
    }
   ],
   "source": [
    "print(count)"
   ]
  },
  {
   "cell_type": "code",
   "execution_count": null,
   "id": "789e29d7-c497-4407-bf43-a42bac31a902",
   "metadata": {},
   "outputs": [],
   "source": []
  }
 ],
 "metadata": {
  "kernelspec": {
   "display_name": "Python 3 (ipykernel)",
   "language": "python",
   "name": "python3"
  },
  "language_info": {
   "codemirror_mode": {
    "name": "ipython",
    "version": 3
   },
   "file_extension": ".py",
   "mimetype": "text/x-python",
   "name": "python",
   "nbconvert_exporter": "python",
   "pygments_lexer": "ipython3",
   "version": "3.8.11"
  }
 },
 "nbformat": 4,
 "nbformat_minor": 5
}
