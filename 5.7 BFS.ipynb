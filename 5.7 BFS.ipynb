{
 "cells": [
  {
   "cell_type": "code",
   "execution_count": 4,
   "id": "3d20bb0b-350e-43c8-8890-29b7f2af310b",
   "metadata": {},
   "outputs": [],
   "source": [
    "from collections import deque\n",
    "\n",
    "def bfs(graph, start, visited):\n",
    "    queue = deque([start])\n",
    "    \n",
    "    # 현재 노드를 방문 처리\n",
    "    visited[start] = True\n",
    "    \n",
    "    while queue:\n",
    "        v = queue.popleft()\n",
    "        print(v, end=' ')\n",
    "        # 해당 원소와 연결된 방문하지 않은 원소들을 큐에 삽입\n",
    "        for i in graph[v]:\n",
    "            if not visited[i]:\n",
    "                queue.append(i)\n",
    "                visited[i] = True"
   ]
  },
  {
   "cell_type": "code",
   "execution_count": 18,
   "id": "1eda1188-b25a-49e3-a933-e5b392ba470e",
   "metadata": {},
   "outputs": [],
   "source": [
    "graph = [\n",
    "    [],\n",
    "    [2,3,8],\n",
    "    [1,7],\n",
    "    [1,4,5],\n",
    "    [3,5],\n",
    "    [3,5],\n",
    "    [7],\n",
    "    [2,6,8],\n",
    "    [1,7]\n",
    "]"
   ]
  },
  {
   "cell_type": "code",
   "execution_count": 19,
   "id": "a44f1b51-c9a3-4257-ac12-6cacd6e86d4d",
   "metadata": {},
   "outputs": [],
   "source": [
    "# 각 노드가 방문된 정보를 자료형으로 표현\n",
    "visited = [False] * 9"
   ]
  },
  {
   "cell_type": "code",
   "execution_count": 20,
   "id": "3cb621b0-937e-4346-a9d2-fbe51d49d739",
   "metadata": {},
   "outputs": [
    {
     "name": "stdout",
     "output_type": "stream",
     "text": [
      "1 2 3 8 7 4 5 6 "
     ]
    }
   ],
   "source": [
    "bfs(graph, 1, visited)"
   ]
  },
  {
   "cell_type": "code",
   "execution_count": 21,
   "id": "66e03a42-711c-4cd0-83f8-ea1ed2f64b49",
   "metadata": {},
   "outputs": [
    {
     "data": {
      "text/plain": [
       "[False, True, True, True, True, True, True, True, True]"
      ]
     },
     "execution_count": 21,
     "metadata": {},
     "output_type": "execute_result"
    }
   ],
   "source": [
    "visited"
   ]
  },
  {
   "cell_type": "code",
   "execution_count": null,
   "id": "44354b4e-6971-4ae0-8d66-423a991dbaf9",
   "metadata": {},
   "outputs": [],
   "source": []
  },
  {
   "cell_type": "code",
   "execution_count": null,
   "id": "c32211f4-7919-412e-88cd-eca7dc63adbb",
   "metadata": {},
   "outputs": [],
   "source": []
  }
 ],
 "metadata": {
  "kernelspec": {
   "display_name": "Python 3 (ipykernel)",
   "language": "python",
   "name": "python3"
  },
  "language_info": {
   "codemirror_mode": {
    "name": "ipython",
    "version": 3
   },
   "file_extension": ".py",
   "mimetype": "text/x-python",
   "name": "python",
   "nbconvert_exporter": "python",
   "pygments_lexer": "ipython3",
   "version": "3.8.11"
  }
 },
 "nbformat": 4,
 "nbformat_minor": 5
}
