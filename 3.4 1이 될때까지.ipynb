{
 "cells": [
  {
   "cell_type": "markdown",
   "id": "8416fb97-11a5-4912-abc2-6189b9b20203",
   "metadata": {},
   "source": [
    "25 5"
   ]
  },
  {
   "cell_type": "code",
   "execution_count": 9,
   "id": "1f781ecf-c461-4d05-aeaa-49752d64bed6",
   "metadata": {},
   "outputs": [
    {
     "name": "stdin",
     "output_type": "stream",
     "text": [
      " 17 4\n"
     ]
    }
   ],
   "source": [
    "N, K = map(int, input().split())\n",
    "count = 0\n",
    "\n",
    "while(True):\n",
    "    # 나머지가 0이면\n",
    "    if N%K == 0:\n",
    "        N = N/K\n",
    "        count += 1\n",
    "    else:\n",
    "        N -= 1\n",
    "        count += 1\n",
    "    if N == 1:\n",
    "        break"
   ]
  },
  {
   "cell_type": "code",
   "execution_count": 10,
   "id": "a6a06ca3-7324-4828-9eb5-cd0ea31c1f84",
   "metadata": {},
   "outputs": [
    {
     "data": {
      "text/plain": [
       "3"
      ]
     },
     "execution_count": 10,
     "metadata": {},
     "output_type": "execute_result"
    }
   ],
   "source": [
    "count"
   ]
  },
  {
   "cell_type": "code",
   "execution_count": null,
   "id": "9261a6e8-7fac-4327-a947-ecadee3be7b9",
   "metadata": {},
   "outputs": [],
   "source": []
  }
 ],
 "metadata": {
  "kernelspec": {
   "display_name": "Python 3 (ipykernel)",
   "language": "python",
   "name": "python3"
  },
  "language_info": {
   "codemirror_mode": {
    "name": "ipython",
    "version": 3
   },
   "file_extension": ".py",
   "mimetype": "text/x-python",
   "name": "python",
   "nbconvert_exporter": "python",
   "pygments_lexer": "ipython3",
   "version": "3.8.11"
  }
 },
 "nbformat": 4,
 "nbformat_minor": 5
}
