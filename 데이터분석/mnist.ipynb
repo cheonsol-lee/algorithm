{
 "cells": [
  {
   "cell_type": "code",
   "execution_count": 2,
   "id": "cf574388-484b-47f1-b51e-ce8fc619350b",
   "metadata": {},
   "outputs": [],
   "source": [
    "from sklearn.datasets import fetch_openml\n",
    "from sklearn.model_selection import train_test_split\n",
    "import numpy as np\n",
    "\n",
    "mnist = fetch_openml('mnist_784')\n",
    "\n",
    "X_train, X_test, y_train, y_test = train_test_split(mnist.data, mnist.target, shuffle=True, test_size = 0.3)"
   ]
  },
  {
   "cell_type": "code",
   "execution_count": 48,
   "id": "6a33463c-2444-457e-b19c-fdeea4f9df16",
   "metadata": {},
   "outputs": [
    {
     "name": "stdout",
     "output_type": "stream",
     "text": [
      "0.970047619047619\n"
     ]
    }
   ],
   "source": [
    "from sklearn.ensemble import RandomForestClassifier\n",
    "\n",
    "clf = RandomForestClassifier()\n",
    "clf.fit(X_train, y_train)\n",
    "\n",
    "prediction = clf.predict(X_test)\n",
    "\n",
    "result = (prediction == y_test).mean() \n",
    "print(result)"
   ]
  },
  {
   "cell_type": "code",
   "execution_count": 44,
   "id": "1d6bb743-f4bc-44ab-81b8-abae49a2fc2d",
   "metadata": {},
   "outputs": [],
   "source": [
    "from sklearn.datasets import fetch_openml\n",
    "\n",
    "# mnist = fetch_openml('mnist_784')\n",
    "\n",
    "split_ratio = 0.7\n",
    "n_train = int(mnist.data.shape[0] * split_ratio)\n",
    "n_test = int(mnist.data.shape[0] - n_train)\n",
    "\n",
    "X_train = mnist.data[:n_train]\n",
    "y_train = mnist.target[:n_train]\n",
    "\n",
    "X_test = mnist.data[n_train:]\n",
    "y_test = mnist.target[n_train:]"
   ]
  },
  {
   "cell_type": "code",
   "execution_count": 37,
   "id": "b32b67b9-65b9-4093-aff5-838ca889350c",
   "metadata": {},
   "outputs": [
    {
     "data": {
      "image/png": "[encoded data removed]",
      "text/plain": [
       "<Figure size 432x288 with 1 Axes>"
      ]
     },
     "metadata": {
      "needs_background": "light"
     },
     "output_type": "display_data"
    }
   ],
   "source": [
    "import matplotlib.pyplot as plt\n",
    "\n",
    "X, y = mnist['data'], mnist['target']\n",
    "\n",
    "some_digit = X[0:1].to_numpy()\n",
    "some_digit_image = some_digit.reshape(28, 28)\n",
    "\n",
    "plt.imshow(some_digit_image, cmap='binary')\n",
    "plt.axis(\"off\")\n",
    "plt.show()"
   ]
  },
  {
   "cell_type": "code",
   "execution_count": 45,
   "id": "2d5cf216-357c-43c1-8741-d23ef3a64758",
   "metadata": {},
   "outputs": [
    {
     "data": {
      "text/plain": [
       "(21000,)"
      ]
     },
     "execution_count": 45,
     "metadata": {},
     "output_type": "execute_result"
    }
   ],
   "source": [
    "prediction.shape"
   ]
  },
  {
   "cell_type": "code",
   "execution_count": 46,
   "id": "30f13143-3798-4372-8ef7-9542c805591e",
   "metadata": {},
   "outputs": [
    {
     "data": {
      "text/plain": [
       "(21000,)"
      ]
     },
     "execution_count": 46,
     "metadata": {},
     "output_type": "execute_result"
    }
   ],
   "source": [
    "y_test.shape"
   ]
  },
  {
   "cell_type": "code",
   "execution_count": 49,
   "id": "f17f84a9-6c22-4651-bded-55acaf2c319e",
   "metadata": {},
   "outputs": [
    {
     "data": {
      "text/plain": [
       "array([[2055,    0,   10,    2,    2,    8,   11,    1,    5,   12],\n",
       "       [   0, 2279,    1,    0,    5,    0,    3,    9,    5,    9],\n",
       "       [   3,    6, 2059,   20,    3,    3,    2,   30,   10,    4],\n",
       "       [   0,    6,   10, 2076,    0,   24,    0,    4,   17,   24],\n",
       "       [   0,    3,    6,    0, 1997,    5,    3,    7,    6,   22],\n",
       "       [   3,    3,    0,   18,    0, 1827,    8,    0,   13,    6],\n",
       "       [   4,    5,    7,    1,    5,   21, 1988,    0,   10,    1],\n",
       "       [   1,    2,   14,   14,    2,    2,    0, 2143,    8,   11],\n",
       "       [   9,    2,   13,   18,    4,   10,    6,    1, 1984,   15],\n",
       "       [   3,    1,    3,    6,   33,    7,    0,   22,   16, 1963]],\n",
       "      dtype=int64)"
      ]
     },
     "execution_count": 49,
     "metadata": {},
     "output_type": "execute_result"
    }
   ],
   "source": [
    "from sklearn.metrics import confusion_matrix\n",
    "confusion_matrix(prediction, y_test)"
   ]
  },
  {
   "cell_type": "code",
   "execution_count": 53,
   "id": "74e0ef5b-b91f-487c-9278-d36e9dcc5a51",
   "metadata": {},
   "outputs": [],
   "source": [
    "from sklearn.linear_model import LinearRegression\n",
    "lin_reg = LinearRegression()\n",
    "lin_reg.fit(X_train, y_train)\n",
    "prediction = lin_reg.predict(X_test)"
   ]
  },
  {
   "cell_type": "code",
   "execution_count": 54,
   "id": "ae9f9755-1166-4708-a13f-5eaeb42112cf",
   "metadata": {},
   "outputs": [
    {
     "data": {
      "text/plain": [
       "array([6.65527418, 6.65958844, 4.33734546, ..., 7.82849316, 5.31426695,\n",
       "       5.74054083])"
      ]
     },
     "execution_count": 54,
     "metadata": {},
     "output_type": "execute_result"
    }
   ],
   "source": [
    "prediction"
   ]
  },
  {
   "cell_type": "code",
   "execution_count": 55,
   "id": "de069e0f-1713-4a3c-8009-2d552da1836f",
   "metadata": {},
   "outputs": [
    {
     "name": "stdout",
     "output_type": "stream",
     "text": [
      "0.0\n"
     ]
    }
   ],
   "source": [
    "result = (prediction == y_test).mean() \n",
    "print(result)"
   ]
  },
  {
   "cell_type": "code",
   "execution_count": null,
   "id": "4d399191-e9e5-4c2b-b9b2-5655cc5e5174",
   "metadata": {},
   "outputs": [],
   "source": []
  }
 ],
 "metadata": {
  "kernelspec": {
   "display_name": "Python 3 (ipykernel)",
   "language": "python",
   "name": "python3"
  },
  "language_info": {
   "codemirror_mode": {
    "name": "ipython",
    "version": 3
   },
   "file_extension": ".py",
   "mimetype": "text/x-python",
   "name": "python",
   "nbconvert_exporter": "python",
   "pygments_lexer": "ipython3",
   "version": "3.8.11"
  }
 },
 "nbformat": 4,
 "nbformat_minor": 5
}
