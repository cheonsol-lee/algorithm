{
 "cells": [
  {
   "cell_type": "code",
   "execution_count": 1,
   "id": "6c887ea2-c717-4550-9039-ad890f0da339",
   "metadata": {},
   "outputs": [],
   "source": [
    "def function(N, M, data):\n",
    "    data\n",
    "    return"
   ]
  },
  {
   "cell_type": "markdown",
   "id": "73695096-5cdf-465d-86aa-3d4fa134457c",
   "metadata": {},
   "source": [
    "ex1)"
   ]
  },
  {
   "cell_type": "markdown",
   "id": "d96eb878-d211-45ed-b4b3-a771b8a0a9fe",
   "metadata": {},
   "source": [
    "3 3"
   ]
  },
  {
   "cell_type": "markdown",
   "id": "2ea0ad9d-e9da-4d9f-b6cb-4b3ecfcca42b",
   "metadata": {},
   "source": [
    "3 1 2"
   ]
  },
  {
   "cell_type": "markdown",
   "id": "43a0a093-54d9-4bee-b5ce-92f72937a568",
   "metadata": {},
   "source": [
    "4 1 4"
   ]
  },
  {
   "cell_type": "markdown",
   "id": "370945ca-8a05-4ae2-b171-7d8fbc5330a7",
   "metadata": {},
   "source": [
    "2 2 2"
   ]
  },
  {
   "cell_type": "markdown",
   "id": "2f944c44-ea1e-452d-8b1a-f47e601eda18",
   "metadata": {},
   "source": [
    "ex2)"
   ]
  },
  {
   "cell_type": "markdown",
   "id": "013cd097-9f2f-4087-8799-0c6bfb3eb375",
   "metadata": {},
   "source": [
    "2 4"
   ]
  },
  {
   "cell_type": "markdown",
   "id": "7631f0ef-396f-485c-bbf6-0d35178d9f5d",
   "metadata": {},
   "source": [
    "7 3 1 8"
   ]
  },
  {
   "cell_type": "markdown",
   "id": "fd31b156-dc7e-40f8-8382-698b58c5f1c5",
   "metadata": {},
   "source": [
    "3 3 3 4"
   ]
  },
  {
   "cell_type": "code",
   "execution_count": 23,
   "id": "a511bd4a-ba46-4429-8265-19c06d4f17a0",
   "metadata": {},
   "outputs": [
    {
     "name": "stdin",
     "output_type": "stream",
     "text": [
      " 2 4\n",
      " 7 3 1 8\n",
      " 3 3 3 4\n"
     ]
    }
   ],
   "source": [
    "N, M = map(int, input().split())\n",
    "result = 0\n",
    "\n",
    "for i in range(N):\n",
    "    data = list(map(int, input().split()))\n",
    "    min_value = min(data)\n",
    "    result = max(result,  min_value)"
   ]
  },
  {
   "cell_type": "code",
   "execution_count": 24,
   "id": "4aafea49-4398-4be3-9e68-eb1b7cc66857",
   "metadata": {},
   "outputs": [
    {
     "data": {
      "text/plain": [
       "3"
      ]
     },
     "execution_count": 24,
     "metadata": {},
     "output_type": "execute_result"
    }
   ],
   "source": [
    "result"
   ]
  },
  {
   "cell_type": "code",
   "execution_count": null,
   "id": "4bea371c-9bed-441f-b28e-334e03d035f0",
   "metadata": {},
   "outputs": [],
   "source": []
  }
 ],
 "metadata": {
  "kernelspec": {
   "display_name": "Python 3 (ipykernel)",
   "language": "python",
   "name": "python3"
  },
  "language_info": {
   "codemirror_mode": {
    "name": "ipython",
    "version": 3
   },
   "file_extension": ".py",
   "mimetype": "text/x-python",
   "name": "python",
   "nbconvert_exporter": "python",
   "pygments_lexer": "ipython3",
   "version": "3.8.11"
  }
 },
 "nbformat": 4,
 "nbformat_minor": 5
}
