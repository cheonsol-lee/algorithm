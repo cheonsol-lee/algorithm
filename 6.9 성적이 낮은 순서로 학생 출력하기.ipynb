{
 "cells": [
  {
   "cell_type": "code",
   "execution_count": null,
   "id": "05ac07c9-74f7-45dc-866d-bd7ccce5d32e",
   "metadata": {},
   "outputs": [],
   "source": [
    "'''\n",
    "2\n",
    "홍길동 95\n",
    "이순신 77\n",
    "'''"
   ]
  },
  {
   "cell_type": "code",
   "execution_count": 1,
   "id": "f859dfd9-ce3d-42aa-8b14-7ff8d9a2eb5b",
   "metadata": {},
   "outputs": [
    {
     "name": "stdin",
     "output_type": "stream",
     "text": [
      " 2\n"
     ]
    }
   ],
   "source": [
    "N = int(input())"
   ]
  },
  {
   "cell_type": "code",
   "execution_count": 4,
   "id": "4ab8c782-99a0-4f30-8aea-6fbed5e0fb33",
   "metadata": {},
   "outputs": [
    {
     "name": "stdin",
     "output_type": "stream",
     "text": [
      " 홍길동 95\n",
      " 이순신 77\n"
     ]
    }
   ],
   "source": [
    "array = list()\n",
    "for i in range(N):\n",
    "    array.append(tuple(input().split()))"
   ]
  },
  {
   "cell_type": "code",
   "execution_count": 13,
   "id": "ac6840ff-0839-4cfe-b6b5-16b7d28eefbd",
   "metadata": {},
   "outputs": [
    {
     "data": {
      "text/plain": [
       "[('홍길동', '95'), ('이순신', '77')]"
      ]
     },
     "execution_count": 13,
     "metadata": {},
     "output_type": "execute_result"
    }
   ],
   "source": [
    "array"
   ]
  },
  {
   "cell_type": "code",
   "execution_count": 14,
   "id": "375e0c7c-fe18-4613-a641-f404781f088f",
   "metadata": {},
   "outputs": [],
   "source": [
    "def setting(data):\n",
    "    return data[1]"
   ]
  },
  {
   "cell_type": "code",
   "execution_count": 15,
   "id": "ba410ec7-02bd-4da2-99cf-6bb690d8c794",
   "metadata": {},
   "outputs": [],
   "source": [
    "# sorted_array = sorted(array, key=setting)\n",
    "sorted_array = sorted(array, key=lambda data: data[1])"
   ]
  },
  {
   "cell_type": "code",
   "execution_count": 16,
   "id": "cce2952f-3535-4ad9-9b2a-6fcdbbf03382",
   "metadata": {},
   "outputs": [
    {
     "name": "stdout",
     "output_type": "stream",
     "text": [
      "이순신 홍길동 "
     ]
    }
   ],
   "source": [
    "for val in sorted_array:\n",
    "    print(val[0], end=' ')"
   ]
  },
  {
   "cell_type": "code",
   "execution_count": null,
   "id": "fa47cf61-2c66-4d71-bb5b-8e6d1452327d",
   "metadata": {},
   "outputs": [],
   "source": []
  }
 ],
 "metadata": {
  "kernelspec": {
   "display_name": "Python 3 (ipykernel)",
   "language": "python",
   "name": "python3"
  },
  "language_info": {
   "codemirror_mode": {
    "name": "ipython",
    "version": 3
   },
   "file_extension": ".py",
   "mimetype": "text/x-python",
   "name": "python",
   "nbconvert_exporter": "python",
   "pygments_lexer": "ipython3",
   "version": "3.8.11"
  }
 },
 "nbformat": 4,
 "nbformat_minor": 5
}
