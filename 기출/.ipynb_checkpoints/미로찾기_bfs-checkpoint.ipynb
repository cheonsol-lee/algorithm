{
 "cells": [
  {
   "cell_type": "code",
   "execution_count": null,
   "id": "059ff6f8-8d82-4ab6-a9c6-e8756c1256c8",
   "metadata": {},
   "outputs": [],
   "source": [
    "'''\n",
    "4 6\n",
    "101111\n",
    "101010\n",
    "101011\n",
    "111011\n",
    "\n",
    "\n",
    "6 5\n",
    "11111\n",
    "11001\n",
    "01001\n",
    "11001\n",
    "10001\n",
    "11111\n",
    "'''"
   ]
  },
  {
   "cell_type": "code",
   "execution_count": 21,
   "id": "897f5b32-d88f-40c8-867c-7115ba8a29e7",
   "metadata": {},
   "outputs": [
    {
     "name": "stdin",
     "output_type": "stream",
     "text": [
      " 6 5\n"
     ]
    }
   ],
   "source": [
    "N, M = map(int, input().split())"
   ]
  },
  {
   "cell_type": "code",
   "execution_count": 22,
   "id": "1471226a-de94-4537-9c4f-fe441969ca4b",
   "metadata": {},
   "outputs": [
    {
     "name": "stdin",
     "output_type": "stream",
     "text": [
      " 11111\n",
      " 11001\n",
      " 01001\n",
      " 11001\n",
      " 10001\n",
      " 11111\n"
     ]
    }
   ],
   "source": [
    "graph = list()\n",
    "for i in range(N):\n",
    "    graph.append(list(map(int, input())))"
   ]
  },
  {
   "cell_type": "code",
   "execution_count": 23,
   "id": "426b1bfd-d9c0-401e-af70-990e1da77827",
   "metadata": {},
   "outputs": [
    {
     "data": {
      "text/plain": [
       "[[1, 1, 1, 1, 1],\n",
       " [1, 1, 0, 0, 1],\n",
       " [0, 1, 0, 0, 1],\n",
       " [1, 1, 0, 0, 1],\n",
       " [1, 0, 0, 0, 1],\n",
       " [1, 1, 1, 1, 1]]"
      ]
     },
     "execution_count": 23,
     "metadata": {},
     "output_type": "execute_result"
    }
   ],
   "source": [
    "graph"
   ]
  },
  {
   "cell_type": "code",
   "execution_count": 24,
   "id": "33fb76ba-df0e-420a-a978-595bffc19c4c",
   "metadata": {},
   "outputs": [],
   "source": [
    "graph2 = graph.copy()"
   ]
  },
  {
   "cell_type": "code",
   "execution_count": 25,
   "id": "06f74d21-182a-4c04-8d92-3c42732bfa8e",
   "metadata": {},
   "outputs": [
    {
     "data": {
      "text/plain": [
       "[[1, 1, 1, 1, 1],\n",
       " [1, 1, 0, 0, 1],\n",
       " [0, 1, 0, 0, 1],\n",
       " [1, 1, 0, 0, 1],\n",
       " [1, 0, 0, 0, 1],\n",
       " [1, 1, 1, 1, 1]]"
      ]
     },
     "execution_count": 25,
     "metadata": {},
     "output_type": "execute_result"
    }
   ],
   "source": [
    "graph2"
   ]
  },
  {
   "cell_type": "code",
   "execution_count": 26,
   "id": "cd01dd37-1cff-40d8-8cea-a4057bbcf8f2",
   "metadata": {},
   "outputs": [],
   "source": [
    "from collections import deque\n",
    "\n",
    "def bfs(x,y):\n",
    "    # 4가지 방향(상,햐,좌,우)\n",
    "    dx = [-1,1,0,0]\n",
    "    dy = [0,0,-1,1]\n",
    "    \n",
    "    # queue 생성\n",
    "    queue = deque()\n",
    "    queue.append((x,y))\n",
    "    \n",
    "    while queue:\n",
    "        x, y = queue.popleft()\n",
    "        \n",
    "        # 현재 위치에서 4가지 방향 위치 확인\n",
    "        for i in range(4):\n",
    "            nx = x + dx[i]\n",
    "            ny = y + dy[i]\n",
    "            \n",
    "            # 위치가 벗어나면 안됨\n",
    "            if nx<0 or nx>=N or ny<0 or ny>=M:\n",
    "                continue\n",
    "            \n",
    "            # 벽 진행 안됨\n",
    "            if graph[nx][ny] == 0:\n",
    "                continue\n",
    "            \n",
    "            # 벽 아닐 때 이동\n",
    "            if graph[nx][ny] == 1:\n",
    "                graph[nx][ny] = graph[x][y] + 1\n",
    "                queue.append((nx, ny))\n",
    "    \n",
    "    return graph[N-1][M-1]"
   ]
  },
  {
   "cell_type": "code",
   "execution_count": 27,
   "id": "463a3f98-e803-48cb-ad9c-638a4b34e56b",
   "metadata": {},
   "outputs": [
    {
     "data": {
      "text/plain": [
       "10"
      ]
     },
     "execution_count": 27,
     "metadata": {},
     "output_type": "execute_result"
    }
   ],
   "source": [
    "bfs(0,0)"
   ]
  },
  {
   "cell_type": "code",
   "execution_count": 28,
   "id": "f1078b20-b798-4057-a28a-36dfc916b9ee",
   "metadata": {},
   "outputs": [
    {
     "data": {
      "text/plain": [
       "[[3, 2, 3, 4, 5],\n",
       " [2, 3, 0, 0, 6],\n",
       " [0, 4, 0, 0, 7],\n",
       " [6, 5, 0, 0, 8],\n",
       " [7, 0, 0, 0, 9],\n",
       " [8, 9, 10, 11, 10]]"
      ]
     },
     "execution_count": 28,
     "metadata": {},
     "output_type": "execute_result"
    }
   ],
   "source": [
    "graph"
   ]
  },
  {
   "cell_type": "code",
   "execution_count": null,
   "id": "fb98211f-9484-46f1-851e-2c31c768adb0",
   "metadata": {},
   "outputs": [],
   "source": []
  }
 ],
 "metadata": {
  "kernelspec": {
   "display_name": "Python 3 (ipykernel)",
   "language": "python",
   "name": "python3"
  },
  "language_info": {
   "codemirror_mode": {
    "name": "ipython",
    "version": 3
   },
   "file_extension": ".py",
   "mimetype": "text/x-python",
   "name": "python",
   "nbconvert_exporter": "python",
   "pygments_lexer": "ipython3",
   "version": "3.8.11"
  }
 },
 "nbformat": 4,
 "nbformat_minor": 5
}
